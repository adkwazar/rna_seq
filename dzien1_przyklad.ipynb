{
 "cells": [
  {
   "cell_type": "markdown",
   "id": "717e612f",
   "metadata": {},
   "source": [
    "Etapy:\n",
    "- Sekwencjonowanie -> pliki FASTQ\n",
    "- Kontrola jakości odczytów (Rsubread, funkcja qualityScores)\n",
    "- Dopasowanie/mapowanie fragmentów (Rsubread, kilka funkcji począwszy od buildindex)\n",
    "\n",
    "Efekt: Zliczenia występowania każdego genu (sekwencji nt) w kolejnych próbkach "
   ]
  },
  {
   "cell_type": "markdown",
   "id": "cc8d3e7c",
   "metadata": {},
   "source": [
    "<h3> Analiza statystyczna danych RNA-Seq"
   ]
  },
  {
   "cell_type": "markdown",
   "id": "5e9e0f78",
   "metadata": {},
   "source": [
    "<h4> Dane"
   ]
  },
  {
   "cell_type": "code",
   "execution_count": 1,
   "id": "e54c0384",
   "metadata": {},
   "outputs": [
    {
     "name": "stderr",
     "output_type": "stream",
     "text": [
      "Warning message:\n",
      "\"package 'edgeR' was built under R version 3.6.2\"Loading required package: limma\n",
      "Warning message:\n",
      "\"package 'limma' was built under R version 3.6.2\""
     ]
    }
   ],
   "source": [
    "library(edgeR)"
   ]
  },
  {
   "cell_type": "code",
   "execution_count": 2,
   "id": "12acd697",
   "metadata": {},
   "outputs": [
    {
     "data": {
      "text/html": [
       "<table>\n",
       "<thead><tr><th></th><th scope=col>C61</th><th scope=col>C62</th><th scope=col>C63</th><th scope=col>C64</th><th scope=col>C91</th><th scope=col>C92</th><th scope=col>C93</th><th scope=col>C94</th><th scope=col>I561</th><th scope=col>I562</th><th scope=col>...</th><th scope=col>I593</th><th scope=col>I594</th><th scope=col>I861</th><th scope=col>I862</th><th scope=col>I863</th><th scope=col>I864</th><th scope=col>I891</th><th scope=col>I892</th><th scope=col>I893</th><th scope=col>I894</th></tr></thead>\n",
       "<tbody>\n",
       "\t<tr><th scope=row>AT1G01010</th><td>341 </td><td>371 </td><td>275 </td><td>419 </td><td>400 </td><td> 542</td><td>377 </td><td>372 </td><td>677 </td><td>522 </td><td>... </td><td>691 </td><td>500 </td><td>157 </td><td>473 </td><td>459 </td><td>228 </td><td>590 </td><td>491 </td><td>565 </td><td>496 </td></tr>\n",
       "\t<tr><th scope=row>AT1G01020</th><td>164 </td><td> 94 </td><td>176 </td><td>155 </td><td>200 </td><td> 183</td><td>166 </td><td>115 </td><td>172 </td><td>157 </td><td>... </td><td>163 </td><td>185 </td><td> 46 </td><td>162 </td><td>119 </td><td> 53 </td><td>172 </td><td>212 </td><td>169 </td><td>157 </td></tr>\n",
       "\t<tr><th scope=row>AT1G03987</th><td>  0 </td><td>  0 </td><td>  0 </td><td>  0 </td><td>  0 </td><td>   0</td><td>  0 </td><td>  0 </td><td>  0 </td><td>  0 </td><td>... </td><td>  0 </td><td>  0 </td><td>  0 </td><td>  0 </td><td>  0 </td><td>  0 </td><td>  0 </td><td>  0 </td><td>  0 </td><td>  0 </td></tr>\n",
       "\t<tr><th scope=row>AT1G01030</th><td> 20 </td><td> 34 </td><td> 40 </td><td> 27 </td><td> 28 </td><td>  36</td><td> 22 </td><td> 40 </td><td> 20 </td><td>  7 </td><td>... </td><td> 17 </td><td> 26 </td><td> 49 </td><td> 17 </td><td> 24 </td><td> 48 </td><td> 27 </td><td> 28 </td><td> 47 </td><td> 32 </td></tr>\n",
       "\t<tr><th scope=row>AT1G01040</th><td>738 </td><td>487 </td><td>610 </td><td>690 </td><td>945 </td><td>1033</td><td>836 </td><td>908 </td><td>857 </td><td>821 </td><td>... </td><td>871 </td><td>756 </td><td>361 </td><td>618 </td><td>641 </td><td>439 </td><td>783 </td><td>692 </td><td>768 </td><td>625 </td></tr>\n",
       "\t<tr><th scope=row>AT1G03993</th><td>  1 </td><td>  0 </td><td>  0 </td><td>  0 </td><td>  0 </td><td>   0</td><td>  0 </td><td>  1 </td><td>  3 </td><td>  0 </td><td>... </td><td>  0 </td><td>  0 </td><td>  0 </td><td>  1 </td><td>  0 </td><td>  1 </td><td>  3 </td><td>  2 </td><td>  1 </td><td>  1 </td></tr>\n",
       "</tbody>\n",
       "</table>\n"
      ],
      "text/latex": [
       "\\begin{tabular}{r|llllllllllllllllllllllll}\n",
       "  & C61 & C62 & C63 & C64 & C91 & C92 & C93 & C94 & I561 & I562 & ... & I593 & I594 & I861 & I862 & I863 & I864 & I891 & I892 & I893 & I894\\\\\n",
       "\\hline\n",
       "\tAT1G01010 & 341  & 371  & 275  & 419  & 400  &  542 & 377  & 372  & 677  & 522  & ...  & 691  & 500  & 157  & 473  & 459  & 228  & 590  & 491  & 565  & 496 \\\\\n",
       "\tAT1G01020 & 164  &  94  & 176  & 155  & 200  &  183 & 166  & 115  & 172  & 157  & ...  & 163  & 185  &  46  & 162  & 119  &  53  & 172  & 212  & 169  & 157 \\\\\n",
       "\tAT1G03987 &   0  &   0  &   0  &   0  &   0  &    0 &   0  &   0  &   0  &   0  & ...  &   0  &   0  &   0  &   0  &   0  &   0  &   0  &   0  &   0  &   0 \\\\\n",
       "\tAT1G01030 &  20  &  34  &  40  &  27  &  28  &   36 &  22  &  40  &  20  &   7  & ...  &  17  &  26  &  49  &  17  &  24  &  48  &  27  &  28  &  47  &  32 \\\\\n",
       "\tAT1G01040 & 738  & 487  & 610  & 690  & 945  & 1033 & 836  & 908  & 857  & 821  & ...  & 871  & 756  & 361  & 618  & 641  & 439  & 783  & 692  & 768  & 625 \\\\\n",
       "\tAT1G03993 &   1  &   0  &   0  &   0  &   0  &    0 &   0  &   1  &   3  &   0  & ...  &   0  &   0  &   0  &   1  &   0  &   1  &   3  &   2  &   1  &   1 \\\\\n",
       "\\end{tabular}\n"
      ],
      "text/markdown": [
       "\n",
       "| <!--/--> | C61 | C62 | C63 | C64 | C91 | C92 | C93 | C94 | I561 | I562 | ... | I593 | I594 | I861 | I862 | I863 | I864 | I891 | I892 | I893 | I894 |\n",
       "|---|---|---|---|---|---|---|---|---|---|---|---|---|---|---|---|---|---|---|---|---|---|\n",
       "| AT1G01010 | 341  | 371  | 275  | 419  | 400  |  542 | 377  | 372  | 677  | 522  | ...  | 691  | 500  | 157  | 473  | 459  | 228  | 590  | 491  | 565  | 496  |\n",
       "| AT1G01020 | 164  |  94  | 176  | 155  | 200  |  183 | 166  | 115  | 172  | 157  | ...  | 163  | 185  |  46  | 162  | 119  |  53  | 172  | 212  | 169  | 157  |\n",
       "| AT1G03987 |   0  |   0  |   0  |   0  |   0  |    0 |   0  |   0  |   0  |   0  | ...  |   0  |   0  |   0  |   0  |   0  |   0  |   0  |   0  |   0  |   0  |\n",
       "| AT1G01030 |  20  |  34  |  40  |  27  |  28  |   36 |  22  |  40  |  20  |   7  | ...  |  17  |  26  |  49  |  17  |  24  |  48  |  27  |  28  |  47  |  32  |\n",
       "| AT1G01040 | 738  | 487  | 610  | 690  | 945  | 1033 | 836  | 908  | 857  | 821  | ...  | 871  | 756  | 361  | 618  | 641  | 439  | 783  | 692  | 768  | 625  |\n",
       "| AT1G03993 |   1  |   0  |   0  |   0  |   0  |    0 |   0  |   1  |   3  |   0  | ...  |   0  |   0  |   0  |   1  |   0  |   1  |   3  |   2  |   1  |   1  |\n",
       "\n"
      ],
      "text/plain": [
       "          C61 C62 C63 C64 C91 C92  C93 C94 I561 I562 ... I593 I594 I861 I862\n",
       "AT1G01010 341 371 275 419 400  542 377 372 677  522  ... 691  500  157  473 \n",
       "AT1G01020 164  94 176 155 200  183 166 115 172  157  ... 163  185   46  162 \n",
       "AT1G03987   0   0   0   0   0    0   0   0   0    0  ...   0    0    0    0 \n",
       "AT1G01030  20  34  40  27  28   36  22  40  20    7  ...  17   26   49   17 \n",
       "AT1G01040 738 487 610 690 945 1033 836 908 857  821  ... 871  756  361  618 \n",
       "AT1G03993   1   0   0   0   0    0   0   1   3    0  ...   0    0    0    1 \n",
       "          I863 I864 I891 I892 I893 I894\n",
       "AT1G01010 459  228  590  491  565  496 \n",
       "AT1G01020 119   53  172  212  169  157 \n",
       "AT1G03987   0    0    0    0    0    0 \n",
       "AT1G01030  24   48   27   28   47   32 \n",
       "AT1G01040 641  439  783  692  768  625 \n",
       "AT1G03993   0    1    3    2    1    1 "
      ]
     },
     "metadata": {},
     "output_type": "display_data"
    }
   ],
   "source": [
    "zliczenia =  read.delim(\"counts.txt\", row.names = 1) #zliczenia; dane dotyczą roslin\n",
    "head(zliczenia)"
   ]
  },
  {
   "cell_type": "code",
   "execution_count": 3,
   "id": "df0c3d79",
   "metadata": {
    "scrolled": true
   },
   "outputs": [
    {
     "data": {
      "text/plain": [
       "      C61              C62                C63               C64          \n",
       " Min.   :     0   Min.   :     0.0   Min.   :    0.0   Min.   :     0.0  \n",
       " 1st Qu.:     0   1st Qu.:     0.0   1st Qu.:    0.0   1st Qu.:     0.0  \n",
       " Median :    53   Median :    46.0   Median :   55.0   Median :    57.0  \n",
       " Mean   :   437   Mean   :   377.4   Mean   :  371.5   Mean   :   424.4  \n",
       " 3rd Qu.:   367   3rd Qu.:   301.0   3rd Qu.:  327.0   3rd Qu.:   367.0  \n",
       " Max.   :156315   Max.   :162891.0   Max.   :76187.0   Max.   :109827.0  \n",
       "      C91               C92                C93               C94          \n",
       " Min.   :    0.0   Min.   :     0.0   Min.   :    0.0   Min.   :     0.0  \n",
       " 1st Qu.:    0.0   1st Qu.:     0.0   1st Qu.:    0.0   1st Qu.:     0.0  \n",
       " Median :   59.0   Median :    56.0   Median :   57.0   Median :    48.0  \n",
       " Mean   :  404.5   Mean   :   456.2   Mean   :  402.2   Mean   :   354.7  \n",
       " 3rd Qu.:  362.0   3rd Qu.:   384.0   3rd Qu.:  346.0   3rd Qu.:   296.0  \n",
       " Max.   :54582.0   Max.   :140916.0   Max.   :94588.0   Max.   :185893.0  \n",
       "      I561               I562              I563               I564       \n",
       " Min.   :     0.0   Min.   :    0.0   Min.   :     0.0   Min.   :     0  \n",
       " 1st Qu.:     0.0   1st Qu.:    0.0   1st Qu.:     0.0   1st Qu.:     0  \n",
       " Median :    51.0   Median :   56.0   Median :    58.0   Median :    56  \n",
       " Mean   :   446.6   Mean   :  423.6   Mean   :   425.6   Mean   :   424  \n",
       " 3rd Qu.:   365.0   3rd Qu.:  370.0   3rd Qu.:   348.0   3rd Qu.:   351  \n",
       " Max.   :140377.0   Max.   :95574.0   Max.   :124745.0   Max.   :150728  \n",
       "      I591             I592              I593               I594        \n",
       " Min.   :     0   Min.   :    0.0   Min.   :     0.0   Min.   :    0.0  \n",
       " 1st Qu.:     0   1st Qu.:    0.0   1st Qu.:     0.0   1st Qu.:    0.0  \n",
       " Median :    58   Median :   51.0   Median :    56.0   Median :   54.0  \n",
       " Mean   :   431   Mean   :  388.7   Mean   :   446.3   Mean   :  428.1  \n",
       " 3rd Qu.:   368   3rd Qu.:  331.0   3rd Qu.:   377.0   3rd Qu.:  372.0  \n",
       " Max.   :118498   Max.   :84351.0   Max.   :121380.0   Max.   :94915.0  \n",
       "      I861               I862               I863               I864         \n",
       " Min.   :     0.0   Min.   :     0.0   Min.   :     0.0   Min.   :     0.0  \n",
       " 1st Qu.:     0.0   1st Qu.:     0.0   1st Qu.:     0.0   1st Qu.:     0.0  \n",
       " Median :    26.0   Median :    60.0   Median :    41.0   Median :    39.0  \n",
       " Mean   :   260.4   Mean   :   423.7   Mean   :   382.8   Mean   :   310.3  \n",
       " 3rd Qu.:   166.0   3rd Qu.:   366.0   3rd Qu.:   305.0   3rd Qu.:   240.0  \n",
       " Max.   :347537.0   Max.   :129524.0   Max.   :108698.0   Max.   :138793.0  \n",
       "      I891               I892              I893               I894         \n",
       " Min.   :     0.0   Min.   :    0.0   Min.   :     0.0   Min.   :     0.0  \n",
       " 1st Qu.:     0.0   1st Qu.:    0.0   1st Qu.:     0.0   1st Qu.:     0.0  \n",
       " Median :    58.0   Median :   60.0   Median :    54.0   Median :    51.0  \n",
       " Mean   :   439.1   Mean   :  473.4   Mean   :   389.7   Mean   :   399.4  \n",
       " 3rd Qu.:   370.0   3rd Qu.:  395.0   3rd Qu.:   334.0   3rd Qu.:   336.0  \n",
       " Max.   :108770.0   Max.   :85902.0   Max.   :122877.0   Max.   :105683.0  "
      ]
     },
     "metadata": {},
     "output_type": "display_data"
    }
   ],
   "source": [
    "summary(zliczenia)"
   ]
  },
  {
   "cell_type": "code",
   "execution_count": 4,
   "id": "708045d1",
   "metadata": {},
   "outputs": [
    {
     "data": {
      "text/html": [
       "<ol class=list-inline>\n",
       "\t<li>32833</li>\n",
       "\t<li>24</li>\n",
       "</ol>\n"
      ],
      "text/latex": [
       "\\begin{enumerate*}\n",
       "\\item 32833\n",
       "\\item 24\n",
       "\\end{enumerate*}\n"
      ],
      "text/markdown": [
       "1. 32833\n",
       "2. 24\n",
       "\n",
       "\n"
      ],
      "text/plain": [
       "[1] 32833    24"
      ]
     },
     "metadata": {},
     "output_type": "display_data"
    }
   ],
   "source": [
    "dim(zliczenia)"
   ]
  },
  {
   "cell_type": "code",
   "execution_count": 5,
   "id": "c0c9f9d9",
   "metadata": {},
   "outputs": [
    {
     "data": {
      "text/html": [
       "787992"
      ],
      "text/latex": [
       "787992"
      ],
      "text/markdown": [
       "787992"
      ],
      "text/plain": [
       "[1] 787992"
      ]
     },
     "metadata": {},
     "output_type": "display_data"
    }
   ],
   "source": [
    "nrow(zliczenia)*ncol(zliczenia) #tyle mamy wartości"
   ]
  },
  {
   "cell_type": "markdown",
   "id": "831e0fea",
   "metadata": {},
   "source": [
    "Problem (szeroki zakres dynamiczny)"
   ]
  },
  {
   "cell_type": "code",
   "execution_count": 6,
   "id": "a77159f6",
   "metadata": {},
   "outputs": [],
   "source": [
    "p1 = zliczenia[,1] #pierwsza probka\n",
    "p1s = sort(zliczenia[,1], decreasing = TRUE) #posortowana pierwsza probka"
   ]
  },
  {
   "cell_type": "code",
   "execution_count": 7,
   "id": "bcf4cafd",
   "metadata": {},
   "outputs": [
    {
     "data": {
      "text/html": [
       "3640970"
      ],
      "text/latex": [
       "3640970"
      ],
      "text/markdown": [
       "3640970"
      ],
      "text/plain": [
       "[1] 3640970"
      ]
     },
     "metadata": {},
     "output_type": "display_data"
    },
    {
     "data": {
      "text/html": [
       "25.3761234567987"
      ],
      "text/latex": [
       "25.3761234567987"
      ],
      "text/markdown": [
       "25.3761234567987"
      ],
      "text/plain": [
       "[1] 25.37612"
      ]
     },
     "metadata": {},
     "output_type": "display_data"
    }
   ],
   "source": [
    "sum(p1s[1:300]); sum(p1s[1:300])*100/sum(p1s) #mniej niz 1% genow sklada się na ponad 25% wszystkich odczytów (readów)"
   ]
  },
  {
   "cell_type": "markdown",
   "id": "04ac3905",
   "metadata": {},
   "source": [
    "Spójrzmy na rozkład "
   ]
  },
  {
   "cell_type": "code",
   "execution_count": 8,
   "id": "b7914ed8",
   "metadata": {},
   "outputs": [
    {
     "data": {
      "image/png": "[encoded data removed]",
      "text/plain": [
       "plot without title"
      ]
     },
     "metadata": {},
     "output_type": "display_data"
    },
    {
     "data": {
      "image/png": "[encoded data removed]",
      "text/plain": [
       "plot without title"
      ]
     },
     "metadata": {},
     "output_type": "display_data"
    }
   ],
   "source": [
    "options(repr.plot.width=4, repr.plot.height=4)\n",
    "boxplot(p1); boxplot(log(p1 + 1)) #zliczenia dla C61"
   ]
  },
  {
   "cell_type": "code",
   "execution_count": 9,
   "id": "0621d514",
   "metadata": {},
   "outputs": [
    {
     "data": {
      "image/png": "[encoded data removed]",
      "text/plain": [
       "plot without title"
      ]
     },
     "metadata": {},
     "output_type": "display_data"
    }
   ],
   "source": [
    "boxplot(log(zliczenia + 1)) #dla wszystkich próbek, zwrocic uwage na 17 obserwacje i potem norm.factor/boxplot --> bardziej normalne"
   ]
  },
  {
   "cell_type": "markdown",
   "id": "bf357a05",
   "metadata": {},
   "source": [
    "Będzie nas interesować odpowiedź na pytanie - które geny (sekwencje) są różnicujące pomiędzy wskazanymi grupami?"
   ]
  },
  {
   "cell_type": "markdown",
   "id": "24e3b54f",
   "metadata": {},
   "source": [
    "Powiedzmy, że chce porównać I56 z I59. "
   ]
  },
  {
   "cell_type": "code",
   "execution_count": 10,
   "id": "498c5c0c",
   "metadata": {},
   "outputs": [],
   "source": [
    "ktore_geny = c()\n",
    "p_values = c()\n",
    "\n",
    "for (i in 1:32833){\n",
    "    c6 = zliczenia[i,][,c(9,10,11,12)]\n",
    "    c9 = zliczenia[i,][,c(13,14,15,16)]\n",
    "    if (sum(c6)>0 & sum(c9)>0){\n",
    "            p = t.test(x = c6, y =c9, conf.level = 0.95)$p.value\n",
    "        if (!is.nan(p)){\n",
    "            if (p < 0.05){\n",
    "                ktore_geny = append(ktore_geny,rownames(zliczenia[i,]))\n",
    "                p_values = append(p_values, p)\n",
    "            }    \n",
    "        }\n",
    "        \n",
    "    }\n",
    "}\n",
    "\n"
   ]
  },
  {
   "cell_type": "code",
   "execution_count": 11,
   "id": "00f42185",
   "metadata": {},
   "outputs": [
    {
     "data": {
      "text/html": [
       "5647"
      ],
      "text/latex": [
       "5647"
      ],
      "text/markdown": [
       "5647"
      ],
      "text/plain": [
       "[1] 5647"
      ]
     },
     "metadata": {},
     "output_type": "display_data"
    }
   ],
   "source": [
    "length(ktore_geny)"
   ]
  },
  {
   "cell_type": "code",
   "execution_count": 12,
   "id": "5372288b",
   "metadata": {},
   "outputs": [
    {
     "data": {
      "text/html": [
       "<table>\n",
       "<thead><tr><th scope=col>geny</th><th scope=col>P</th></tr></thead>\n",
       "<tbody>\n",
       "\t<tr><td>AT5G54930   </td><td>3.413633e-07</td></tr>\n",
       "\t<tr><td>AT3G01850   </td><td>7.130621e-06</td></tr>\n",
       "\t<tr><td>AT5G25110   </td><td>8.406646e-06</td></tr>\n",
       "\t<tr><td>AT1G17400   </td><td>1.160966e-05</td></tr>\n",
       "\t<tr><td>AT3G03700   </td><td>1.169348e-05</td></tr>\n",
       "\t<tr><td>AT1G12160   </td><td>1.175051e-05</td></tr>\n",
       "</tbody>\n",
       "</table>\n"
      ],
      "text/latex": [
       "\\begin{tabular}{r|ll}\n",
       " geny & P\\\\\n",
       "\\hline\n",
       "\t AT5G54930    & 3.413633e-07\\\\\n",
       "\t AT3G01850    & 7.130621e-06\\\\\n",
       "\t AT5G25110    & 8.406646e-06\\\\\n",
       "\t AT1G17400    & 1.160966e-05\\\\\n",
       "\t AT3G03700    & 1.169348e-05\\\\\n",
       "\t AT1G12160    & 1.175051e-05\\\\\n",
       "\\end{tabular}\n"
      ],
      "text/markdown": [
       "\n",
       "| geny | P |\n",
       "|---|---|\n",
       "| AT5G54930    | 3.413633e-07 |\n",
       "| AT3G01850    | 7.130621e-06 |\n",
       "| AT5G25110    | 8.406646e-06 |\n",
       "| AT1G17400    | 1.160966e-05 |\n",
       "| AT3G03700    | 1.169348e-05 |\n",
       "| AT1G12160    | 1.175051e-05 |\n",
       "\n"
      ],
      "text/plain": [
       "  geny      P           \n",
       "1 AT5G54930 3.413633e-07\n",
       "2 AT3G01850 7.130621e-06\n",
       "3 AT5G25110 8.406646e-06\n",
       "4 AT1G17400 1.160966e-05\n",
       "5 AT3G03700 1.169348e-05\n",
       "6 AT1G12160 1.175051e-05"
      ]
     },
     "metadata": {},
     "output_type": "display_data"
    }
   ],
   "source": [
    "t = data.frame(geny = ktore_geny[order(p_values)], P = p_values[order(p_values)])\n",
    "head(t)"
   ]
  },
  {
   "cell_type": "markdown",
   "id": "7aaa729c",
   "metadata": {},
   "source": [
    "I po analizie? :)"
   ]
  },
  {
   "cell_type": "markdown",
   "id": "5d268c3f",
   "metadata": {},
   "source": [
    "<h4> Preprocessing"
   ]
  },
  {
   "cell_type": "code",
   "execution_count": 13,
   "id": "daa0b874",
   "metadata": {},
   "outputs": [
    {
     "data": {
      "text/html": [
       "<ol class=list-inline>\n",
       "\t<li>'C61'</li>\n",
       "\t<li>'C62'</li>\n",
       "\t<li>'C63'</li>\n",
       "\t<li>'C64'</li>\n",
       "\t<li>'C91'</li>\n",
       "\t<li>'C92'</li>\n",
       "\t<li>'C93'</li>\n",
       "\t<li>'C94'</li>\n",
       "\t<li>'I561'</li>\n",
       "\t<li>'I562'</li>\n",
       "\t<li>'I563'</li>\n",
       "\t<li>'I564'</li>\n",
       "\t<li>'I591'</li>\n",
       "\t<li>'I592'</li>\n",
       "\t<li>'I593'</li>\n",
       "\t<li>'I594'</li>\n",
       "\t<li>'I861'</li>\n",
       "\t<li>'I862'</li>\n",
       "\t<li>'I863'</li>\n",
       "\t<li>'I864'</li>\n",
       "\t<li>'I891'</li>\n",
       "\t<li>'I892'</li>\n",
       "\t<li>'I893'</li>\n",
       "\t<li>'I894'</li>\n",
       "</ol>\n"
      ],
      "text/latex": [
       "\\begin{enumerate*}\n",
       "\\item 'C61'\n",
       "\\item 'C62'\n",
       "\\item 'C63'\n",
       "\\item 'C64'\n",
       "\\item 'C91'\n",
       "\\item 'C92'\n",
       "\\item 'C93'\n",
       "\\item 'C94'\n",
       "\\item 'I561'\n",
       "\\item 'I562'\n",
       "\\item 'I563'\n",
       "\\item 'I564'\n",
       "\\item 'I591'\n",
       "\\item 'I592'\n",
       "\\item 'I593'\n",
       "\\item 'I594'\n",
       "\\item 'I861'\n",
       "\\item 'I862'\n",
       "\\item 'I863'\n",
       "\\item 'I864'\n",
       "\\item 'I891'\n",
       "\\item 'I892'\n",
       "\\item 'I893'\n",
       "\\item 'I894'\n",
       "\\end{enumerate*}\n"
      ],
      "text/markdown": [
       "1. 'C61'\n",
       "2. 'C62'\n",
       "3. 'C63'\n",
       "4. 'C64'\n",
       "5. 'C91'\n",
       "6. 'C92'\n",
       "7. 'C93'\n",
       "8. 'C94'\n",
       "9. 'I561'\n",
       "10. 'I562'\n",
       "11. 'I563'\n",
       "12. 'I564'\n",
       "13. 'I591'\n",
       "14. 'I592'\n",
       "15. 'I593'\n",
       "16. 'I594'\n",
       "17. 'I861'\n",
       "18. 'I862'\n",
       "19. 'I863'\n",
       "20. 'I864'\n",
       "21. 'I891'\n",
       "22. 'I892'\n",
       "23. 'I893'\n",
       "24. 'I894'\n",
       "\n",
       "\n"
      ],
      "text/plain": [
       " [1] \"C61\"  \"C62\"  \"C63\"  \"C64\"  \"C91\"  \"C92\"  \"C93\"  \"C94\"  \"I561\" \"I562\"\n",
       "[11] \"I563\" \"I564\" \"I591\" \"I592\" \"I593\" \"I594\" \"I861\" \"I862\" \"I863\" \"I864\"\n",
       "[21] \"I891\" \"I892\" \"I893\" \"I894\""
      ]
     },
     "metadata": {},
     "output_type": "display_data"
    }
   ],
   "source": [
    "probki = colnames(zliczenia) #nazwy kolumn (tutaj: probki)\n",
    "probki"
   ]
  },
  {
   "cell_type": "code",
   "execution_count": 14,
   "id": "0fbb6bf3",
   "metadata": {},
   "outputs": [
    {
     "data": {
      "text/html": [
       "<ol class=list-inline>\n",
       "\t<li>'C'</li>\n",
       "\t<li>'C'</li>\n",
       "\t<li>'C'</li>\n",
       "\t<li>'C'</li>\n",
       "\t<li>'C'</li>\n",
       "\t<li>'C'</li>\n",
       "\t<li>'C'</li>\n",
       "\t<li>'C'</li>\n",
       "\t<li>'I5'</li>\n",
       "\t<li>'I5'</li>\n",
       "\t<li>'I5'</li>\n",
       "\t<li>'I5'</li>\n",
       "\t<li>'I5'</li>\n",
       "\t<li>'I5'</li>\n",
       "\t<li>'I5'</li>\n",
       "\t<li>'I5'</li>\n",
       "\t<li>'I8'</li>\n",
       "\t<li>'I8'</li>\n",
       "\t<li>'I8'</li>\n",
       "\t<li>'I8'</li>\n",
       "\t<li>'I8'</li>\n",
       "\t<li>'I8'</li>\n",
       "\t<li>'I8'</li>\n",
       "\t<li>'I8'</li>\n",
       "</ol>\n"
      ],
      "text/latex": [
       "\\begin{enumerate*}\n",
       "\\item 'C'\n",
       "\\item 'C'\n",
       "\\item 'C'\n",
       "\\item 'C'\n",
       "\\item 'C'\n",
       "\\item 'C'\n",
       "\\item 'C'\n",
       "\\item 'C'\n",
       "\\item 'I5'\n",
       "\\item 'I5'\n",
       "\\item 'I5'\n",
       "\\item 'I5'\n",
       "\\item 'I5'\n",
       "\\item 'I5'\n",
       "\\item 'I5'\n",
       "\\item 'I5'\n",
       "\\item 'I8'\n",
       "\\item 'I8'\n",
       "\\item 'I8'\n",
       "\\item 'I8'\n",
       "\\item 'I8'\n",
       "\\item 'I8'\n",
       "\\item 'I8'\n",
       "\\item 'I8'\n",
       "\\end{enumerate*}\n"
      ],
      "text/markdown": [
       "1. 'C'\n",
       "2. 'C'\n",
       "3. 'C'\n",
       "4. 'C'\n",
       "5. 'C'\n",
       "6. 'C'\n",
       "7. 'C'\n",
       "8. 'C'\n",
       "9. 'I5'\n",
       "10. 'I5'\n",
       "11. 'I5'\n",
       "12. 'I5'\n",
       "13. 'I5'\n",
       "14. 'I5'\n",
       "15. 'I5'\n",
       "16. 'I5'\n",
       "17. 'I8'\n",
       "18. 'I8'\n",
       "19. 'I8'\n",
       "20. 'I8'\n",
       "21. 'I8'\n",
       "22. 'I8'\n",
       "23. 'I8'\n",
       "24. 'I8'\n",
       "\n",
       "\n"
      ],
      "text/plain": [
       " [1] \"C\"  \"C\"  \"C\"  \"C\"  \"C\"  \"C\"  \"C\"  \"C\"  \"I5\" \"I5\" \"I5\" \"I5\" \"I5\" \"I5\" \"I5\"\n",
       "[16] \"I5\" \"I8\" \"I8\" \"I8\" \"I8\" \"I8\" \"I8\" \"I8\" \"I8\""
      ]
     },
     "metadata": {},
     "output_type": "display_data"
    },
    {
     "data": {
      "text/html": [
       "<ol class=list-inline>\n",
       "\t<li>'6'</li>\n",
       "\t<li>'6'</li>\n",
       "\t<li>'6'</li>\n",
       "\t<li>'6'</li>\n",
       "\t<li>'9'</li>\n",
       "\t<li>'9'</li>\n",
       "\t<li>'9'</li>\n",
       "\t<li>'9'</li>\n",
       "\t<li>'6'</li>\n",
       "\t<li>'6'</li>\n",
       "\t<li>'6'</li>\n",
       "\t<li>'6'</li>\n",
       "\t<li>'9'</li>\n",
       "\t<li>'9'</li>\n",
       "\t<li>'9'</li>\n",
       "\t<li>'9'</li>\n",
       "\t<li>'6'</li>\n",
       "\t<li>'6'</li>\n",
       "\t<li>'6'</li>\n",
       "\t<li>'6'</li>\n",
       "\t<li>'9'</li>\n",
       "\t<li>'9'</li>\n",
       "\t<li>'9'</li>\n",
       "\t<li>'9'</li>\n",
       "</ol>\n"
      ],
      "text/latex": [
       "\\begin{enumerate*}\n",
       "\\item '6'\n",
       "\\item '6'\n",
       "\\item '6'\n",
       "\\item '6'\n",
       "\\item '9'\n",
       "\\item '9'\n",
       "\\item '9'\n",
       "\\item '9'\n",
       "\\item '6'\n",
       "\\item '6'\n",
       "\\item '6'\n",
       "\\item '6'\n",
       "\\item '9'\n",
       "\\item '9'\n",
       "\\item '9'\n",
       "\\item '9'\n",
       "\\item '6'\n",
       "\\item '6'\n",
       "\\item '6'\n",
       "\\item '6'\n",
       "\\item '9'\n",
       "\\item '9'\n",
       "\\item '9'\n",
       "\\item '9'\n",
       "\\end{enumerate*}\n"
      ],
      "text/markdown": [
       "1. '6'\n",
       "2. '6'\n",
       "3. '6'\n",
       "4. '6'\n",
       "5. '9'\n",
       "6. '9'\n",
       "7. '9'\n",
       "8. '9'\n",
       "9. '6'\n",
       "10. '6'\n",
       "11. '6'\n",
       "12. '6'\n",
       "13. '9'\n",
       "14. '9'\n",
       "15. '9'\n",
       "16. '9'\n",
       "17. '6'\n",
       "18. '6'\n",
       "19. '6'\n",
       "20. '6'\n",
       "21. '9'\n",
       "22. '9'\n",
       "23. '9'\n",
       "24. '9'\n",
       "\n",
       "\n"
      ],
      "text/plain": [
       " [1] \"6\" \"6\" \"6\" \"6\" \"9\" \"9\" \"9\" \"9\" \"6\" \"6\" \"6\" \"6\" \"9\" \"9\" \"9\" \"9\" \"6\" \"6\" \"6\"\n",
       "[20] \"6\" \"9\" \"9\" \"9\" \"9\""
      ]
     },
     "metadata": {},
     "output_type": "display_data"
    }
   ],
   "source": [
    "odmiana = substr(probki, 1, nchar(probki) - 2) # nazwy odmian\n",
    "czas =  substr(probki, nchar(probki) - 1, nchar(probki) - 1)  #moment czasowy\n",
    "odmiana; czas"
   ]
  },
  {
   "cell_type": "code",
   "execution_count": 15,
   "id": "12ba2eab",
   "metadata": {},
   "outputs": [
    {
     "name": "stdout",
     "output_type": "stream",
     "text": [
      " [1] C.6  C.6  C.6  C.6  C.9  C.9  C.9  C.9  I5.6 I5.6 I5.6 I5.6 I5.9 I5.9 I5.9\n",
      "[16] I5.9 I8.6 I8.6 I8.6 I8.6 I8.9 I8.9 I8.9 I8.9\n",
      "Levels: C.6 I5.6 I8.6 C.9 I5.9 I8.9\n"
     ]
    }
   ],
   "source": [
    "grupy = interaction(odmiana, czas)\n",
    "print(grupy)"
   ]
  },
  {
   "cell_type": "code",
   "execution_count": 16,
   "id": "c10c5c98",
   "metadata": {},
   "outputs": [
    {
     "data": {
      "text/html": [
       "14348015"
      ],
      "text/latex": [
       "14348015"
      ],
      "text/markdown": [
       "14348015"
      ],
      "text/plain": [
       "[1] 14348015"
      ]
     },
     "metadata": {},
     "output_type": "display_data"
    }
   ],
   "source": [
    "sum(zliczenia$C61) #suma wszystkich zliczen dla C61"
   ]
  },
  {
   "cell_type": "code",
   "execution_count": 17,
   "id": "df85fc6d",
   "metadata": {},
   "outputs": [
    {
     "data": {
      "text/html": [
       "<dl>\n",
       "\t<dt>$counts</dt>\n",
       "\t\t<dd><table>\n",
       "<thead><tr><th></th><th scope=col>C61</th><th scope=col>C62</th><th scope=col>C63</th><th scope=col>C64</th><th scope=col>C91</th><th scope=col>C92</th><th scope=col>C93</th><th scope=col>C94</th><th scope=col>I561</th><th scope=col>I562</th><th scope=col>...</th><th scope=col>I593</th><th scope=col>I594</th><th scope=col>I861</th><th scope=col>I862</th><th scope=col>I863</th><th scope=col>I864</th><th scope=col>I891</th><th scope=col>I892</th><th scope=col>I893</th><th scope=col>I894</th></tr></thead>\n",
       "<tbody>\n",
       "\t<tr><th scope=row>AT1G01010</th><td>341 </td><td>371 </td><td>275 </td><td>419 </td><td>400 </td><td> 542</td><td>377 </td><td>372 </td><td>677 </td><td>522 </td><td>... </td><td>691 </td><td>500 </td><td>157 </td><td>473 </td><td>459 </td><td>228 </td><td>590 </td><td>491 </td><td>565 </td><td>496 </td></tr>\n",
       "\t<tr><th scope=row>AT1G01020</th><td>164 </td><td> 94 </td><td>176 </td><td>155 </td><td>200 </td><td> 183</td><td>166 </td><td>115 </td><td>172 </td><td>157 </td><td>... </td><td>163 </td><td>185 </td><td> 46 </td><td>162 </td><td>119 </td><td> 53 </td><td>172 </td><td>212 </td><td>169 </td><td>157 </td></tr>\n",
       "\t<tr><th scope=row>AT1G03987</th><td>  0 </td><td>  0 </td><td>  0 </td><td>  0 </td><td>  0 </td><td>   0</td><td>  0 </td><td>  0 </td><td>  0 </td><td>  0 </td><td>... </td><td>  0 </td><td>  0 </td><td>  0 </td><td>  0 </td><td>  0 </td><td>  0 </td><td>  0 </td><td>  0 </td><td>  0 </td><td>  0 </td></tr>\n",
       "\t<tr><th scope=row>AT1G01030</th><td> 20 </td><td> 34 </td><td> 40 </td><td> 27 </td><td> 28 </td><td>  36</td><td> 22 </td><td> 40 </td><td> 20 </td><td>  7 </td><td>... </td><td> 17 </td><td> 26 </td><td> 49 </td><td> 17 </td><td> 24 </td><td> 48 </td><td> 27 </td><td> 28 </td><td> 47 </td><td> 32 </td></tr>\n",
       "\t<tr><th scope=row>AT1G01040</th><td>738 </td><td>487 </td><td>610 </td><td>690 </td><td>945 </td><td>1033</td><td>836 </td><td>908 </td><td>857 </td><td>821 </td><td>... </td><td>871 </td><td>756 </td><td>361 </td><td>618 </td><td>641 </td><td>439 </td><td>783 </td><td>692 </td><td>768 </td><td>625 </td></tr>\n",
       "\t<tr><th scope=row>AT1G03993</th><td>  1 </td><td>  0 </td><td>  0 </td><td>  0 </td><td>  0 </td><td>   0</td><td>  0 </td><td>  1 </td><td>  3 </td><td>  0 </td><td>... </td><td>  0 </td><td>  0 </td><td>  0 </td><td>  1 </td><td>  0 </td><td>  1 </td><td>  3 </td><td>  2 </td><td>  1 </td><td>  1 </td></tr>\n",
       "</tbody>\n",
       "</table>\n",
       "</dd>\n",
       "\t<dt>$samples</dt>\n",
       "\t\t<dd><table>\n",
       "<thead><tr><th></th><th scope=col>group</th><th scope=col>lib.size</th><th scope=col>norm.factors</th></tr></thead>\n",
       "<tbody>\n",
       "\t<tr><th scope=row>C61</th><td>1       </td><td>14348015</td><td>1       </td></tr>\n",
       "\t<tr><th scope=row>C62</th><td>1       </td><td>12389489</td><td>1       </td></tr>\n",
       "\t<tr><th scope=row>C63</th><td>1       </td><td>12197016</td><td>1       </td></tr>\n",
       "\t<tr><th scope=row>C64</th><td>1       </td><td>13933406</td><td>1       </td></tr>\n",
       "\t<tr><th scope=row>C91</th><td>1       </td><td>13280511</td><td>1       </td></tr>\n",
       "\t<tr><th scope=row>C92</th><td>1       </td><td>14978718</td><td>1       </td></tr>\n",
       "\t<tr><th scope=row>C93</th><td>1       </td><td>13207167</td><td>1       </td></tr>\n",
       "\t<tr><th scope=row>C94</th><td>1       </td><td>11646163</td><td>1       </td></tr>\n",
       "\t<tr><th scope=row>I561</th><td>1       </td><td>14664605</td><td>1       </td></tr>\n",
       "\t<tr><th scope=row>I562</th><td>1       </td><td>13908368</td><td>1       </td></tr>\n",
       "\t<tr><th scope=row>I563</th><td>1       </td><td>13972735</td><td>1       </td></tr>\n",
       "\t<tr><th scope=row>I564</th><td>1       </td><td>13920923</td><td>1       </td></tr>\n",
       "\t<tr><th scope=row>I591</th><td>1       </td><td>14151609</td><td>1       </td></tr>\n",
       "\t<tr><th scope=row>I592</th><td>1       </td><td>12762599</td><td>1       </td></tr>\n",
       "\t<tr><th scope=row>I593</th><td>1       </td><td>14654270</td><td>1       </td></tr>\n",
       "\t<tr><th scope=row>I594</th><td>1       </td><td>14056452</td><td>1       </td></tr>\n",
       "\t<tr><th scope=row>I861</th><td>1       </td><td> 8551250</td><td>1       </td></tr>\n",
       "\t<tr><th scope=row>I862</th><td>1       </td><td>13910091</td><td>1       </td></tr>\n",
       "\t<tr><th scope=row>I863</th><td>1       </td><td>12567147</td><td>1       </td></tr>\n",
       "\t<tr><th scope=row>I864</th><td>1       </td><td>10188021</td><td>1       </td></tr>\n",
       "\t<tr><th scope=row>I891</th><td>1       </td><td>14418687</td><td>1       </td></tr>\n",
       "\t<tr><th scope=row>I892</th><td>1       </td><td>15543372</td><td>1       </td></tr>\n",
       "\t<tr><th scope=row>I893</th><td>1       </td><td>12794901</td><td>1       </td></tr>\n",
       "\t<tr><th scope=row>I894</th><td>1       </td><td>13113424</td><td>1       </td></tr>\n",
       "</tbody>\n",
       "</table>\n",
       "</dd>\n",
       "</dl>\n"
      ],
      "text/latex": [
       "\\begin{description}\n",
       "\\item[\\$counts] \\begin{tabular}{r|llllllllllllllllllllllll}\n",
       "  & C61 & C62 & C63 & C64 & C91 & C92 & C93 & C94 & I561 & I562 & ... & I593 & I594 & I861 & I862 & I863 & I864 & I891 & I892 & I893 & I894\\\\\n",
       "\\hline\n",
       "\tAT1G01010 & 341  & 371  & 275  & 419  & 400  &  542 & 377  & 372  & 677  & 522  & ...  & 691  & 500  & 157  & 473  & 459  & 228  & 590  & 491  & 565  & 496 \\\\\n",
       "\tAT1G01020 & 164  &  94  & 176  & 155  & 200  &  183 & 166  & 115  & 172  & 157  & ...  & 163  & 185  &  46  & 162  & 119  &  53  & 172  & 212  & 169  & 157 \\\\\n",
       "\tAT1G03987 &   0  &   0  &   0  &   0  &   0  &    0 &   0  &   0  &   0  &   0  & ...  &   0  &   0  &   0  &   0  &   0  &   0  &   0  &   0  &   0  &   0 \\\\\n",
       "\tAT1G01030 &  20  &  34  &  40  &  27  &  28  &   36 &  22  &  40  &  20  &   7  & ...  &  17  &  26  &  49  &  17  &  24  &  48  &  27  &  28  &  47  &  32 \\\\\n",
       "\tAT1G01040 & 738  & 487  & 610  & 690  & 945  & 1033 & 836  & 908  & 857  & 821  & ...  & 871  & 756  & 361  & 618  & 641  & 439  & 783  & 692  & 768  & 625 \\\\\n",
       "\tAT1G03993 &   1  &   0  &   0  &   0  &   0  &    0 &   0  &   1  &   3  &   0  & ...  &   0  &   0  &   0  &   1  &   0  &   1  &   3  &   2  &   1  &   1 \\\\\n",
       "\\end{tabular}\n",
       "\n",
       "\\item[\\$samples] \\begin{tabular}{r|lll}\n",
       "  & group & lib.size & norm.factors\\\\\n",
       "\\hline\n",
       "\tC61 & 1        & 14348015 & 1       \\\\\n",
       "\tC62 & 1        & 12389489 & 1       \\\\\n",
       "\tC63 & 1        & 12197016 & 1       \\\\\n",
       "\tC64 & 1        & 13933406 & 1       \\\\\n",
       "\tC91 & 1        & 13280511 & 1       \\\\\n",
       "\tC92 & 1        & 14978718 & 1       \\\\\n",
       "\tC93 & 1        & 13207167 & 1       \\\\\n",
       "\tC94 & 1        & 11646163 & 1       \\\\\n",
       "\tI561 & 1        & 14664605 & 1       \\\\\n",
       "\tI562 & 1        & 13908368 & 1       \\\\\n",
       "\tI563 & 1        & 13972735 & 1       \\\\\n",
       "\tI564 & 1        & 13920923 & 1       \\\\\n",
       "\tI591 & 1        & 14151609 & 1       \\\\\n",
       "\tI592 & 1        & 12762599 & 1       \\\\\n",
       "\tI593 & 1        & 14654270 & 1       \\\\\n",
       "\tI594 & 1        & 14056452 & 1       \\\\\n",
       "\tI861 & 1        &  8551250 & 1       \\\\\n",
       "\tI862 & 1        & 13910091 & 1       \\\\\n",
       "\tI863 & 1        & 12567147 & 1       \\\\\n",
       "\tI864 & 1        & 10188021 & 1       \\\\\n",
       "\tI891 & 1        & 14418687 & 1       \\\\\n",
       "\tI892 & 1        & 15543372 & 1       \\\\\n",
       "\tI893 & 1        & 12794901 & 1       \\\\\n",
       "\tI894 & 1        & 13113424 & 1       \\\\\n",
       "\\end{tabular}\n",
       "\n",
       "\\end{description}\n"
      ],
      "text/markdown": [
       "$counts\n",
       ":   \n",
       "| <!--/--> | C61 | C62 | C63 | C64 | C91 | C92 | C93 | C94 | I561 | I562 | ... | I593 | I594 | I861 | I862 | I863 | I864 | I891 | I892 | I893 | I894 |\n",
       "|---|---|---|---|---|---|---|---|---|---|---|---|---|---|---|---|---|---|---|---|---|---|\n",
       "| AT1G01010 | 341  | 371  | 275  | 419  | 400  |  542 | 377  | 372  | 677  | 522  | ...  | 691  | 500  | 157  | 473  | 459  | 228  | 590  | 491  | 565  | 496  |\n",
       "| AT1G01020 | 164  |  94  | 176  | 155  | 200  |  183 | 166  | 115  | 172  | 157  | ...  | 163  | 185  |  46  | 162  | 119  |  53  | 172  | 212  | 169  | 157  |\n",
       "| AT1G03987 |   0  |   0  |   0  |   0  |   0  |    0 |   0  |   0  |   0  |   0  | ...  |   0  |   0  |   0  |   0  |   0  |   0  |   0  |   0  |   0  |   0  |\n",
       "| AT1G01030 |  20  |  34  |  40  |  27  |  28  |   36 |  22  |  40  |  20  |   7  | ...  |  17  |  26  |  49  |  17  |  24  |  48  |  27  |  28  |  47  |  32  |\n",
       "| AT1G01040 | 738  | 487  | 610  | 690  | 945  | 1033 | 836  | 908  | 857  | 821  | ...  | 871  | 756  | 361  | 618  | 641  | 439  | 783  | 692  | 768  | 625  |\n",
       "| AT1G03993 |   1  |   0  |   0  |   0  |   0  |    0 |   0  |   1  |   3  |   0  | ...  |   0  |   0  |   0  |   1  |   0  |   1  |   3  |   2  |   1  |   1  |\n",
       "\n",
       "\n",
       "$samples\n",
       ":   \n",
       "| <!--/--> | group | lib.size | norm.factors |\n",
       "|---|---|---|---|\n",
       "| C61 | 1        | 14348015 | 1        |\n",
       "| C62 | 1        | 12389489 | 1        |\n",
       "| C63 | 1        | 12197016 | 1        |\n",
       "| C64 | 1        | 13933406 | 1        |\n",
       "| C91 | 1        | 13280511 | 1        |\n",
       "| C92 | 1        | 14978718 | 1        |\n",
       "| C93 | 1        | 13207167 | 1        |\n",
       "| C94 | 1        | 11646163 | 1        |\n",
       "| I561 | 1        | 14664605 | 1        |\n",
       "| I562 | 1        | 13908368 | 1        |\n",
       "| I563 | 1        | 13972735 | 1        |\n",
       "| I564 | 1        | 13920923 | 1        |\n",
       "| I591 | 1        | 14151609 | 1        |\n",
       "| I592 | 1        | 12762599 | 1        |\n",
       "| I593 | 1        | 14654270 | 1        |\n",
       "| I594 | 1        | 14056452 | 1        |\n",
       "| I861 | 1        |  8551250 | 1        |\n",
       "| I862 | 1        | 13910091 | 1        |\n",
       "| I863 | 1        | 12567147 | 1        |\n",
       "| I864 | 1        | 10188021 | 1        |\n",
       "| I891 | 1        | 14418687 | 1        |\n",
       "| I892 | 1        | 15543372 | 1        |\n",
       "| I893 | 1        | 12794901 | 1        |\n",
       "| I894 | 1        | 13113424 | 1        |\n",
       "\n",
       "\n",
       "\n",
       "\n"
      ],
      "text/plain": [
       "An object of class \"DGEList\"\n",
       "$counts\n",
       "          C61 C62 C63 C64 C91  C92 C93 C94 I561 I562 I563 I564 I591 I592 I593\n",
       "AT1G01010 341 371 275 419 400  542 377 372  677  522  455  508  821  466  691\n",
       "AT1G01020 164  94 176 155 200  183 166 115  172  157  122  152  189  171  163\n",
       "AT1G03987   0   0   0   0   0    0   0   0    0    0    0    0    0    0    0\n",
       "AT1G01030  20  34  40  27  28   36  22  40   20    7   57   38   25   10   17\n",
       "AT1G01040 738 487 610 690 945 1033 836 908  857  821  770  751  848  607  871\n",
       "AT1G03993   1   0   0   0   0    0   0   1    3    0    1    1    1    0    0\n",
       "          I594 I861 I862 I863 I864 I891 I892 I893 I894\n",
       "AT1G01010  500  157  473  459  228  590  491  565  496\n",
       "AT1G01020  185   46  162  119   53  172  212  169  157\n",
       "AT1G03987    0    0    0    0    0    0    0    0    0\n",
       "AT1G01030   26   49   17   24   48   27   28   47   32\n",
       "AT1G01040  756  361  618  641  439  783  692  768  625\n",
       "AT1G03993    0    0    1    0    1    3    2    1    1\n",
       "\n",
       "$samples\n",
       "    group lib.size norm.factors\n",
       "C61     1 14348015            1\n",
       "C62     1 12389489            1\n",
       "C63     1 12197016            1\n",
       "C64     1 13933406            1\n",
       "C91     1 13280511            1\n",
       "19 more rows ...\n"
      ]
     },
     "metadata": {},
     "output_type": "display_data"
    }
   ],
   "source": [
    "dane = DGEList(zliczenia) #tworzymy obiekt typu DGE\n",
    "head(dane)"
   ]
  },
  {
   "cell_type": "code",
   "execution_count": 18,
   "id": "df13f5f0",
   "metadata": {},
   "outputs": [
    {
     "data": {
      "image/png": "[encoded data removed]",
      "text/plain": [
       "plot without title"
      ]
     },
     "metadata": {},
     "output_type": "display_data"
    }
   ],
   "source": [
    "options(repr.plot.width=4, repr.plot.height=4)\n",
    "plotMDS(dane, col = as.numeric(grupy)) #\"troche takie PCA\", kolory wg grup"
   ]
  },
  {
   "cell_type": "markdown",
   "id": "becd3d20",
   "metadata": {},
   "source": [
    "<h4> Normalizacja TMM\n"
   ]
  },
  {
   "cell_type": "code",
   "execution_count": 19,
   "id": "02592c7b",
   "metadata": {},
   "outputs": [
    {
     "data": {
      "text/html": [
       "<dl>\n",
       "\t<dt>$counts</dt>\n",
       "\t\t<dd><table>\n",
       "<thead><tr><th></th><th scope=col>C61</th><th scope=col>C62</th><th scope=col>C63</th><th scope=col>C64</th><th scope=col>C91</th><th scope=col>C92</th><th scope=col>C93</th><th scope=col>C94</th><th scope=col>I561</th><th scope=col>I562</th><th scope=col>...</th><th scope=col>I593</th><th scope=col>I594</th><th scope=col>I861</th><th scope=col>I862</th><th scope=col>I863</th><th scope=col>I864</th><th scope=col>I891</th><th scope=col>I892</th><th scope=col>I893</th><th scope=col>I894</th></tr></thead>\n",
       "<tbody>\n",
       "\t<tr><th scope=row>AT1G01010</th><td> 341</td><td> 371</td><td> 275</td><td> 419</td><td> 400</td><td> 542</td><td> 377</td><td> 372</td><td> 677</td><td> 522</td><td>... </td><td> 691</td><td> 500</td><td> 157</td><td> 473</td><td> 459</td><td> 228</td><td> 590</td><td> 491</td><td> 565</td><td> 496</td></tr>\n",
       "\t<tr><th scope=row>AT1G01020</th><td> 164</td><td>  94</td><td> 176</td><td> 155</td><td> 200</td><td> 183</td><td> 166</td><td> 115</td><td> 172</td><td> 157</td><td>... </td><td> 163</td><td> 185</td><td>  46</td><td> 162</td><td> 119</td><td>  53</td><td> 172</td><td> 212</td><td> 169</td><td> 157</td></tr>\n",
       "\t<tr><th scope=row>AT1G03987</th><td>   0</td><td>   0</td><td>   0</td><td>   0</td><td>   0</td><td>   0</td><td>   0</td><td>   0</td><td>   0</td><td>   0</td><td>... </td><td>   0</td><td>   0</td><td>   0</td><td>   0</td><td>   0</td><td>   0</td><td>   0</td><td>   0</td><td>   0</td><td>   0</td></tr>\n",
       "\t<tr><th scope=row>AT1G01030</th><td>  20</td><td>  34</td><td>  40</td><td>  27</td><td>  28</td><td>  36</td><td>  22</td><td>  40</td><td>  20</td><td>   7</td><td>... </td><td>  17</td><td>  26</td><td>  49</td><td>  17</td><td>  24</td><td>  48</td><td>  27</td><td>  28</td><td>  47</td><td>  32</td></tr>\n",
       "\t<tr><th scope=row>AT1G01040</th><td> 738</td><td> 487</td><td> 610</td><td> 690</td><td> 945</td><td>1033</td><td> 836</td><td> 908</td><td> 857</td><td> 821</td><td>... </td><td> 871</td><td> 756</td><td> 361</td><td> 618</td><td> 641</td><td> 439</td><td> 783</td><td> 692</td><td> 768</td><td> 625</td></tr>\n",
       "\t<tr><th scope=row>AT1G03993</th><td>   1</td><td>   0</td><td>   0</td><td>   0</td><td>   0</td><td>   0</td><td>   0</td><td>   1</td><td>   3</td><td>   0</td><td>... </td><td>   0</td><td>   0</td><td>   0</td><td>   1</td><td>   0</td><td>   1</td><td>   3</td><td>   2</td><td>   1</td><td>   1</td></tr>\n",
       "\t<tr><th scope=row>AT1G01046</th><td>   1</td><td>   1</td><td>   6</td><td>   4</td><td>   5</td><td>   3</td><td>   0</td><td>   2</td><td>   4</td><td>   4</td><td>... </td><td>   9</td><td>   1</td><td>   0</td><td>   4</td><td>   1</td><td>   3</td><td>   5</td><td>   7</td><td>   2</td><td>   5</td></tr>\n",
       "\t<tr><th scope=row>AT1G01050</th><td>1515</td><td>1091</td><td>1136</td><td>1285</td><td>1485</td><td>1581</td><td>1205</td><td> 994</td><td>1326</td><td>1595</td><td>... </td><td>1522</td><td>1666</td><td> 442</td><td>1423</td><td>1117</td><td> 669</td><td>1512</td><td>1646</td><td>1313</td><td>1249</td></tr>\n",
       "\t<tr><th scope=row>AT1G03997</th><td>   0</td><td>   0</td><td>   0</td><td>   0</td><td>   0</td><td>   0</td><td>   0</td><td>   0</td><td>   0</td><td>   0</td><td>... </td><td>   0</td><td>   0</td><td>   0</td><td>   0</td><td>   0</td><td>   0</td><td>   0</td><td>   0</td><td>   0</td><td>   0</td></tr>\n",
       "\t<tr><th scope=row>AT1G01060</th><td>2867</td><td>2676</td><td>3079</td><td>2851</td><td>5513</td><td>6646</td><td>7596</td><td>7318</td><td>2439</td><td>1946</td><td>... </td><td>4718</td><td>4006</td><td>1559</td><td>1628</td><td>1559</td><td>1559</td><td>4146</td><td>5040</td><td>4922</td><td>3828</td></tr>\n",
       "\t<tr><th scope=row>AT1G01070</th><td> 314</td><td> 244</td><td> 345</td><td> 365</td><td> 216</td><td> 194</td><td> 209</td><td> 114</td><td> 394</td><td> 560</td><td>... </td><td> 423</td><td> 394</td><td>  93</td><td> 281</td><td> 298</td><td> 180</td><td> 246</td><td> 283</td><td> 236</td><td> 243</td></tr>\n",
       "\t<tr><th scope=row>AT1G04003</th><td>   0</td><td>   0</td><td>   0</td><td>   0</td><td>   0</td><td>   0</td><td>   0</td><td>   0</td><td>   0</td><td>   0</td><td>... </td><td>   0</td><td>   0</td><td>   0</td><td>   0</td><td>   0</td><td>   0</td><td>   0</td><td>   0</td><td>   0</td><td>   0</td></tr>\n",
       "\t<tr><th scope=row>AT1G01080</th><td>  77</td><td>  88</td><td> 149</td><td>  88</td><td>  72</td><td>  44</td><td> 113</td><td>  84</td><td>  78</td><td>  81</td><td>... </td><td>  80</td><td>  92</td><td> 182</td><td> 119</td><td>  80</td><td> 187</td><td>  74</td><td>  86</td><td>  84</td><td>  65</td></tr>\n",
       "\t<tr><th scope=row>AT1G01090</th><td>3661</td><td>3018</td><td>2971</td><td>3719</td><td>2933</td><td>2665</td><td>2864</td><td>2209</td><td>4462</td><td>3947</td><td>... </td><td>3836</td><td>3704</td><td>1881</td><td>3406</td><td>3278</td><td>2649</td><td>3681</td><td>4327</td><td>2844</td><td>2834</td></tr>\n",
       "\t<tr><th scope=row>AT1G01100</th><td>4470</td><td>2939</td><td>4342</td><td>4060</td><td>5479</td><td>4023</td><td>3594</td><td>2301</td><td>3194</td><td>4806</td><td>... </td><td>4524</td><td>6180</td><td>1906</td><td>4496</td><td>2491</td><td>2024</td><td>5519</td><td>6586</td><td>4230</td><td>4058</td></tr>\n",
       "\t<tr><th scope=row>AT1G01110</th><td> 154</td><td> 105</td><td> 128</td><td> 121</td><td> 243</td><td> 185</td><td> 161</td><td> 100</td><td>  63</td><td>  97</td><td>... </td><td> 134</td><td> 162</td><td>  47</td><td> 110</td><td>  68</td><td>  47</td><td> 173</td><td> 192</td><td> 129</td><td> 113</td></tr>\n",
       "\t<tr><th scope=row>AT1G01120</th><td>2039</td><td>2890</td><td>1875</td><td>2523</td><td>1074</td><td>1563</td><td>1696</td><td>1488</td><td>3076</td><td>2784</td><td>... </td><td>1740</td><td>1677</td><td>1523</td><td>1818</td><td>2229</td><td>1789</td><td>1629</td><td>1572</td><td>1612</td><td>1623</td></tr>\n",
       "\t<tr><th scope=row>AT1G01130</th><td>  19</td><td>  19</td><td>  16</td><td>  16</td><td>  15</td><td>   6</td><td>   7</td><td>  10</td><td>   7</td><td>  13</td><td>... </td><td>  19</td><td>  18</td><td>   6</td><td>  23</td><td>  11</td><td>  10</td><td>  14</td><td>  12</td><td>  18</td><td>   8</td></tr>\n",
       "\t<tr><th scope=row>AT1G01140</th><td>  22</td><td>  72</td><td> 230</td><td>  53</td><td>  76</td><td>   7</td><td> 115</td><td>  93</td><td>  28</td><td>  28</td><td>... </td><td>  23</td><td>   2</td><td> 200</td><td>  83</td><td>  21</td><td> 299</td><td>  37</td><td>  76</td><td>  55</td><td>  22</td></tr>\n",
       "\t<tr><th scope=row>AT1G01150</th><td>   0</td><td>   0</td><td>   1</td><td>   0</td><td>   2</td><td>   4</td><td>   2</td><td>   4</td><td>   0</td><td>   2</td><td>... </td><td>   3</td><td>  14</td><td>   1</td><td>   0</td><td>   2</td><td>   0</td><td>   0</td><td>   0</td><td>   3</td><td>   4</td></tr>\n",
       "\t<tr><th scope=row>AT1G01160</th><td> 545</td><td> 349</td><td> 509</td><td> 566</td><td> 504</td><td> 535</td><td> 472</td><td> 368</td><td> 440</td><td> 566</td><td>... </td><td> 454</td><td> 585</td><td> 161</td><td> 460</td><td> 397</td><td> 246</td><td> 537</td><td> 597</td><td> 418</td><td> 464</td></tr>\n",
       "\t<tr><th scope=row>AT1G04007</th><td>   1</td><td>   0</td><td>   0</td><td>   1</td><td>   2</td><td>   0</td><td>   2</td><td>   1</td><td>   1</td><td>   0</td><td>... </td><td>   0</td><td>   1</td><td>   0</td><td>   1</td><td>   0</td><td>   0</td><td>   1</td><td>   0</td><td>   3</td><td>   0</td></tr>\n",
       "\t<tr><th scope=row>AT1G01170</th><td>  81</td><td>  97</td><td> 161</td><td> 116</td><td> 137</td><td> 100</td><td> 148</td><td> 154</td><td>  79</td><td> 121</td><td>... </td><td>  98</td><td>  81</td><td> 163</td><td>  84</td><td>  59</td><td> 151</td><td>  72</td><td>  82</td><td>  94</td><td>  55</td></tr>\n",
       "\t<tr><th scope=row>AT1G04013</th><td>   0</td><td>   0</td><td>   0</td><td>   0</td><td>   0</td><td>   0</td><td>   0</td><td>   1</td><td>   0</td><td>   0</td><td>... </td><td>   1</td><td>   0</td><td>   0</td><td>   0</td><td>   1</td><td>   0</td><td>   0</td><td>   1</td><td>   0</td><td>   0</td></tr>\n",
       "\t<tr><th scope=row>AT1G01180</th><td> 340</td><td> 389</td><td> 243</td><td> 358</td><td> 222</td><td> 350</td><td> 451</td><td> 281</td><td> 357</td><td> 261</td><td>... </td><td> 259</td><td> 218</td><td> 214</td><td> 292</td><td> 413</td><td> 223</td><td> 260</td><td> 260</td><td> 242</td><td> 288</td></tr>\n",
       "\t<tr><th scope=row>AT1G01183</th><td>   0</td><td>   0</td><td>   0</td><td>   0</td><td>   1</td><td>   0</td><td>   0</td><td>   0</td><td>   0</td><td>   1</td><td>... </td><td>   2</td><td>   2</td><td>   0</td><td>   0</td><td>   0</td><td>   0</td><td>   0</td><td>   0</td><td>   0</td><td>   2</td></tr>\n",
       "\t<tr><th scope=row>AT1G01190</th><td> 161</td><td> 192</td><td>  84</td><td> 134</td><td> 171</td><td> 153</td><td> 129</td><td> 120</td><td>  98</td><td> 123</td><td>... </td><td> 231</td><td> 387</td><td>  28</td><td> 126</td><td>  76</td><td>  40</td><td> 110</td><td> 108</td><td> 290</td><td> 160</td></tr>\n",
       "\t<tr><th scope=row>AT1G01200</th><td> 117</td><td>  86</td><td>  81</td><td> 101</td><td>  66</td><td>  77</td><td>  66</td><td>  63</td><td> 112</td><td> 116</td><td>... </td><td> 111</td><td> 101</td><td>  16</td><td>  97</td><td>  82</td><td>  36</td><td> 101</td><td>  82</td><td>  73</td><td>  91</td></tr>\n",
       "\t<tr><th scope=row>AT1G01210</th><td> 156</td><td> 132</td><td> 138</td><td> 174</td><td> 191</td><td> 112</td><td> 126</td><td>  97</td><td> 124</td><td> 214</td><td>... </td><td> 161</td><td> 265</td><td>  42</td><td> 173</td><td> 117</td><td>  60</td><td> 217</td><td> 214</td><td> 160</td><td> 173</td></tr>\n",
       "\t<tr><th scope=row>AT1G04017</th><td>   0</td><td>   0</td><td>   0</td><td>   0</td><td>   0</td><td>   0</td><td>   0</td><td>   0</td><td>   0</td><td>   0</td><td>... </td><td>   0</td><td>   0</td><td>   0</td><td>   0</td><td>   0</td><td>   0</td><td>   0</td><td>   0</td><td>   0</td><td>   0</td></tr>\n",
       "\t<tr><th scope=row>...</th><td>...</td><td>...</td><td>...</td><td>...</td><td>...</td><td>...</td><td>...</td><td>...</td><td>...</td><td>...</td><td>   </td><td>...</td><td>...</td><td>...</td><td>...</td><td>...</td><td>...</td><td>...</td><td>...</td><td>...</td><td>...</td></tr>\n",
       "\t<tr><th scope=row>ATCG01020</th><td> 111</td><td> 317</td><td>1114</td><td> 637</td><td> 821</td><td> 287</td><td> 929</td><td> 870</td><td> 243</td><td> 369</td><td>... </td><td> 298</td><td> 410</td><td>2007</td><td> 800</td><td> 167</td><td>1118</td><td> 441</td><td> 707</td><td> 485</td><td> 412</td></tr>\n",
       "\t<tr><th scope=row>ATCG01030</th><td>   0</td><td>   1</td><td>   0</td><td>   0</td><td>   0</td><td>   1</td><td>   0</td><td>   0</td><td>   0</td><td>   1</td><td>... </td><td>   0</td><td>   0</td><td>   4</td><td>   0</td><td>   0</td><td>   1</td><td>   0</td><td>   0</td><td>   0</td><td>   0</td></tr>\n",
       "\t<tr><th scope=row>ATCG01040</th><td>   1</td><td>   3</td><td>   9</td><td>   1</td><td>   8</td><td>   0</td><td>   3</td><td>  11</td><td>   4</td><td>   7</td><td>... </td><td>   4</td><td>   2</td><td> 241</td><td>  11</td><td>   2</td><td>  40</td><td>   0</td><td>   1</td><td>   4</td><td>   1</td></tr>\n",
       "\t<tr><th scope=row>ATCG01050</th><td>  10</td><td>  20</td><td>  29</td><td>  19</td><td>  47</td><td>  19</td><td>  25</td><td> 121</td><td>  27</td><td>  26</td><td>... </td><td>  14</td><td>  36</td><td>1897</td><td>  63</td><td>  14</td><td> 200</td><td>  11</td><td>   8</td><td>  17</td><td>  17</td></tr>\n",
       "\t<tr><th scope=row>ATCG01060</th><td>   8</td><td>  15</td><td>  12</td><td>  12</td><td>   8</td><td>   7</td><td>   7</td><td>  30</td><td>   5</td><td>  10</td><td>... </td><td>   7</td><td>   8</td><td> 980</td><td>  23</td><td>   2</td><td> 163</td><td>   9</td><td>   4</td><td>   4</td><td>   6</td></tr>\n",
       "\t<tr><th scope=row>ATCG01070</th><td>   2</td><td>   8</td><td>   7</td><td>   6</td><td>   7</td><td>   6</td><td>   7</td><td>  26</td><td>  13</td><td>   6</td><td>... </td><td>   1</td><td>   4</td><td> 517</td><td>  19</td><td>   1</td><td>  48</td><td>   1</td><td>   6</td><td>   1</td><td>   3</td></tr>\n",
       "\t<tr><th scope=row>ATCG01080</th><td>  12</td><td>  19</td><td>  33</td><td>  15</td><td>  16</td><td>  30</td><td>  20</td><td>  53</td><td>  16</td><td>  22</td><td>... </td><td>  18</td><td>  15</td><td>1453</td><td>  22</td><td>   8</td><td> 155</td><td>   9</td><td>   9</td><td>  16</td><td>  10</td></tr>\n",
       "\t<tr><th scope=row>ATCG01090</th><td>   9</td><td>  18</td><td>  13</td><td>  15</td><td>  30</td><td>  26</td><td>  25</td><td>  29</td><td>  10</td><td>  13</td><td>... </td><td>  13</td><td>  22</td><td>1028</td><td>  31</td><td>   7</td><td> 117</td><td>  18</td><td>   7</td><td>  14</td><td>  22</td></tr>\n",
       "\t<tr><th scope=row>ATCG01100</th><td>  70</td><td> 135</td><td> 167</td><td> 137</td><td> 136</td><td> 114</td><td> 126</td><td> 203</td><td> 137</td><td> 152</td><td>... </td><td> 106</td><td> 168</td><td>3255</td><td> 218</td><td>  55</td><td> 651</td><td> 113</td><td>  80</td><td>  94</td><td> 101</td></tr>\n",
       "\t<tr><th scope=row>ATCG01110</th><td> 213</td><td> 223</td><td> 369</td><td> 287</td><td> 250</td><td> 198</td><td> 183</td><td> 252</td><td> 234</td><td> 310</td><td>... </td><td> 214</td><td> 287</td><td>1854</td><td> 365</td><td> 125</td><td> 667</td><td> 221</td><td> 270</td><td> 202</td><td> 190</td></tr>\n",
       "\t<tr><th scope=row>ATCG01120</th><td>  84</td><td>  86</td><td> 168</td><td> 167</td><td> 158</td><td> 127</td><td> 106</td><td> 110</td><td> 127</td><td> 146</td><td>... </td><td> 153</td><td> 197</td><td> 292</td><td> 166</td><td>  78</td><td> 179</td><td> 142</td><td> 207</td><td> 128</td><td> 172</td></tr>\n",
       "\t<tr><th scope=row>ATCG01130</th><td>1452</td><td>1324</td><td>2961</td><td>2717</td><td>3014</td><td>1887</td><td>1804</td><td>1930</td><td>1852</td><td>2238</td><td>... </td><td>2221</td><td>3254</td><td>2268</td><td>2894</td><td>1133</td><td>2112</td><td>2395</td><td>3341</td><td>1971</td><td>2601</td></tr>\n",
       "\t<tr><th scope=row>ATCG01140</th><td>   0</td><td>   0</td><td>   0</td><td>   0</td><td>   0</td><td>   0</td><td>   0</td><td>   0</td><td>   0</td><td>   0</td><td>... </td><td>   0</td><td>   0</td><td>   0</td><td>   0</td><td>   0</td><td>   0</td><td>   0</td><td>   0</td><td>   0</td><td>   0</td></tr>\n",
       "\t<tr><th scope=row>ATCG01150</th><td>   0</td><td>   0</td><td>   0</td><td>   0</td><td>   0</td><td>   0</td><td>   0</td><td>   0</td><td>   0</td><td>   0</td><td>... </td><td>   0</td><td>   0</td><td>   0</td><td>   0</td><td>   0</td><td>   0</td><td>   0</td><td>   0</td><td>   0</td><td>   0</td></tr>\n",
       "\t<tr><th scope=row>ATCG01160</th><td>   0</td><td>   0</td><td>   0</td><td>   0</td><td>   0</td><td>   0</td><td>   0</td><td>   3</td><td>   0</td><td>   0</td><td>... </td><td>   0</td><td>   0</td><td>   1</td><td>   0</td><td>   0</td><td>   0</td><td>   0</td><td>   0</td><td>   0</td><td>   0</td></tr>\n",
       "\t<tr><th scope=row>ATCG01170</th><td>   0</td><td>   0</td><td>   0</td><td>   0</td><td>   0</td><td>   0</td><td>   0</td><td>   1</td><td>   0</td><td>   0</td><td>... </td><td>   0</td><td>   0</td><td>  15</td><td>   1</td><td>   0</td><td>   1</td><td>   0</td><td>   0</td><td>   0</td><td>   0</td></tr>\n",
       "\t<tr><th scope=row>ATCG01180</th><td>  17</td><td>  57</td><td>  61</td><td>  24</td><td>  18</td><td>  10</td><td>  45</td><td> 169</td><td>   9</td><td>  12</td><td>... </td><td>  16</td><td>   6</td><td>2652</td><td>  35</td><td>  10</td><td> 338</td><td>  17</td><td>  29</td><td>  34</td><td>  11</td></tr>\n",
       "\t<tr><th scope=row>ATCG01190</th><td>   0</td><td>   0</td><td>   0</td><td>   0</td><td>   0</td><td>   0</td><td>   0</td><td>   0</td><td>   0</td><td>   0</td><td>... </td><td>   0</td><td>   0</td><td>   1</td><td>   0</td><td>   0</td><td>   1</td><td>   0</td><td>   0</td><td>   0</td><td>   0</td></tr>\n",
       "\t<tr><th scope=row>ATCG01200</th><td>   0</td><td>   0</td><td>   0</td><td>   0</td><td>   0</td><td>   0</td><td>   0</td><td>   0</td><td>   0</td><td>   0</td><td>... </td><td>   0</td><td>   0</td><td>   3</td><td>   0</td><td>   0</td><td>   0</td><td>   0</td><td>   0</td><td>   0</td><td>   0</td></tr>\n",
       "\t<tr><th scope=row>ATCG01210</th><td>   5</td><td>  29</td><td>  50</td><td>  13</td><td>  14</td><td>  12</td><td>  13</td><td>  58</td><td>   5</td><td>   2</td><td>... </td><td>   8</td><td>   1</td><td> 802</td><td>  18</td><td>   1</td><td> 101</td><td>  16</td><td>  15</td><td>  13</td><td>   5</td></tr>\n",
       "\t<tr><th scope=row>ATCG01220</th><td>   0</td><td>   0</td><td>   0</td><td>   0</td><td>   0</td><td>   0</td><td>   0</td><td>   0</td><td>   0</td><td>   0</td><td>... </td><td>   0</td><td>   0</td><td>   0</td><td>   0</td><td>   0</td><td>   0</td><td>   0</td><td>   0</td><td>   0</td><td>   0</td></tr>\n",
       "\t<tr><th scope=row>ATCG01230</th><td>   0</td><td>   2</td><td>   0</td><td>   0</td><td>   2</td><td>   4</td><td>   1</td><td>   0</td><td>   0</td><td>   5</td><td>... </td><td>   0</td><td>   1</td><td>   4</td><td>   1</td><td>   0</td><td>   3</td><td>   0</td><td>   0</td><td>   1</td><td>   0</td></tr>\n",
       "\t<tr><th scope=row>ATCG01240</th><td>   1</td><td>   0</td><td>   5</td><td>   1</td><td>   3</td><td>   0</td><td>   1</td><td>   0</td><td>   2</td><td>   1</td><td>... </td><td>   3</td><td>   0</td><td>   4</td><td>   1</td><td>   2</td><td>   3</td><td>   1</td><td>   2</td><td>   0</td><td>   0</td></tr>\n",
       "\t<tr><th scope=row>ATCG01250</th><td>   0</td><td>   1</td><td>   0</td><td>   2</td><td>   0</td><td>   0</td><td>   0</td><td>   0</td><td>   0</td><td>   0</td><td>... </td><td>   0</td><td>   0</td><td>   7</td><td>   1</td><td>   0</td><td>   0</td><td>   0</td><td>   0</td><td>   0</td><td>   0</td></tr>\n",
       "\t<tr><th scope=row>ATCG01260</th><td>   0</td><td>   0</td><td>   0</td><td>   0</td><td>   0</td><td>   0</td><td>   0</td><td>   0</td><td>   0</td><td>   0</td><td>... </td><td>   0</td><td>   0</td><td>   0</td><td>   0</td><td>   0</td><td>   0</td><td>   0</td><td>   0</td><td>   0</td><td>   0</td></tr>\n",
       "\t<tr><th scope=row>ATCG01270</th><td>   0</td><td>   0</td><td>   0</td><td>   0</td><td>   0</td><td>   0</td><td>   0</td><td>   0</td><td>   0</td><td>   0</td><td>... </td><td>   0</td><td>   0</td><td>   2</td><td>   0</td><td>   0</td><td>   0</td><td>   0</td><td>   0</td><td>   0</td><td>   0</td></tr>\n",
       "\t<tr><th scope=row>ATCG01280</th><td>   0</td><td>   0</td><td>   0</td><td>   0</td><td>   0</td><td>   0</td><td>   0</td><td>   0</td><td>   0</td><td>   0</td><td>... </td><td>   0</td><td>   0</td><td>   6</td><td>   0</td><td>   0</td><td>   1</td><td>   0</td><td>   0</td><td>   0</td><td>   0</td></tr>\n",
       "\t<tr><th scope=row>ATCG01290</th><td>   0</td><td>   0</td><td>   0</td><td>   0</td><td>   0</td><td>   0</td><td>   0</td><td>   0</td><td>   0</td><td>   0</td><td>... </td><td>   0</td><td>   0</td><td>   0</td><td>   0</td><td>   0</td><td>   0</td><td>   0</td><td>   0</td><td>   0</td><td>   0</td></tr>\n",
       "\t<tr><th scope=row>ATCG01300</th><td>   0</td><td>   0</td><td>   0</td><td>   2</td><td>   1</td><td>   1</td><td>   1</td><td>   0</td><td>   0</td><td>   0</td><td>... </td><td>   0</td><td>   1</td><td>   1</td><td>   0</td><td>   0</td><td>   1</td><td>   0</td><td>   1</td><td>   0</td><td>   0</td></tr>\n",
       "\t<tr><th scope=row>ATCG01310</th><td>   2</td><td>   4</td><td>   6</td><td>   3</td><td>   3</td><td>   0</td><td>   7</td><td>   2</td><td>   2</td><td>   2</td><td>... </td><td>   2</td><td>  11</td><td>  13</td><td>   2</td><td>   3</td><td>  12</td><td>   4</td><td>   2</td><td>   4</td><td>   2</td></tr>\n",
       "</tbody>\n",
       "</table>\n",
       "</dd>\n",
       "\t<dt>$samples</dt>\n",
       "\t\t<dd><table>\n",
       "<thead><tr><th></th><th scope=col>group</th><th scope=col>lib.size</th><th scope=col>norm.factors</th></tr></thead>\n",
       "<tbody>\n",
       "\t<tr><th scope=row>C61</th><td>1        </td><td>14348015 </td><td>1.0466541</td></tr>\n",
       "\t<tr><th scope=row>C62</th><td>1        </td><td>12389489 </td><td>0.9517416</td></tr>\n",
       "\t<tr><th scope=row>C63</th><td>1        </td><td>12197016 </td><td>1.0535991</td></tr>\n",
       "\t<tr><th scope=row>C64</th><td>1        </td><td>13933406 </td><td>1.0424665</td></tr>\n",
       "\t<tr><th scope=row>C91</th><td>1        </td><td>13280511 </td><td>1.0943189</td></tr>\n",
       "\t<tr><th scope=row>C92</th><td>1        </td><td>14978718 </td><td>1.0623834</td></tr>\n",
       "\t<tr><th scope=row>C93</th><td>1        </td><td>13207167 </td><td>1.0273956</td></tr>\n",
       "\t<tr><th scope=row>C94</th><td>1        </td><td>11646163 </td><td>0.9887328</td></tr>\n",
       "\t<tr><th scope=row>I561</th><td>1        </td><td>14664605 </td><td>1.0140387</td></tr>\n",
       "\t<tr><th scope=row>I562</th><td>1        </td><td>13908368 </td><td>1.0697136</td></tr>\n",
       "\t<tr><th scope=row>I563</th><td>1        </td><td>13972735 </td><td>0.9503766</td></tr>\n",
       "\t<tr><th scope=row>I564</th><td>1        </td><td>13920923 </td><td>0.9656108</td></tr>\n",
       "\t<tr><th scope=row>I591</th><td>1        </td><td>14151609 </td><td>1.0340071</td></tr>\n",
       "\t<tr><th scope=row>I592</th><td>1        </td><td>12762599 </td><td>1.0371891</td></tr>\n",
       "\t<tr><th scope=row>I593</th><td>1        </td><td>14654270 </td><td>1.0376736</td></tr>\n",
       "\t<tr><th scope=row>I594</th><td>1        </td><td>14056452 </td><td>1.0624311</td></tr>\n",
       "\t<tr><th scope=row>I861</th><td>1        </td><td> 8551250 </td><td>0.7207903</td></tr>\n",
       "\t<tr><th scope=row>I862</th><td>1        </td><td>13910091 </td><td>1.0276111</td></tr>\n",
       "\t<tr><th scope=row>I863</th><td>1        </td><td>12567147 </td><td>0.9798467</td></tr>\n",
       "\t<tr><th scope=row>I864</th><td>1        </td><td>10188021 </td><td>0.8728270</td></tr>\n",
       "\t<tr><th scope=row>I891</th><td>1        </td><td>14418687 </td><td>1.0076796</td></tr>\n",
       "\t<tr><th scope=row>I892</th><td>1        </td><td>15543372 </td><td>0.9838924</td></tr>\n",
       "\t<tr><th scope=row>I893</th><td>1        </td><td>12794901 </td><td>1.0256562</td></tr>\n",
       "\t<tr><th scope=row>I894</th><td>1        </td><td>13113424 </td><td>1.0207977</td></tr>\n",
       "</tbody>\n",
       "</table>\n",
       "</dd>\n",
       "</dl>\n"
      ],
      "text/latex": [
       "\\begin{description}\n",
       "\\item[\\$counts] \\begin{tabular}{r|llllllllllllllllllllllll}\n",
       "  & C61 & C62 & C63 & C64 & C91 & C92 & C93 & C94 & I561 & I562 & ... & I593 & I594 & I861 & I862 & I863 & I864 & I891 & I892 & I893 & I894\\\\\n",
       "\\hline\n",
       "\tAT1G01010 &  341 &  371 &  275 &  419 &  400 &  542 &  377 &  372 &  677 &  522 & ...  &  691 &  500 &  157 &  473 &  459 &  228 &  590 &  491 &  565 &  496\\\\\n",
       "\tAT1G01020 &  164 &   94 &  176 &  155 &  200 &  183 &  166 &  115 &  172 &  157 & ...  &  163 &  185 &   46 &  162 &  119 &   53 &  172 &  212 &  169 &  157\\\\\n",
       "\tAT1G03987 &    0 &    0 &    0 &    0 &    0 &    0 &    0 &    0 &    0 &    0 & ...  &    0 &    0 &    0 &    0 &    0 &    0 &    0 &    0 &    0 &    0\\\\\n",
       "\tAT1G01030 &   20 &   34 &   40 &   27 &   28 &   36 &   22 &   40 &   20 &    7 & ...  &   17 &   26 &   49 &   17 &   24 &   48 &   27 &   28 &   47 &   32\\\\\n",
       "\tAT1G01040 &  738 &  487 &  610 &  690 &  945 & 1033 &  836 &  908 &  857 &  821 & ...  &  871 &  756 &  361 &  618 &  641 &  439 &  783 &  692 &  768 &  625\\\\\n",
       "\tAT1G03993 &    1 &    0 &    0 &    0 &    0 &    0 &    0 &    1 &    3 &    0 & ...  &    0 &    0 &    0 &    1 &    0 &    1 &    3 &    2 &    1 &    1\\\\\n",
       "\tAT1G01046 &    1 &    1 &    6 &    4 &    5 &    3 &    0 &    2 &    4 &    4 & ...  &    9 &    1 &    0 &    4 &    1 &    3 &    5 &    7 &    2 &    5\\\\\n",
       "\tAT1G01050 & 1515 & 1091 & 1136 & 1285 & 1485 & 1581 & 1205 &  994 & 1326 & 1595 & ...  & 1522 & 1666 &  442 & 1423 & 1117 &  669 & 1512 & 1646 & 1313 & 1249\\\\\n",
       "\tAT1G03997 &    0 &    0 &    0 &    0 &    0 &    0 &    0 &    0 &    0 &    0 & ...  &    0 &    0 &    0 &    0 &    0 &    0 &    0 &    0 &    0 &    0\\\\\n",
       "\tAT1G01060 & 2867 & 2676 & 3079 & 2851 & 5513 & 6646 & 7596 & 7318 & 2439 & 1946 & ...  & 4718 & 4006 & 1559 & 1628 & 1559 & 1559 & 4146 & 5040 & 4922 & 3828\\\\\n",
       "\tAT1G01070 &  314 &  244 &  345 &  365 &  216 &  194 &  209 &  114 &  394 &  560 & ...  &  423 &  394 &   93 &  281 &  298 &  180 &  246 &  283 &  236 &  243\\\\\n",
       "\tAT1G04003 &    0 &    0 &    0 &    0 &    0 &    0 &    0 &    0 &    0 &    0 & ...  &    0 &    0 &    0 &    0 &    0 &    0 &    0 &    0 &    0 &    0\\\\\n",
       "\tAT1G01080 &   77 &   88 &  149 &   88 &   72 &   44 &  113 &   84 &   78 &   81 & ...  &   80 &   92 &  182 &  119 &   80 &  187 &   74 &   86 &   84 &   65\\\\\n",
       "\tAT1G01090 & 3661 & 3018 & 2971 & 3719 & 2933 & 2665 & 2864 & 2209 & 4462 & 3947 & ...  & 3836 & 3704 & 1881 & 3406 & 3278 & 2649 & 3681 & 4327 & 2844 & 2834\\\\\n",
       "\tAT1G01100 & 4470 & 2939 & 4342 & 4060 & 5479 & 4023 & 3594 & 2301 & 3194 & 4806 & ...  & 4524 & 6180 & 1906 & 4496 & 2491 & 2024 & 5519 & 6586 & 4230 & 4058\\\\\n",
       "\tAT1G01110 &  154 &  105 &  128 &  121 &  243 &  185 &  161 &  100 &   63 &   97 & ...  &  134 &  162 &   47 &  110 &   68 &   47 &  173 &  192 &  129 &  113\\\\\n",
       "\tAT1G01120 & 2039 & 2890 & 1875 & 2523 & 1074 & 1563 & 1696 & 1488 & 3076 & 2784 & ...  & 1740 & 1677 & 1523 & 1818 & 2229 & 1789 & 1629 & 1572 & 1612 & 1623\\\\\n",
       "\tAT1G01130 &   19 &   19 &   16 &   16 &   15 &    6 &    7 &   10 &    7 &   13 & ...  &   19 &   18 &    6 &   23 &   11 &   10 &   14 &   12 &   18 &    8\\\\\n",
       "\tAT1G01140 &   22 &   72 &  230 &   53 &   76 &    7 &  115 &   93 &   28 &   28 & ...  &   23 &    2 &  200 &   83 &   21 &  299 &   37 &   76 &   55 &   22\\\\\n",
       "\tAT1G01150 &    0 &    0 &    1 &    0 &    2 &    4 &    2 &    4 &    0 &    2 & ...  &    3 &   14 &    1 &    0 &    2 &    0 &    0 &    0 &    3 &    4\\\\\n",
       "\tAT1G01160 &  545 &  349 &  509 &  566 &  504 &  535 &  472 &  368 &  440 &  566 & ...  &  454 &  585 &  161 &  460 &  397 &  246 &  537 &  597 &  418 &  464\\\\\n",
       "\tAT1G04007 &    1 &    0 &    0 &    1 &    2 &    0 &    2 &    1 &    1 &    0 & ...  &    0 &    1 &    0 &    1 &    0 &    0 &    1 &    0 &    3 &    0\\\\\n",
       "\tAT1G01170 &   81 &   97 &  161 &  116 &  137 &  100 &  148 &  154 &   79 &  121 & ...  &   98 &   81 &  163 &   84 &   59 &  151 &   72 &   82 &   94 &   55\\\\\n",
       "\tAT1G04013 &    0 &    0 &    0 &    0 &    0 &    0 &    0 &    1 &    0 &    0 & ...  &    1 &    0 &    0 &    0 &    1 &    0 &    0 &    1 &    0 &    0\\\\\n",
       "\tAT1G01180 &  340 &  389 &  243 &  358 &  222 &  350 &  451 &  281 &  357 &  261 & ...  &  259 &  218 &  214 &  292 &  413 &  223 &  260 &  260 &  242 &  288\\\\\n",
       "\tAT1G01183 &    0 &    0 &    0 &    0 &    1 &    0 &    0 &    0 &    0 &    1 & ...  &    2 &    2 &    0 &    0 &    0 &    0 &    0 &    0 &    0 &    2\\\\\n",
       "\tAT1G01190 &  161 &  192 &   84 &  134 &  171 &  153 &  129 &  120 &   98 &  123 & ...  &  231 &  387 &   28 &  126 &   76 &   40 &  110 &  108 &  290 &  160\\\\\n",
       "\tAT1G01200 &  117 &   86 &   81 &  101 &   66 &   77 &   66 &   63 &  112 &  116 & ...  &  111 &  101 &   16 &   97 &   82 &   36 &  101 &   82 &   73 &   91\\\\\n",
       "\tAT1G01210 &  156 &  132 &  138 &  174 &  191 &  112 &  126 &   97 &  124 &  214 & ...  &  161 &  265 &   42 &  173 &  117 &   60 &  217 &  214 &  160 &  173\\\\\n",
       "\tAT1G04017 &    0 &    0 &    0 &    0 &    0 &    0 &    0 &    0 &    0 &    0 & ...  &    0 &    0 &    0 &    0 &    0 &    0 &    0 &    0 &    0 &    0\\\\\n",
       "\t... & ... & ... & ... & ... & ... & ... & ... & ... & ... & ... &     & ... & ... & ... & ... & ... & ... & ... & ... & ... & ...\\\\\n",
       "\tATCG01020 &  111 &  317 & 1114 &  637 &  821 &  287 &  929 &  870 &  243 &  369 & ...  &  298 &  410 & 2007 &  800 &  167 & 1118 &  441 &  707 &  485 &  412\\\\\n",
       "\tATCG01030 &    0 &    1 &    0 &    0 &    0 &    1 &    0 &    0 &    0 &    1 & ...  &    0 &    0 &    4 &    0 &    0 &    1 &    0 &    0 &    0 &    0\\\\\n",
       "\tATCG01040 &    1 &    3 &    9 &    1 &    8 &    0 &    3 &   11 &    4 &    7 & ...  &    4 &    2 &  241 &   11 &    2 &   40 &    0 &    1 &    4 &    1\\\\\n",
       "\tATCG01050 &   10 &   20 &   29 &   19 &   47 &   19 &   25 &  121 &   27 &   26 & ...  &   14 &   36 & 1897 &   63 &   14 &  200 &   11 &    8 &   17 &   17\\\\\n",
       "\tATCG01060 &    8 &   15 &   12 &   12 &    8 &    7 &    7 &   30 &    5 &   10 & ...  &    7 &    8 &  980 &   23 &    2 &  163 &    9 &    4 &    4 &    6\\\\\n",
       "\tATCG01070 &    2 &    8 &    7 &    6 &    7 &    6 &    7 &   26 &   13 &    6 & ...  &    1 &    4 &  517 &   19 &    1 &   48 &    1 &    6 &    1 &    3\\\\\n",
       "\tATCG01080 &   12 &   19 &   33 &   15 &   16 &   30 &   20 &   53 &   16 &   22 & ...  &   18 &   15 & 1453 &   22 &    8 &  155 &    9 &    9 &   16 &   10\\\\\n",
       "\tATCG01090 &    9 &   18 &   13 &   15 &   30 &   26 &   25 &   29 &   10 &   13 & ...  &   13 &   22 & 1028 &   31 &    7 &  117 &   18 &    7 &   14 &   22\\\\\n",
       "\tATCG01100 &   70 &  135 &  167 &  137 &  136 &  114 &  126 &  203 &  137 &  152 & ...  &  106 &  168 & 3255 &  218 &   55 &  651 &  113 &   80 &   94 &  101\\\\\n",
       "\tATCG01110 &  213 &  223 &  369 &  287 &  250 &  198 &  183 &  252 &  234 &  310 & ...  &  214 &  287 & 1854 &  365 &  125 &  667 &  221 &  270 &  202 &  190\\\\\n",
       "\tATCG01120 &   84 &   86 &  168 &  167 &  158 &  127 &  106 &  110 &  127 &  146 & ...  &  153 &  197 &  292 &  166 &   78 &  179 &  142 &  207 &  128 &  172\\\\\n",
       "\tATCG01130 & 1452 & 1324 & 2961 & 2717 & 3014 & 1887 & 1804 & 1930 & 1852 & 2238 & ...  & 2221 & 3254 & 2268 & 2894 & 1133 & 2112 & 2395 & 3341 & 1971 & 2601\\\\\n",
       "\tATCG01140 &    0 &    0 &    0 &    0 &    0 &    0 &    0 &    0 &    0 &    0 & ...  &    0 &    0 &    0 &    0 &    0 &    0 &    0 &    0 &    0 &    0\\\\\n",
       "\tATCG01150 &    0 &    0 &    0 &    0 &    0 &    0 &    0 &    0 &    0 &    0 & ...  &    0 &    0 &    0 &    0 &    0 &    0 &    0 &    0 &    0 &    0\\\\\n",
       "\tATCG01160 &    0 &    0 &    0 &    0 &    0 &    0 &    0 &    3 &    0 &    0 & ...  &    0 &    0 &    1 &    0 &    0 &    0 &    0 &    0 &    0 &    0\\\\\n",
       "\tATCG01170 &    0 &    0 &    0 &    0 &    0 &    0 &    0 &    1 &    0 &    0 & ...  &    0 &    0 &   15 &    1 &    0 &    1 &    0 &    0 &    0 &    0\\\\\n",
       "\tATCG01180 &   17 &   57 &   61 &   24 &   18 &   10 &   45 &  169 &    9 &   12 & ...  &   16 &    6 & 2652 &   35 &   10 &  338 &   17 &   29 &   34 &   11\\\\\n",
       "\tATCG01190 &    0 &    0 &    0 &    0 &    0 &    0 &    0 &    0 &    0 &    0 & ...  &    0 &    0 &    1 &    0 &    0 &    1 &    0 &    0 &    0 &    0\\\\\n",
       "\tATCG01200 &    0 &    0 &    0 &    0 &    0 &    0 &    0 &    0 &    0 &    0 & ...  &    0 &    0 &    3 &    0 &    0 &    0 &    0 &    0 &    0 &    0\\\\\n",
       "\tATCG01210 &    5 &   29 &   50 &   13 &   14 &   12 &   13 &   58 &    5 &    2 & ...  &    8 &    1 &  802 &   18 &    1 &  101 &   16 &   15 &   13 &    5\\\\\n",
       "\tATCG01220 &    0 &    0 &    0 &    0 &    0 &    0 &    0 &    0 &    0 &    0 & ...  &    0 &    0 &    0 &    0 &    0 &    0 &    0 &    0 &    0 &    0\\\\\n",
       "\tATCG01230 &    0 &    2 &    0 &    0 &    2 &    4 &    1 &    0 &    0 &    5 & ...  &    0 &    1 &    4 &    1 &    0 &    3 &    0 &    0 &    1 &    0\\\\\n",
       "\tATCG01240 &    1 &    0 &    5 &    1 &    3 &    0 &    1 &    0 &    2 &    1 & ...  &    3 &    0 &    4 &    1 &    2 &    3 &    1 &    2 &    0 &    0\\\\\n",
       "\tATCG01250 &    0 &    1 &    0 &    2 &    0 &    0 &    0 &    0 &    0 &    0 & ...  &    0 &    0 &    7 &    1 &    0 &    0 &    0 &    0 &    0 &    0\\\\\n",
       "\tATCG01260 &    0 &    0 &    0 &    0 &    0 &    0 &    0 &    0 &    0 &    0 & ...  &    0 &    0 &    0 &    0 &    0 &    0 &    0 &    0 &    0 &    0\\\\\n",
       "\tATCG01270 &    0 &    0 &    0 &    0 &    0 &    0 &    0 &    0 &    0 &    0 & ...  &    0 &    0 &    2 &    0 &    0 &    0 &    0 &    0 &    0 &    0\\\\\n",
       "\tATCG01280 &    0 &    0 &    0 &    0 &    0 &    0 &    0 &    0 &    0 &    0 & ...  &    0 &    0 &    6 &    0 &    0 &    1 &    0 &    0 &    0 &    0\\\\\n",
       "\tATCG01290 &    0 &    0 &    0 &    0 &    0 &    0 &    0 &    0 &    0 &    0 & ...  &    0 &    0 &    0 &    0 &    0 &    0 &    0 &    0 &    0 &    0\\\\\n",
       "\tATCG01300 &    0 &    0 &    0 &    2 &    1 &    1 &    1 &    0 &    0 &    0 & ...  &    0 &    1 &    1 &    0 &    0 &    1 &    0 &    1 &    0 &    0\\\\\n",
       "\tATCG01310 &    2 &    4 &    6 &    3 &    3 &    0 &    7 &    2 &    2 &    2 & ...  &    2 &   11 &   13 &    2 &    3 &   12 &    4 &    2 &    4 &    2\\\\\n",
       "\\end{tabular}\n",
       "\n",
       "\\item[\\$samples] \\begin{tabular}{r|lll}\n",
       "  & group & lib.size & norm.factors\\\\\n",
       "\\hline\n",
       "\tC61 & 1         & 14348015  & 1.0466541\\\\\n",
       "\tC62 & 1         & 12389489  & 0.9517416\\\\\n",
       "\tC63 & 1         & 12197016  & 1.0535991\\\\\n",
       "\tC64 & 1         & 13933406  & 1.0424665\\\\\n",
       "\tC91 & 1         & 13280511  & 1.0943189\\\\\n",
       "\tC92 & 1         & 14978718  & 1.0623834\\\\\n",
       "\tC93 & 1         & 13207167  & 1.0273956\\\\\n",
       "\tC94 & 1         & 11646163  & 0.9887328\\\\\n",
       "\tI561 & 1         & 14664605  & 1.0140387\\\\\n",
       "\tI562 & 1         & 13908368  & 1.0697136\\\\\n",
       "\tI563 & 1         & 13972735  & 0.9503766\\\\\n",
       "\tI564 & 1         & 13920923  & 0.9656108\\\\\n",
       "\tI591 & 1         & 14151609  & 1.0340071\\\\\n",
       "\tI592 & 1         & 12762599  & 1.0371891\\\\\n",
       "\tI593 & 1         & 14654270  & 1.0376736\\\\\n",
       "\tI594 & 1         & 14056452  & 1.0624311\\\\\n",
       "\tI861 & 1         &  8551250  & 0.7207903\\\\\n",
       "\tI862 & 1         & 13910091  & 1.0276111\\\\\n",
       "\tI863 & 1         & 12567147  & 0.9798467\\\\\n",
       "\tI864 & 1         & 10188021  & 0.8728270\\\\\n",
       "\tI891 & 1         & 14418687  & 1.0076796\\\\\n",
       "\tI892 & 1         & 15543372  & 0.9838924\\\\\n",
       "\tI893 & 1         & 12794901  & 1.0256562\\\\\n",
       "\tI894 & 1         & 13113424  & 1.0207977\\\\\n",
       "\\end{tabular}\n",
       "\n",
       "\\end{description}\n"
      ],
      "text/markdown": [
       "$counts\n",
       ":   \n",
       "| <!--/--> | C61 | C62 | C63 | C64 | C91 | C92 | C93 | C94 | I561 | I562 | ... | I593 | I594 | I861 | I862 | I863 | I864 | I891 | I892 | I893 | I894 |\n",
       "|---|---|---|---|---|---|---|---|---|---|---|---|---|---|---|---|---|---|---|---|---|---|\n",
       "| AT1G01010 |  341 |  371 |  275 |  419 |  400 |  542 |  377 |  372 |  677 |  522 | ...  |  691 |  500 |  157 |  473 |  459 |  228 |  590 |  491 |  565 |  496 |\n",
       "| AT1G01020 |  164 |   94 |  176 |  155 |  200 |  183 |  166 |  115 |  172 |  157 | ...  |  163 |  185 |   46 |  162 |  119 |   53 |  172 |  212 |  169 |  157 |\n",
       "| AT1G03987 |    0 |    0 |    0 |    0 |    0 |    0 |    0 |    0 |    0 |    0 | ...  |    0 |    0 |    0 |    0 |    0 |    0 |    0 |    0 |    0 |    0 |\n",
       "| AT1G01030 |   20 |   34 |   40 |   27 |   28 |   36 |   22 |   40 |   20 |    7 | ...  |   17 |   26 |   49 |   17 |   24 |   48 |   27 |   28 |   47 |   32 |\n",
       "| AT1G01040 |  738 |  487 |  610 |  690 |  945 | 1033 |  836 |  908 |  857 |  821 | ...  |  871 |  756 |  361 |  618 |  641 |  439 |  783 |  692 |  768 |  625 |\n",
       "| AT1G03993 |    1 |    0 |    0 |    0 |    0 |    0 |    0 |    1 |    3 |    0 | ...  |    0 |    0 |    0 |    1 |    0 |    1 |    3 |    2 |    1 |    1 |\n",
       "| AT1G01046 |    1 |    1 |    6 |    4 |    5 |    3 |    0 |    2 |    4 |    4 | ...  |    9 |    1 |    0 |    4 |    1 |    3 |    5 |    7 |    2 |    5 |\n",
       "| AT1G01050 | 1515 | 1091 | 1136 | 1285 | 1485 | 1581 | 1205 |  994 | 1326 | 1595 | ...  | 1522 | 1666 |  442 | 1423 | 1117 |  669 | 1512 | 1646 | 1313 | 1249 |\n",
       "| AT1G03997 |    0 |    0 |    0 |    0 |    0 |    0 |    0 |    0 |    0 |    0 | ...  |    0 |    0 |    0 |    0 |    0 |    0 |    0 |    0 |    0 |    0 |\n",
       "| AT1G01060 | 2867 | 2676 | 3079 | 2851 | 5513 | 6646 | 7596 | 7318 | 2439 | 1946 | ...  | 4718 | 4006 | 1559 | 1628 | 1559 | 1559 | 4146 | 5040 | 4922 | 3828 |\n",
       "| AT1G01070 |  314 |  244 |  345 |  365 |  216 |  194 |  209 |  114 |  394 |  560 | ...  |  423 |  394 |   93 |  281 |  298 |  180 |  246 |  283 |  236 |  243 |\n",
       "| AT1G04003 |    0 |    0 |    0 |    0 |    0 |    0 |    0 |    0 |    0 |    0 | ...  |    0 |    0 |    0 |    0 |    0 |    0 |    0 |    0 |    0 |    0 |\n",
       "| AT1G01080 |   77 |   88 |  149 |   88 |   72 |   44 |  113 |   84 |   78 |   81 | ...  |   80 |   92 |  182 |  119 |   80 |  187 |   74 |   86 |   84 |   65 |\n",
       "| AT1G01090 | 3661 | 3018 | 2971 | 3719 | 2933 | 2665 | 2864 | 2209 | 4462 | 3947 | ...  | 3836 | 3704 | 1881 | 3406 | 3278 | 2649 | 3681 | 4327 | 2844 | 2834 |\n",
       "| AT1G01100 | 4470 | 2939 | 4342 | 4060 | 5479 | 4023 | 3594 | 2301 | 3194 | 4806 | ...  | 4524 | 6180 | 1906 | 4496 | 2491 | 2024 | 5519 | 6586 | 4230 | 4058 |\n",
       "| AT1G01110 |  154 |  105 |  128 |  121 |  243 |  185 |  161 |  100 |   63 |   97 | ...  |  134 |  162 |   47 |  110 |   68 |   47 |  173 |  192 |  129 |  113 |\n",
       "| AT1G01120 | 2039 | 2890 | 1875 | 2523 | 1074 | 1563 | 1696 | 1488 | 3076 | 2784 | ...  | 1740 | 1677 | 1523 | 1818 | 2229 | 1789 | 1629 | 1572 | 1612 | 1623 |\n",
       "| AT1G01130 |   19 |   19 |   16 |   16 |   15 |    6 |    7 |   10 |    7 |   13 | ...  |   19 |   18 |    6 |   23 |   11 |   10 |   14 |   12 |   18 |    8 |\n",
       "| AT1G01140 |   22 |   72 |  230 |   53 |   76 |    7 |  115 |   93 |   28 |   28 | ...  |   23 |    2 |  200 |   83 |   21 |  299 |   37 |   76 |   55 |   22 |\n",
       "| AT1G01150 |    0 |    0 |    1 |    0 |    2 |    4 |    2 |    4 |    0 |    2 | ...  |    3 |   14 |    1 |    0 |    2 |    0 |    0 |    0 |    3 |    4 |\n",
       "| AT1G01160 |  545 |  349 |  509 |  566 |  504 |  535 |  472 |  368 |  440 |  566 | ...  |  454 |  585 |  161 |  460 |  397 |  246 |  537 |  597 |  418 |  464 |\n",
       "| AT1G04007 |    1 |    0 |    0 |    1 |    2 |    0 |    2 |    1 |    1 |    0 | ...  |    0 |    1 |    0 |    1 |    0 |    0 |    1 |    0 |    3 |    0 |\n",
       "| AT1G01170 |   81 |   97 |  161 |  116 |  137 |  100 |  148 |  154 |   79 |  121 | ...  |   98 |   81 |  163 |   84 |   59 |  151 |   72 |   82 |   94 |   55 |\n",
       "| AT1G04013 |    0 |    0 |    0 |    0 |    0 |    0 |    0 |    1 |    0 |    0 | ...  |    1 |    0 |    0 |    0 |    1 |    0 |    0 |    1 |    0 |    0 |\n",
       "| AT1G01180 |  340 |  389 |  243 |  358 |  222 |  350 |  451 |  281 |  357 |  261 | ...  |  259 |  218 |  214 |  292 |  413 |  223 |  260 |  260 |  242 |  288 |\n",
       "| AT1G01183 |    0 |    0 |    0 |    0 |    1 |    0 |    0 |    0 |    0 |    1 | ...  |    2 |    2 |    0 |    0 |    0 |    0 |    0 |    0 |    0 |    2 |\n",
       "| AT1G01190 |  161 |  192 |   84 |  134 |  171 |  153 |  129 |  120 |   98 |  123 | ...  |  231 |  387 |   28 |  126 |   76 |   40 |  110 |  108 |  290 |  160 |\n",
       "| AT1G01200 |  117 |   86 |   81 |  101 |   66 |   77 |   66 |   63 |  112 |  116 | ...  |  111 |  101 |   16 |   97 |   82 |   36 |  101 |   82 |   73 |   91 |\n",
       "| AT1G01210 |  156 |  132 |  138 |  174 |  191 |  112 |  126 |   97 |  124 |  214 | ...  |  161 |  265 |   42 |  173 |  117 |   60 |  217 |  214 |  160 |  173 |\n",
       "| AT1G04017 |    0 |    0 |    0 |    0 |    0 |    0 |    0 |    0 |    0 |    0 | ...  |    0 |    0 |    0 |    0 |    0 |    0 |    0 |    0 |    0 |    0 |\n",
       "| ... | ... | ... | ... | ... | ... | ... | ... | ... | ... | ... |     | ... | ... | ... | ... | ... | ... | ... | ... | ... | ... |\n",
       "| ATCG01020 |  111 |  317 | 1114 |  637 |  821 |  287 |  929 |  870 |  243 |  369 | ...  |  298 |  410 | 2007 |  800 |  167 | 1118 |  441 |  707 |  485 |  412 |\n",
       "| ATCG01030 |    0 |    1 |    0 |    0 |    0 |    1 |    0 |    0 |    0 |    1 | ...  |    0 |    0 |    4 |    0 |    0 |    1 |    0 |    0 |    0 |    0 |\n",
       "| ATCG01040 |    1 |    3 |    9 |    1 |    8 |    0 |    3 |   11 |    4 |    7 | ...  |    4 |    2 |  241 |   11 |    2 |   40 |    0 |    1 |    4 |    1 |\n",
       "| ATCG01050 |   10 |   20 |   29 |   19 |   47 |   19 |   25 |  121 |   27 |   26 | ...  |   14 |   36 | 1897 |   63 |   14 |  200 |   11 |    8 |   17 |   17 |\n",
       "| ATCG01060 |    8 |   15 |   12 |   12 |    8 |    7 |    7 |   30 |    5 |   10 | ...  |    7 |    8 |  980 |   23 |    2 |  163 |    9 |    4 |    4 |    6 |\n",
       "| ATCG01070 |    2 |    8 |    7 |    6 |    7 |    6 |    7 |   26 |   13 |    6 | ...  |    1 |    4 |  517 |   19 |    1 |   48 |    1 |    6 |    1 |    3 |\n",
       "| ATCG01080 |   12 |   19 |   33 |   15 |   16 |   30 |   20 |   53 |   16 |   22 | ...  |   18 |   15 | 1453 |   22 |    8 |  155 |    9 |    9 |   16 |   10 |\n",
       "| ATCG01090 |    9 |   18 |   13 |   15 |   30 |   26 |   25 |   29 |   10 |   13 | ...  |   13 |   22 | 1028 |   31 |    7 |  117 |   18 |    7 |   14 |   22 |\n",
       "| ATCG01100 |   70 |  135 |  167 |  137 |  136 |  114 |  126 |  203 |  137 |  152 | ...  |  106 |  168 | 3255 |  218 |   55 |  651 |  113 |   80 |   94 |  101 |\n",
       "| ATCG01110 |  213 |  223 |  369 |  287 |  250 |  198 |  183 |  252 |  234 |  310 | ...  |  214 |  287 | 1854 |  365 |  125 |  667 |  221 |  270 |  202 |  190 |\n",
       "| ATCG01120 |   84 |   86 |  168 |  167 |  158 |  127 |  106 |  110 |  127 |  146 | ...  |  153 |  197 |  292 |  166 |   78 |  179 |  142 |  207 |  128 |  172 |\n",
       "| ATCG01130 | 1452 | 1324 | 2961 | 2717 | 3014 | 1887 | 1804 | 1930 | 1852 | 2238 | ...  | 2221 | 3254 | 2268 | 2894 | 1133 | 2112 | 2395 | 3341 | 1971 | 2601 |\n",
       "| ATCG01140 |    0 |    0 |    0 |    0 |    0 |    0 |    0 |    0 |    0 |    0 | ...  |    0 |    0 |    0 |    0 |    0 |    0 |    0 |    0 |    0 |    0 |\n",
       "| ATCG01150 |    0 |    0 |    0 |    0 |    0 |    0 |    0 |    0 |    0 |    0 | ...  |    0 |    0 |    0 |    0 |    0 |    0 |    0 |    0 |    0 |    0 |\n",
       "| ATCG01160 |    0 |    0 |    0 |    0 |    0 |    0 |    0 |    3 |    0 |    0 | ...  |    0 |    0 |    1 |    0 |    0 |    0 |    0 |    0 |    0 |    0 |\n",
       "| ATCG01170 |    0 |    0 |    0 |    0 |    0 |    0 |    0 |    1 |    0 |    0 | ...  |    0 |    0 |   15 |    1 |    0 |    1 |    0 |    0 |    0 |    0 |\n",
       "| ATCG01180 |   17 |   57 |   61 |   24 |   18 |   10 |   45 |  169 |    9 |   12 | ...  |   16 |    6 | 2652 |   35 |   10 |  338 |   17 |   29 |   34 |   11 |\n",
       "| ATCG01190 |    0 |    0 |    0 |    0 |    0 |    0 |    0 |    0 |    0 |    0 | ...  |    0 |    0 |    1 |    0 |    0 |    1 |    0 |    0 |    0 |    0 |\n",
       "| ATCG01200 |    0 |    0 |    0 |    0 |    0 |    0 |    0 |    0 |    0 |    0 | ...  |    0 |    0 |    3 |    0 |    0 |    0 |    0 |    0 |    0 |    0 |\n",
       "| ATCG01210 |    5 |   29 |   50 |   13 |   14 |   12 |   13 |   58 |    5 |    2 | ...  |    8 |    1 |  802 |   18 |    1 |  101 |   16 |   15 |   13 |    5 |\n",
       "| ATCG01220 |    0 |    0 |    0 |    0 |    0 |    0 |    0 |    0 |    0 |    0 | ...  |    0 |    0 |    0 |    0 |    0 |    0 |    0 |    0 |    0 |    0 |\n",
       "| ATCG01230 |    0 |    2 |    0 |    0 |    2 |    4 |    1 |    0 |    0 |    5 | ...  |    0 |    1 |    4 |    1 |    0 |    3 |    0 |    0 |    1 |    0 |\n",
       "| ATCG01240 |    1 |    0 |    5 |    1 |    3 |    0 |    1 |    0 |    2 |    1 | ...  |    3 |    0 |    4 |    1 |    2 |    3 |    1 |    2 |    0 |    0 |\n",
       "| ATCG01250 |    0 |    1 |    0 |    2 |    0 |    0 |    0 |    0 |    0 |    0 | ...  |    0 |    0 |    7 |    1 |    0 |    0 |    0 |    0 |    0 |    0 |\n",
       "| ATCG01260 |    0 |    0 |    0 |    0 |    0 |    0 |    0 |    0 |    0 |    0 | ...  |    0 |    0 |    0 |    0 |    0 |    0 |    0 |    0 |    0 |    0 |\n",
       "| ATCG01270 |    0 |    0 |    0 |    0 |    0 |    0 |    0 |    0 |    0 |    0 | ...  |    0 |    0 |    2 |    0 |    0 |    0 |    0 |    0 |    0 |    0 |\n",
       "| ATCG01280 |    0 |    0 |    0 |    0 |    0 |    0 |    0 |    0 |    0 |    0 | ...  |    0 |    0 |    6 |    0 |    0 |    1 |    0 |    0 |    0 |    0 |\n",
       "| ATCG01290 |    0 |    0 |    0 |    0 |    0 |    0 |    0 |    0 |    0 |    0 | ...  |    0 |    0 |    0 |    0 |    0 |    0 |    0 |    0 |    0 |    0 |\n",
       "| ATCG01300 |    0 |    0 |    0 |    2 |    1 |    1 |    1 |    0 |    0 |    0 | ...  |    0 |    1 |    1 |    0 |    0 |    1 |    0 |    1 |    0 |    0 |\n",
       "| ATCG01310 |    2 |    4 |    6 |    3 |    3 |    0 |    7 |    2 |    2 |    2 | ...  |    2 |   11 |   13 |    2 |    3 |   12 |    4 |    2 |    4 |    2 |\n",
       "\n",
       "\n",
       "$samples\n",
       ":   \n",
       "| <!--/--> | group | lib.size | norm.factors |\n",
       "|---|---|---|---|\n",
       "| C61 | 1         | 14348015  | 1.0466541 |\n",
       "| C62 | 1         | 12389489  | 0.9517416 |\n",
       "| C63 | 1         | 12197016  | 1.0535991 |\n",
       "| C64 | 1         | 13933406  | 1.0424665 |\n",
       "| C91 | 1         | 13280511  | 1.0943189 |\n",
       "| C92 | 1         | 14978718  | 1.0623834 |\n",
       "| C93 | 1         | 13207167  | 1.0273956 |\n",
       "| C94 | 1         | 11646163  | 0.9887328 |\n",
       "| I561 | 1         | 14664605  | 1.0140387 |\n",
       "| I562 | 1         | 13908368  | 1.0697136 |\n",
       "| I563 | 1         | 13972735  | 0.9503766 |\n",
       "| I564 | 1         | 13920923  | 0.9656108 |\n",
       "| I591 | 1         | 14151609  | 1.0340071 |\n",
       "| I592 | 1         | 12762599  | 1.0371891 |\n",
       "| I593 | 1         | 14654270  | 1.0376736 |\n",
       "| I594 | 1         | 14056452  | 1.0624311 |\n",
       "| I861 | 1         |  8551250  | 0.7207903 |\n",
       "| I862 | 1         | 13910091  | 1.0276111 |\n",
       "| I863 | 1         | 12567147  | 0.9798467 |\n",
       "| I864 | 1         | 10188021  | 0.8728270 |\n",
       "| I891 | 1         | 14418687  | 1.0076796 |\n",
       "| I892 | 1         | 15543372  | 0.9838924 |\n",
       "| I893 | 1         | 12794901  | 1.0256562 |\n",
       "| I894 | 1         | 13113424  | 1.0207977 |\n",
       "\n",
       "\n",
       "\n",
       "\n"
      ],
      "text/plain": [
       "An object of class \"DGEList\"\n",
       "$counts\n",
       "          C61 C62 C63 C64 C91  C92 C93 C94 I561 I562 I563 I564 I591 I592 I593\n",
       "AT1G01010 341 371 275 419 400  542 377 372  677  522  455  508  821  466  691\n",
       "AT1G01020 164  94 176 155 200  183 166 115  172  157  122  152  189  171  163\n",
       "AT1G03987   0   0   0   0   0    0   0   0    0    0    0    0    0    0    0\n",
       "AT1G01030  20  34  40  27  28   36  22  40   20    7   57   38   25   10   17\n",
       "AT1G01040 738 487 610 690 945 1033 836 908  857  821  770  751  848  607  871\n",
       "          I594 I861 I862 I863 I864 I891 I892 I893 I894\n",
       "AT1G01010  500  157  473  459  228  590  491  565  496\n",
       "AT1G01020  185   46  162  119   53  172  212  169  157\n",
       "AT1G03987    0    0    0    0    0    0    0    0    0\n",
       "AT1G01030   26   49   17   24   48   27   28   47   32\n",
       "AT1G01040  756  361  618  641  439  783  692  768  625\n",
       "32828 more rows ...\n",
       "\n",
       "$samples\n",
       "    group lib.size norm.factors\n",
       "C61     1 14348015    1.0466541\n",
       "C62     1 12389489    0.9517416\n",
       "C63     1 12197016    1.0535991\n",
       "C64     1 13933406    1.0424665\n",
       "C91     1 13280511    1.0943189\n",
       "19 more rows ...\n"
      ]
     },
     "metadata": {},
     "output_type": "display_data"
    }
   ],
   "source": [
    "dane = calcNormFactors(dane) #wyznacza czynniki normalizacji (normalization factors); stosujemy normalizacje TMM -> cel: lepsze porownywanie pomiedzy probkami oraz zredukowac efekt występowania wysokiej ekspresji małej grupy genów w jednym eksperymencie (ale nie w innych) \n",
    "dane"
   ]
  },
  {
   "cell_type": "code",
   "execution_count": 20,
   "id": "875f2ded",
   "metadata": {
    "scrolled": true
   },
   "outputs": [
    {
     "data": {
      "text/html": [
       "<table>\n",
       "<thead><tr><th></th><th scope=col>group</th><th scope=col>lib.size</th><th scope=col>norm.factors</th></tr></thead>\n",
       "<tbody>\n",
       "\t<tr><th scope=row>C61</th><td>1        </td><td>14348015 </td><td>1.0466541</td></tr>\n",
       "\t<tr><th scope=row>C62</th><td>1        </td><td>12389489 </td><td>0.9517416</td></tr>\n",
       "\t<tr><th scope=row>C63</th><td>1        </td><td>12197016 </td><td>1.0535991</td></tr>\n",
       "\t<tr><th scope=row>C64</th><td>1        </td><td>13933406 </td><td>1.0424665</td></tr>\n",
       "\t<tr><th scope=row>C91</th><td>1        </td><td>13280511 </td><td>1.0943189</td></tr>\n",
       "\t<tr><th scope=row>C92</th><td>1        </td><td>14978718 </td><td>1.0623834</td></tr>\n",
       "\t<tr><th scope=row>C93</th><td>1        </td><td>13207167 </td><td>1.0273956</td></tr>\n",
       "\t<tr><th scope=row>C94</th><td>1        </td><td>11646163 </td><td>0.9887328</td></tr>\n",
       "\t<tr><th scope=row>I561</th><td>1        </td><td>14664605 </td><td>1.0140387</td></tr>\n",
       "\t<tr><th scope=row>I562</th><td>1        </td><td>13908368 </td><td>1.0697136</td></tr>\n",
       "\t<tr><th scope=row>I563</th><td>1        </td><td>13972735 </td><td>0.9503766</td></tr>\n",
       "\t<tr><th scope=row>I564</th><td>1        </td><td>13920923 </td><td>0.9656108</td></tr>\n",
       "\t<tr><th scope=row>I591</th><td>1        </td><td>14151609 </td><td>1.0340071</td></tr>\n",
       "\t<tr><th scope=row>I592</th><td>1        </td><td>12762599 </td><td>1.0371891</td></tr>\n",
       "\t<tr><th scope=row>I593</th><td>1        </td><td>14654270 </td><td>1.0376736</td></tr>\n",
       "\t<tr><th scope=row>I594</th><td>1        </td><td>14056452 </td><td>1.0624311</td></tr>\n",
       "\t<tr><th scope=row>I861</th><td>1        </td><td> 8551250 </td><td>0.7207903</td></tr>\n",
       "\t<tr><th scope=row>I862</th><td>1        </td><td>13910091 </td><td>1.0276111</td></tr>\n",
       "\t<tr><th scope=row>I863</th><td>1        </td><td>12567147 </td><td>0.9798467</td></tr>\n",
       "\t<tr><th scope=row>I864</th><td>1        </td><td>10188021 </td><td>0.8728270</td></tr>\n",
       "\t<tr><th scope=row>I891</th><td>1        </td><td>14418687 </td><td>1.0076796</td></tr>\n",
       "\t<tr><th scope=row>I892</th><td>1        </td><td>15543372 </td><td>0.9838924</td></tr>\n",
       "\t<tr><th scope=row>I893</th><td>1        </td><td>12794901 </td><td>1.0256562</td></tr>\n",
       "\t<tr><th scope=row>I894</th><td>1        </td><td>13113424 </td><td>1.0207977</td></tr>\n",
       "</tbody>\n",
       "</table>\n"
      ],
      "text/latex": [
       "\\begin{tabular}{r|lll}\n",
       "  & group & lib.size & norm.factors\\\\\n",
       "\\hline\n",
       "\tC61 & 1         & 14348015  & 1.0466541\\\\\n",
       "\tC62 & 1         & 12389489  & 0.9517416\\\\\n",
       "\tC63 & 1         & 12197016  & 1.0535991\\\\\n",
       "\tC64 & 1         & 13933406  & 1.0424665\\\\\n",
       "\tC91 & 1         & 13280511  & 1.0943189\\\\\n",
       "\tC92 & 1         & 14978718  & 1.0623834\\\\\n",
       "\tC93 & 1         & 13207167  & 1.0273956\\\\\n",
       "\tC94 & 1         & 11646163  & 0.9887328\\\\\n",
       "\tI561 & 1         & 14664605  & 1.0140387\\\\\n",
       "\tI562 & 1         & 13908368  & 1.0697136\\\\\n",
       "\tI563 & 1         & 13972735  & 0.9503766\\\\\n",
       "\tI564 & 1         & 13920923  & 0.9656108\\\\\n",
       "\tI591 & 1         & 14151609  & 1.0340071\\\\\n",
       "\tI592 & 1         & 12762599  & 1.0371891\\\\\n",
       "\tI593 & 1         & 14654270  & 1.0376736\\\\\n",
       "\tI594 & 1         & 14056452  & 1.0624311\\\\\n",
       "\tI861 & 1         &  8551250  & 0.7207903\\\\\n",
       "\tI862 & 1         & 13910091  & 1.0276111\\\\\n",
       "\tI863 & 1         & 12567147  & 0.9798467\\\\\n",
       "\tI864 & 1         & 10188021  & 0.8728270\\\\\n",
       "\tI891 & 1         & 14418687  & 1.0076796\\\\\n",
       "\tI892 & 1         & 15543372  & 0.9838924\\\\\n",
       "\tI893 & 1         & 12794901  & 1.0256562\\\\\n",
       "\tI894 & 1         & 13113424  & 1.0207977\\\\\n",
       "\\end{tabular}\n"
      ],
      "text/markdown": [
       "\n",
       "| <!--/--> | group | lib.size | norm.factors |\n",
       "|---|---|---|---|\n",
       "| C61 | 1         | 14348015  | 1.0466541 |\n",
       "| C62 | 1         | 12389489  | 0.9517416 |\n",
       "| C63 | 1         | 12197016  | 1.0535991 |\n",
       "| C64 | 1         | 13933406  | 1.0424665 |\n",
       "| C91 | 1         | 13280511  | 1.0943189 |\n",
       "| C92 | 1         | 14978718  | 1.0623834 |\n",
       "| C93 | 1         | 13207167  | 1.0273956 |\n",
       "| C94 | 1         | 11646163  | 0.9887328 |\n",
       "| I561 | 1         | 14664605  | 1.0140387 |\n",
       "| I562 | 1         | 13908368  | 1.0697136 |\n",
       "| I563 | 1         | 13972735  | 0.9503766 |\n",
       "| I564 | 1         | 13920923  | 0.9656108 |\n",
       "| I591 | 1         | 14151609  | 1.0340071 |\n",
       "| I592 | 1         | 12762599  | 1.0371891 |\n",
       "| I593 | 1         | 14654270  | 1.0376736 |\n",
       "| I594 | 1         | 14056452  | 1.0624311 |\n",
       "| I861 | 1         |  8551250  | 0.7207903 |\n",
       "| I862 | 1         | 13910091  | 1.0276111 |\n",
       "| I863 | 1         | 12567147  | 0.9798467 |\n",
       "| I864 | 1         | 10188021  | 0.8728270 |\n",
       "| I891 | 1         | 14418687  | 1.0076796 |\n",
       "| I892 | 1         | 15543372  | 0.9838924 |\n",
       "| I893 | 1         | 12794901  | 1.0256562 |\n",
       "| I894 | 1         | 13113424  | 1.0207977 |\n",
       "\n"
      ],
      "text/plain": [
       "     group lib.size norm.factors\n",
       "C61  1     14348015 1.0466541   \n",
       "C62  1     12389489 0.9517416   \n",
       "C63  1     12197016 1.0535991   \n",
       "C64  1     13933406 1.0424665   \n",
       "C91  1     13280511 1.0943189   \n",
       "C92  1     14978718 1.0623834   \n",
       "C93  1     13207167 1.0273956   \n",
       "C94  1     11646163 0.9887328   \n",
       "I561 1     14664605 1.0140387   \n",
       "I562 1     13908368 1.0697136   \n",
       "I563 1     13972735 0.9503766   \n",
       "I564 1     13920923 0.9656108   \n",
       "I591 1     14151609 1.0340071   \n",
       "I592 1     12762599 1.0371891   \n",
       "I593 1     14654270 1.0376736   \n",
       "I594 1     14056452 1.0624311   \n",
       "I861 1      8551250 0.7207903   \n",
       "I862 1     13910091 1.0276111   \n",
       "I863 1     12567147 0.9798467   \n",
       "I864 1     10188021 0.8728270   \n",
       "I891 1     14418687 1.0076796   \n",
       "I892 1     15543372 0.9838924   \n",
       "I893 1     12794901 1.0256562   \n",
       "I894 1     13113424 1.0207977   "
      ]
     },
     "metadata": {},
     "output_type": "display_data"
    }
   ],
   "source": [
    "dane$samples"
   ]
  },
  {
   "cell_type": "code",
   "execution_count": 21,
   "id": "cde526f9",
   "metadata": {},
   "outputs": [
    {
     "data": {
      "text/plain": [
       " group     lib.size         norm.factors   \n",
       " 1:24   Min.   : 8551250   Min.   :0.7208  \n",
       "        1st Qu.:12713736   1st Qu.:0.9829  \n",
       "        Median :13909230   Median :1.0265  \n",
       "        Mean   :13298289   Mean   :1.0032  \n",
       "        3rd Qu.:14200710   3rd Qu.:1.0435  \n",
       "        Max.   :15543372   Max.   :1.0943  "
      ]
     },
     "metadata": {},
     "output_type": "display_data"
    }
   ],
   "source": [
    "summary(dane$samples)"
   ]
  },
  {
   "cell_type": "markdown",
   "id": "aca24a37",
   "metadata": {},
   "source": [
    "<h4> CPM = Counts Per Million = czyli dzielimy zliczenia przez rozmiar biblioteki i mnożymy przez milion"
   ]
  },
  {
   "cell_type": "code",
   "execution_count": 22,
   "id": "868ffc50",
   "metadata": {},
   "outputs": [
    {
     "data": {
      "text/html": [
       "<ol class=list-inline>\n",
       "\t<li>21081</li>\n",
       "\t<li>24</li>\n",
       "</ol>\n"
      ],
      "text/latex": [
       "\\begin{enumerate*}\n",
       "\\item 21081\n",
       "\\item 24\n",
       "\\end{enumerate*}\n"
      ],
      "text/markdown": [
       "1. 21081\n",
       "2. 24\n",
       "\n",
       "\n"
      ],
      "text/plain": [
       "[1] 21081    24"
      ]
     },
     "metadata": {},
     "output_type": "display_data"
    }
   ],
   "source": [
    "#odrzucamy te geny ktore mają malo zliczen\n",
    "\n",
    "prog =  1 #kwestia umowna \n",
    "d = which(apply(cpm(dane), 1, max) < prog) #ktore mają maksymalne CPM w wierszu mniejsze od 1?\n",
    "dane2 = dane[-d,] \n",
    "dim(dane2) #ile genow pozostalo"
   ]
  },
  {
   "cell_type": "code",
   "execution_count": 23,
   "id": "822f2270",
   "metadata": {},
   "outputs": [
    {
     "data": {
      "text/html": [
       "<dl>\n",
       "\t<dt>$counts</dt>\n",
       "\t\t<dd><table>\n",
       "<thead><tr><th></th><th scope=col>C61</th><th scope=col>C62</th><th scope=col>C63</th><th scope=col>C64</th><th scope=col>C91</th><th scope=col>C92</th><th scope=col>C93</th><th scope=col>C94</th><th scope=col>I561</th><th scope=col>I562</th><th scope=col>...</th><th scope=col>I593</th><th scope=col>I594</th><th scope=col>I861</th><th scope=col>I862</th><th scope=col>I863</th><th scope=col>I864</th><th scope=col>I891</th><th scope=col>I892</th><th scope=col>I893</th><th scope=col>I894</th></tr></thead>\n",
       "<tbody>\n",
       "\t<tr><th scope=row>AT1G01010</th><td> 341</td><td> 371</td><td> 275</td><td> 419</td><td> 400</td><td> 542</td><td> 377</td><td> 372</td><td> 677</td><td> 522</td><td>... </td><td> 691</td><td> 500</td><td> 157</td><td> 473</td><td> 459</td><td> 228</td><td> 590</td><td> 491</td><td> 565</td><td> 496</td></tr>\n",
       "\t<tr><th scope=row>AT1G01020</th><td> 164</td><td>  94</td><td> 176</td><td> 155</td><td> 200</td><td> 183</td><td> 166</td><td> 115</td><td> 172</td><td> 157</td><td>... </td><td> 163</td><td> 185</td><td>  46</td><td> 162</td><td> 119</td><td>  53</td><td> 172</td><td> 212</td><td> 169</td><td> 157</td></tr>\n",
       "\t<tr><th scope=row>AT1G01030</th><td>  20</td><td>  34</td><td>  40</td><td>  27</td><td>  28</td><td>  36</td><td>  22</td><td>  40</td><td>  20</td><td>   7</td><td>... </td><td>  17</td><td>  26</td><td>  49</td><td>  17</td><td>  24</td><td>  48</td><td>  27</td><td>  28</td><td>  47</td><td>  32</td></tr>\n",
       "\t<tr><th scope=row>AT1G01040</th><td> 738</td><td> 487</td><td> 610</td><td> 690</td><td> 945</td><td>1033</td><td> 836</td><td> 908</td><td> 857</td><td> 821</td><td>... </td><td> 871</td><td> 756</td><td> 361</td><td> 618</td><td> 641</td><td> 439</td><td> 783</td><td> 692</td><td> 768</td><td> 625</td></tr>\n",
       "\t<tr><th scope=row>AT1G01050</th><td>1515</td><td>1091</td><td>1136</td><td>1285</td><td>1485</td><td>1581</td><td>1205</td><td> 994</td><td>1326</td><td>1595</td><td>... </td><td>1522</td><td>1666</td><td> 442</td><td>1423</td><td>1117</td><td> 669</td><td>1512</td><td>1646</td><td>1313</td><td>1249</td></tr>\n",
       "\t<tr><th scope=row>AT1G01060</th><td>2867</td><td>2676</td><td>3079</td><td>2851</td><td>5513</td><td>6646</td><td>7596</td><td>7318</td><td>2439</td><td>1946</td><td>... </td><td>4718</td><td>4006</td><td>1559</td><td>1628</td><td>1559</td><td>1559</td><td>4146</td><td>5040</td><td>4922</td><td>3828</td></tr>\n",
       "</tbody>\n",
       "</table>\n",
       "</dd>\n",
       "\t<dt>$samples</dt>\n",
       "\t\t<dd><table>\n",
       "<thead><tr><th></th><th scope=col>group</th><th scope=col>lib.size</th><th scope=col>norm.factors</th></tr></thead>\n",
       "<tbody>\n",
       "\t<tr><th scope=row>C61</th><td>1        </td><td>14348015 </td><td>1.0466541</td></tr>\n",
       "\t<tr><th scope=row>C62</th><td>1        </td><td>12389489 </td><td>0.9517416</td></tr>\n",
       "\t<tr><th scope=row>C63</th><td>1        </td><td>12197016 </td><td>1.0535991</td></tr>\n",
       "\t<tr><th scope=row>C64</th><td>1        </td><td>13933406 </td><td>1.0424665</td></tr>\n",
       "\t<tr><th scope=row>C91</th><td>1        </td><td>13280511 </td><td>1.0943189</td></tr>\n",
       "\t<tr><th scope=row>C92</th><td>1        </td><td>14978718 </td><td>1.0623834</td></tr>\n",
       "\t<tr><th scope=row>C93</th><td>1        </td><td>13207167 </td><td>1.0273956</td></tr>\n",
       "\t<tr><th scope=row>C94</th><td>1        </td><td>11646163 </td><td>0.9887328</td></tr>\n",
       "\t<tr><th scope=row>I561</th><td>1        </td><td>14664605 </td><td>1.0140387</td></tr>\n",
       "\t<tr><th scope=row>I562</th><td>1        </td><td>13908368 </td><td>1.0697136</td></tr>\n",
       "\t<tr><th scope=row>I563</th><td>1        </td><td>13972735 </td><td>0.9503766</td></tr>\n",
       "\t<tr><th scope=row>I564</th><td>1        </td><td>13920923 </td><td>0.9656108</td></tr>\n",
       "\t<tr><th scope=row>I591</th><td>1        </td><td>14151609 </td><td>1.0340071</td></tr>\n",
       "\t<tr><th scope=row>I592</th><td>1        </td><td>12762599 </td><td>1.0371891</td></tr>\n",
       "\t<tr><th scope=row>I593</th><td>1        </td><td>14654270 </td><td>1.0376736</td></tr>\n",
       "\t<tr><th scope=row>I594</th><td>1        </td><td>14056452 </td><td>1.0624311</td></tr>\n",
       "\t<tr><th scope=row>I861</th><td>1        </td><td> 8551250 </td><td>0.7207903</td></tr>\n",
       "\t<tr><th scope=row>I862</th><td>1        </td><td>13910091 </td><td>1.0276111</td></tr>\n",
       "\t<tr><th scope=row>I863</th><td>1        </td><td>12567147 </td><td>0.9798467</td></tr>\n",
       "\t<tr><th scope=row>I864</th><td>1        </td><td>10188021 </td><td>0.8728270</td></tr>\n",
       "\t<tr><th scope=row>I891</th><td>1        </td><td>14418687 </td><td>1.0076796</td></tr>\n",
       "\t<tr><th scope=row>I892</th><td>1        </td><td>15543372 </td><td>0.9838924</td></tr>\n",
       "\t<tr><th scope=row>I893</th><td>1        </td><td>12794901 </td><td>1.0256562</td></tr>\n",
       "\t<tr><th scope=row>I894</th><td>1        </td><td>13113424 </td><td>1.0207977</td></tr>\n",
       "</tbody>\n",
       "</table>\n",
       "</dd>\n",
       "</dl>\n"
      ],
      "text/latex": [
       "\\begin{description}\n",
       "\\item[\\$counts] \\begin{tabular}{r|llllllllllllllllllllllll}\n",
       "  & C61 & C62 & C63 & C64 & C91 & C92 & C93 & C94 & I561 & I562 & ... & I593 & I594 & I861 & I862 & I863 & I864 & I891 & I892 & I893 & I894\\\\\n",
       "\\hline\n",
       "\tAT1G01010 &  341 &  371 &  275 &  419 &  400 &  542 &  377 &  372 &  677 &  522 & ...  &  691 &  500 &  157 &  473 &  459 &  228 &  590 &  491 &  565 &  496\\\\\n",
       "\tAT1G01020 &  164 &   94 &  176 &  155 &  200 &  183 &  166 &  115 &  172 &  157 & ...  &  163 &  185 &   46 &  162 &  119 &   53 &  172 &  212 &  169 &  157\\\\\n",
       "\tAT1G01030 &   20 &   34 &   40 &   27 &   28 &   36 &   22 &   40 &   20 &    7 & ...  &   17 &   26 &   49 &   17 &   24 &   48 &   27 &   28 &   47 &   32\\\\\n",
       "\tAT1G01040 &  738 &  487 &  610 &  690 &  945 & 1033 &  836 &  908 &  857 &  821 & ...  &  871 &  756 &  361 &  618 &  641 &  439 &  783 &  692 &  768 &  625\\\\\n",
       "\tAT1G01050 & 1515 & 1091 & 1136 & 1285 & 1485 & 1581 & 1205 &  994 & 1326 & 1595 & ...  & 1522 & 1666 &  442 & 1423 & 1117 &  669 & 1512 & 1646 & 1313 & 1249\\\\\n",
       "\tAT1G01060 & 2867 & 2676 & 3079 & 2851 & 5513 & 6646 & 7596 & 7318 & 2439 & 1946 & ...  & 4718 & 4006 & 1559 & 1628 & 1559 & 1559 & 4146 & 5040 & 4922 & 3828\\\\\n",
       "\\end{tabular}\n",
       "\n",
       "\\item[\\$samples] \\begin{tabular}{r|lll}\n",
       "  & group & lib.size & norm.factors\\\\\n",
       "\\hline\n",
       "\tC61 & 1         & 14348015  & 1.0466541\\\\\n",
       "\tC62 & 1         & 12389489  & 0.9517416\\\\\n",
       "\tC63 & 1         & 12197016  & 1.0535991\\\\\n",
       "\tC64 & 1         & 13933406  & 1.0424665\\\\\n",
       "\tC91 & 1         & 13280511  & 1.0943189\\\\\n",
       "\tC92 & 1         & 14978718  & 1.0623834\\\\\n",
       "\tC93 & 1         & 13207167  & 1.0273956\\\\\n",
       "\tC94 & 1         & 11646163  & 0.9887328\\\\\n",
       "\tI561 & 1         & 14664605  & 1.0140387\\\\\n",
       "\tI562 & 1         & 13908368  & 1.0697136\\\\\n",
       "\tI563 & 1         & 13972735  & 0.9503766\\\\\n",
       "\tI564 & 1         & 13920923  & 0.9656108\\\\\n",
       "\tI591 & 1         & 14151609  & 1.0340071\\\\\n",
       "\tI592 & 1         & 12762599  & 1.0371891\\\\\n",
       "\tI593 & 1         & 14654270  & 1.0376736\\\\\n",
       "\tI594 & 1         & 14056452  & 1.0624311\\\\\n",
       "\tI861 & 1         &  8551250  & 0.7207903\\\\\n",
       "\tI862 & 1         & 13910091  & 1.0276111\\\\\n",
       "\tI863 & 1         & 12567147  & 0.9798467\\\\\n",
       "\tI864 & 1         & 10188021  & 0.8728270\\\\\n",
       "\tI891 & 1         & 14418687  & 1.0076796\\\\\n",
       "\tI892 & 1         & 15543372  & 0.9838924\\\\\n",
       "\tI893 & 1         & 12794901  & 1.0256562\\\\\n",
       "\tI894 & 1         & 13113424  & 1.0207977\\\\\n",
       "\\end{tabular}\n",
       "\n",
       "\\end{description}\n"
      ],
      "text/markdown": [
       "$counts\n",
       ":   \n",
       "| <!--/--> | C61 | C62 | C63 | C64 | C91 | C92 | C93 | C94 | I561 | I562 | ... | I593 | I594 | I861 | I862 | I863 | I864 | I891 | I892 | I893 | I894 |\n",
       "|---|---|---|---|---|---|---|---|---|---|---|---|---|---|---|---|---|---|---|---|---|---|\n",
       "| AT1G01010 |  341 |  371 |  275 |  419 |  400 |  542 |  377 |  372 |  677 |  522 | ...  |  691 |  500 |  157 |  473 |  459 |  228 |  590 |  491 |  565 |  496 |\n",
       "| AT1G01020 |  164 |   94 |  176 |  155 |  200 |  183 |  166 |  115 |  172 |  157 | ...  |  163 |  185 |   46 |  162 |  119 |   53 |  172 |  212 |  169 |  157 |\n",
       "| AT1G01030 |   20 |   34 |   40 |   27 |   28 |   36 |   22 |   40 |   20 |    7 | ...  |   17 |   26 |   49 |   17 |   24 |   48 |   27 |   28 |   47 |   32 |\n",
       "| AT1G01040 |  738 |  487 |  610 |  690 |  945 | 1033 |  836 |  908 |  857 |  821 | ...  |  871 |  756 |  361 |  618 |  641 |  439 |  783 |  692 |  768 |  625 |\n",
       "| AT1G01050 | 1515 | 1091 | 1136 | 1285 | 1485 | 1581 | 1205 |  994 | 1326 | 1595 | ...  | 1522 | 1666 |  442 | 1423 | 1117 |  669 | 1512 | 1646 | 1313 | 1249 |\n",
       "| AT1G01060 | 2867 | 2676 | 3079 | 2851 | 5513 | 6646 | 7596 | 7318 | 2439 | 1946 | ...  | 4718 | 4006 | 1559 | 1628 | 1559 | 1559 | 4146 | 5040 | 4922 | 3828 |\n",
       "\n",
       "\n",
       "$samples\n",
       ":   \n",
       "| <!--/--> | group | lib.size | norm.factors |\n",
       "|---|---|---|---|\n",
       "| C61 | 1         | 14348015  | 1.0466541 |\n",
       "| C62 | 1         | 12389489  | 0.9517416 |\n",
       "| C63 | 1         | 12197016  | 1.0535991 |\n",
       "| C64 | 1         | 13933406  | 1.0424665 |\n",
       "| C91 | 1         | 13280511  | 1.0943189 |\n",
       "| C92 | 1         | 14978718  | 1.0623834 |\n",
       "| C93 | 1         | 13207167  | 1.0273956 |\n",
       "| C94 | 1         | 11646163  | 0.9887328 |\n",
       "| I561 | 1         | 14664605  | 1.0140387 |\n",
       "| I562 | 1         | 13908368  | 1.0697136 |\n",
       "| I563 | 1         | 13972735  | 0.9503766 |\n",
       "| I564 | 1         | 13920923  | 0.9656108 |\n",
       "| I591 | 1         | 14151609  | 1.0340071 |\n",
       "| I592 | 1         | 12762599  | 1.0371891 |\n",
       "| I593 | 1         | 14654270  | 1.0376736 |\n",
       "| I594 | 1         | 14056452  | 1.0624311 |\n",
       "| I861 | 1         |  8551250  | 0.7207903 |\n",
       "| I862 | 1         | 13910091  | 1.0276111 |\n",
       "| I863 | 1         | 12567147  | 0.9798467 |\n",
       "| I864 | 1         | 10188021  | 0.8728270 |\n",
       "| I891 | 1         | 14418687  | 1.0076796 |\n",
       "| I892 | 1         | 15543372  | 0.9838924 |\n",
       "| I893 | 1         | 12794901  | 1.0256562 |\n",
       "| I894 | 1         | 13113424  | 1.0207977 |\n",
       "\n",
       "\n",
       "\n",
       "\n"
      ],
      "text/plain": [
       "An object of class \"DGEList\"\n",
       "$counts\n",
       "           C61  C62  C63  C64  C91  C92  C93  C94 I561 I562 I563 I564 I591 I592\n",
       "AT1G01010  341  371  275  419  400  542  377  372  677  522  455  508  821  466\n",
       "AT1G01020  164   94  176  155  200  183  166  115  172  157  122  152  189  171\n",
       "AT1G01030   20   34   40   27   28   36   22   40   20    7   57   38   25   10\n",
       "AT1G01040  738  487  610  690  945 1033  836  908  857  821  770  751  848  607\n",
       "AT1G01050 1515 1091 1136 1285 1485 1581 1205  994 1326 1595 1046 1097 1453 1424\n",
       "AT1G01060 2867 2676 3079 2851 5513 6646 7596 7318 2439 1946 2444 2488 5078 3368\n",
       "          I593 I594 I861 I862 I863 I864 I891 I892 I893 I894\n",
       "AT1G01010  691  500  157  473  459  228  590  491  565  496\n",
       "AT1G01020  163  185   46  162  119   53  172  212  169  157\n",
       "AT1G01030   17   26   49   17   24   48   27   28   47   32\n",
       "AT1G01040  871  756  361  618  641  439  783  692  768  625\n",
       "AT1G01050 1522 1666  442 1423 1117  669 1512 1646 1313 1249\n",
       "AT1G01060 4718 4006 1559 1628 1559 1559 4146 5040 4922 3828\n",
       "\n",
       "$samples\n",
       "    group lib.size norm.factors\n",
       "C61     1 14348015    1.0466541\n",
       "C62     1 12389489    0.9517416\n",
       "C63     1 12197016    1.0535991\n",
       "C64     1 13933406    1.0424665\n",
       "C91     1 13280511    1.0943189\n",
       "19 more rows ...\n"
      ]
     },
     "metadata": {},
     "output_type": "display_data"
    }
   ],
   "source": [
    "head(dane2)"
   ]
  },
  {
   "cell_type": "markdown",
   "id": "a2a6e1d1",
   "metadata": {},
   "source": [
    "<h4> Jak wyglądają zliczenia (dla dane2)?"
   ]
  },
  {
   "cell_type": "code",
   "execution_count": 24,
   "id": "dd0e54c2",
   "metadata": {},
   "outputs": [
    {
     "data": {
      "text/plain": [
       "    Min.  1st Qu.   Median     Mean  3rd Qu.     Max. \n",
       "     0.0     65.0    236.0    680.4    644.0 156315.0 "
      ]
     },
     "metadata": {},
     "output_type": "display_data"
    }
   ],
   "source": [
    "summary(dane2$counts[,1]) #dla pierwszej probki"
   ]
  },
  {
   "cell_type": "code",
   "execution_count": 25,
   "id": "7e35df4a",
   "metadata": {},
   "outputs": [
    {
     "data": {
      "image/png": "[encoded data removed]",
      "text/plain": [
       "plot without title"
      ]
     },
     "metadata": {},
     "output_type": "display_data"
    }
   ],
   "source": [
    "boxplot(dane2$counts[,1]) "
   ]
  },
  {
   "cell_type": "code",
   "execution_count": 26,
   "id": "48b7f814",
   "metadata": {},
   "outputs": [
    {
     "data": {
      "image/png": "[encoded data removed]",
      "text/plain": [
       "plot without title"
      ]
     },
     "metadata": {},
     "output_type": "display_data"
    }
   ],
   "source": [
    "boxplot(log(dane2$counts[,1]+1))"
   ]
  },
  {
   "cell_type": "code",
   "execution_count": 27,
   "id": "1a0ad7e9",
   "metadata": {},
   "outputs": [
    {
     "data": {
      "text/plain": [
       "   Min. 1st Qu.  Median    Mean 3rd Qu.    Max. \n",
       "   -Inf   6.022   7.883    -Inf   9.331  17.254 "
      ]
     },
     "metadata": {},
     "output_type": "display_data"
    }
   ],
   "source": [
    "summary(log2(dane2$counts[,1])) #skąd te nieskonczonosci?"
   ]
  },
  {
   "cell_type": "code",
   "execution_count": 28,
   "id": "55afa3ae",
   "metadata": {},
   "outputs": [
    {
     "data": {
      "image/png": "[encoded data removed]",
      "text/plain": [
       "Plot with title \"C61\""
      ]
     },
     "metadata": {},
     "output_type": "display_data"
    }
   ],
   "source": [
    "plotMD(log2(dane2$counts), column = 1) #tutaj dla pierwszej  (porównuje tę probke z pozostalymi)\n",
    "abline(h=0, col=\"grey\")"
   ]
  },
  {
   "cell_type": "code",
   "execution_count": 29,
   "id": "721f8c6b",
   "metadata": {},
   "outputs": [
    {
     "data": {
      "text/html": [
       "<table>\n",
       "<thead><tr><th scope=col>grupyC.6</th><th scope=col>grupyI5.6</th><th scope=col>grupyI8.6</th><th scope=col>grupyC.9</th><th scope=col>grupyI5.9</th><th scope=col>grupyI8.9</th></tr></thead>\n",
       "<tbody>\n",
       "\t<tr><td>1</td><td>0</td><td>0</td><td>0</td><td>0</td><td>0</td></tr>\n",
       "\t<tr><td>1</td><td>0</td><td>0</td><td>0</td><td>0</td><td>0</td></tr>\n",
       "\t<tr><td>1</td><td>0</td><td>0</td><td>0</td><td>0</td><td>0</td></tr>\n",
       "\t<tr><td>1</td><td>0</td><td>0</td><td>0</td><td>0</td><td>0</td></tr>\n",
       "\t<tr><td>0</td><td>0</td><td>0</td><td>1</td><td>0</td><td>0</td></tr>\n",
       "\t<tr><td>0</td><td>0</td><td>0</td><td>1</td><td>0</td><td>0</td></tr>\n",
       "\t<tr><td>0</td><td>0</td><td>0</td><td>1</td><td>0</td><td>0</td></tr>\n",
       "\t<tr><td>0</td><td>0</td><td>0</td><td>1</td><td>0</td><td>0</td></tr>\n",
       "\t<tr><td>0</td><td>1</td><td>0</td><td>0</td><td>0</td><td>0</td></tr>\n",
       "\t<tr><td>0</td><td>1</td><td>0</td><td>0</td><td>0</td><td>0</td></tr>\n",
       "\t<tr><td>0</td><td>1</td><td>0</td><td>0</td><td>0</td><td>0</td></tr>\n",
       "\t<tr><td>0</td><td>1</td><td>0</td><td>0</td><td>0</td><td>0</td></tr>\n",
       "\t<tr><td>0</td><td>0</td><td>0</td><td>0</td><td>1</td><td>0</td></tr>\n",
       "\t<tr><td>0</td><td>0</td><td>0</td><td>0</td><td>1</td><td>0</td></tr>\n",
       "\t<tr><td>0</td><td>0</td><td>0</td><td>0</td><td>1</td><td>0</td></tr>\n",
       "\t<tr><td>0</td><td>0</td><td>0</td><td>0</td><td>1</td><td>0</td></tr>\n",
       "\t<tr><td>0</td><td>0</td><td>1</td><td>0</td><td>0</td><td>0</td></tr>\n",
       "\t<tr><td>0</td><td>0</td><td>1</td><td>0</td><td>0</td><td>0</td></tr>\n",
       "\t<tr><td>0</td><td>0</td><td>1</td><td>0</td><td>0</td><td>0</td></tr>\n",
       "\t<tr><td>0</td><td>0</td><td>1</td><td>0</td><td>0</td><td>0</td></tr>\n",
       "\t<tr><td>0</td><td>0</td><td>0</td><td>0</td><td>0</td><td>1</td></tr>\n",
       "\t<tr><td>0</td><td>0</td><td>0</td><td>0</td><td>0</td><td>1</td></tr>\n",
       "\t<tr><td>0</td><td>0</td><td>0</td><td>0</td><td>0</td><td>1</td></tr>\n",
       "\t<tr><td>0</td><td>0</td><td>0</td><td>0</td><td>0</td><td>1</td></tr>\n",
       "</tbody>\n",
       "</table>\n"
      ],
      "text/latex": [
       "\\begin{tabular}{r|llllll}\n",
       " grupyC.6 & grupyI5.6 & grupyI8.6 & grupyC.9 & grupyI5.9 & grupyI8.9\\\\\n",
       "\\hline\n",
       "\t 1 & 0 & 0 & 0 & 0 & 0\\\\\n",
       "\t 1 & 0 & 0 & 0 & 0 & 0\\\\\n",
       "\t 1 & 0 & 0 & 0 & 0 & 0\\\\\n",
       "\t 1 & 0 & 0 & 0 & 0 & 0\\\\\n",
       "\t 0 & 0 & 0 & 1 & 0 & 0\\\\\n",
       "\t 0 & 0 & 0 & 1 & 0 & 0\\\\\n",
       "\t 0 & 0 & 0 & 1 & 0 & 0\\\\\n",
       "\t 0 & 0 & 0 & 1 & 0 & 0\\\\\n",
       "\t 0 & 1 & 0 & 0 & 0 & 0\\\\\n",
       "\t 0 & 1 & 0 & 0 & 0 & 0\\\\\n",
       "\t 0 & 1 & 0 & 0 & 0 & 0\\\\\n",
       "\t 0 & 1 & 0 & 0 & 0 & 0\\\\\n",
       "\t 0 & 0 & 0 & 0 & 1 & 0\\\\\n",
       "\t 0 & 0 & 0 & 0 & 1 & 0\\\\\n",
       "\t 0 & 0 & 0 & 0 & 1 & 0\\\\\n",
       "\t 0 & 0 & 0 & 0 & 1 & 0\\\\\n",
       "\t 0 & 0 & 1 & 0 & 0 & 0\\\\\n",
       "\t 0 & 0 & 1 & 0 & 0 & 0\\\\\n",
       "\t 0 & 0 & 1 & 0 & 0 & 0\\\\\n",
       "\t 0 & 0 & 1 & 0 & 0 & 0\\\\\n",
       "\t 0 & 0 & 0 & 0 & 0 & 1\\\\\n",
       "\t 0 & 0 & 0 & 0 & 0 & 1\\\\\n",
       "\t 0 & 0 & 0 & 0 & 0 & 1\\\\\n",
       "\t 0 & 0 & 0 & 0 & 0 & 1\\\\\n",
       "\\end{tabular}\n"
      ],
      "text/markdown": [
       "\n",
       "| grupyC.6 | grupyI5.6 | grupyI8.6 | grupyC.9 | grupyI5.9 | grupyI8.9 |\n",
       "|---|---|---|---|---|---|\n",
       "| 1 | 0 | 0 | 0 | 0 | 0 |\n",
       "| 1 | 0 | 0 | 0 | 0 | 0 |\n",
       "| 1 | 0 | 0 | 0 | 0 | 0 |\n",
       "| 1 | 0 | 0 | 0 | 0 | 0 |\n",
       "| 0 | 0 | 0 | 1 | 0 | 0 |\n",
       "| 0 | 0 | 0 | 1 | 0 | 0 |\n",
       "| 0 | 0 | 0 | 1 | 0 | 0 |\n",
       "| 0 | 0 | 0 | 1 | 0 | 0 |\n",
       "| 0 | 1 | 0 | 0 | 0 | 0 |\n",
       "| 0 | 1 | 0 | 0 | 0 | 0 |\n",
       "| 0 | 1 | 0 | 0 | 0 | 0 |\n",
       "| 0 | 1 | 0 | 0 | 0 | 0 |\n",
       "| 0 | 0 | 0 | 0 | 1 | 0 |\n",
       "| 0 | 0 | 0 | 0 | 1 | 0 |\n",
       "| 0 | 0 | 0 | 0 | 1 | 0 |\n",
       "| 0 | 0 | 0 | 0 | 1 | 0 |\n",
       "| 0 | 0 | 1 | 0 | 0 | 0 |\n",
       "| 0 | 0 | 1 | 0 | 0 | 0 |\n",
       "| 0 | 0 | 1 | 0 | 0 | 0 |\n",
       "| 0 | 0 | 1 | 0 | 0 | 0 |\n",
       "| 0 | 0 | 0 | 0 | 0 | 1 |\n",
       "| 0 | 0 | 0 | 0 | 0 | 1 |\n",
       "| 0 | 0 | 0 | 0 | 0 | 1 |\n",
       "| 0 | 0 | 0 | 0 | 0 | 1 |\n",
       "\n"
      ],
      "text/plain": [
       "   grupyC.6 grupyI5.6 grupyI8.6 grupyC.9 grupyI5.9 grupyI8.9\n",
       "1  1        0         0         0        0         0        \n",
       "2  1        0         0         0        0         0        \n",
       "3  1        0         0         0        0         0        \n",
       "4  1        0         0         0        0         0        \n",
       "5  0        0         0         1        0         0        \n",
       "6  0        0         0         1        0         0        \n",
       "7  0        0         0         1        0         0        \n",
       "8  0        0         0         1        0         0        \n",
       "9  0        1         0         0        0         0        \n",
       "10 0        1         0         0        0         0        \n",
       "11 0        1         0         0        0         0        \n",
       "12 0        1         0         0        0         0        \n",
       "13 0        0         0         0        1         0        \n",
       "14 0        0         0         0        1         0        \n",
       "15 0        0         0         0        1         0        \n",
       "16 0        0         0         0        1         0        \n",
       "17 0        0         1         0        0         0        \n",
       "18 0        0         1         0        0         0        \n",
       "19 0        0         1         0        0         0        \n",
       "20 0        0         1         0        0         0        \n",
       "21 0        0         0         0        0         1        \n",
       "22 0        0         0         0        0         1        \n",
       "23 0        0         0         0        0         1        \n",
       "24 0        0         0         0        0         1        "
      ]
     },
     "metadata": {},
     "output_type": "display_data"
    },
    {
     "data": {
      "text/html": [
       "24"
      ],
      "text/latex": [
       "24"
      ],
      "text/markdown": [
       "24"
      ],
      "text/plain": [
       "[1] 24"
      ]
     },
     "metadata": {},
     "output_type": "display_data"
    },
    {
     "data": {
      "text/html": [
       "6"
      ],
      "text/latex": [
       "6"
      ],
      "text/markdown": [
       "6"
      ],
      "text/plain": [
       "[1] 6"
      ]
     },
     "metadata": {},
     "output_type": "display_data"
    }
   ],
   "source": [
    "m =  model.matrix(~ 0 + grupy) #macierz dla tego eksperymentu\n",
    "m; nrow(m); ncol(m) #6 kolumn bo tyle kategorii, 24 wierszy bo 6*4, gdzie 4-liczba powtorzen dla kazdej sytuacji"
   ]
  },
  {
   "cell_type": "code",
   "execution_count": 30,
   "id": "45677cfe",
   "metadata": {},
   "outputs": [
    {
     "data": {
      "image/png": "[encoded data removed]",
      "text/plain": [
       "Plot with title \"voom: Mean-variance trend\""
      ]
     },
     "metadata": {},
     "output_type": "display_data"
    }
   ],
   "source": [
    "options(repr.plot.width=4, repr.plot.height=4)\n",
    "y = voom(dane2, m, plot = T)"
   ]
  },
  {
   "cell_type": "code",
   "execution_count": 31,
   "id": "00ed062b",
   "metadata": {},
   "outputs": [
    {
     "data": {
      "text/html": [
       "<dl>\n",
       "\t<dt>$targets</dt>\n",
       "\t\t<dd><table>\n",
       "<thead><tr><th></th><th scope=col>group</th><th scope=col>lib.size</th><th scope=col>norm.factors</th></tr></thead>\n",
       "<tbody>\n",
       "\t<tr><th scope=row>C61</th><td>1        </td><td>15017409 </td><td>1.0466541</td></tr>\n",
       "\t<tr><th scope=row>C62</th><td>1        </td><td>11791592 </td><td>0.9517416</td></tr>\n",
       "\t<tr><th scope=row>C63</th><td>1        </td><td>12850765 </td><td>1.0535991</td></tr>\n",
       "\t<tr><th scope=row>C64</th><td>1        </td><td>14525109 </td><td>1.0424665</td></tr>\n",
       "\t<tr><th scope=row>C91</th><td>1        </td><td>14533114 </td><td>1.0943189</td></tr>\n",
       "\t<tr><th scope=row>C92</th><td>1        </td><td>15913141 </td><td>1.0623834</td></tr>\n",
       "\t<tr><th scope=row>C93</th><td>1        </td><td>13568985 </td><td>1.0273956</td></tr>\n",
       "\t<tr><th scope=row>C94</th><td>1        </td><td>11514943 </td><td>0.9887328</td></tr>\n",
       "\t<tr><th scope=row>I561</th><td>1        </td><td>14870476 </td><td>1.0140387</td></tr>\n",
       "\t<tr><th scope=row>I562</th><td>1        </td><td>14877970 </td><td>1.0697136</td></tr>\n",
       "\t<tr><th scope=row>I563</th><td>1        </td><td>13279360 </td><td>0.9503766</td></tr>\n",
       "\t<tr><th scope=row>I564</th><td>1        </td><td>13442194 </td><td>0.9656108</td></tr>\n",
       "\t<tr><th scope=row>I591</th><td>1        </td><td>14632864 </td><td>1.0340071</td></tr>\n",
       "\t<tr><th scope=row>I592</th><td>1        </td><td>13237228 </td><td>1.0371891</td></tr>\n",
       "\t<tr><th scope=row>I593</th><td>1        </td><td>15206349 </td><td>1.0376736</td></tr>\n",
       "\t<tr><th scope=row>I594</th><td>1        </td><td>14934012 </td><td>1.0624311</td></tr>\n",
       "\t<tr><th scope=row>I861</th><td>1        </td><td> 6163658 </td><td>0.7207903</td></tr>\n",
       "\t<tr><th scope=row>I862</th><td>1        </td><td>14294163 </td><td>1.0276111</td></tr>\n",
       "\t<tr><th scope=row>I863</th><td>1        </td><td>12313877 </td><td>0.9798467</td></tr>\n",
       "\t<tr><th scope=row>I864</th><td>1        </td><td> 8892380 </td><td>0.8728270</td></tr>\n",
       "\t<tr><th scope=row>I891</th><td>1        </td><td>14529417 </td><td>1.0076796</td></tr>\n",
       "\t<tr><th scope=row>I892</th><td>1        </td><td>15293006 </td><td>0.9838924</td></tr>\n",
       "\t<tr><th scope=row>I893</th><td>1        </td><td>13123170 </td><td>1.0256562</td></tr>\n",
       "\t<tr><th scope=row>I894</th><td>1        </td><td>13386153 </td><td>1.0207977</td></tr>\n",
       "</tbody>\n",
       "</table>\n",
       "</dd>\n",
       "\t<dt>$E</dt>\n",
       "\t\t<dd><table>\n",
       "<thead><tr><th></th><th scope=col>C61</th><th scope=col>C62</th><th scope=col>C63</th><th scope=col>C64</th><th scope=col>C91</th><th scope=col>C92</th><th scope=col>C93</th><th scope=col>C94</th><th scope=col>I561</th><th scope=col>I562</th><th scope=col>...</th><th scope=col>I593</th><th scope=col>I594</th><th scope=col>I861</th><th scope=col>I862</th><th scope=col>I863</th><th scope=col>I864</th><th scope=col>I891</th><th scope=col>I892</th><th scope=col>I893</th><th scope=col>I894</th></tr></thead>\n",
       "<tbody>\n",
       "\t<tr><th scope=row>AT1G01010</th><td> 4.5071776  </td><td> 4.9775317  </td><td> 4.4221260  </td><td> 4.8520498  </td><td> 4.78438638 </td><td> 5.091333   </td><td> 4.7980918  </td><td> 5.0156611  </td><td> 5.5096981  </td><td> 5.1341813  </td><td>...         </td><td> 5.5069834  </td><td> 5.0666962  </td><td>4.67542100  </td><td> 5.0498662  </td><td> 5.22170772 </td><td> 4.6834807  </td><td> 5.344888197</td><td> 5.0062474  </td><td> 5.4293387  </td><td> 5.2129803  </td></tr>\n",
       "\t<tr><th scope=row>AT1G01020</th><td> 3.4533796  </td><td> 3.0025557  </td><td> 3.7797419  </td><td> 3.4202936  </td><td> 3.78618638 </td><td> 3.527489   </td><td> 3.6171374  </td><td> 3.3263135  </td><td> 3.5360735  </td><td> 3.4041021  </td><td>...         </td><td> 3.4265448  </td><td> 3.6347454  </td><td>2.91537179  </td><td> 3.5069415  </td><td> 3.27865348 </td><td> 2.5888973  </td><td> 3.569547499</td><td> 3.7965188  </td><td> 3.6910970  </td><td> 3.5565385  </td></tr>\n",
       "\t<tr><th scope=row>AT1G01030</th><td> 0.4489879  </td><td> 1.5488377  </td><td> 1.6560675  </td><td> 0.9208825  </td><td> 0.97161797 </td><td> 1.197678   </td><td> 0.7296121  </td><td> 1.8144145  </td><td> 0.4631730  </td><td>-0.9882153  </td><td>...         </td><td> 0.2026810  </td><td> 0.8273904  </td><td>3.00556960  </td><td> 0.2919286  </td><td> 0.99249652 </td><td> 2.4473432  </td><td> 0.920454661</td><td> 0.8980898  </td><td> 1.8558111  </td><td> 1.2796983  </td></tr>\n",
       "\t<tr><th scope=row>AT1G01040</th><td> 5.6198900  </td><td> 5.3695717  </td><td> 5.5700650  </td><td> 5.5710204  </td><td> 6.02366160 </td><td> 6.021176   </td><td> 5.9459807  </td><td> 6.3019072  </td><td> 5.8496138  </td><td> 5.7870108  </td><td>...         </td><td> 5.8407549  </td><td> 5.6626662  </td><td>5.87406481  </td><td> 5.4352754  </td><td> 5.70309213 </td><td> 5.6271497  </td><td> 5.752884412</td><td> 5.5008701  </td><td> 5.8718570  </td><td> 5.5461965  </td></tr>\n",
       "\t<tr><th scope=row>AT1G01050</th><td> 6.6570140  </td><td> 6.5324097  </td><td> 6.4665995  </td><td> 6.4676367  </td><td> 6.67546084 </td><td> 6.634931   </td><td> 6.4731749  </td><td> 6.4323920  </td><td> 6.4790299  </td><td> 6.7446870  </td><td>...         </td><td> 6.6456245  </td><td> 6.8020756  </td><td>6.16574662  </td><td> 6.6378724  </td><td> 6.50384579 </td><td> 6.2343706  </td><td> 6.701814375</td><td> 6.7503866  </td><td> 6.6451560  </td><td> 6.5444656  </td></tr>\n",
       "\t<tr><th scope=row>AT1G01060</th><td> 7.5770136  </td><td> 7.8264452  </td><td> 7.9046980  </td><td> 7.6170281  </td><td> 8.56748068 </td><td> 8.706232   </td><td> 9.1288781  </td><td> 9.3118967  </td><td> 7.3579907  </td><td> 7.0315607  </td><td>...         </td><td> 8.2775106  </td><td> 8.0675967  </td><td>7.98308081  </td><td> 6.8319736  </td><td> 6.98465451 </td><td> 7.4542982  </td><td> 8.156773325</td><td> 8.3645509  </td><td> 8.5511310  </td><td> 8.1598940  </td></tr>\n",
       "\t<tr><th scope=row>AT1G01070</th><td> 4.3883521  </td><td> 4.3740039  </td><td> 4.7487594  </td><td> 4.6532504  </td><td> 3.89695117 </td><td> 3.611480   </td><td> 3.9485654  </td><td> 3.3137683  </td><td> 4.7295024  </td><td> 5.2354646  </td><td>...         </td><td> 4.7996162  </td><td> 4.7233515  </td><td>3.92310744  </td><td> 4.2996367  </td><td> 4.59937379 </td><td> 4.3432853  </td><td> 4.084538784</td><td> 4.2124047  </td><td> 4.1716519  </td><td> 4.1851084  </td></tr>\n",
       "\t<tr><th scope=row>AT1G01080</th><td> 2.3675603  </td><td> 2.9079188  </td><td> 3.5402192  </td><td> 2.6071284  </td><td> 2.31863704 </td><td> 1.483587   </td><td> 3.0643075  </td><td> 2.8754439  </td><td> 2.4002417  </td><td> 2.4536222  </td><td>...         </td><td> 2.4043149  </td><td> 2.6308514  </td><td>4.88796563  </td><td> 3.0635124  </td><td> 2.70870355 </td><td> 4.3981771  </td><td> 2.358263468</td><td> 2.4998280  </td><td> 2.6868350  </td><td> 2.2907534  </td></tr>\n",
       "\t<tr><th scope=row>AT1G01090</th><td> 7.9296549  </td><td> 7.9999293  </td><td> 7.8531932  </td><td> 8.0004158  </td><td> 7.65713523 </td><td> 7.388044   </td><td> 7.7218266  </td><td> 7.5840687  </td><td> 8.2292574  </td><td> 8.0516176  </td><td>...         </td><td> 7.9789730  </td><td> 7.9545331  </td><td>8.25388055  </td><td> 7.8967201  </td><td> 8.05660685 </td><td> 8.2189347  </td><td> 7.985172934</td><td> 8.1445179  </td><td> 7.7599149  </td><td> 7.7262090  </td></tr>\n",
       "\t<tr><th scope=row>AT1G01100</th><td> 8.2176563  </td><td> 7.9616683  </td><td> 8.4005277  </td><td> 8.1269645  </td><td> 8.55855649 </td><td> 7.982089   </td><td> 8.0493344  </td><td> 7.6429232  </td><td> 7.7469954  </td><td> 8.3356651  </td><td>...         </td><td> 8.2169407  </td><td> 8.6929778  </td><td>8.27292379  </td><td> 8.2972324  </td><td> 7.66058553 </td><td> 7.8307802  </td><td> 8.569416815</td><td> 8.7504961  </td><td> 8.3325680  </td><td> 8.2440613  </td></tr>\n",
       "\t<tr><th scope=row>AT1G01110</th><td> 3.3628989  </td><td> 3.1614124  </td><td> 3.3218421  </td><td> 3.0643353  </td><td> 4.06650591 </td><td> 3.543129   </td><td> 3.5731493  </td><td> 3.1256162  </td><td> 2.0943056  </td><td> 2.7122244  </td><td>...         </td><td> 3.1448604  </td><td> 3.4437659  </td><td>2.94606858  </td><td> 2.9505482  </td><td> 2.47581875 </td><td> 2.4172859  </td><td> 3.577886800</td><td> 3.6539144  </td><td> 3.3027638  </td><td> 3.0838789  </td></tr>\n",
       "\t<tr><th scope=row>AT1G01120</th><td> 7.0854356  </td><td> 7.9374166  </td><td> 7.1892771  </td><td> 7.4407332  </td><td> 6.20817772 </td><td> 6.618417   </td><td> 6.9661047  </td><td> 7.0142080  </td><td> 7.6926952  </td><td> 7.5480966  </td><td>...         </td><td> 6.8386841  </td><td> 6.8115670  </td><td>7.94938676  </td><td> 6.9911788  </td><td> 7.50029116 </td><td> 7.6527711  </td><td> 6.809308584</td><td> 6.6840441  </td><td> 6.9410390  </td><td> 6.9222221  </td></tr>\n",
       "\t<tr><th scope=row>AT1G01130</th><td> 0.3768381  </td><td> 0.7257155  </td><td> 0.3606117  </td><td> 0.1839170  </td><td> 0.09292426 </td><td>-1.291707   </td><td>-0.8553504  </td><td>-0.1331181  </td><td>-0.9874885  </td><td>-0.1402184  </td><td>...         </td><td> 0.3588002  </td><td> 0.3089233  </td><td>0.07665269  </td><td> 0.7172345  </td><td>-0.09865137 </td><td> 0.2397477  </td><td>-0.002924057</td><td>-0.2909440  </td><td> 0.4954089  </td><td>-0.6552067  </td></tr>\n",
       "\t<tr><th scope=row>AT1G01140</th><td> 0.5832889  </td><td> 2.6202223  </td><td> 4.1648405  </td><td> 1.8809898  </td><td> 2.39611579 </td><td>-1.085256   </td><td> 3.0895080  </td><td> 3.0214589  </td><td> 0.9385110  </td><td> 0.9377841  </td><td>...         </td><td> 0.6279869  </td><td>-2.5786019  </td><td>5.02367140  </td><td> 2.5463499  </td><td> 0.80405143 </td><td> 5.0738425  </td><td> 1.367913638</td><td> 2.3225877  </td><td> 2.0803714  </td><td> 0.7491835  </td></tr>\n",
       "\t<tr><th scope=row>AT1G01160</th><td> 5.1828712  </td><td> 4.8894619  </td><td> 5.3091559  </td><td> 5.2854550  </td><td> 5.11743841 </td><td> 5.072596   </td><td> 5.1219295  </td><td> 5.0000853  </td><td> 4.8886192  </td><td> 5.2508262  </td><td>...         </td><td> 4.9015345  </td><td> 5.2929953  </td><td>4.71160333  </td><td> 5.0097030  </td><td> 5.01259772 </td><td> 4.7928741  </td><td> 5.209215892</td><td> 5.2879947  </td><td> 4.9950393  </td><td> 5.1168652  </td></tr>\n",
       "\t<tr><th scope=row>AT1G01170</th><td> 2.4401640  </td><td> 3.0476436  </td><td> 3.6516079  </td><td> 3.0037090  </td><td> 3.24201576 </td><td> 2.658905   </td><td> 3.4520781  </td><td> 3.7460275  </td><td> 2.4185039  </td><td> 3.0297066  </td><td>...         </td><td> 2.6954498  </td><td> 2.4481981  </td><td>4.72935980  </td><td> 2.5635251  </td><td> 2.27260444 </td><td> 4.0906043  </td><td> 2.319004038</td><td> 2.4315220  </td><td> 2.8481980  </td><td> 2.0517463  </td></tr>\n",
       "\t<tr><th scope=row>AT1G01180</th><td> 4.5029468  </td><td> 5.0457928  </td><td> 4.2439955  </td><td> 4.6253521  </td><td> 3.93638948 </td><td> 4.461124   </td><td> 5.0563412  </td><td> 4.6115556  </td><td> 4.5874204  </td><td> 4.1355612  </td><td>...         </td><td> 4.0929887  </td><td> 3.8709594  </td><td>5.12104681  </td><td> 4.3549384  </td><td> 5.06953019 </td><td> 4.6515613  </td><td> 4.164234510</td><td> 4.0903394  </td><td> 4.2077965  </td><td> 4.4297579  </td></tr>\n",
       "\t<tr><th scope=row>AT1G01190</th><td> 3.4268262  </td><td> 4.0290279  </td><td> 2.7170970  </td><td> 3.2109852  </td><td> 3.56079272 </td><td> 3.269948   </td><td> 3.2545673  </td><td> 3.3874538  </td><td> 2.7276728  </td><td> 3.0532613  </td><td>...         </td><td> 3.9282664  </td><td> 4.6975225  </td><td>2.20910299  </td><td> 3.1456392  </td><td> 2.63517451 </td><td> 2.1872803  </td><td> 2.926997507</td><td> 2.8267510  </td><td> 4.4683499  </td><td> 3.5837599  </td></tr>\n",
       "\t<tr><th scope=row>AT1G01200</th><td> 2.9679528  </td><td> 2.8749415  </td><td> 2.6649457  </td><td> 2.8048587  </td><td> 2.19401039 </td><td> 2.283978   </td><td> 2.2930414  </td><td> 2.4632492  </td><td> 2.9194021  </td><td> 2.9690802  </td><td>...         </td><td> 2.8742979  </td><td> 2.7648059  </td><td>1.42060710  </td><td> 2.7699759  </td><td> 2.74410889 </td><td> 2.0372549  </td><td> 2.804430865</td><td> 2.4315220  </td><td> 2.4856279  </td><td> 2.7730303  </td></tr>\n",
       "\t<tr><th scope=row>AT1G01210</th><td> 3.3814547  </td><td> 3.4901618  </td><td> 3.4299597  </td><td> 3.5866061  </td><td> 3.71992853 </td><td> 2.821634   </td><td> 3.2207526  </td><td> 3.0818948  </td><td> 3.0656229  </td><td> 3.8497279  </td><td>...         </td><td> 3.4087884  </td><td> 4.1520380  </td><td>2.78560391  </td><td> 3.6014375  </td><td> 3.25430362 </td><td> 2.7662936  </td><td> 3.903966538</td><td> 3.8100337  </td><td> 3.6123850  </td><td> 3.6961223  </td></tr>\n",
       "\t<tr><th scope=row>AT1G01220</th><td> 4.6517687  </td><td> 4.8894619  </td><td> 4.7106802  </td><td> 4.6883447  </td><td> 5.35910628 </td><td> 5.211201   </td><td> 5.1905002  </td><td> 5.2041852  </td><td> 4.8250098  </td><td> 4.7966376  </td><td>...         </td><td> 5.0232247  </td><td> 4.7807084  </td><td>4.78984091  </td><td> 5.0437596  </td><td> 4.99800650 </td><td> 4.8502453  </td><td> 4.983015999</td><td> 5.0295407  </td><td> 4.9742058  </td><td> 4.9420791  </td></tr>\n",
       "\t<tr><th scope=row>AT1G01225</th><td> 2.5260641  </td><td> 2.6399856  </td><td> 2.7674287  </td><td> 2.2584639  </td><td> 2.31863704 </td><td> 2.265241   </td><td> 2.2930414  </td><td> 2.5079875  </td><td> 2.4543491  </td><td> 2.7415187  </td><td>...         </td><td> 2.7944972  </td><td> 2.9636561  </td><td>1.99092282  </td><td> 2.5804981  </td><td> 2.47581875 </td><td> 1.9559548  </td><td> 2.939994848</td><td> 2.4489041  </td><td> 2.7371666  </td><td> 2.4570028  </td></tr>\n",
       "\t<tr><th scope=row>AT1G01230</th><td> 5.0786999  </td><td> 5.2167463  </td><td> 4.7735984  </td><td> 5.1296268  </td><td> 5.05011994 </td><td> 5.083332   </td><td> 5.1280233  </td><td> 5.0726170  </td><td> 5.1703637  </td><td> 5.2068697  </td><td>...         </td><td> 5.1542155  </td><td> 5.0724498  </td><td>4.78135444  </td><td> 5.0978107  </td><td> 5.36505068 </td><td> 5.1071736  </td><td> 5.137685377</td><td> 5.3143133  </td><td> 5.0852371  </td><td> 5.1895452  </td></tr>\n",
       "\t<tr><th scope=row>AT1G01240</th><td> 4.4901795  </td><td> 4.5670177  </td><td> 4.7653662  </td><td> 4.8486066  </td><td> 5.26672227 </td><td> 5.416183   </td><td> 5.3159098  </td><td> 5.6705518  </td><td> 4.4784860  </td><td> 4.7251139  </td><td>...         </td><td> 4.7262430  </td><td> 4.9713752  </td><td>4.21541676  </td><td> 4.2580426  </td><td> 4.67010830 </td><td> 5.0929830  </td><td> 4.213236410</td><td> 4.1393413  </td><td> 4.8075560  </td><td> 4.6170800  </td></tr>\n",
       "\t<tr><th scope=row>AT1G01250</th><td>-4.9085642  </td><td>-1.7523318  </td><td>-4.6837825  </td><td>-3.2755147  </td><td>-4.86127205 </td><td>-3.407184   </td><td>-3.1772785  </td><td>-1.7180806  </td><td>-4.8943791  </td><td>-3.3101434  </td><td>...         </td><td>-4.9266020  </td><td>-4.9005300  </td><td>0.28310357  </td><td>-0.7498915  </td><td>-4.62221333 </td><td>-2.5676072  </td><td>-4.860905052</td><td>-4.9348002  </td><td>-4.7140445  </td><td>-4.7426696  </td></tr>\n",
       "\t<tr><th scope=row>AT1G01260</th><td> 4.8379502  </td><td> 4.7734686  </td><td> 4.6448925  </td><td> 4.9355624  </td><td> 4.73678045 </td><td> 4.787573   </td><td> 4.6018936  </td><td> 4.8386991  </td><td> 4.7073917  </td><td> 4.5457632  </td><td>...         </td><td> 4.6183624  </td><td> 4.6559760  </td><td>4.98723777  </td><td> 4.7457284  </td><td> 4.89545606 </td><td> 4.7692713  </td><td> 4.567455120</td><td> 4.7287579  </td><td> 4.7016973  </td><td> 4.6345410  </td></tr>\n",
       "\t<tr><th scope=row>AT1G01290</th><td> 3.7388943  </td><td> 3.5436011  </td><td> 3.6336302  </td><td> 3.7282375  </td><td> 3.82172254 </td><td> 3.543129   </td><td> 3.6084464  </td><td> 3.4345664  </td><td> 3.9667079  </td><td> 3.8895289  </td><td>...         </td><td> 3.7063932  </td><td> 4.0681368  </td><td>3.11767996  </td><td> 3.7438462  </td><td> 3.83311389 </td><td> 3.0665988  </td><td> 3.968817683</td><td> 3.9324786  </td><td> 3.8746702  </td><td> 3.9542980  </td></tr>\n",
       "\t<tr><th scope=row>AT1G01300</th><td> 6.3363942  </td><td> 6.1294377  </td><td> 6.0618919  </td><td> 6.0013852  </td><td> 6.41775809 </td><td> 6.046086   </td><td> 6.0855993  </td><td> 5.6407276  </td><td> 5.6242741  </td><td> 6.2009503  </td><td>...         </td><td> 6.5876189  </td><td> 6.7723373  </td><td>6.11936437  </td><td> 6.2049890  </td><td> 5.69406820 </td><td> 5.9415080  </td><td> 6.604151116</td><td> 6.5169261  </td><td> 6.4739261  </td><td> 6.4939426  </td></tr>\n",
       "\t<tr><th scope=row>AT1G01320</th><td> 4.6208664  </td><td> 6.2175686  </td><td> 7.4432446  </td><td> 5.9810872  </td><td> 5.87597529 </td><td> 4.272296   </td><td> 6.6187611  </td><td> 6.4367375  </td><td> 5.2966802  </td><td> 5.5280100  </td><td>...         </td><td> 4.5101095  </td><td> 4.5650364  </td><td>8.56325569  </td><td> 5.7671988  </td><td> 5.26195719 </td><td> 7.5158721  </td><td> 4.938376569</td><td> 5.0917233  </td><td> 5.9872620  </td><td> 4.9698574  </td></tr>\n",
       "\t<tr><th scope=row>AT1G01340</th><td> 4.5071776  </td><td> 4.8644795  </td><td> 4.1073804  </td><td> 4.7263626  </td><td> 5.14575522 </td><td> 5.874359   </td><td> 5.4701799  </td><td> 5.7998699  </td><td> 4.5547696  </td><td> 4.0793087  </td><td>...         </td><td> 4.8131786  </td><td> 4.5236363  </td><td>4.47950079  </td><td> 4.0904236  </td><td> 5.09031367 </td><td> 4.7987150  </td><td> 4.579964115</td><td> 4.6407391  </td><td> 4.8153861  </td><td> 4.9698574  </td></tr>\n",
       "\t<tr><th scope=row>...</th><td>...</td><td>...</td><td>...</td><td>...</td><td>...</td><td>...</td><td>...</td><td>...</td><td>...</td><td>...</td><td>   </td><td>...</td><td>...</td><td>...</td><td>...</td><td>...</td><td>...</td><td>...</td><td>...</td><td>...</td><td>...</td></tr>\n",
       "\t<tr><th scope=row>ATCG00760</th><td> 3.1303548  </td><td> 3.9833451  </td><td> 4.69776049 </td><td> 3.97557319 </td><td> 4.185851863</td><td> 3.5965678  </td><td> 3.906643975</td><td> 4.390443856</td><td> 3.7386161  </td><td> 3.8362131  </td><td>...         </td><td> 4.0188418  </td><td> 4.33069116 </td><td>6.6742755   </td><td> 4.48682617 </td><td> 3.1525737  </td><td> 5.6850582  </td><td> 3.86360880 </td><td> 3.97509290 </td><td> 3.95484051 </td><td> 4.2824700  </td></tr>\n",
       "\t<tr><th scope=row>ATCG00770</th><td> 4.9322138  </td><td> 5.4806030  </td><td> 6.28128030 </td><td> 5.66797694 </td><td> 5.578558835</td><td> 5.1124520  </td><td> 5.572032276</td><td> 5.870098613</td><td> 5.1404199  </td><td> 5.5301100  </td><td>...         </td><td> 5.5318046  </td><td> 5.96906382 </td><td>8.3051014   </td><td> 6.02760554 </td><td> 4.6233394  </td><td> 7.1494980  </td><td> 5.80354223 </td><td> 5.57596398 </td><td> 5.62914124 </td><td> 5.6115798  </td></tr>\n",
       "\t<tr><th scope=row>ATCG00780</th><td> 5.6773373  </td><td> 6.2241300  </td><td> 6.96592280 </td><td> 6.33119898 </td><td> 6.093651243</td><td> 5.4518328  </td><td> 6.228572069</td><td> 6.357971464</td><td> 5.5054329  </td><td> 6.2590793  </td><td>...         </td><td> 6.1061325  </td><td> 6.45976840 </td><td>8.6005162   </td><td> 6.52184611 </td><td> 5.3158960  </td><td> 7.9365497  </td><td> 6.27928565 </td><td> 6.21558178 </td><td> 6.17088917 </td><td> 6.1020362  </td></tr>\n",
       "\t<tr><th scope=row>ATCG00790</th><td> 6.5957583  </td><td> 7.0134870  </td><td> 7.86287089 </td><td> 7.15109953 </td><td> 7.060940669</td><td> 6.3953321  </td><td> 7.050337434</td><td> 7.102554262</td><td> 6.4626230  </td><td> 7.0789501  </td><td>...         </td><td> 6.9746420  </td><td> 7.41263645 </td><td>9.2093007   </td><td> 7.31714731 </td><td> 6.3254236  </td><td> 8.6448892  </td><td> 7.20820901 </td><td> 7.20187058 </td><td> 7.03875428 </td><td> 6.8483852  </td></tr>\n",
       "\t<tr><th scope=row>ATCG00800</th><td> 4.9259069  </td><td> 5.8987199  </td><td> 6.98908481 </td><td> 6.34958531 </td><td> 6.337786775</td><td> 5.2851406  </td><td> 6.307208758</td><td> 6.356443185</td><td> 5.4309264  </td><td> 5.8919804  </td><td>...         </td><td> 5.9337091  </td><td> 6.32166111 </td><td>8.5780306   </td><td> 6.48738873 </td><td> 5.1343430  </td><td> 7.7112294  </td><td> 6.15659935 </td><td> 6.28133937 </td><td> 6.07955884 </td><td> 5.9724344  </td></tr>\n",
       "\t<tr><th scope=row>ATCG00810</th><td> 4.0658504  </td><td> 5.0531818  </td><td> 5.80506188 </td><td> 4.99594836 </td><td> 4.938009573</td><td> 4.1652001  </td><td> 5.078536914</td><td> 5.034897312</td><td> 4.3794165  </td><td> 4.9234762  </td><td>...         </td><td> 4.7616483  </td><td> 5.12599342 </td><td>7.6873936   </td><td> 5.40700946 </td><td> 4.0677846  </td><td> 6.9670199  </td><td> 4.83432324 </td><td> 4.95242043 </td><td> 5.10772951 </td><td> 4.7671054  </td></tr>\n",
       "\t<tr><th scope=row>ATCG00820</th><td> 2.8125350  </td><td> 3.7757036  </td><td> 4.35239115 </td><td> 3.84342640 </td><td> 3.771723149</td><td> 2.8843702  </td><td> 3.841385335</td><td> 3.994200730</td><td> 2.9448247  </td><td> 3.7666722  </td><td>...         </td><td> 3.5369224  </td><td> 3.85101404 </td><td>6.5322961   </td><td> 3.94728047 </td><td> 2.8616024  </td><td> 5.8030802  </td><td> 3.80797993 </td><td> 3.73408480 </td><td> 3.83670231 </td><td> 3.5747431  </td></tr>\n",
       "\t<tr><th scope=row>ATCG00830</th><td>-1.2081244  </td><td>-1.1002551  </td><td>-0.77689187 </td><td>-0.95358657 </td><td>-0.613344535</td><td>-2.6702187  </td><td>-1.592316008</td><td>-1.066003904</td><td>-2.5724510  </td><td>-1.7251809  </td><td>...         </td><td>-1.2261623  </td><td>-1.44109841 </td><td>1.6616152   </td><td>-1.37792276 </td><td>-3.0372508  </td><td> 0.8918244  </td><td>-1.16046533 </td><td>-1.76487519 </td><td>-2.39211638 </td><td>-1.5727446  </td></tr>\n",
       "\t<tr><th scope=row>ATCG00860</th><td>-4.9085642  </td><td>-4.5596867  </td><td>-4.68378246 </td><td>-4.86047717 </td><td>-4.861272049</td><td>-4.9921468  </td><td>-4.762241010</td><td>-4.525435523</td><td>-4.8943791  </td><td>-4.8951059  </td><td>...         </td><td>-4.9266020  </td><td>-4.90053002 </td><td>0.8997749   </td><td>-4.83735438 </td><td>-4.6222133  </td><td>-4.1525697  </td><td>-4.86090505 </td><td>-4.93480019 </td><td>-4.71404447 </td><td>-4.7426696  </td></tr>\n",
       "\t<tr><th scope=row>ATCG00920</th><td>-0.5162467  </td><td> 1.2216730  </td><td> 1.46596466 </td><td> 0.56578759 </td><td> 0.183122071</td><td>-0.9046839  </td><td> 0.664023745</td><td> 2.320054528</td><td>-3.3094166  </td><td>-2.0877510  </td><td>...         </td><td>-1.4671704  </td><td>-1.44109841 </td><td>6.6970135   </td><td> 0.02062662 </td><td>-1.8148584  </td><td> 3.1603133  </td><td> 0.09329126 </td><td> 0.73762516 </td><td> 0.04084303 </td><td>-0.2191076  </td></tr>\n",
       "\t<tr><th scope=row>ATCG00950</th><td>-0.8211013  </td><td> 1.8497042  </td><td> 1.72560847 </td><td>-0.33691521 </td><td>-0.003291054</td><td>-1.0852562  </td><td> 0.282153110</td><td> 3.005945938</td><td>-2.5724510  </td><td>-1.7251809  </td><td>...         </td><td>-1.7566770  </td><td>-0.99363943 </td><td>7.6668079   </td><td> 0.44804784 </td><td>-0.9217736  </td><td> 4.3591830  </td><td>-0.21704886 </td><td> 0.19448283 </td><td> 0.49540889 </td><td>-1.0422298  </td></tr>\n",
       "\t<tr><th scope=row>ATCG00960</th><td>-4.9085642  </td><td>-2.2377587  </td><td>-4.68378246 </td><td>-4.86047717 </td><td>-4.861272049</td><td>-4.9921468  </td><td>-4.762241010</td><td>-2.940473022</td><td>-2.5724510  </td><td>-4.8951059  </td><td>...         </td><td>-4.9266020  </td><td>-4.90053002 </td><td>1.2341940   </td><td>-4.83735438 </td><td>-4.6222133  </td><td>-2.5676072  </td><td>-4.86090505 </td><td>-4.93480019 </td><td>-4.71404447 </td><td>-4.7426696  </td></tr>\n",
       "\t<tr><th scope=row>ATCG01000</th><td>-2.1012092  </td><td>-2.2377587  </td><td>-2.36185437 </td><td>-2.05312225 </td><td>-2.539343954</td><td>-3.4071843  </td><td>-4.762241010</td><td>-2.940473022</td><td>-3.3094166  </td><td>-3.3101434  </td><td>...         </td><td>-4.9266020  </td><td>-1.73060502 </td><td>0.2831036   </td><td>-3.25239188 </td><td>-3.0372508  </td><td>-0.4521300  </td><td>-1.69098005 </td><td>-1.76487519 </td><td>-4.71404447 </td><td>-3.1577071  </td></tr>\n",
       "\t<tr><th scope=row>ATCG01010</th><td>-2.5866361  </td><td> 0.3945096  </td><td> 0.44550056 </td><td>-0.77301433 </td><td>-1.160832330</td><td>-2.1847919  </td><td>-0.238679054</td><td> 1.357207527</td><td>-1.7244541  </td><td>-1.1946662  </td><td>...         </td><td>-2.1192471  </td><td>-0.14564252 </td><td>7.1779213   </td><td> 0.89056607 </td><td>-3.0372508  </td><td> 3.3788118  </td><td>-1.69098005 </td><td>-0.68687267 </td><td>-0.46611696 </td><td>-0.8357790  </td></tr>\n",
       "\t<tr><th scope=row>ATCG01020</th><td> 2.8923357  </td><td> 4.7509260  </td><td> 6.43839844 </td><td> 5.45580436 </td><td> 5.820844716</td><td> 4.1752714  </td><td> 6.098070045</td><td> 6.240264965</td><td> 4.0333989  </td><td> 4.6343246  </td><td>...         </td><td> 4.2949851  </td><td> 4.78070839 </td><td>8.3473972   </td><td> 5.80740321 </td><td> 3.7658040  </td><td> 6.9747799  </td><td> 4.92536458 </td><td> 5.53178615 </td><td> 5.20928301 </td><td> 4.9455807  </td></tr>\n",
       "\t<tr><th scope=row>ATCG01040</th><td>-3.3236017  </td><td>-1.7523318  </td><td>-0.43585495 </td><td>-3.27551467 </td><td>-0.773809207</td><td>-4.9921468  </td><td>-1.954886088</td><td>-0.001873566</td><td>-1.7244541  </td><td>-0.9882153  </td><td>...         </td><td>-1.7566770  </td><td>-2.57860193 </td><td>5.2920924   </td><td>-0.31379242 </td><td>-2.3002852  </td><td> 2.1872803  </td><td>-4.86090505 </td><td>-3.34983769 </td><td>-1.54411947 </td><td>-3.1577071  </td></tr>\n",
       "\t<tr><th scope=row>ATCG01050</th><td>-0.5162467  </td><td> 0.7978653  </td><td> 1.19886059 </td><td> 0.42492505 </td><td> 1.708583560</td><td> 0.2932554  </td><td> 0.910184332</td><td> 3.399376981</td><td> 0.8869807  </td><td> 0.8328145  </td><td>...         </td><td>-0.0686210  </td><td> 1.28929454 </td><td>8.2660971   </td><td> 2.15133031 </td><td> 0.2357677  </td><td> 4.4948887  </td><td>-0.33734310 </td><td>-0.84733735 </td><td> 0.41523854 </td><td> 0.3866135  </td></tr>\n",
       "\t<tr><th scope=row>ATCG01060</th><td>-0.8211013  </td><td> 0.3945096  </td><td>-0.03992627 </td><td>-0.21662098 </td><td>-0.773809207</td><td>-1.0852562  </td><td>-0.855350414</td><td> 1.405301815</td><td>-1.4349474  </td><td>-0.5027885  </td><td>...         </td><td>-1.0197114  </td><td>-0.81306718 </td><td>7.3135868   </td><td> 0.71723447 </td><td>-2.3002852  </td><td> 4.2005771  </td><td>-0.61297754 </td><td>-1.76487519 </td><td>-1.54411947 </td><td>-1.0422298  </td></tr>\n",
       "\t<tr><th scope=row>ATCG01070</th><td>-2.5866361  </td><td>-0.4722239  </td><td>-0.77689187 </td><td>-1.16003745 </td><td>-0.954381453</td><td>-1.2917071  </td><td>-0.855350414</td><td> 1.202484932</td><td>-0.1394916  </td><td>-1.1946662  </td><td>...         </td><td>-3.3416395  </td><td>-1.73060502 </td><td>6.3916280   </td><td> 0.44804784 </td><td>-3.0372508  </td><td> 2.4473432  </td><td>-3.27594255 </td><td>-1.23436047 </td><td>-3.12908197 </td><td>-1.9353146  </td></tr>\n",
       "\t<tr><th scope=row>ATCG01080</th><td>-0.2647080  </td><td> 0.7257155  </td><td> 1.38230673 </td><td> 0.09371914 </td><td> 0.183122071</td><td> 0.9385906  </td><td> 0.595310995</td><td> 2.216031464</td><td> 0.1500151  </td><td> 0.5967472  </td><td>...         </td><td> 0.2828514  </td><td> 0.05366629 </td><td>7.8815283   </td><td> 0.65449872 </td><td>-0.5347505  </td><td> 4.1282011  </td><td>-0.61297754 </td><td>-0.68687267 </td><td> 0.33034965 </td><td>-0.3503521  </td></tr>\n",
       "\t<tr><th scope=row>ATCG01090</th><td>-0.6606366  </td><td> 0.6497666  </td><td> 0.07110504 </td><td> 0.09371914 </td><td> 1.069465289</td><td> 0.7357737  </td><td> 0.910184332</td><td> 1.357207527</td><td>-0.5020616  </td><td>-0.1402184  </td><td>...         </td><td>-0.1717145  </td><td> 0.59132307 </td><td>7.3825391   </td><td> 1.13992554 </td><td>-0.7153227  </td><td> 3.7239473  </td><td> 0.34854831 </td><td>-1.02790959 </td><td> 0.14393652 </td><td> 0.7491835  </td></tr>\n",
       "\t<tr><th scope=row>ATCG01100</th><td> 2.2309872  </td><td> 3.5224623  </td><td> 3.70423482 </td><td> 3.24281064 </td><td> 3.231485092</td><td> 2.8470570  </td><td> 3.220752565</td><td> 4.143449462</td><td> 3.2089088  </td><td> 3.3575595  </td><td>...         </td><td> 2.8081076  </td><td> 3.49607476 </td><td>9.0448764   </td><td> 3.93413509 </td><td> 2.1722025  </td><td> 6.1950517  </td><td> 2.96564343 </td><td> 2.39611669 </td><td> 2.84819795 </td><td> 2.9226664  </td></tr>\n",
       "\t<tr><th scope=row>ATCG01110</th><td> 3.8295281  </td><td> 4.2444443  </td><td> 4.84564809 </td><td> 4.30694098 </td><td> 4.107394745</td><td> 3.6408484  </td><td> 3.757395243</td><td> 4.454704055</td><td> 3.9790651  </td><td> 4.3833435  </td><td>...         </td><td> 3.8182318  </td><td> 4.26688812 </td><td>8.2330275   </td><td> 4.67637322 </td><td> 3.3493302  </td><td> 6.2300543  </td><td> 3.93025784 </td><td> 4.14468460 </td><td> 3.94773362 </td><td> 3.8309776  </td></tr>\n",
       "\t<tr><th scope=row>ATCG01120</th><td> 2.4923153  </td><td> 2.8749415  </td><td> 3.71282232 </td><td> 3.52754012 </td><td> 3.447066982</td><td> 3.0022067  </td><td> 2.972468610</td><td> 3.262467037</td><td> 3.0999744  </td><td> 3.2996509  </td><td>...         </td><td> 3.3354928  </td><td> 3.72517882 </td><td>5.5685058   </td><td> 3.54202399 </td><td> 2.6724074  </td><td> 4.3352703  </td><td> 3.29391306 </td><td> 3.76216734 </td><td> 3.29158008 </td><td> 3.6877830  </td></tr>\n",
       "\t<tr><th scope=row>ATCG01130</th><td> 6.5957583  </td><td> 6.8115454  </td><td> 7.84832991 </td><td> 7.54758715 </td><td> 7.696430965</td><td> 6.8901141  </td><td> 7.055142418</td><td> 7.389323316</td><td> 6.9608788  </td><td> 7.2332107  </td><td>...         </td><td> 7.1907164  </td><td> 7.76769018 </td><td>8.5237359   </td><td> 7.66174406 </td><td> 6.5243553  </td><td> 7.8921659  </td><td> 7.36520605 </td><td> 7.77147997 </td><td> 7.23103352 </td><td> 7.6024584  </td></tr>\n",
       "\t<tr><th scope=row>ATCG01170</th><td>-4.9085642  </td><td>-4.5596867  </td><td>-4.68378246 </td><td>-4.86047717 </td><td>-4.861272049</td><td>-4.9921468  </td><td>-4.762241010</td><td>-2.940473022</td><td>-4.8943791  </td><td>-4.8951059  </td><td>...         </td><td>-4.9266020  </td><td>-4.90053002 </td><td>1.3304093   </td><td>-3.25239188 </td><td>-4.6222133  </td><td>-2.5676072  </td><td>-4.86090505 </td><td>-4.93480019 </td><td>-4.71404447 </td><td>-4.7426696  </td></tr>\n",
       "\t<tr><th scope=row>ATCG01180</th><td> 0.2207189  </td><td> 2.2858033  </td><td> 2.25873204 </td><td> 0.75423267 </td><td> 0.348181317</td><td>-0.5998294  </td><td> 1.745553630</td><td> 3.879705941</td><td>-0.6464515  </td><td>-0.2512497  </td><td>...         </td><td> 0.1177921  </td><td>-1.20009031 </td><td>8.7493500   </td><td> 1.31239274 </td><td>-0.2298959  </td><td> 5.2504423  </td><td> 0.26837796 </td><td> 0.94784286 </td><td> 1.39447998 </td><td>-0.2191076  </td></tr>\n",
       "\t<tr><th scope=row>ATCG01210</th><td>-1.4491325  </td><td> 1.3229563  </td><td> 1.97442902 </td><td>-0.10558967 </td><td>-0.003291054</td><td>-0.3482906  </td><td>-0.007353508</td><td> 2.344929197</td><td>-1.4349474  </td><td>-2.5731778  </td><td>...         </td><td>-0.8391392  </td><td>-3.31556752 </td><td>7.0245706   </td><td> 0.37209899 </td><td>-3.0372508  </td><td> 3.5127662  </td><td> 0.18348907 </td><td> 0.01939612 </td><td> 0.04084303 </td><td>-1.2832379  </td></tr>\n",
       "\t<tr><th scope=row>ATCG01250</th><td>-4.9085642  </td><td>-2.9747242  </td><td>-4.68378246 </td><td>-2.53854907 </td><td>-4.861272049</td><td>-4.9921468  </td><td>-4.762241010</td><td>-4.525435523</td><td>-4.8943791  </td><td>-4.8951059  </td><td>...         </td><td>-4.9266020  </td><td>-4.90053002 </td><td>0.2831036   </td><td>-3.25239188 </td><td>-4.6222133  </td><td>-4.1525697  </td><td>-4.86090505 </td><td>-4.93480019 </td><td>-4.71404447 </td><td>-4.7426696  </td></tr>\n",
       "\t<tr><th scope=row>ATCG01310</th><td>-2.5866361  </td><td>-1.3897617  </td><td>-0.98334274 </td><td>-2.05312225 </td><td>-2.053917127</td><td>-4.9921468  </td><td>-0.855350414</td><td>-2.203507428</td><td>-2.5724510  </td><td>-2.5731778  </td><td>...         </td><td>-2.6046739  </td><td>-0.37696807 </td><td>1.1311005   </td><td>-2.51542628 </td><td>-1.8148584  </td><td> 0.4912865  </td><td>-1.69098005 </td><td>-2.61287209 </td><td>-1.54411947 </td><td>-2.4207415  </td></tr>\n",
       "</tbody>\n",
       "</table>\n",
       "</dd>\n",
       "\t<dt>$weights</dt>\n",
       "\t\t<dd><table>\n",
       "<tbody>\n",
       "\t<tr><td>18.8494667</td><td>16.8748698</td><td>17.5845489</td><td>18.5818106</td><td>19.8775135</td><td>20.580249 </td><td>19.3421327</td><td>18.0024254</td><td>21.6948485</td><td>21.698226 </td><td>...       </td><td>22.3980489</td><td>22.2960601</td><td>12.7897494</td><td>19.6662962</td><td>18.4698834</td><td>15.7908697</td><td>21.5492146</td><td>21.8930185</td><td>20.8280572</td><td>20.9779502</td></tr>\n",
       "\t<tr><td>11.6622018</td><td> 9.9300566</td><td>10.5192111</td><td>11.4127044</td><td>12.2134682</td><td>12.927963 </td><td>11.6828451</td><td>10.4796504</td><td>11.5806120</td><td>11.584359 </td><td>...       </td><td>12.8344574</td><td>12.6917865</td><td> 5.3635167</td><td> 9.6396136</td><td> 8.7119147</td><td> 6.9445631</td><td>12.6964915</td><td>13.1063013</td><td>11.8986812</td><td>12.0525319</td></tr>\n",
       "\t<tr><td> 3.8913730</td><td> 3.2318197</td><td> 3.4574319</td><td> 3.7964319</td><td> 3.8663362</td><td> 4.135327 </td><td> 3.6702437</td><td> 3.2324915</td><td> 3.1764024</td><td> 3.177642 </td><td>...       </td><td> 2.5863986</td><td> 2.5484810</td><td> 2.5970431</td><td> 4.9252943</td><td> 4.4273266</td><td> 3.4753652</td><td> 3.9864759</td><td> 4.1414111</td><td> 3.6936203</td><td> 3.7502044</td></tr>\n",
       "\t<tr><td>22.8734025</td><td>21.4713287</td><td>22.0440167</td><td>22.7285982</td><td>23.9568336</td><td>24.094449 </td><td>23.8080370</td><td>23.3250105</td><td>23.6066281</td><td>23.608336 </td><td>...       </td><td>23.4371195</td><td>23.3765215</td><td>17.0721449</td><td>23.0436411</td><td>22.2984545</td><td>20.0368186</td><td>23.1403408</td><td>23.3345825</td><td>22.6924293</td><td>22.7811858</td></tr>\n",
       "\t<tr><td>24.1734907</td><td>24.1175982</td><td>24.1761182</td><td>24.1817533</td><td>24.1789986</td><td>24.108478 </td><td>24.1904300</td><td>24.1093313</td><td>24.1850078</td><td>24.184924 </td><td>...       </td><td>24.0435416</td><td>24.0704444</td><td>21.0740215</td><td>24.1799515</td><td>24.0337022</td><td>23.1684951</td><td>24.1235604</td><td>24.0786108</td><td>24.1837030</td><td>24.1803992</td></tr>\n",
       "\t<tr><td>22.7307552</td><td>23.2167325</td><td>23.0445487</td><td>22.7978523</td><td>20.8627886</td><td>20.618825 </td><td>21.0465748</td><td>21.4670824</td><td>23.2646793</td><td>23.263684 </td><td>...       </td><td>22.0207689</td><td>22.0613052</td><td>23.9598046</td><td>23.4090383</td><td>23.6989035</td><td>24.1572609</td><td>21.9455912</td><td>21.8235041</td><td>22.1741691</td><td>22.1293836</td></tr>\n",
       "\t<tr><td>18.0129998</td><td>16.0244333</td><td>16.7354055</td><td>17.7409517</td><td>12.9142629</td><td>13.647857 </td><td>12.3766499</td><td>11.1183813</td><td>18.7830589</td><td>18.787124 </td><td>...       </td><td>18.7149360</td><td>18.5705211</td><td> 9.6637908</td><td>16.1876440</td><td>14.9493693</td><td>12.3151687</td><td>15.5880658</td><td>16.0096214</td><td>14.7428148</td><td>14.9063330</td></tr>\n",
       "\t<tr><td> 9.0062327</td><td> 7.6207552</td><td> 8.0900895</td><td> 8.8016913</td><td> 7.1909609</td><td> 7.665534 </td><td> 6.8517787</td><td> 6.1023333</td><td>10.0336878</td><td>10.037060 </td><td>...       </td><td> 7.9913437</td><td> 7.8913486</td><td> 7.5204761</td><td>13.1841919</td><td>12.0023192</td><td> 9.6730021</td><td> 7.2721743</td><td> 7.5402728</td><td> 6.7689318</td><td> 6.8647850</td></tr>\n",
       "\t<tr><td>22.4237397</td><td>22.9188746</td><td>22.7450778</td><td>22.4940335</td><td>22.9976030</td><td>22.814436 </td><td>23.1348291</td><td>23.4604338</td><td>22.2831117</td><td>22.282043 </td><td>...       </td><td>22.5048302</td><td>22.5417884</td><td>23.9449858</td><td>22.2916091</td><td>22.6040879</td><td>23.2603065</td><td>22.5527439</td><td>22.4468760</td><td>22.7612295</td><td>22.7213386</td></tr>\n",
       "\t<tr><td>22.0755386</td><td>22.5932096</td><td>22.4146701</td><td>22.1506091</td><td>22.3275121</td><td>22.129984 </td><td>22.4739607</td><td>22.8091959</td><td>22.4524564</td><td>22.451378 </td><td>...       </td><td>21.5539411</td><td>21.5991102</td><td>24.0387276</td><td>22.4261509</td><td>22.7339122</td><td>23.3854726</td><td>21.6722997</td><td>21.5449354</td><td>21.9138919</td><td>21.8665392</td></tr>\n",
       "\t<tr><td>10.7070717</td><td> 9.1029437</td><td> 9.6468089</td><td>10.4717300</td><td>12.2843346</td><td>12.999489 </td><td>11.7498814</td><td>10.5426699</td><td> 6.9375425</td><td> 6.940031 </td><td>...       </td><td>11.8105362</td><td>11.6738132</td><td> 4.4601194</td><td> 8.0716491</td><td> 7.2715312</td><td> 5.7808581</td><td>11.3652866</td><td>11.7502497</td><td>10.6215565</td><td>10.7616340</td></tr>\n",
       "\t<tr><td>23.1741341</td><td>23.6505150</td><td>23.4822919</td><td>23.2403540</td><td>24.0982195</td><td>23.982414 </td><td>24.1585443</td><td>24.1820060</td><td>23.0701780</td><td>23.069171 </td><td>...       </td><td>24.0449046</td><td>24.0714131</td><td>24.1442635</td><td>23.1198810</td><td>23.4162623</td><td>24.0008188</td><td>23.9760580</td><td>23.9002784</td><td>24.1041813</td><td>24.0867741</td></tr>\n",
       "\t<tr><td> 2.6149124</td><td> 2.1493193</td><td> 2.3041839</td><td> 2.5447833</td><td> 1.5017156</td><td> 1.608359 </td><td> 1.4272804</td><td> 1.2683566</td><td> 1.6374032</td><td> 1.638041 </td><td>...       </td><td> 2.2379590</td><td> 2.2054968</td><td> 1.1961229</td><td> 2.2725916</td><td> 2.0140344</td><td> 1.5591341</td><td> 1.8959101</td><td> 1.9755937</td><td> 1.7486999</td><td> 1.7762275</td></tr>\n",
       "\t<tr><td> 6.9304055</td><td> 5.8437708</td><td> 6.2082485</td><td> 6.7684277</td><td> 5.4176669</td><td> 5.774063 </td><td> 5.1611038</td><td> 4.5951317</td><td> 7.7885830</td><td> 7.791305 </td><td>...       </td><td> 2.0997976</td><td> 2.0691727</td><td> 6.1768526</td><td>11.0223238</td><td> 9.9783405</td><td> 7.9929229</td><td> 4.8506715</td><td> 5.0302000</td><td> 4.5117860</td><td> 4.5767495</td></tr>\n",
       "\t<tr><td>21.3934376</td><td>19.5659597</td><td>20.2495757</td><td>21.1693381</td><td>20.7079477</td><td>21.369984 </td><td>20.1919059</td><td>18.8784866</td><td>20.5364122</td><td>20.540136 </td><td>...       </td><td>20.8791578</td><td>20.7433823</td><td>12.6484972</td><td>19.5262538</td><td>18.3262180</td><td>15.6439186</td><td>21.0948665</td><td>21.4472944</td><td>20.3346063</td><td>20.4800696</td></tr>\n",
       "\t<tr><td> 9.7968631</td><td> 8.3122447</td><td> 8.8159059</td><td> 9.5782911</td><td>10.7062985</td><td>11.372617 </td><td>10.2253600</td><td> 9.1575917</td><td>10.7785437</td><td>10.782138 </td><td>...       </td><td> 8.3872493</td><td> 8.2849022</td><td> 6.3367323</td><td>11.2909132</td><td>10.2217468</td><td> 8.1973644</td><td> 7.1102436</td><td> 7.3708673</td><td> 6.6173991</td><td> 6.7105729</td></tr>\n",
       "\t<tr><td>18.3784813</td><td>16.3966886</td><td>17.0989666</td><td>18.1008995</td><td>17.6074056</td><td>18.353037 </td><td>17.0426724</td><td>15.6863903</td><td>18.1839936</td><td>18.188195 </td><td>...       </td><td>15.6012017</td><td>15.4556317</td><td>12.1997202</td><td>19.0663201</td><td>17.8529855</td><td>15.1723725</td><td>15.9270045</td><td>16.3600879</td><td>15.0858721</td><td>15.2541669</td></tr>\n",
       "\t<tr><td>11.3075380</td><td> 9.6207988</td><td>10.1910855</td><td>11.0586343</td><td>11.1768277</td><td>11.860728 </td><td>10.6789050</td><td> 9.5664455</td><td> 8.3063153</td><td> 8.309157 </td><td>...       </td><td>14.3472309</td><td>14.1940889</td><td> 4.1302062</td><td> 7.4956604</td><td> 6.7475587</td><td> 5.3651425</td><td>11.6093830</td><td>11.9994187</td><td>10.8520401</td><td>10.9959337</td></tr>\n",
       "\t<tr><td> 8.8885875</td><td> 7.5185706</td><td> 7.9829111</td><td> 8.6869568</td><td> 6.7585765</td><td> 7.204794 </td><td> 6.4402135</td><td> 5.7356941</td><td> 7.8359068</td><td> 7.838649 </td><td>...       </td><td> 8.5074462</td><td> 8.4032652</td><td> 3.5303207</td><td> 6.4700248</td><td> 5.8241903</td><td> 4.6282011</td><td> 7.8780053</td><td> 8.1649607</td><td> 7.3359093</td><td> 7.4394524</td></tr>\n",
       "\t<tr><td>11.9689967</td><td>10.2003889</td><td>10.8039083</td><td>11.7141640</td><td>10.3948933</td><td>11.042000 </td><td> 9.9282900</td><td> 8.8875210</td><td>10.7082996</td><td>10.711864 </td><td>...       </td><td>13.8587636</td><td>13.7121025</td><td> 5.4411949</td><td> 9.7740189</td><td> 8.8351275</td><td> 7.0449539</td><td>13.2676549</td><td>13.6789501</td><td>12.4565724</td><td>12.6096937</td></tr>\n",
       "\t<tr><td>19.1062761</td><td>17.1364652</td><td>17.8381040</td><td>18.8340621</td><td>21.5181543</td><td>22.109420 </td><td>21.0435961</td><td>19.7845425</td><td>19.5763740</td><td>19.580296 </td><td>...       </td><td>20.5504180</td><td>20.4173074</td><td>12.8604630</td><td>19.7361451</td><td>18.5403730</td><td>15.8643156</td><td>20.2079648</td><td>20.5930711</td><td>19.4041496</td><td>19.5576439</td></tr>\n",
       "\t<tr><td> 7.7725438</td><td> 6.5564792</td><td> 6.9676844</td><td> 7.5952305</td><td> 6.8847835</td><td> 7.338335 </td><td> 6.5590170</td><td> 5.8427359</td><td> 7.4976410</td><td> 7.500320 </td><td>...       </td><td> 8.5043117</td><td> 8.4001787</td><td> 3.5448131</td><td> 6.4945894</td><td> 5.8466185</td><td> 4.6459393</td><td> 7.9625407</td><td> 8.2533678</td><td> 7.4157419</td><td> 7.5206979</td></tr>\n",
       "\t<tr><td>20.8063012</td><td>18.9117596</td><td>19.6038950</td><td>20.5578227</td><td>20.7364934</td><td>21.395126 </td><td>20.2228404</td><td>18.9095270</td><td>21.2809039</td><td>21.284201 </td><td>...       </td><td>21.4351111</td><td>21.3162125</td><td>13.7977376</td><td>20.6352240</td><td>19.4779907</td><td>16.8235923</td><td>21.2448064</td><td>21.5825384</td><td>20.4841095</td><td>20.6309121</td></tr>\n",
       "\t<tr><td>18.7268158</td><td>16.7501470</td><td>17.4635401</td><td>18.4613310</td><td>22.2848247</td><td>22.777778 </td><td>21.8761995</td><td>20.7260348</td><td>18.7396009</td><td>18.743654 </td><td>...       </td><td>18.9905218</td><td>18.8434465</td><td>10.9393032</td><td>17.7125321</td><td>16.4915256</td><td>13.7981487</td><td>17.1975175</td><td>17.6156183</td><td>16.3631613</td><td>16.5227772</td></tr>\n",
       "\t<tr><td> 0.3970154</td><td> 0.3483859</td><td> 0.3648041</td><td> 0.3898447</td><td> 0.4485073</td><td> 0.472122 </td><td> 0.4315865</td><td> 0.3941575</td><td> 0.5607389</td><td> 0.560905 </td><td>...       </td><td> 0.2972635</td><td> 0.2945236</td><td> 0.4736928</td><td> 0.7823436</td><td> 0.7132418</td><td> 0.5860201</td><td> 0.2716192</td><td> 0.2716192</td><td> 0.2716192</td><td> 0.2716192</td></tr>\n",
       "\t<tr><td>19.4590871</td><td>17.4969876</td><td>18.1974816</td><td>19.1911460</td><td>18.8732022</td><td>19.603533 </td><td>18.3237064</td><td>16.9738783</td><td>18.1763755</td><td>18.180575 </td><td>...       </td><td>18.9982250</td><td>18.8510752</td><td>12.4753770</td><td>19.3536631</td><td>18.1390920</td><td>15.4633710</td><td>18.4107932</td><td>18.8193253</td><td>17.5770887</td><td>17.7365464</td></tr>\n",
       "\t<tr><td>13.0017741</td><td>11.1320145</td><td>11.7789617</td><td>12.7359147</td><td>12.4224797</td><td>13.139657 </td><td>11.8813002</td><td>10.6641123</td><td>13.6691630</td><td>13.673210 </td><td>...       </td><td>14.2288631</td><td>14.0772967</td><td> 6.4193153</td><td>11.4296803</td><td>10.3475060</td><td> 8.3021274</td><td>14.2683931</td><td>14.6856317</td><td>13.4375446</td><td>13.5946442</td></tr>\n",
       "\t<tr><td>24.0686262</td><td>23.5422821</td><td>23.7761284</td><td>24.0180158</td><td>23.9294711</td><td>24.067412 </td><td>23.7657976</td><td>23.2657743</td><td>23.4425141</td><td>23.444207 </td><td>...       </td><td>24.0987285</td><td>24.1145924</td><td>18.9366763</td><td>23.7947059</td><td>23.3564599</td><td>21.7032269</td><td>24.1827056</td><td>24.1627735</td><td>24.1863144</td><td>24.1963572</td></tr>\n",
       "\t<tr><td>23.9985819</td><td>23.3870426</td><td>23.6668061</td><td>23.9481554</td><td>23.4727645</td><td>23.738344 </td><td>23.2431935</td><td>22.4719962</td><td>24.1877580</td><td>24.187674 </td><td>...       </td><td>19.4264236</td><td>19.2827910</td><td>22.7518403</td><td>24.0642510</td><td>24.1808425</td><td>23.9517917</td><td>21.5420348</td><td>21.8856952</td><td>20.8199329</td><td>20.9697527</td></tr>\n",
       "\t<tr><td>18.0717103</td><td>16.0841464</td><td>16.7935446</td><td>17.7985555</td><td>22.8510809</td><td>23.246660 </td><td>22.5051323</td><td>21.4972732</td><td>17.7062655</td><td>17.710329 </td><td>...       </td><td>19.2639709</td><td>19.1142462</td><td>11.2238308</td><td>18.0269255</td><td>16.8038803</td><td>14.1157723</td><td>18.9288964</td><td>19.3510526</td><td>18.1039578</td><td>18.2694193</td></tr>\n",
       "\t<tr><td>...</td><td>...</td><td>...</td><td>...</td><td>...</td><td>...</td><td>...</td><td>...</td><td>...</td><td>...</td><td>   </td><td>...</td><td>...</td><td>...</td><td>...</td><td>...</td><td>...</td><td>...</td><td>...</td><td>...</td><td>...</td></tr>\n",
       "\t<tr><td>14.6178334</td><td>12.6537124</td><td>13.3484282</td><td>14.3495148</td><td>14.7637020</td><td>15.5192090</td><td>14.2019128</td><td>12.8663334</td><td>16.0065845</td><td>16.0108005</td><td>...       </td><td>15.9124668</td><td>15.7632617</td><td>13.3075847</td><td>20.1738834</td><td>18.9826532</td><td>16.3268800</td><td>14.7566522</td><td>15.1839294</td><td>13.9189893</td><td>14.0831665</td></tr>\n",
       "\t<tr><td>23.0492345</td><td>21.7388348</td><td>22.2680204</td><td>22.9030386</td><td>22.7329284</td><td>23.1298383</td><td>22.3508760</td><td>21.3179180</td><td>23.5183913</td><td>23.5200909</td><td>...       </td><td>23.4342157</td><td>23.3736271</td><td>21.7386851</td><td>24.1849450</td><td>24.1449262</td><td>23.5118533</td><td>23.1008278</td><td>23.3047502</td><td>22.6410820</td><td>22.7424378</td></tr>\n",
       "\t<tr><td>24.1730552</td><td>23.8475161</td><td>24.0082172</td><td>24.1503613</td><td>23.9053588</td><td>24.0521006</td><td>23.7418912</td><td>23.2313149</td><td>24.1922672</td><td>24.1926108</td><td>...       </td><td>24.1546931</td><td>24.1423972</td><td>23.6021333</td><td>23.7047338</td><td>23.9597715</td><td>24.1910360</td><td>24.0812893</td><td>24.1346256</td><td>23.9247872</td><td>23.9570058</td></tr>\n",
       "\t<tr><td>23.5263795</td><td>23.9602075</td><td>23.8195697</td><td>23.5915404</td><td>23.9109157</td><td>23.7506232</td><td>24.0125973</td><td>24.1775603</td><td>23.4829569</td><td>23.4819760</td><td>...       </td><td>23.5327881</td><td>23.5681014</td><td>24.1378062</td><td>22.6286017</td><td>22.9316585</td><td>23.5773218</td><td>23.6995358</td><td>23.6012839</td><td>23.8841993</td><td>23.8480652</td></tr>\n",
       "\t<tr><td>23.9724881</td><td>23.3293941</td><td>23.6188567</td><td>23.9170039</td><td>23.9552238</td><td>24.0928278</td><td>23.8055030</td><td>23.3214551</td><td>24.1516099</td><td>24.1519528</td><td>...       </td><td>24.0233886</td><td>23.9959964</td><td>23.3317645</td><td>23.8504262</td><td>24.0757521</td><td>24.1363078</td><td>24.0081734</td><td>24.0859614</td><td>23.8098598</td><td>23.8571351</td></tr>\n",
       "\t<tr><td>20.4475688</td><td>18.5239939</td><td>19.2218903</td><td>20.1932209</td><td>19.2313313</td><td>19.9473274</td><td>18.6714670</td><td>17.3409536</td><td>21.8735376</td><td>21.8769496</td><td>...       </td><td>20.3457298</td><td>20.2042256</td><td>19.1776165</td><td>23.8645839</td><td>23.4548150</td><td>21.9010447</td><td>19.8371998</td><td>20.2477545</td><td>19.0254460</td><td>19.1889558</td></tr>\n",
       "\t<tr><td>13.1992142</td><td>11.3135894</td><td>11.9646299</td><td>12.9283118</td><td>12.5339534</td><td>13.2592416</td><td>11.9934724</td><td>10.7669384</td><td>14.5619223</td><td>14.5659835</td><td>...       </td><td>12.7809793</td><td>12.6390500</td><td>12.1273549</td><td>18.9912812</td><td>17.7786003</td><td>15.0949717</td><td>13.1690354</td><td>13.5832735</td><td>12.3626014</td><td>12.5171436</td></tr>\n",
       "\t<tr><td> 1.2201234</td><td> 1.0350794</td><td> 1.0965201</td><td> 1.1922466</td><td> 0.9559299</td><td> 1.0146664</td><td> 0.9142458</td><td> 0.8232090</td><td> 0.9392110</td><td> 0.9395188</td><td>...       </td><td> 1.0057025</td><td> 0.9937855</td><td> 0.8672656</td><td> 1.5474147</td><td> 1.3855323</td><td> 1.1032533</td><td> 0.8596238</td><td> 0.8882869</td><td> 0.8059285</td><td> 0.8160783</td></tr>\n",
       "\t<tr><td> 0.2716192</td><td> 0.2716192</td><td> 0.2716192</td><td> 0.2716192</td><td> 0.2716192</td><td> 0.2716192</td><td> 0.2716192</td><td> 0.2716192</td><td> 0.2979678</td><td> 0.2980448</td><td>...       </td><td> 0.2716192</td><td> 0.2716192</td><td> 0.2950598</td><td> 0.4643919</td><td> 0.4270792</td><td> 0.3575109</td><td> 0.2716192</td><td> 0.2716192</td><td> 0.2716192</td><td> 0.2716192</td></tr>\n",
       "\t<tr><td> 3.0413902</td><td> 2.5045290</td><td> 2.6848387</td><td> 2.9618140</td><td> 2.7742418</td><td> 2.9830743</td><td> 2.6257966</td><td> 2.2983441</td><td> 1.5756584</td><td> 1.5762611</td><td>...       </td><td> 1.1050870</td><td> 1.0916771</td><td> 3.1212488</td><td> 5.7897427</td><td> 5.2124554</td><td> 4.1307566</td><td> 2.2133345</td><td> 2.3073274</td><td> 2.0381223</td><td> 2.0711452</td></tr>\n",
       "\t<tr><td> 2.9104837</td><td> 2.3948754</td><td> 2.5677222</td><td> 2.8338197</td><td> 2.7499577</td><td> 2.9573634</td><td> 2.6029641</td><td> 2.2780090</td><td> 1.9053687</td><td> 1.9061399</td><td>...       </td><td> 0.9520169</td><td> 0.9408735</td><td> 4.9012860</td><td> 8.8406079</td><td> 7.9764381</td><td> 6.3455595</td><td> 1.8657169</td><td> 1.9440608</td><td> 1.7214216</td><td> 1.7484093</td></tr>\n",
       "\t<tr><td> 0.3274980</td><td> 0.2889944</td><td> 0.3020133</td><td> 0.3218311</td><td> 0.2978557</td><td> 0.3121349</td><td> 0.2875865</td><td> 0.2716192</td><td> 0.3183212</td><td> 0.3184048</td><td>...       </td><td> 0.2716192</td><td> 0.2716192</td><td> 0.3510862</td><td> 0.5626790</td><td> 0.5158160</td><td> 0.4287650</td><td> 0.2716192</td><td> 0.2716192</td><td> 0.2716192</td><td> 0.2716192</td></tr>\n",
       "\t<tr><td> 0.7169124</td><td> 0.6190496</td><td> 0.6519078</td><td> 0.7023630</td><td> 0.4278778</td><td> 0.4501743</td><td> 0.4118964</td><td> 0.3765069</td><td> 0.5249344</td><td> 0.5250880</td><td>...       </td><td> 0.4636809</td><td> 0.4589619</td><td> 0.5337927</td><td> 0.8924311</td><td> 0.8116006</td><td> 0.6636857</td><td> 0.5381027</td><td> 0.5544471</td><td> 0.5072633</td><td> 0.5130974</td></tr>\n",
       "\t<tr><td> 1.4740914</td><td> 1.2384883</td><td> 1.3161545</td><td> 1.4383113</td><td> 1.4939659</td><td> 1.5999163</td><td> 1.4200800</td><td> 1.2621931</td><td> 1.8820771</td><td> 1.8828366</td><td>...       </td><td> 0.9910843</td><td> 0.9793831</td><td> 3.2720691</td><td> 6.0400153</td><td> 5.4386407</td><td> 4.3146352</td><td> 1.2452532</td><td> 1.2911003</td><td> 1.1604163</td><td> 1.1763639</td></tr>\n",
       "\t<tr><td>19.9286837</td><td>17.9810357</td><td>18.6811635</td><td>19.6655910</td><td>22.8845433</td><td>23.2721910</td><td>22.5488790</td><td>21.5481991</td><td>22.8680430</td><td>22.8702401</td><td>...       </td><td>19.4410962</td><td>19.2986569</td><td>20.2333449</td><td>24.0900939</td><td>23.8255891</td><td>22.6701896</td><td>21.0987061</td><td>21.4506141</td><td>20.3382737</td><td>20.4837698</td></tr>\n",
       "\t<tr><td> 0.7143627</td><td> 0.6169077</td><td> 0.6496331</td><td> 0.6998774</td><td> 0.7848540</td><td> 0.8310169</td><td> 0.7519647</td><td> 0.6797579</td><td> 1.2716657</td><td> 1.2721184</td><td>...       </td><td> 0.5640794</td><td> 0.5581187</td><td> 1.9962993</td><td> 3.8941950</td><td> 3.4784831</td><td> 2.6860546</td><td> 0.4595866</td><td> 0.4731381</td><td> 0.4340361</td><td> 0.4388845</td></tr>\n",
       "\t<tr><td> 2.7100573</td><td> 2.2282305</td><td> 2.3897130</td><td> 2.6388095</td><td> 4.7282169</td><td> 5.0428438</td><td> 4.5027582</td><td> 3.9944024</td><td> 4.9500351</td><td> 4.9518264</td><td>...       </td><td> 2.7717550</td><td> 2.7317226</td><td> 7.6040193</td><td>13.3128033</td><td>12.1239837</td><td> 9.7754854</td><td> 1.9146943</td><td> 1.9951671</td><td> 1.7656649</td><td> 1.7935396</td></tr>\n",
       "\t<tr><td> 1.8857094</td><td> 1.5612515</td><td> 1.6676887</td><td> 1.8361875</td><td> 1.6866638</td><td> 1.8112587</td><td> 1.5995697</td><td> 1.4148247</td><td> 2.0192872</td><td> 2.0201080</td><td>...       </td><td> 1.2542373</td><td> 1.2384069</td><td> 4.0011405</td><td> 7.2732656</td><td> 6.5479360</td><td> 5.2057400</td><td> 1.0691303</td><td> 1.1066804</td><td> 0.9991332</td><td> 1.0123151</td></tr>\n",
       "\t<tr><td> 1.0891342</td><td> 0.9282833</td><td> 0.9818929</td><td> 1.0650006</td><td> 1.5593124</td><td> 1.6716526</td><td> 1.4808585</td><td> 1.3140925</td><td> 1.7671499</td><td> 1.7678513</td><td>...       </td><td> 0.7800631</td><td> 0.7713189</td><td> 2.4247280</td><td> 4.6378182</td><td> 4.1658531</td><td> 3.2521684</td><td> 0.6442918</td><td> 0.6645874</td><td> 0.6061372</td><td> 0.6133668</td></tr>\n",
       "\t<tr><td> 2.7220023</td><td> 2.2381396</td><td> 2.4002559</td><td> 2.6503630</td><td> 3.4894694</td><td> 3.7387071</td><td> 3.3062817</td><td> 2.9038228</td><td> 3.9839249</td><td> 3.9854121</td><td>...       </td><td> 2.4640591</td><td> 2.4283660</td><td> 5.2589843</td><td> 9.4597167</td><td> 8.5475558</td><td> 6.8088249</td><td> 1.6838891</td><td> 1.7527135</td><td> 1.5573078</td><td> 1.5809096</td></tr>\n",
       "\t<tr><td> 2.1198823</td><td> 1.7463664</td><td> 1.8695579</td><td> 2.0631628</td><td> 3.5538370</td><td> 3.8088860</td><td> 3.3695932</td><td> 2.9598966</td><td> 3.1106272</td><td> 3.1118854</td><td>...       </td><td> 2.1552213</td><td> 2.1238033</td><td> 4.8884241</td><td> 8.8182770</td><td> 7.9560539</td><td> 6.3290332</td><td> 2.0810941</td><td> 2.1694854</td><td> 1.9171362</td><td> 1.9480424</td></tr>\n",
       "\t<tr><td>10.4501711</td><td> 8.8803899</td><td> 9.4119030</td><td>10.2187287</td><td>11.1380929</td><td>11.8209599</td><td>10.6423142</td><td> 9.5327751</td><td>13.3867380</td><td>13.3906804</td><td>...       </td><td>10.2698607</td><td>10.1462864</td><td>15.2225458</td><td>21.8496410</td><td>20.8091532</td><td>18.2402653</td><td> 8.5050705</td><td> 8.8091424</td><td> 7.9261961</td><td> 8.0366761</td></tr>\n",
       "\t<tr><td>16.6808357</td><td>14.6797664</td><td>15.3992738</td><td>16.4127338</td><td>14.5955993</td><td>15.3524253</td><td>14.0292984</td><td>12.7029666</td><td>17.9082061</td><td>17.9123281</td><td>...       </td><td>14.8273838</td><td>14.6793435</td><td>16.8553151</td><td>22.9289630</td><td>22.1519869</td><td>19.8287895</td><td>14.4450922</td><td>14.8610831</td><td>13.6069361</td><td>13.7665187</td></tr>\n",
       "\t<tr><td>10.3376093</td><td> 8.7824227</td><td> 9.3102913</td><td>10.1092703</td><td>10.2031930</td><td>10.8405312</td><td> 9.7469130</td><td> 8.7194206</td><td>11.7857632</td><td>11.7895936</td><td>...       </td><td>12.2206558</td><td>12.0779814</td><td> 8.5425195</td><td>14.6830349</td><td>13.4656661</td><td>10.9352598</td><td>11.9109305</td><td>12.3137247</td><td>11.1429730</td><td>11.2917129</td></tr>\n",
       "\t<tr><td>23.4656036</td><td>23.9140611</td><td>23.7629862</td><td>23.5305541</td><td>23.4525892</td><td>23.2729090</td><td>23.5865016</td><td>23.8907215</td><td>23.2519087</td><td>23.2509144</td><td>...       </td><td>23.0080743</td><td>23.0441236</td><td>24.1952736</td><td>22.9437006</td><td>23.2416926</td><td>23.8656084</td><td>23.1300452</td><td>23.0275795</td><td>23.3323147</td><td>23.2930307</td></tr>\n",
       "\t<tr><td> 0.2716192</td><td> 0.2716192</td><td> 0.2716192</td><td> 0.2716192</td><td> 0.2978557</td><td> 0.3121349</td><td> 0.2875865</td><td> 0.2716192</td><td> 0.2979678</td><td> 0.2980448</td><td>...       </td><td> 0.3175567</td><td> 0.3145831</td><td> 0.4112504</td><td> 0.6697144</td><td> 0.6121643</td><td> 0.5057436</td><td> 0.2716192</td><td> 0.2716192</td><td> 0.2716192</td><td> 0.2716192</td></tr>\n",
       "\t<tr><td> 4.3872532</td><td> 3.6682764</td><td> 3.9140920</td><td> 4.2830376</td><td> 4.2077174</td><td> 4.4924520</td><td> 3.9992460</td><td> 3.5341438</td><td> 4.2981315</td><td> 4.2996905</td><td>...       </td><td> 1.7190772</td><td> 1.6949893</td><td> 7.5426451</td><td>13.2183412</td><td>12.0346184</td><td> 9.7003269</td><td> 2.8242855</td><td> 2.9422448</td><td> 2.6026886</td><td> 2.6442657</td></tr>\n",
       "\t<tr><td> 2.6496224</td><td> 2.1781034</td><td> 2.3355881</td><td> 2.5794452</td><td> 2.6695472</td><td> 2.8721228</td><td> 2.5254460</td><td> 2.2106919</td><td> 2.0634935</td><td> 2.0643368</td><td>...       </td><td> 1.0654668</td><td> 1.0526543</td><td> 3.0396654</td><td> 5.6560189</td><td> 5.0926609</td><td> 4.0301681</td><td> 1.7490805</td><td> 1.8213043</td><td> 1.6159234</td><td> 1.6408559</td></tr>\n",
       "\t<tr><td> 0.3792110</td><td> 0.3332021</td><td> 0.3487383</td><td> 0.3724258</td><td> 0.2716192</td><td> 0.2716192</td><td> 0.2716192</td><td> 0.2716192</td><td> 0.2716192</td><td> 0.2716192</td><td>...       </td><td> 0.2716192</td><td> 0.2716192</td><td> 0.3218239</td><td> 0.5111659</td><td> 0.4693399</td><td> 0.3914888</td><td> 0.2716192</td><td> 0.2716192</td><td> 0.2716192</td><td> 0.2716192</td></tr>\n",
       "\t<tr><td> 0.8661119</td><td> 0.7438921</td><td> 0.7848451</td><td> 0.8479091</td><td> 0.6098294</td><td> 0.6439380</td><td> 0.5854419</td><td> 0.5316597</td><td> 0.9291523</td><td> 0.9294559</td><td>...       </td><td> 0.8941961</td><td> 0.8838635</td><td> 0.7903987</td><td> 1.3880507</td><td> 1.2478471</td><td> 1.0003222</td><td> 0.7398333</td><td> 0.7637591</td><td> 0.6949077</td><td> 0.7034096</td></tr>\n",
       "</tbody>\n",
       "</table>\n",
       "</dd>\n",
       "\t<dt>$design</dt>\n",
       "\t\t<dd><table>\n",
       "<thead><tr><th scope=col>grupyC.6</th><th scope=col>grupyI5.6</th><th scope=col>grupyI8.6</th><th scope=col>grupyC.9</th><th scope=col>grupyI5.9</th><th scope=col>grupyI8.9</th></tr></thead>\n",
       "<tbody>\n",
       "\t<tr><td>1</td><td>0</td><td>0</td><td>0</td><td>0</td><td>0</td></tr>\n",
       "\t<tr><td>1</td><td>0</td><td>0</td><td>0</td><td>0</td><td>0</td></tr>\n",
       "\t<tr><td>1</td><td>0</td><td>0</td><td>0</td><td>0</td><td>0</td></tr>\n",
       "\t<tr><td>1</td><td>0</td><td>0</td><td>0</td><td>0</td><td>0</td></tr>\n",
       "\t<tr><td>0</td><td>0</td><td>0</td><td>1</td><td>0</td><td>0</td></tr>\n",
       "\t<tr><td>0</td><td>0</td><td>0</td><td>1</td><td>0</td><td>0</td></tr>\n",
       "\t<tr><td>0</td><td>0</td><td>0</td><td>1</td><td>0</td><td>0</td></tr>\n",
       "\t<tr><td>0</td><td>0</td><td>0</td><td>1</td><td>0</td><td>0</td></tr>\n",
       "\t<tr><td>0</td><td>1</td><td>0</td><td>0</td><td>0</td><td>0</td></tr>\n",
       "\t<tr><td>0</td><td>1</td><td>0</td><td>0</td><td>0</td><td>0</td></tr>\n",
       "\t<tr><td>0</td><td>1</td><td>0</td><td>0</td><td>0</td><td>0</td></tr>\n",
       "\t<tr><td>0</td><td>1</td><td>0</td><td>0</td><td>0</td><td>0</td></tr>\n",
       "\t<tr><td>0</td><td>0</td><td>0</td><td>0</td><td>1</td><td>0</td></tr>\n",
       "\t<tr><td>0</td><td>0</td><td>0</td><td>0</td><td>1</td><td>0</td></tr>\n",
       "\t<tr><td>0</td><td>0</td><td>0</td><td>0</td><td>1</td><td>0</td></tr>\n",
       "\t<tr><td>0</td><td>0</td><td>0</td><td>0</td><td>1</td><td>0</td></tr>\n",
       "\t<tr><td>0</td><td>0</td><td>1</td><td>0</td><td>0</td><td>0</td></tr>\n",
       "\t<tr><td>0</td><td>0</td><td>1</td><td>0</td><td>0</td><td>0</td></tr>\n",
       "\t<tr><td>0</td><td>0</td><td>1</td><td>0</td><td>0</td><td>0</td></tr>\n",
       "\t<tr><td>0</td><td>0</td><td>1</td><td>0</td><td>0</td><td>0</td></tr>\n",
       "\t<tr><td>0</td><td>0</td><td>0</td><td>0</td><td>0</td><td>1</td></tr>\n",
       "\t<tr><td>0</td><td>0</td><td>0</td><td>0</td><td>0</td><td>1</td></tr>\n",
       "\t<tr><td>0</td><td>0</td><td>0</td><td>0</td><td>0</td><td>1</td></tr>\n",
       "\t<tr><td>0</td><td>0</td><td>0</td><td>0</td><td>0</td><td>1</td></tr>\n",
       "</tbody>\n",
       "</table>\n",
       "</dd>\n",
       "</dl>\n"
      ],
      "text/latex": [
       "\\begin{description}\n",
       "\\item[\\$targets] \\begin{tabular}{r|lll}\n",
       "  & group & lib.size & norm.factors\\\\\n",
       "\\hline\n",
       "\tC61 & 1         & 15017409  & 1.0466541\\\\\n",
       "\tC62 & 1         & 11791592  & 0.9517416\\\\\n",
       "\tC63 & 1         & 12850765  & 1.0535991\\\\\n",
       "\tC64 & 1         & 14525109  & 1.0424665\\\\\n",
       "\tC91 & 1         & 14533114  & 1.0943189\\\\\n",
       "\tC92 & 1         & 15913141  & 1.0623834\\\\\n",
       "\tC93 & 1         & 13568985  & 1.0273956\\\\\n",
       "\tC94 & 1         & 11514943  & 0.9887328\\\\\n",
       "\tI561 & 1         & 14870476  & 1.0140387\\\\\n",
       "\tI562 & 1         & 14877970  & 1.0697136\\\\\n",
       "\tI563 & 1         & 13279360  & 0.9503766\\\\\n",
       "\tI564 & 1         & 13442194  & 0.9656108\\\\\n",
       "\tI591 & 1         & 14632864  & 1.0340071\\\\\n",
       "\tI592 & 1         & 13237228  & 1.0371891\\\\\n",
       "\tI593 & 1         & 15206349  & 1.0376736\\\\\n",
       "\tI594 & 1         & 14934012  & 1.0624311\\\\\n",
       "\tI861 & 1         &  6163658  & 0.7207903\\\\\n",
       "\tI862 & 1         & 14294163  & 1.0276111\\\\\n",
       "\tI863 & 1         & 12313877  & 0.9798467\\\\\n",
       "\tI864 & 1         &  8892380  & 0.8728270\\\\\n",
       "\tI891 & 1         & 14529417  & 1.0076796\\\\\n",
       "\tI892 & 1         & 15293006  & 0.9838924\\\\\n",
       "\tI893 & 1         & 13123170  & 1.0256562\\\\\n",
       "\tI894 & 1         & 13386153  & 1.0207977\\\\\n",
       "\\end{tabular}\n",
       "\n",
       "\\item[\\$E] \\begin{tabular}{r|llllllllllllllllllllllll}\n",
       "  & C61 & C62 & C63 & C64 & C91 & C92 & C93 & C94 & I561 & I562 & ... & I593 & I594 & I861 & I862 & I863 & I864 & I891 & I892 & I893 & I894\\\\\n",
       "\\hline\n",
       "\tAT1G01010 &  4.5071776   &  4.9775317   &  4.4221260   &  4.8520498   &  4.78438638  &  5.091333    &  4.7980918   &  5.0156611   &  5.5096981   &  5.1341813   & ...          &  5.5069834   &  5.0666962   & 4.67542100   &  5.0498662   &  5.22170772  &  4.6834807   &  5.344888197 &  5.0062474   &  5.4293387   &  5.2129803  \\\\\n",
       "\tAT1G01020 &  3.4533796   &  3.0025557   &  3.7797419   &  3.4202936   &  3.78618638  &  3.527489    &  3.6171374   &  3.3263135   &  3.5360735   &  3.4041021   & ...          &  3.4265448   &  3.6347454   & 2.91537179   &  3.5069415   &  3.27865348  &  2.5888973   &  3.569547499 &  3.7965188   &  3.6910970   &  3.5565385  \\\\\n",
       "\tAT1G01030 &  0.4489879   &  1.5488377   &  1.6560675   &  0.9208825   &  0.97161797  &  1.197678    &  0.7296121   &  1.8144145   &  0.4631730   & -0.9882153   & ...          &  0.2026810   &  0.8273904   & 3.00556960   &  0.2919286   &  0.99249652  &  2.4473432   &  0.920454661 &  0.8980898   &  1.8558111   &  1.2796983  \\\\\n",
       "\tAT1G01040 &  5.6198900   &  5.3695717   &  5.5700650   &  5.5710204   &  6.02366160  &  6.021176    &  5.9459807   &  6.3019072   &  5.8496138   &  5.7870108   & ...          &  5.8407549   &  5.6626662   & 5.87406481   &  5.4352754   &  5.70309213  &  5.6271497   &  5.752884412 &  5.5008701   &  5.8718570   &  5.5461965  \\\\\n",
       "\tAT1G01050 &  6.6570140   &  6.5324097   &  6.4665995   &  6.4676367   &  6.67546084  &  6.634931    &  6.4731749   &  6.4323920   &  6.4790299   &  6.7446870   & ...          &  6.6456245   &  6.8020756   & 6.16574662   &  6.6378724   &  6.50384579  &  6.2343706   &  6.701814375 &  6.7503866   &  6.6451560   &  6.5444656  \\\\\n",
       "\tAT1G01060 &  7.5770136   &  7.8264452   &  7.9046980   &  7.6170281   &  8.56748068  &  8.706232    &  9.1288781   &  9.3118967   &  7.3579907   &  7.0315607   & ...          &  8.2775106   &  8.0675967   & 7.98308081   &  6.8319736   &  6.98465451  &  7.4542982   &  8.156773325 &  8.3645509   &  8.5511310   &  8.1598940  \\\\\n",
       "\tAT1G01070 &  4.3883521   &  4.3740039   &  4.7487594   &  4.6532504   &  3.89695117  &  3.611480    &  3.9485654   &  3.3137683   &  4.7295024   &  5.2354646   & ...          &  4.7996162   &  4.7233515   & 3.92310744   &  4.2996367   &  4.59937379  &  4.3432853   &  4.084538784 &  4.2124047   &  4.1716519   &  4.1851084  \\\\\n",
       "\tAT1G01080 &  2.3675603   &  2.9079188   &  3.5402192   &  2.6071284   &  2.31863704  &  1.483587    &  3.0643075   &  2.8754439   &  2.4002417   &  2.4536222   & ...          &  2.4043149   &  2.6308514   & 4.88796563   &  3.0635124   &  2.70870355  &  4.3981771   &  2.358263468 &  2.4998280   &  2.6868350   &  2.2907534  \\\\\n",
       "\tAT1G01090 &  7.9296549   &  7.9999293   &  7.8531932   &  8.0004158   &  7.65713523  &  7.388044    &  7.7218266   &  7.5840687   &  8.2292574   &  8.0516176   & ...          &  7.9789730   &  7.9545331   & 8.25388055   &  7.8967201   &  8.05660685  &  8.2189347   &  7.985172934 &  8.1445179   &  7.7599149   &  7.7262090  \\\\\n",
       "\tAT1G01100 &  8.2176563   &  7.9616683   &  8.4005277   &  8.1269645   &  8.55855649  &  7.982089    &  8.0493344   &  7.6429232   &  7.7469954   &  8.3356651   & ...          &  8.2169407   &  8.6929778   & 8.27292379   &  8.2972324   &  7.66058553  &  7.8307802   &  8.569416815 &  8.7504961   &  8.3325680   &  8.2440613  \\\\\n",
       "\tAT1G01110 &  3.3628989   &  3.1614124   &  3.3218421   &  3.0643353   &  4.06650591  &  3.543129    &  3.5731493   &  3.1256162   &  2.0943056   &  2.7122244   & ...          &  3.1448604   &  3.4437659   & 2.94606858   &  2.9505482   &  2.47581875  &  2.4172859   &  3.577886800 &  3.6539144   &  3.3027638   &  3.0838789  \\\\\n",
       "\tAT1G01120 &  7.0854356   &  7.9374166   &  7.1892771   &  7.4407332   &  6.20817772  &  6.618417    &  6.9661047   &  7.0142080   &  7.6926952   &  7.5480966   & ...          &  6.8386841   &  6.8115670   & 7.94938676   &  6.9911788   &  7.50029116  &  7.6527711   &  6.809308584 &  6.6840441   &  6.9410390   &  6.9222221  \\\\\n",
       "\tAT1G01130 &  0.3768381   &  0.7257155   &  0.3606117   &  0.1839170   &  0.09292426  & -1.291707    & -0.8553504   & -0.1331181   & -0.9874885   & -0.1402184   & ...          &  0.3588002   &  0.3089233   & 0.07665269   &  0.7172345   & -0.09865137  &  0.2397477   & -0.002924057 & -0.2909440   &  0.4954089   & -0.6552067  \\\\\n",
       "\tAT1G01140 &  0.5832889   &  2.6202223   &  4.1648405   &  1.8809898   &  2.39611579  & -1.085256    &  3.0895080   &  3.0214589   &  0.9385110   &  0.9377841   & ...          &  0.6279869   & -2.5786019   & 5.02367140   &  2.5463499   &  0.80405143  &  5.0738425   &  1.367913638 &  2.3225877   &  2.0803714   &  0.7491835  \\\\\n",
       "\tAT1G01160 &  5.1828712   &  4.8894619   &  5.3091559   &  5.2854550   &  5.11743841  &  5.072596    &  5.1219295   &  5.0000853   &  4.8886192   &  5.2508262   & ...          &  4.9015345   &  5.2929953   & 4.71160333   &  5.0097030   &  5.01259772  &  4.7928741   &  5.209215892 &  5.2879947   &  4.9950393   &  5.1168652  \\\\\n",
       "\tAT1G01170 &  2.4401640   &  3.0476436   &  3.6516079   &  3.0037090   &  3.24201576  &  2.658905    &  3.4520781   &  3.7460275   &  2.4185039   &  3.0297066   & ...          &  2.6954498   &  2.4481981   & 4.72935980   &  2.5635251   &  2.27260444  &  4.0906043   &  2.319004038 &  2.4315220   &  2.8481980   &  2.0517463  \\\\\n",
       "\tAT1G01180 &  4.5029468   &  5.0457928   &  4.2439955   &  4.6253521   &  3.93638948  &  4.461124    &  5.0563412   &  4.6115556   &  4.5874204   &  4.1355612   & ...          &  4.0929887   &  3.8709594   & 5.12104681   &  4.3549384   &  5.06953019  &  4.6515613   &  4.164234510 &  4.0903394   &  4.2077965   &  4.4297579  \\\\\n",
       "\tAT1G01190 &  3.4268262   &  4.0290279   &  2.7170970   &  3.2109852   &  3.56079272  &  3.269948    &  3.2545673   &  3.3874538   &  2.7276728   &  3.0532613   & ...          &  3.9282664   &  4.6975225   & 2.20910299   &  3.1456392   &  2.63517451  &  2.1872803   &  2.926997507 &  2.8267510   &  4.4683499   &  3.5837599  \\\\\n",
       "\tAT1G01200 &  2.9679528   &  2.8749415   &  2.6649457   &  2.8048587   &  2.19401039  &  2.283978    &  2.2930414   &  2.4632492   &  2.9194021   &  2.9690802   & ...          &  2.8742979   &  2.7648059   & 1.42060710   &  2.7699759   &  2.74410889  &  2.0372549   &  2.804430865 &  2.4315220   &  2.4856279   &  2.7730303  \\\\\n",
       "\tAT1G01210 &  3.3814547   &  3.4901618   &  3.4299597   &  3.5866061   &  3.71992853  &  2.821634    &  3.2207526   &  3.0818948   &  3.0656229   &  3.8497279   & ...          &  3.4087884   &  4.1520380   & 2.78560391   &  3.6014375   &  3.25430362  &  2.7662936   &  3.903966538 &  3.8100337   &  3.6123850   &  3.6961223  \\\\\n",
       "\tAT1G01220 &  4.6517687   &  4.8894619   &  4.7106802   &  4.6883447   &  5.35910628  &  5.211201    &  5.1905002   &  5.2041852   &  4.8250098   &  4.7966376   & ...          &  5.0232247   &  4.7807084   & 4.78984091   &  5.0437596   &  4.99800650  &  4.8502453   &  4.983015999 &  5.0295407   &  4.9742058   &  4.9420791  \\\\\n",
       "\tAT1G01225 &  2.5260641   &  2.6399856   &  2.7674287   &  2.2584639   &  2.31863704  &  2.265241    &  2.2930414   &  2.5079875   &  2.4543491   &  2.7415187   & ...          &  2.7944972   &  2.9636561   & 1.99092282   &  2.5804981   &  2.47581875  &  1.9559548   &  2.939994848 &  2.4489041   &  2.7371666   &  2.4570028  \\\\\n",
       "\tAT1G01230 &  5.0786999   &  5.2167463   &  4.7735984   &  5.1296268   &  5.05011994  &  5.083332    &  5.1280233   &  5.0726170   &  5.1703637   &  5.2068697   & ...          &  5.1542155   &  5.0724498   & 4.78135444   &  5.0978107   &  5.36505068  &  5.1071736   &  5.137685377 &  5.3143133   &  5.0852371   &  5.1895452  \\\\\n",
       "\tAT1G01240 &  4.4901795   &  4.5670177   &  4.7653662   &  4.8486066   &  5.26672227  &  5.416183    &  5.3159098   &  5.6705518   &  4.4784860   &  4.7251139   & ...          &  4.7262430   &  4.9713752   & 4.21541676   &  4.2580426   &  4.67010830  &  5.0929830   &  4.213236410 &  4.1393413   &  4.8075560   &  4.6170800  \\\\\n",
       "\tAT1G01250 & -4.9085642   & -1.7523318   & -4.6837825   & -3.2755147   & -4.86127205  & -3.407184    & -3.1772785   & -1.7180806   & -4.8943791   & -3.3101434   & ...          & -4.9266020   & -4.9005300   & 0.28310357   & -0.7498915   & -4.62221333  & -2.5676072   & -4.860905052 & -4.9348002   & -4.7140445   & -4.7426696  \\\\\n",
       "\tAT1G01260 &  4.8379502   &  4.7734686   &  4.6448925   &  4.9355624   &  4.73678045  &  4.787573    &  4.6018936   &  4.8386991   &  4.7073917   &  4.5457632   & ...          &  4.6183624   &  4.6559760   & 4.98723777   &  4.7457284   &  4.89545606  &  4.7692713   &  4.567455120 &  4.7287579   &  4.7016973   &  4.6345410  \\\\\n",
       "\tAT1G01290 &  3.7388943   &  3.5436011   &  3.6336302   &  3.7282375   &  3.82172254  &  3.543129    &  3.6084464   &  3.4345664   &  3.9667079   &  3.8895289   & ...          &  3.7063932   &  4.0681368   & 3.11767996   &  3.7438462   &  3.83311389  &  3.0665988   &  3.968817683 &  3.9324786   &  3.8746702   &  3.9542980  \\\\\n",
       "\tAT1G01300 &  6.3363942   &  6.1294377   &  6.0618919   &  6.0013852   &  6.41775809  &  6.046086    &  6.0855993   &  5.6407276   &  5.6242741   &  6.2009503   & ...          &  6.5876189   &  6.7723373   & 6.11936437   &  6.2049890   &  5.69406820  &  5.9415080   &  6.604151116 &  6.5169261   &  6.4739261   &  6.4939426  \\\\\n",
       "\tAT1G01320 &  4.6208664   &  6.2175686   &  7.4432446   &  5.9810872   &  5.87597529  &  4.272296    &  6.6187611   &  6.4367375   &  5.2966802   &  5.5280100   & ...          &  4.5101095   &  4.5650364   & 8.56325569   &  5.7671988   &  5.26195719  &  7.5158721   &  4.938376569 &  5.0917233   &  5.9872620   &  4.9698574  \\\\\n",
       "\tAT1G01340 &  4.5071776   &  4.8644795   &  4.1073804   &  4.7263626   &  5.14575522  &  5.874359    &  5.4701799   &  5.7998699   &  4.5547696   &  4.0793087   & ...          &  4.8131786   &  4.5236363   & 4.47950079   &  4.0904236   &  5.09031367  &  4.7987150   &  4.579964115 &  4.6407391   &  4.8153861   &  4.9698574  \\\\\n",
       "\t... & ... & ... & ... & ... & ... & ... & ... & ... & ... & ... &     & ... & ... & ... & ... & ... & ... & ... & ... & ... & ...\\\\\n",
       "\tATCG00760 &  3.1303548   &  3.9833451   &  4.69776049  &  3.97557319  &  4.185851863 &  3.5965678   &  3.906643975 &  4.390443856 &  3.7386161   &  3.8362131   & ...          &  4.0188418   &  4.33069116  & 6.6742755    &  4.48682617  &  3.1525737   &  5.6850582   &  3.86360880  &  3.97509290  &  3.95484051  &  4.2824700  \\\\\n",
       "\tATCG00770 &  4.9322138   &  5.4806030   &  6.28128030  &  5.66797694  &  5.578558835 &  5.1124520   &  5.572032276 &  5.870098613 &  5.1404199   &  5.5301100   & ...          &  5.5318046   &  5.96906382  & 8.3051014    &  6.02760554  &  4.6233394   &  7.1494980   &  5.80354223  &  5.57596398  &  5.62914124  &  5.6115798  \\\\\n",
       "\tATCG00780 &  5.6773373   &  6.2241300   &  6.96592280  &  6.33119898  &  6.093651243 &  5.4518328   &  6.228572069 &  6.357971464 &  5.5054329   &  6.2590793   & ...          &  6.1061325   &  6.45976840  & 8.6005162    &  6.52184611  &  5.3158960   &  7.9365497   &  6.27928565  &  6.21558178  &  6.17088917  &  6.1020362  \\\\\n",
       "\tATCG00790 &  6.5957583   &  7.0134870   &  7.86287089  &  7.15109953  &  7.060940669 &  6.3953321   &  7.050337434 &  7.102554262 &  6.4626230   &  7.0789501   & ...          &  6.9746420   &  7.41263645  & 9.2093007    &  7.31714731  &  6.3254236   &  8.6448892   &  7.20820901  &  7.20187058  &  7.03875428  &  6.8483852  \\\\\n",
       "\tATCG00800 &  4.9259069   &  5.8987199   &  6.98908481  &  6.34958531  &  6.337786775 &  5.2851406   &  6.307208758 &  6.356443185 &  5.4309264   &  5.8919804   & ...          &  5.9337091   &  6.32166111  & 8.5780306    &  6.48738873  &  5.1343430   &  7.7112294   &  6.15659935  &  6.28133937  &  6.07955884  &  5.9724344  \\\\\n",
       "\tATCG00810 &  4.0658504   &  5.0531818   &  5.80506188  &  4.99594836  &  4.938009573 &  4.1652001   &  5.078536914 &  5.034897312 &  4.3794165   &  4.9234762   & ...          &  4.7616483   &  5.12599342  & 7.6873936    &  5.40700946  &  4.0677846   &  6.9670199   &  4.83432324  &  4.95242043  &  5.10772951  &  4.7671054  \\\\\n",
       "\tATCG00820 &  2.8125350   &  3.7757036   &  4.35239115  &  3.84342640  &  3.771723149 &  2.8843702   &  3.841385335 &  3.994200730 &  2.9448247   &  3.7666722   & ...          &  3.5369224   &  3.85101404  & 6.5322961    &  3.94728047  &  2.8616024   &  5.8030802   &  3.80797993  &  3.73408480  &  3.83670231  &  3.5747431  \\\\\n",
       "\tATCG00830 & -1.2081244   & -1.1002551   & -0.77689187  & -0.95358657  & -0.613344535 & -2.6702187   & -1.592316008 & -1.066003904 & -2.5724510   & -1.7251809   & ...          & -1.2261623   & -1.44109841  & 1.6616152    & -1.37792276  & -3.0372508   &  0.8918244   & -1.16046533  & -1.76487519  & -2.39211638  & -1.5727446  \\\\\n",
       "\tATCG00860 & -4.9085642   & -4.5596867   & -4.68378246  & -4.86047717  & -4.861272049 & -4.9921468   & -4.762241010 & -4.525435523 & -4.8943791   & -4.8951059   & ...          & -4.9266020   & -4.90053002  & 0.8997749    & -4.83735438  & -4.6222133   & -4.1525697   & -4.86090505  & -4.93480019  & -4.71404447  & -4.7426696  \\\\\n",
       "\tATCG00920 & -0.5162467   &  1.2216730   &  1.46596466  &  0.56578759  &  0.183122071 & -0.9046839   &  0.664023745 &  2.320054528 & -3.3094166   & -2.0877510   & ...          & -1.4671704   & -1.44109841  & 6.6970135    &  0.02062662  & -1.8148584   &  3.1603133   &  0.09329126  &  0.73762516  &  0.04084303  & -0.2191076  \\\\\n",
       "\tATCG00950 & -0.8211013   &  1.8497042   &  1.72560847  & -0.33691521  & -0.003291054 & -1.0852562   &  0.282153110 &  3.005945938 & -2.5724510   & -1.7251809   & ...          & -1.7566770   & -0.99363943  & 7.6668079    &  0.44804784  & -0.9217736   &  4.3591830   & -0.21704886  &  0.19448283  &  0.49540889  & -1.0422298  \\\\\n",
       "\tATCG00960 & -4.9085642   & -2.2377587   & -4.68378246  & -4.86047717  & -4.861272049 & -4.9921468   & -4.762241010 & -2.940473022 & -2.5724510   & -4.8951059   & ...          & -4.9266020   & -4.90053002  & 1.2341940    & -4.83735438  & -4.6222133   & -2.5676072   & -4.86090505  & -4.93480019  & -4.71404447  & -4.7426696  \\\\\n",
       "\tATCG01000 & -2.1012092   & -2.2377587   & -2.36185437  & -2.05312225  & -2.539343954 & -3.4071843   & -4.762241010 & -2.940473022 & -3.3094166   & -3.3101434   & ...          & -4.9266020   & -1.73060502  & 0.2831036    & -3.25239188  & -3.0372508   & -0.4521300   & -1.69098005  & -1.76487519  & -4.71404447  & -3.1577071  \\\\\n",
       "\tATCG01010 & -2.5866361   &  0.3945096   &  0.44550056  & -0.77301433  & -1.160832330 & -2.1847919   & -0.238679054 &  1.357207527 & -1.7244541   & -1.1946662   & ...          & -2.1192471   & -0.14564252  & 7.1779213    &  0.89056607  & -3.0372508   &  3.3788118   & -1.69098005  & -0.68687267  & -0.46611696  & -0.8357790  \\\\\n",
       "\tATCG01020 &  2.8923357   &  4.7509260   &  6.43839844  &  5.45580436  &  5.820844716 &  4.1752714   &  6.098070045 &  6.240264965 &  4.0333989   &  4.6343246   & ...          &  4.2949851   &  4.78070839  & 8.3473972    &  5.80740321  &  3.7658040   &  6.9747799   &  4.92536458  &  5.53178615  &  5.20928301  &  4.9455807  \\\\\n",
       "\tATCG01040 & -3.3236017   & -1.7523318   & -0.43585495  & -3.27551467  & -0.773809207 & -4.9921468   & -1.954886088 & -0.001873566 & -1.7244541   & -0.9882153   & ...          & -1.7566770   & -2.57860193  & 5.2920924    & -0.31379242  & -2.3002852   &  2.1872803   & -4.86090505  & -3.34983769  & -1.54411947  & -3.1577071  \\\\\n",
       "\tATCG01050 & -0.5162467   &  0.7978653   &  1.19886059  &  0.42492505  &  1.708583560 &  0.2932554   &  0.910184332 &  3.399376981 &  0.8869807   &  0.8328145   & ...          & -0.0686210   &  1.28929454  & 8.2660971    &  2.15133031  &  0.2357677   &  4.4948887   & -0.33734310  & -0.84733735  &  0.41523854  &  0.3866135  \\\\\n",
       "\tATCG01060 & -0.8211013   &  0.3945096   & -0.03992627  & -0.21662098  & -0.773809207 & -1.0852562   & -0.855350414 &  1.405301815 & -1.4349474   & -0.5027885   & ...          & -1.0197114   & -0.81306718  & 7.3135868    &  0.71723447  & -2.3002852   &  4.2005771   & -0.61297754  & -1.76487519  & -1.54411947  & -1.0422298  \\\\\n",
       "\tATCG01070 & -2.5866361   & -0.4722239   & -0.77689187  & -1.16003745  & -0.954381453 & -1.2917071   & -0.855350414 &  1.202484932 & -0.1394916   & -1.1946662   & ...          & -3.3416395   & -1.73060502  & 6.3916280    &  0.44804784  & -3.0372508   &  2.4473432   & -3.27594255  & -1.23436047  & -3.12908197  & -1.9353146  \\\\\n",
       "\tATCG01080 & -0.2647080   &  0.7257155   &  1.38230673  &  0.09371914  &  0.183122071 &  0.9385906   &  0.595310995 &  2.216031464 &  0.1500151   &  0.5967472   & ...          &  0.2828514   &  0.05366629  & 7.8815283    &  0.65449872  & -0.5347505   &  4.1282011   & -0.61297754  & -0.68687267  &  0.33034965  & -0.3503521  \\\\\n",
       "\tATCG01090 & -0.6606366   &  0.6497666   &  0.07110504  &  0.09371914  &  1.069465289 &  0.7357737   &  0.910184332 &  1.357207527 & -0.5020616   & -0.1402184   & ...          & -0.1717145   &  0.59132307  & 7.3825391    &  1.13992554  & -0.7153227   &  3.7239473   &  0.34854831  & -1.02790959  &  0.14393652  &  0.7491835  \\\\\n",
       "\tATCG01100 &  2.2309872   &  3.5224623   &  3.70423482  &  3.24281064  &  3.231485092 &  2.8470570   &  3.220752565 &  4.143449462 &  3.2089088   &  3.3575595   & ...          &  2.8081076   &  3.49607476  & 9.0448764    &  3.93413509  &  2.1722025   &  6.1950517   &  2.96564343  &  2.39611669  &  2.84819795  &  2.9226664  \\\\\n",
       "\tATCG01110 &  3.8295281   &  4.2444443   &  4.84564809  &  4.30694098  &  4.107394745 &  3.6408484   &  3.757395243 &  4.454704055 &  3.9790651   &  4.3833435   & ...          &  3.8182318   &  4.26688812  & 8.2330275    &  4.67637322  &  3.3493302   &  6.2300543   &  3.93025784  &  4.14468460  &  3.94773362  &  3.8309776  \\\\\n",
       "\tATCG01120 &  2.4923153   &  2.8749415   &  3.71282232  &  3.52754012  &  3.447066982 &  3.0022067   &  2.972468610 &  3.262467037 &  3.0999744   &  3.2996509   & ...          &  3.3354928   &  3.72517882  & 5.5685058    &  3.54202399  &  2.6724074   &  4.3352703   &  3.29391306  &  3.76216734  &  3.29158008  &  3.6877830  \\\\\n",
       "\tATCG01130 &  6.5957583   &  6.8115454   &  7.84832991  &  7.54758715  &  7.696430965 &  6.8901141   &  7.055142418 &  7.389323316 &  6.9608788   &  7.2332107   & ...          &  7.1907164   &  7.76769018  & 8.5237359    &  7.66174406  &  6.5243553   &  7.8921659   &  7.36520605  &  7.77147997  &  7.23103352  &  7.6024584  \\\\\n",
       "\tATCG01170 & -4.9085642   & -4.5596867   & -4.68378246  & -4.86047717  & -4.861272049 & -4.9921468   & -4.762241010 & -2.940473022 & -4.8943791   & -4.8951059   & ...          & -4.9266020   & -4.90053002  & 1.3304093    & -3.25239188  & -4.6222133   & -2.5676072   & -4.86090505  & -4.93480019  & -4.71404447  & -4.7426696  \\\\\n",
       "\tATCG01180 &  0.2207189   &  2.2858033   &  2.25873204  &  0.75423267  &  0.348181317 & -0.5998294   &  1.745553630 &  3.879705941 & -0.6464515   & -0.2512497   & ...          &  0.1177921   & -1.20009031  & 8.7493500    &  1.31239274  & -0.2298959   &  5.2504423   &  0.26837796  &  0.94784286  &  1.39447998  & -0.2191076  \\\\\n",
       "\tATCG01210 & -1.4491325   &  1.3229563   &  1.97442902  & -0.10558967  & -0.003291054 & -0.3482906   & -0.007353508 &  2.344929197 & -1.4349474   & -2.5731778   & ...          & -0.8391392   & -3.31556752  & 7.0245706    &  0.37209899  & -3.0372508   &  3.5127662   &  0.18348907  &  0.01939612  &  0.04084303  & -1.2832379  \\\\\n",
       "\tATCG01250 & -4.9085642   & -2.9747242   & -4.68378246  & -2.53854907  & -4.861272049 & -4.9921468   & -4.762241010 & -4.525435523 & -4.8943791   & -4.8951059   & ...          & -4.9266020   & -4.90053002  & 0.2831036    & -3.25239188  & -4.6222133   & -4.1525697   & -4.86090505  & -4.93480019  & -4.71404447  & -4.7426696  \\\\\n",
       "\tATCG01310 & -2.5866361   & -1.3897617   & -0.98334274  & -2.05312225  & -2.053917127 & -4.9921468   & -0.855350414 & -2.203507428 & -2.5724510   & -2.5731778   & ...          & -2.6046739   & -0.37696807  & 1.1311005    & -2.51542628  & -1.8148584   &  0.4912865   & -1.69098005  & -2.61287209  & -1.54411947  & -2.4207415  \\\\\n",
       "\\end{tabular}\n",
       "\n",
       "\\item[\\$weights] \\begin{tabular}{llllllllllllllllllllllll}\n",
       "\t 18.8494667 & 16.8748698 & 17.5845489 & 18.5818106 & 19.8775135 & 20.580249  & 19.3421327 & 18.0024254 & 21.6948485 & 21.698226  & ...        & 22.3980489 & 22.2960601 & 12.7897494 & 19.6662962 & 18.4698834 & 15.7908697 & 21.5492146 & 21.8930185 & 20.8280572 & 20.9779502\\\\\n",
       "\t 11.6622018 &  9.9300566 & 10.5192111 & 11.4127044 & 12.2134682 & 12.927963  & 11.6828451 & 10.4796504 & 11.5806120 & 11.584359  & ...        & 12.8344574 & 12.6917865 &  5.3635167 &  9.6396136 &  8.7119147 &  6.9445631 & 12.6964915 & 13.1063013 & 11.8986812 & 12.0525319\\\\\n",
       "\t  3.8913730 &  3.2318197 &  3.4574319 &  3.7964319 &  3.8663362 &  4.135327  &  3.6702437 &  3.2324915 &  3.1764024 &  3.177642  & ...        &  2.5863986 &  2.5484810 &  2.5970431 &  4.9252943 &  4.4273266 &  3.4753652 &  3.9864759 &  4.1414111 &  3.6936203 &  3.7502044\\\\\n",
       "\t 22.8734025 & 21.4713287 & 22.0440167 & 22.7285982 & 23.9568336 & 24.094449  & 23.8080370 & 23.3250105 & 23.6066281 & 23.608336  & ...        & 23.4371195 & 23.3765215 & 17.0721449 & 23.0436411 & 22.2984545 & 20.0368186 & 23.1403408 & 23.3345825 & 22.6924293 & 22.7811858\\\\\n",
       "\t 24.1734907 & 24.1175982 & 24.1761182 & 24.1817533 & 24.1789986 & 24.108478  & 24.1904300 & 24.1093313 & 24.1850078 & 24.184924  & ...        & 24.0435416 & 24.0704444 & 21.0740215 & 24.1799515 & 24.0337022 & 23.1684951 & 24.1235604 & 24.0786108 & 24.1837030 & 24.1803992\\\\\n",
       "\t 22.7307552 & 23.2167325 & 23.0445487 & 22.7978523 & 20.8627886 & 20.618825  & 21.0465748 & 21.4670824 & 23.2646793 & 23.263684  & ...        & 22.0207689 & 22.0613052 & 23.9598046 & 23.4090383 & 23.6989035 & 24.1572609 & 21.9455912 & 21.8235041 & 22.1741691 & 22.1293836\\\\\n",
       "\t 18.0129998 & 16.0244333 & 16.7354055 & 17.7409517 & 12.9142629 & 13.647857  & 12.3766499 & 11.1183813 & 18.7830589 & 18.787124  & ...        & 18.7149360 & 18.5705211 &  9.6637908 & 16.1876440 & 14.9493693 & 12.3151687 & 15.5880658 & 16.0096214 & 14.7428148 & 14.9063330\\\\\n",
       "\t  9.0062327 &  7.6207552 &  8.0900895 &  8.8016913 &  7.1909609 &  7.665534  &  6.8517787 &  6.1023333 & 10.0336878 & 10.037060  & ...        &  7.9913437 &  7.8913486 &  7.5204761 & 13.1841919 & 12.0023192 &  9.6730021 &  7.2721743 &  7.5402728 &  6.7689318 &  6.8647850\\\\\n",
       "\t 22.4237397 & 22.9188746 & 22.7450778 & 22.4940335 & 22.9976030 & 22.814436  & 23.1348291 & 23.4604338 & 22.2831117 & 22.282043  & ...        & 22.5048302 & 22.5417884 & 23.9449858 & 22.2916091 & 22.6040879 & 23.2603065 & 22.5527439 & 22.4468760 & 22.7612295 & 22.7213386\\\\\n",
       "\t 22.0755386 & 22.5932096 & 22.4146701 & 22.1506091 & 22.3275121 & 22.129984  & 22.4739607 & 22.8091959 & 22.4524564 & 22.451378  & ...        & 21.5539411 & 21.5991102 & 24.0387276 & 22.4261509 & 22.7339122 & 23.3854726 & 21.6722997 & 21.5449354 & 21.9138919 & 21.8665392\\\\\n",
       "\t 10.7070717 &  9.1029437 &  9.6468089 & 10.4717300 & 12.2843346 & 12.999489  & 11.7498814 & 10.5426699 &  6.9375425 &  6.940031  & ...        & 11.8105362 & 11.6738132 &  4.4601194 &  8.0716491 &  7.2715312 &  5.7808581 & 11.3652866 & 11.7502497 & 10.6215565 & 10.7616340\\\\\n",
       "\t 23.1741341 & 23.6505150 & 23.4822919 & 23.2403540 & 24.0982195 & 23.982414  & 24.1585443 & 24.1820060 & 23.0701780 & 23.069171  & ...        & 24.0449046 & 24.0714131 & 24.1442635 & 23.1198810 & 23.4162623 & 24.0008188 & 23.9760580 & 23.9002784 & 24.1041813 & 24.0867741\\\\\n",
       "\t  2.6149124 &  2.1493193 &  2.3041839 &  2.5447833 &  1.5017156 &  1.608359  &  1.4272804 &  1.2683566 &  1.6374032 &  1.638041  & ...        &  2.2379590 &  2.2054968 &  1.1961229 &  2.2725916 &  2.0140344 &  1.5591341 &  1.8959101 &  1.9755937 &  1.7486999 &  1.7762275\\\\\n",
       "\t  6.9304055 &  5.8437708 &  6.2082485 &  6.7684277 &  5.4176669 &  5.774063  &  5.1611038 &  4.5951317 &  7.7885830 &  7.791305  & ...        &  2.0997976 &  2.0691727 &  6.1768526 & 11.0223238 &  9.9783405 &  7.9929229 &  4.8506715 &  5.0302000 &  4.5117860 &  4.5767495\\\\\n",
       "\t 21.3934376 & 19.5659597 & 20.2495757 & 21.1693381 & 20.7079477 & 21.369984  & 20.1919059 & 18.8784866 & 20.5364122 & 20.540136  & ...        & 20.8791578 & 20.7433823 & 12.6484972 & 19.5262538 & 18.3262180 & 15.6439186 & 21.0948665 & 21.4472944 & 20.3346063 & 20.4800696\\\\\n",
       "\t  9.7968631 &  8.3122447 &  8.8159059 &  9.5782911 & 10.7062985 & 11.372617  & 10.2253600 &  9.1575917 & 10.7785437 & 10.782138  & ...        &  8.3872493 &  8.2849022 &  6.3367323 & 11.2909132 & 10.2217468 &  8.1973644 &  7.1102436 &  7.3708673 &  6.6173991 &  6.7105729\\\\\n",
       "\t 18.3784813 & 16.3966886 & 17.0989666 & 18.1008995 & 17.6074056 & 18.353037  & 17.0426724 & 15.6863903 & 18.1839936 & 18.188195  & ...        & 15.6012017 & 15.4556317 & 12.1997202 & 19.0663201 & 17.8529855 & 15.1723725 & 15.9270045 & 16.3600879 & 15.0858721 & 15.2541669\\\\\n",
       "\t 11.3075380 &  9.6207988 & 10.1910855 & 11.0586343 & 11.1768277 & 11.860728  & 10.6789050 &  9.5664455 &  8.3063153 &  8.309157  & ...        & 14.3472309 & 14.1940889 &  4.1302062 &  7.4956604 &  6.7475587 &  5.3651425 & 11.6093830 & 11.9994187 & 10.8520401 & 10.9959337\\\\\n",
       "\t  8.8885875 &  7.5185706 &  7.9829111 &  8.6869568 &  6.7585765 &  7.204794  &  6.4402135 &  5.7356941 &  7.8359068 &  7.838649  & ...        &  8.5074462 &  8.4032652 &  3.5303207 &  6.4700248 &  5.8241903 &  4.6282011 &  7.8780053 &  8.1649607 &  7.3359093 &  7.4394524\\\\\n",
       "\t 11.9689967 & 10.2003889 & 10.8039083 & 11.7141640 & 10.3948933 & 11.042000  &  9.9282900 &  8.8875210 & 10.7082996 & 10.711864  & ...        & 13.8587636 & 13.7121025 &  5.4411949 &  9.7740189 &  8.8351275 &  7.0449539 & 13.2676549 & 13.6789501 & 12.4565724 & 12.6096937\\\\\n",
       "\t 19.1062761 & 17.1364652 & 17.8381040 & 18.8340621 & 21.5181543 & 22.109420  & 21.0435961 & 19.7845425 & 19.5763740 & 19.580296  & ...        & 20.5504180 & 20.4173074 & 12.8604630 & 19.7361451 & 18.5403730 & 15.8643156 & 20.2079648 & 20.5930711 & 19.4041496 & 19.5576439\\\\\n",
       "\t  7.7725438 &  6.5564792 &  6.9676844 &  7.5952305 &  6.8847835 &  7.338335  &  6.5590170 &  5.8427359 &  7.4976410 &  7.500320  & ...        &  8.5043117 &  8.4001787 &  3.5448131 &  6.4945894 &  5.8466185 &  4.6459393 &  7.9625407 &  8.2533678 &  7.4157419 &  7.5206979\\\\\n",
       "\t 20.8063012 & 18.9117596 & 19.6038950 & 20.5578227 & 20.7364934 & 21.395126  & 20.2228404 & 18.9095270 & 21.2809039 & 21.284201  & ...        & 21.4351111 & 21.3162125 & 13.7977376 & 20.6352240 & 19.4779907 & 16.8235923 & 21.2448064 & 21.5825384 & 20.4841095 & 20.6309121\\\\\n",
       "\t 18.7268158 & 16.7501470 & 17.4635401 & 18.4613310 & 22.2848247 & 22.777778  & 21.8761995 & 20.7260348 & 18.7396009 & 18.743654  & ...        & 18.9905218 & 18.8434465 & 10.9393032 & 17.7125321 & 16.4915256 & 13.7981487 & 17.1975175 & 17.6156183 & 16.3631613 & 16.5227772\\\\\n",
       "\t  0.3970154 &  0.3483859 &  0.3648041 &  0.3898447 &  0.4485073 &  0.472122  &  0.4315865 &  0.3941575 &  0.5607389 &  0.560905  & ...        &  0.2972635 &  0.2945236 &  0.4736928 &  0.7823436 &  0.7132418 &  0.5860201 &  0.2716192 &  0.2716192 &  0.2716192 &  0.2716192\\\\\n",
       "\t 19.4590871 & 17.4969876 & 18.1974816 & 19.1911460 & 18.8732022 & 19.603533  & 18.3237064 & 16.9738783 & 18.1763755 & 18.180575  & ...        & 18.9982250 & 18.8510752 & 12.4753770 & 19.3536631 & 18.1390920 & 15.4633710 & 18.4107932 & 18.8193253 & 17.5770887 & 17.7365464\\\\\n",
       "\t 13.0017741 & 11.1320145 & 11.7789617 & 12.7359147 & 12.4224797 & 13.139657  & 11.8813002 & 10.6641123 & 13.6691630 & 13.673210  & ...        & 14.2288631 & 14.0772967 &  6.4193153 & 11.4296803 & 10.3475060 &  8.3021274 & 14.2683931 & 14.6856317 & 13.4375446 & 13.5946442\\\\\n",
       "\t 24.0686262 & 23.5422821 & 23.7761284 & 24.0180158 & 23.9294711 & 24.067412  & 23.7657976 & 23.2657743 & 23.4425141 & 23.444207  & ...        & 24.0987285 & 24.1145924 & 18.9366763 & 23.7947059 & 23.3564599 & 21.7032269 & 24.1827056 & 24.1627735 & 24.1863144 & 24.1963572\\\\\n",
       "\t 23.9985819 & 23.3870426 & 23.6668061 & 23.9481554 & 23.4727645 & 23.738344  & 23.2431935 & 22.4719962 & 24.1877580 & 24.187674  & ...        & 19.4264236 & 19.2827910 & 22.7518403 & 24.0642510 & 24.1808425 & 23.9517917 & 21.5420348 & 21.8856952 & 20.8199329 & 20.9697527\\\\\n",
       "\t 18.0717103 & 16.0841464 & 16.7935446 & 17.7985555 & 22.8510809 & 23.246660  & 22.5051323 & 21.4972732 & 17.7062655 & 17.710329  & ...        & 19.2639709 & 19.1142462 & 11.2238308 & 18.0269255 & 16.8038803 & 14.1157723 & 18.9288964 & 19.3510526 & 18.1039578 & 18.2694193\\\\\n",
       "\t ... & ... & ... & ... & ... & ... & ... & ... & ... & ... &     & ... & ... & ... & ... & ... & ... & ... & ... & ... & ...\\\\\n",
       "\t 14.6178334 & 12.6537124 & 13.3484282 & 14.3495148 & 14.7637020 & 15.5192090 & 14.2019128 & 12.8663334 & 16.0065845 & 16.0108005 & ...        & 15.9124668 & 15.7632617 & 13.3075847 & 20.1738834 & 18.9826532 & 16.3268800 & 14.7566522 & 15.1839294 & 13.9189893 & 14.0831665\\\\\n",
       "\t 23.0492345 & 21.7388348 & 22.2680204 & 22.9030386 & 22.7329284 & 23.1298383 & 22.3508760 & 21.3179180 & 23.5183913 & 23.5200909 & ...        & 23.4342157 & 23.3736271 & 21.7386851 & 24.1849450 & 24.1449262 & 23.5118533 & 23.1008278 & 23.3047502 & 22.6410820 & 22.7424378\\\\\n",
       "\t 24.1730552 & 23.8475161 & 24.0082172 & 24.1503613 & 23.9053588 & 24.0521006 & 23.7418912 & 23.2313149 & 24.1922672 & 24.1926108 & ...        & 24.1546931 & 24.1423972 & 23.6021333 & 23.7047338 & 23.9597715 & 24.1910360 & 24.0812893 & 24.1346256 & 23.9247872 & 23.9570058\\\\\n",
       "\t 23.5263795 & 23.9602075 & 23.8195697 & 23.5915404 & 23.9109157 & 23.7506232 & 24.0125973 & 24.1775603 & 23.4829569 & 23.4819760 & ...        & 23.5327881 & 23.5681014 & 24.1378062 & 22.6286017 & 22.9316585 & 23.5773218 & 23.6995358 & 23.6012839 & 23.8841993 & 23.8480652\\\\\n",
       "\t 23.9724881 & 23.3293941 & 23.6188567 & 23.9170039 & 23.9552238 & 24.0928278 & 23.8055030 & 23.3214551 & 24.1516099 & 24.1519528 & ...        & 24.0233886 & 23.9959964 & 23.3317645 & 23.8504262 & 24.0757521 & 24.1363078 & 24.0081734 & 24.0859614 & 23.8098598 & 23.8571351\\\\\n",
       "\t 20.4475688 & 18.5239939 & 19.2218903 & 20.1932209 & 19.2313313 & 19.9473274 & 18.6714670 & 17.3409536 & 21.8735376 & 21.8769496 & ...        & 20.3457298 & 20.2042256 & 19.1776165 & 23.8645839 & 23.4548150 & 21.9010447 & 19.8371998 & 20.2477545 & 19.0254460 & 19.1889558\\\\\n",
       "\t 13.1992142 & 11.3135894 & 11.9646299 & 12.9283118 & 12.5339534 & 13.2592416 & 11.9934724 & 10.7669384 & 14.5619223 & 14.5659835 & ...        & 12.7809793 & 12.6390500 & 12.1273549 & 18.9912812 & 17.7786003 & 15.0949717 & 13.1690354 & 13.5832735 & 12.3626014 & 12.5171436\\\\\n",
       "\t  1.2201234 &  1.0350794 &  1.0965201 &  1.1922466 &  0.9559299 &  1.0146664 &  0.9142458 &  0.8232090 &  0.9392110 &  0.9395188 & ...        &  1.0057025 &  0.9937855 &  0.8672656 &  1.5474147 &  1.3855323 &  1.1032533 &  0.8596238 &  0.8882869 &  0.8059285 &  0.8160783\\\\\n",
       "\t  0.2716192 &  0.2716192 &  0.2716192 &  0.2716192 &  0.2716192 &  0.2716192 &  0.2716192 &  0.2716192 &  0.2979678 &  0.2980448 & ...        &  0.2716192 &  0.2716192 &  0.2950598 &  0.4643919 &  0.4270792 &  0.3575109 &  0.2716192 &  0.2716192 &  0.2716192 &  0.2716192\\\\\n",
       "\t  3.0413902 &  2.5045290 &  2.6848387 &  2.9618140 &  2.7742418 &  2.9830743 &  2.6257966 &  2.2983441 &  1.5756584 &  1.5762611 & ...        &  1.1050870 &  1.0916771 &  3.1212488 &  5.7897427 &  5.2124554 &  4.1307566 &  2.2133345 &  2.3073274 &  2.0381223 &  2.0711452\\\\\n",
       "\t  2.9104837 &  2.3948754 &  2.5677222 &  2.8338197 &  2.7499577 &  2.9573634 &  2.6029641 &  2.2780090 &  1.9053687 &  1.9061399 & ...        &  0.9520169 &  0.9408735 &  4.9012860 &  8.8406079 &  7.9764381 &  6.3455595 &  1.8657169 &  1.9440608 &  1.7214216 &  1.7484093\\\\\n",
       "\t  0.3274980 &  0.2889944 &  0.3020133 &  0.3218311 &  0.2978557 &  0.3121349 &  0.2875865 &  0.2716192 &  0.3183212 &  0.3184048 & ...        &  0.2716192 &  0.2716192 &  0.3510862 &  0.5626790 &  0.5158160 &  0.4287650 &  0.2716192 &  0.2716192 &  0.2716192 &  0.2716192\\\\\n",
       "\t  0.7169124 &  0.6190496 &  0.6519078 &  0.7023630 &  0.4278778 &  0.4501743 &  0.4118964 &  0.3765069 &  0.5249344 &  0.5250880 & ...        &  0.4636809 &  0.4589619 &  0.5337927 &  0.8924311 &  0.8116006 &  0.6636857 &  0.5381027 &  0.5544471 &  0.5072633 &  0.5130974\\\\\n",
       "\t  1.4740914 &  1.2384883 &  1.3161545 &  1.4383113 &  1.4939659 &  1.5999163 &  1.4200800 &  1.2621931 &  1.8820771 &  1.8828366 & ...        &  0.9910843 &  0.9793831 &  3.2720691 &  6.0400153 &  5.4386407 &  4.3146352 &  1.2452532 &  1.2911003 &  1.1604163 &  1.1763639\\\\\n",
       "\t 19.9286837 & 17.9810357 & 18.6811635 & 19.6655910 & 22.8845433 & 23.2721910 & 22.5488790 & 21.5481991 & 22.8680430 & 22.8702401 & ...        & 19.4410962 & 19.2986569 & 20.2333449 & 24.0900939 & 23.8255891 & 22.6701896 & 21.0987061 & 21.4506141 & 20.3382737 & 20.4837698\\\\\n",
       "\t  0.7143627 &  0.6169077 &  0.6496331 &  0.6998774 &  0.7848540 &  0.8310169 &  0.7519647 &  0.6797579 &  1.2716657 &  1.2721184 & ...        &  0.5640794 &  0.5581187 &  1.9962993 &  3.8941950 &  3.4784831 &  2.6860546 &  0.4595866 &  0.4731381 &  0.4340361 &  0.4388845\\\\\n",
       "\t  2.7100573 &  2.2282305 &  2.3897130 &  2.6388095 &  4.7282169 &  5.0428438 &  4.5027582 &  3.9944024 &  4.9500351 &  4.9518264 & ...        &  2.7717550 &  2.7317226 &  7.6040193 & 13.3128033 & 12.1239837 &  9.7754854 &  1.9146943 &  1.9951671 &  1.7656649 &  1.7935396\\\\\n",
       "\t  1.8857094 &  1.5612515 &  1.6676887 &  1.8361875 &  1.6866638 &  1.8112587 &  1.5995697 &  1.4148247 &  2.0192872 &  2.0201080 & ...        &  1.2542373 &  1.2384069 &  4.0011405 &  7.2732656 &  6.5479360 &  5.2057400 &  1.0691303 &  1.1066804 &  0.9991332 &  1.0123151\\\\\n",
       "\t  1.0891342 &  0.9282833 &  0.9818929 &  1.0650006 &  1.5593124 &  1.6716526 &  1.4808585 &  1.3140925 &  1.7671499 &  1.7678513 & ...        &  0.7800631 &  0.7713189 &  2.4247280 &  4.6378182 &  4.1658531 &  3.2521684 &  0.6442918 &  0.6645874 &  0.6061372 &  0.6133668\\\\\n",
       "\t  2.7220023 &  2.2381396 &  2.4002559 &  2.6503630 &  3.4894694 &  3.7387071 &  3.3062817 &  2.9038228 &  3.9839249 &  3.9854121 & ...        &  2.4640591 &  2.4283660 &  5.2589843 &  9.4597167 &  8.5475558 &  6.8088249 &  1.6838891 &  1.7527135 &  1.5573078 &  1.5809096\\\\\n",
       "\t  2.1198823 &  1.7463664 &  1.8695579 &  2.0631628 &  3.5538370 &  3.8088860 &  3.3695932 &  2.9598966 &  3.1106272 &  3.1118854 & ...        &  2.1552213 &  2.1238033 &  4.8884241 &  8.8182770 &  7.9560539 &  6.3290332 &  2.0810941 &  2.1694854 &  1.9171362 &  1.9480424\\\\\n",
       "\t 10.4501711 &  8.8803899 &  9.4119030 & 10.2187287 & 11.1380929 & 11.8209599 & 10.6423142 &  9.5327751 & 13.3867380 & 13.3906804 & ...        & 10.2698607 & 10.1462864 & 15.2225458 & 21.8496410 & 20.8091532 & 18.2402653 &  8.5050705 &  8.8091424 &  7.9261961 &  8.0366761\\\\\n",
       "\t 16.6808357 & 14.6797664 & 15.3992738 & 16.4127338 & 14.5955993 & 15.3524253 & 14.0292984 & 12.7029666 & 17.9082061 & 17.9123281 & ...        & 14.8273838 & 14.6793435 & 16.8553151 & 22.9289630 & 22.1519869 & 19.8287895 & 14.4450922 & 14.8610831 & 13.6069361 & 13.7665187\\\\\n",
       "\t 10.3376093 &  8.7824227 &  9.3102913 & 10.1092703 & 10.2031930 & 10.8405312 &  9.7469130 &  8.7194206 & 11.7857632 & 11.7895936 & ...        & 12.2206558 & 12.0779814 &  8.5425195 & 14.6830349 & 13.4656661 & 10.9352598 & 11.9109305 & 12.3137247 & 11.1429730 & 11.2917129\\\\\n",
       "\t 23.4656036 & 23.9140611 & 23.7629862 & 23.5305541 & 23.4525892 & 23.2729090 & 23.5865016 & 23.8907215 & 23.2519087 & 23.2509144 & ...        & 23.0080743 & 23.0441236 & 24.1952736 & 22.9437006 & 23.2416926 & 23.8656084 & 23.1300452 & 23.0275795 & 23.3323147 & 23.2930307\\\\\n",
       "\t  0.2716192 &  0.2716192 &  0.2716192 &  0.2716192 &  0.2978557 &  0.3121349 &  0.2875865 &  0.2716192 &  0.2979678 &  0.2980448 & ...        &  0.3175567 &  0.3145831 &  0.4112504 &  0.6697144 &  0.6121643 &  0.5057436 &  0.2716192 &  0.2716192 &  0.2716192 &  0.2716192\\\\\n",
       "\t  4.3872532 &  3.6682764 &  3.9140920 &  4.2830376 &  4.2077174 &  4.4924520 &  3.9992460 &  3.5341438 &  4.2981315 &  4.2996905 & ...        &  1.7190772 &  1.6949893 &  7.5426451 & 13.2183412 & 12.0346184 &  9.7003269 &  2.8242855 &  2.9422448 &  2.6026886 &  2.6442657\\\\\n",
       "\t  2.6496224 &  2.1781034 &  2.3355881 &  2.5794452 &  2.6695472 &  2.8721228 &  2.5254460 &  2.2106919 &  2.0634935 &  2.0643368 & ...        &  1.0654668 &  1.0526543 &  3.0396654 &  5.6560189 &  5.0926609 &  4.0301681 &  1.7490805 &  1.8213043 &  1.6159234 &  1.6408559\\\\\n",
       "\t  0.3792110 &  0.3332021 &  0.3487383 &  0.3724258 &  0.2716192 &  0.2716192 &  0.2716192 &  0.2716192 &  0.2716192 &  0.2716192 & ...        &  0.2716192 &  0.2716192 &  0.3218239 &  0.5111659 &  0.4693399 &  0.3914888 &  0.2716192 &  0.2716192 &  0.2716192 &  0.2716192\\\\\n",
       "\t  0.8661119 &  0.7438921 &  0.7848451 &  0.8479091 &  0.6098294 &  0.6439380 &  0.5854419 &  0.5316597 &  0.9291523 &  0.9294559 & ...        &  0.8941961 &  0.8838635 &  0.7903987 &  1.3880507 &  1.2478471 &  1.0003222 &  0.7398333 &  0.7637591 &  0.6949077 &  0.7034096\\\\\n",
       "\\end{tabular}\n",
       "\n",
       "\\item[\\$design] \\begin{tabular}{r|llllll}\n",
       " grupyC.6 & grupyI5.6 & grupyI8.6 & grupyC.9 & grupyI5.9 & grupyI8.9\\\\\n",
       "\\hline\n",
       "\t 1 & 0 & 0 & 0 & 0 & 0\\\\\n",
       "\t 1 & 0 & 0 & 0 & 0 & 0\\\\\n",
       "\t 1 & 0 & 0 & 0 & 0 & 0\\\\\n",
       "\t 1 & 0 & 0 & 0 & 0 & 0\\\\\n",
       "\t 0 & 0 & 0 & 1 & 0 & 0\\\\\n",
       "\t 0 & 0 & 0 & 1 & 0 & 0\\\\\n",
       "\t 0 & 0 & 0 & 1 & 0 & 0\\\\\n",
       "\t 0 & 0 & 0 & 1 & 0 & 0\\\\\n",
       "\t 0 & 1 & 0 & 0 & 0 & 0\\\\\n",
       "\t 0 & 1 & 0 & 0 & 0 & 0\\\\\n",
       "\t 0 & 1 & 0 & 0 & 0 & 0\\\\\n",
       "\t 0 & 1 & 0 & 0 & 0 & 0\\\\\n",
       "\t 0 & 0 & 0 & 0 & 1 & 0\\\\\n",
       "\t 0 & 0 & 0 & 0 & 1 & 0\\\\\n",
       "\t 0 & 0 & 0 & 0 & 1 & 0\\\\\n",
       "\t 0 & 0 & 0 & 0 & 1 & 0\\\\\n",
       "\t 0 & 0 & 1 & 0 & 0 & 0\\\\\n",
       "\t 0 & 0 & 1 & 0 & 0 & 0\\\\\n",
       "\t 0 & 0 & 1 & 0 & 0 & 0\\\\\n",
       "\t 0 & 0 & 1 & 0 & 0 & 0\\\\\n",
       "\t 0 & 0 & 0 & 0 & 0 & 1\\\\\n",
       "\t 0 & 0 & 0 & 0 & 0 & 1\\\\\n",
       "\t 0 & 0 & 0 & 0 & 0 & 1\\\\\n",
       "\t 0 & 0 & 0 & 0 & 0 & 1\\\\\n",
       "\\end{tabular}\n",
       "\n",
       "\\end{description}\n"
      ],
      "text/markdown": [
       "$targets\n",
       ":   \n",
       "| <!--/--> | group | lib.size | norm.factors |\n",
       "|---|---|---|---|\n",
       "| C61 | 1         | 15017409  | 1.0466541 |\n",
       "| C62 | 1         | 11791592  | 0.9517416 |\n",
       "| C63 | 1         | 12850765  | 1.0535991 |\n",
       "| C64 | 1         | 14525109  | 1.0424665 |\n",
       "| C91 | 1         | 14533114  | 1.0943189 |\n",
       "| C92 | 1         | 15913141  | 1.0623834 |\n",
       "| C93 | 1         | 13568985  | 1.0273956 |\n",
       "| C94 | 1         | 11514943  | 0.9887328 |\n",
       "| I561 | 1         | 14870476  | 1.0140387 |\n",
       "| I562 | 1         | 14877970  | 1.0697136 |\n",
       "| I563 | 1         | 13279360  | 0.9503766 |\n",
       "| I564 | 1         | 13442194  | 0.9656108 |\n",
       "| I591 | 1         | 14632864  | 1.0340071 |\n",
       "| I592 | 1         | 13237228  | 1.0371891 |\n",
       "| I593 | 1         | 15206349  | 1.0376736 |\n",
       "| I594 | 1         | 14934012  | 1.0624311 |\n",
       "| I861 | 1         |  6163658  | 0.7207903 |\n",
       "| I862 | 1         | 14294163  | 1.0276111 |\n",
       "| I863 | 1         | 12313877  | 0.9798467 |\n",
       "| I864 | 1         |  8892380  | 0.8728270 |\n",
       "| I891 | 1         | 14529417  | 1.0076796 |\n",
       "| I892 | 1         | 15293006  | 0.9838924 |\n",
       "| I893 | 1         | 13123170  | 1.0256562 |\n",
       "| I894 | 1         | 13386153  | 1.0207977 |\n",
       "\n",
       "\n",
       "$E\n",
       ":   \n",
       "| <!--/--> | C61 | C62 | C63 | C64 | C91 | C92 | C93 | C94 | I561 | I562 | ... | I593 | I594 | I861 | I862 | I863 | I864 | I891 | I892 | I893 | I894 |\n",
       "|---|---|---|---|---|---|---|---|---|---|---|---|---|---|---|---|---|---|---|---|---|---|\n",
       "| AT1G01010 |  4.5071776   |  4.9775317   |  4.4221260   |  4.8520498   |  4.78438638  |  5.091333    |  4.7980918   |  5.0156611   |  5.5096981   |  5.1341813   | ...          |  5.5069834   |  5.0666962   | 4.67542100   |  5.0498662   |  5.22170772  |  4.6834807   |  5.344888197 |  5.0062474   |  5.4293387   |  5.2129803   |\n",
       "| AT1G01020 |  3.4533796   |  3.0025557   |  3.7797419   |  3.4202936   |  3.78618638  |  3.527489    |  3.6171374   |  3.3263135   |  3.5360735   |  3.4041021   | ...          |  3.4265448   |  3.6347454   | 2.91537179   |  3.5069415   |  3.27865348  |  2.5888973   |  3.569547499 |  3.7965188   |  3.6910970   |  3.5565385   |\n",
       "| AT1G01030 |  0.4489879   |  1.5488377   |  1.6560675   |  0.9208825   |  0.97161797  |  1.197678    |  0.7296121   |  1.8144145   |  0.4631730   | -0.9882153   | ...          |  0.2026810   |  0.8273904   | 3.00556960   |  0.2919286   |  0.99249652  |  2.4473432   |  0.920454661 |  0.8980898   |  1.8558111   |  1.2796983   |\n",
       "| AT1G01040 |  5.6198900   |  5.3695717   |  5.5700650   |  5.5710204   |  6.02366160  |  6.021176    |  5.9459807   |  6.3019072   |  5.8496138   |  5.7870108   | ...          |  5.8407549   |  5.6626662   | 5.87406481   |  5.4352754   |  5.70309213  |  5.6271497   |  5.752884412 |  5.5008701   |  5.8718570   |  5.5461965   |\n",
       "| AT1G01050 |  6.6570140   |  6.5324097   |  6.4665995   |  6.4676367   |  6.67546084  |  6.634931    |  6.4731749   |  6.4323920   |  6.4790299   |  6.7446870   | ...          |  6.6456245   |  6.8020756   | 6.16574662   |  6.6378724   |  6.50384579  |  6.2343706   |  6.701814375 |  6.7503866   |  6.6451560   |  6.5444656   |\n",
       "| AT1G01060 |  7.5770136   |  7.8264452   |  7.9046980   |  7.6170281   |  8.56748068  |  8.706232    |  9.1288781   |  9.3118967   |  7.3579907   |  7.0315607   | ...          |  8.2775106   |  8.0675967   | 7.98308081   |  6.8319736   |  6.98465451  |  7.4542982   |  8.156773325 |  8.3645509   |  8.5511310   |  8.1598940   |\n",
       "| AT1G01070 |  4.3883521   |  4.3740039   |  4.7487594   |  4.6532504   |  3.89695117  |  3.611480    |  3.9485654   |  3.3137683   |  4.7295024   |  5.2354646   | ...          |  4.7996162   |  4.7233515   | 3.92310744   |  4.2996367   |  4.59937379  |  4.3432853   |  4.084538784 |  4.2124047   |  4.1716519   |  4.1851084   |\n",
       "| AT1G01080 |  2.3675603   |  2.9079188   |  3.5402192   |  2.6071284   |  2.31863704  |  1.483587    |  3.0643075   |  2.8754439   |  2.4002417   |  2.4536222   | ...          |  2.4043149   |  2.6308514   | 4.88796563   |  3.0635124   |  2.70870355  |  4.3981771   |  2.358263468 |  2.4998280   |  2.6868350   |  2.2907534   |\n",
       "| AT1G01090 |  7.9296549   |  7.9999293   |  7.8531932   |  8.0004158   |  7.65713523  |  7.388044    |  7.7218266   |  7.5840687   |  8.2292574   |  8.0516176   | ...          |  7.9789730   |  7.9545331   | 8.25388055   |  7.8967201   |  8.05660685  |  8.2189347   |  7.985172934 |  8.1445179   |  7.7599149   |  7.7262090   |\n",
       "| AT1G01100 |  8.2176563   |  7.9616683   |  8.4005277   |  8.1269645   |  8.55855649  |  7.982089    |  8.0493344   |  7.6429232   |  7.7469954   |  8.3356651   | ...          |  8.2169407   |  8.6929778   | 8.27292379   |  8.2972324   |  7.66058553  |  7.8307802   |  8.569416815 |  8.7504961   |  8.3325680   |  8.2440613   |\n",
       "| AT1G01110 |  3.3628989   |  3.1614124   |  3.3218421   |  3.0643353   |  4.06650591  |  3.543129    |  3.5731493   |  3.1256162   |  2.0943056   |  2.7122244   | ...          |  3.1448604   |  3.4437659   | 2.94606858   |  2.9505482   |  2.47581875  |  2.4172859   |  3.577886800 |  3.6539144   |  3.3027638   |  3.0838789   |\n",
       "| AT1G01120 |  7.0854356   |  7.9374166   |  7.1892771   |  7.4407332   |  6.20817772  |  6.618417    |  6.9661047   |  7.0142080   |  7.6926952   |  7.5480966   | ...          |  6.8386841   |  6.8115670   | 7.94938676   |  6.9911788   |  7.50029116  |  7.6527711   |  6.809308584 |  6.6840441   |  6.9410390   |  6.9222221   |\n",
       "| AT1G01130 |  0.3768381   |  0.7257155   |  0.3606117   |  0.1839170   |  0.09292426  | -1.291707    | -0.8553504   | -0.1331181   | -0.9874885   | -0.1402184   | ...          |  0.3588002   |  0.3089233   | 0.07665269   |  0.7172345   | -0.09865137  |  0.2397477   | -0.002924057 | -0.2909440   |  0.4954089   | -0.6552067   |\n",
       "| AT1G01140 |  0.5832889   |  2.6202223   |  4.1648405   |  1.8809898   |  2.39611579  | -1.085256    |  3.0895080   |  3.0214589   |  0.9385110   |  0.9377841   | ...          |  0.6279869   | -2.5786019   | 5.02367140   |  2.5463499   |  0.80405143  |  5.0738425   |  1.367913638 |  2.3225877   |  2.0803714   |  0.7491835   |\n",
       "| AT1G01160 |  5.1828712   |  4.8894619   |  5.3091559   |  5.2854550   |  5.11743841  |  5.072596    |  5.1219295   |  5.0000853   |  4.8886192   |  5.2508262   | ...          |  4.9015345   |  5.2929953   | 4.71160333   |  5.0097030   |  5.01259772  |  4.7928741   |  5.209215892 |  5.2879947   |  4.9950393   |  5.1168652   |\n",
       "| AT1G01170 |  2.4401640   |  3.0476436   |  3.6516079   |  3.0037090   |  3.24201576  |  2.658905    |  3.4520781   |  3.7460275   |  2.4185039   |  3.0297066   | ...          |  2.6954498   |  2.4481981   | 4.72935980   |  2.5635251   |  2.27260444  |  4.0906043   |  2.319004038 |  2.4315220   |  2.8481980   |  2.0517463   |\n",
       "| AT1G01180 |  4.5029468   |  5.0457928   |  4.2439955   |  4.6253521   |  3.93638948  |  4.461124    |  5.0563412   |  4.6115556   |  4.5874204   |  4.1355612   | ...          |  4.0929887   |  3.8709594   | 5.12104681   |  4.3549384   |  5.06953019  |  4.6515613   |  4.164234510 |  4.0903394   |  4.2077965   |  4.4297579   |\n",
       "| AT1G01190 |  3.4268262   |  4.0290279   |  2.7170970   |  3.2109852   |  3.56079272  |  3.269948    |  3.2545673   |  3.3874538   |  2.7276728   |  3.0532613   | ...          |  3.9282664   |  4.6975225   | 2.20910299   |  3.1456392   |  2.63517451  |  2.1872803   |  2.926997507 |  2.8267510   |  4.4683499   |  3.5837599   |\n",
       "| AT1G01200 |  2.9679528   |  2.8749415   |  2.6649457   |  2.8048587   |  2.19401039  |  2.283978    |  2.2930414   |  2.4632492   |  2.9194021   |  2.9690802   | ...          |  2.8742979   |  2.7648059   | 1.42060710   |  2.7699759   |  2.74410889  |  2.0372549   |  2.804430865 |  2.4315220   |  2.4856279   |  2.7730303   |\n",
       "| AT1G01210 |  3.3814547   |  3.4901618   |  3.4299597   |  3.5866061   |  3.71992853  |  2.821634    |  3.2207526   |  3.0818948   |  3.0656229   |  3.8497279   | ...          |  3.4087884   |  4.1520380   | 2.78560391   |  3.6014375   |  3.25430362  |  2.7662936   |  3.903966538 |  3.8100337   |  3.6123850   |  3.6961223   |\n",
       "| AT1G01220 |  4.6517687   |  4.8894619   |  4.7106802   |  4.6883447   |  5.35910628  |  5.211201    |  5.1905002   |  5.2041852   |  4.8250098   |  4.7966376   | ...          |  5.0232247   |  4.7807084   | 4.78984091   |  5.0437596   |  4.99800650  |  4.8502453   |  4.983015999 |  5.0295407   |  4.9742058   |  4.9420791   |\n",
       "| AT1G01225 |  2.5260641   |  2.6399856   |  2.7674287   |  2.2584639   |  2.31863704  |  2.265241    |  2.2930414   |  2.5079875   |  2.4543491   |  2.7415187   | ...          |  2.7944972   |  2.9636561   | 1.99092282   |  2.5804981   |  2.47581875  |  1.9559548   |  2.939994848 |  2.4489041   |  2.7371666   |  2.4570028   |\n",
       "| AT1G01230 |  5.0786999   |  5.2167463   |  4.7735984   |  5.1296268   |  5.05011994  |  5.083332    |  5.1280233   |  5.0726170   |  5.1703637   |  5.2068697   | ...          |  5.1542155   |  5.0724498   | 4.78135444   |  5.0978107   |  5.36505068  |  5.1071736   |  5.137685377 |  5.3143133   |  5.0852371   |  5.1895452   |\n",
       "| AT1G01240 |  4.4901795   |  4.5670177   |  4.7653662   |  4.8486066   |  5.26672227  |  5.416183    |  5.3159098   |  5.6705518   |  4.4784860   |  4.7251139   | ...          |  4.7262430   |  4.9713752   | 4.21541676   |  4.2580426   |  4.67010830  |  5.0929830   |  4.213236410 |  4.1393413   |  4.8075560   |  4.6170800   |\n",
       "| AT1G01250 | -4.9085642   | -1.7523318   | -4.6837825   | -3.2755147   | -4.86127205  | -3.407184    | -3.1772785   | -1.7180806   | -4.8943791   | -3.3101434   | ...          | -4.9266020   | -4.9005300   | 0.28310357   | -0.7498915   | -4.62221333  | -2.5676072   | -4.860905052 | -4.9348002   | -4.7140445   | -4.7426696   |\n",
       "| AT1G01260 |  4.8379502   |  4.7734686   |  4.6448925   |  4.9355624   |  4.73678045  |  4.787573    |  4.6018936   |  4.8386991   |  4.7073917   |  4.5457632   | ...          |  4.6183624   |  4.6559760   | 4.98723777   |  4.7457284   |  4.89545606  |  4.7692713   |  4.567455120 |  4.7287579   |  4.7016973   |  4.6345410   |\n",
       "| AT1G01290 |  3.7388943   |  3.5436011   |  3.6336302   |  3.7282375   |  3.82172254  |  3.543129    |  3.6084464   |  3.4345664   |  3.9667079   |  3.8895289   | ...          |  3.7063932   |  4.0681368   | 3.11767996   |  3.7438462   |  3.83311389  |  3.0665988   |  3.968817683 |  3.9324786   |  3.8746702   |  3.9542980   |\n",
       "| AT1G01300 |  6.3363942   |  6.1294377   |  6.0618919   |  6.0013852   |  6.41775809  |  6.046086    |  6.0855993   |  5.6407276   |  5.6242741   |  6.2009503   | ...          |  6.5876189   |  6.7723373   | 6.11936437   |  6.2049890   |  5.69406820  |  5.9415080   |  6.604151116 |  6.5169261   |  6.4739261   |  6.4939426   |\n",
       "| AT1G01320 |  4.6208664   |  6.2175686   |  7.4432446   |  5.9810872   |  5.87597529  |  4.272296    |  6.6187611   |  6.4367375   |  5.2966802   |  5.5280100   | ...          |  4.5101095   |  4.5650364   | 8.56325569   |  5.7671988   |  5.26195719  |  7.5158721   |  4.938376569 |  5.0917233   |  5.9872620   |  4.9698574   |\n",
       "| AT1G01340 |  4.5071776   |  4.8644795   |  4.1073804   |  4.7263626   |  5.14575522  |  5.874359    |  5.4701799   |  5.7998699   |  4.5547696   |  4.0793087   | ...          |  4.8131786   |  4.5236363   | 4.47950079   |  4.0904236   |  5.09031367  |  4.7987150   |  4.579964115 |  4.6407391   |  4.8153861   |  4.9698574   |\n",
       "| ... | ... | ... | ... | ... | ... | ... | ... | ... | ... | ... |     | ... | ... | ... | ... | ... | ... | ... | ... | ... | ... |\n",
       "| ATCG00760 |  3.1303548   |  3.9833451   |  4.69776049  |  3.97557319  |  4.185851863 |  3.5965678   |  3.906643975 |  4.390443856 |  3.7386161   |  3.8362131   | ...          |  4.0188418   |  4.33069116  | 6.6742755    |  4.48682617  |  3.1525737   |  5.6850582   |  3.86360880  |  3.97509290  |  3.95484051  |  4.2824700   |\n",
       "| ATCG00770 |  4.9322138   |  5.4806030   |  6.28128030  |  5.66797694  |  5.578558835 |  5.1124520   |  5.572032276 |  5.870098613 |  5.1404199   |  5.5301100   | ...          |  5.5318046   |  5.96906382  | 8.3051014    |  6.02760554  |  4.6233394   |  7.1494980   |  5.80354223  |  5.57596398  |  5.62914124  |  5.6115798   |\n",
       "| ATCG00780 |  5.6773373   |  6.2241300   |  6.96592280  |  6.33119898  |  6.093651243 |  5.4518328   |  6.228572069 |  6.357971464 |  5.5054329   |  6.2590793   | ...          |  6.1061325   |  6.45976840  | 8.6005162    |  6.52184611  |  5.3158960   |  7.9365497   |  6.27928565  |  6.21558178  |  6.17088917  |  6.1020362   |\n",
       "| ATCG00790 |  6.5957583   |  7.0134870   |  7.86287089  |  7.15109953  |  7.060940669 |  6.3953321   |  7.050337434 |  7.102554262 |  6.4626230   |  7.0789501   | ...          |  6.9746420   |  7.41263645  | 9.2093007    |  7.31714731  |  6.3254236   |  8.6448892   |  7.20820901  |  7.20187058  |  7.03875428  |  6.8483852   |\n",
       "| ATCG00800 |  4.9259069   |  5.8987199   |  6.98908481  |  6.34958531  |  6.337786775 |  5.2851406   |  6.307208758 |  6.356443185 |  5.4309264   |  5.8919804   | ...          |  5.9337091   |  6.32166111  | 8.5780306    |  6.48738873  |  5.1343430   |  7.7112294   |  6.15659935  |  6.28133937  |  6.07955884  |  5.9724344   |\n",
       "| ATCG00810 |  4.0658504   |  5.0531818   |  5.80506188  |  4.99594836  |  4.938009573 |  4.1652001   |  5.078536914 |  5.034897312 |  4.3794165   |  4.9234762   | ...          |  4.7616483   |  5.12599342  | 7.6873936    |  5.40700946  |  4.0677846   |  6.9670199   |  4.83432324  |  4.95242043  |  5.10772951  |  4.7671054   |\n",
       "| ATCG00820 |  2.8125350   |  3.7757036   |  4.35239115  |  3.84342640  |  3.771723149 |  2.8843702   |  3.841385335 |  3.994200730 |  2.9448247   |  3.7666722   | ...          |  3.5369224   |  3.85101404  | 6.5322961    |  3.94728047  |  2.8616024   |  5.8030802   |  3.80797993  |  3.73408480  |  3.83670231  |  3.5747431   |\n",
       "| ATCG00830 | -1.2081244   | -1.1002551   | -0.77689187  | -0.95358657  | -0.613344535 | -2.6702187   | -1.592316008 | -1.066003904 | -2.5724510   | -1.7251809   | ...          | -1.2261623   | -1.44109841  | 1.6616152    | -1.37792276  | -3.0372508   |  0.8918244   | -1.16046533  | -1.76487519  | -2.39211638  | -1.5727446   |\n",
       "| ATCG00860 | -4.9085642   | -4.5596867   | -4.68378246  | -4.86047717  | -4.861272049 | -4.9921468   | -4.762241010 | -4.525435523 | -4.8943791   | -4.8951059   | ...          | -4.9266020   | -4.90053002  | 0.8997749    | -4.83735438  | -4.6222133   | -4.1525697   | -4.86090505  | -4.93480019  | -4.71404447  | -4.7426696   |\n",
       "| ATCG00920 | -0.5162467   |  1.2216730   |  1.46596466  |  0.56578759  |  0.183122071 | -0.9046839   |  0.664023745 |  2.320054528 | -3.3094166   | -2.0877510   | ...          | -1.4671704   | -1.44109841  | 6.6970135    |  0.02062662  | -1.8148584   |  3.1603133   |  0.09329126  |  0.73762516  |  0.04084303  | -0.2191076   |\n",
       "| ATCG00950 | -0.8211013   |  1.8497042   |  1.72560847  | -0.33691521  | -0.003291054 | -1.0852562   |  0.282153110 |  3.005945938 | -2.5724510   | -1.7251809   | ...          | -1.7566770   | -0.99363943  | 7.6668079    |  0.44804784  | -0.9217736   |  4.3591830   | -0.21704886  |  0.19448283  |  0.49540889  | -1.0422298   |\n",
       "| ATCG00960 | -4.9085642   | -2.2377587   | -4.68378246  | -4.86047717  | -4.861272049 | -4.9921468   | -4.762241010 | -2.940473022 | -2.5724510   | -4.8951059   | ...          | -4.9266020   | -4.90053002  | 1.2341940    | -4.83735438  | -4.6222133   | -2.5676072   | -4.86090505  | -4.93480019  | -4.71404447  | -4.7426696   |\n",
       "| ATCG01000 | -2.1012092   | -2.2377587   | -2.36185437  | -2.05312225  | -2.539343954 | -3.4071843   | -4.762241010 | -2.940473022 | -3.3094166   | -3.3101434   | ...          | -4.9266020   | -1.73060502  | 0.2831036    | -3.25239188  | -3.0372508   | -0.4521300   | -1.69098005  | -1.76487519  | -4.71404447  | -3.1577071   |\n",
       "| ATCG01010 | -2.5866361   |  0.3945096   |  0.44550056  | -0.77301433  | -1.160832330 | -2.1847919   | -0.238679054 |  1.357207527 | -1.7244541   | -1.1946662   | ...          | -2.1192471   | -0.14564252  | 7.1779213    |  0.89056607  | -3.0372508   |  3.3788118   | -1.69098005  | -0.68687267  | -0.46611696  | -0.8357790   |\n",
       "| ATCG01020 |  2.8923357   |  4.7509260   |  6.43839844  |  5.45580436  |  5.820844716 |  4.1752714   |  6.098070045 |  6.240264965 |  4.0333989   |  4.6343246   | ...          |  4.2949851   |  4.78070839  | 8.3473972    |  5.80740321  |  3.7658040   |  6.9747799   |  4.92536458  |  5.53178615  |  5.20928301  |  4.9455807   |\n",
       "| ATCG01040 | -3.3236017   | -1.7523318   | -0.43585495  | -3.27551467  | -0.773809207 | -4.9921468   | -1.954886088 | -0.001873566 | -1.7244541   | -0.9882153   | ...          | -1.7566770   | -2.57860193  | 5.2920924    | -0.31379242  | -2.3002852   |  2.1872803   | -4.86090505  | -3.34983769  | -1.54411947  | -3.1577071   |\n",
       "| ATCG01050 | -0.5162467   |  0.7978653   |  1.19886059  |  0.42492505  |  1.708583560 |  0.2932554   |  0.910184332 |  3.399376981 |  0.8869807   |  0.8328145   | ...          | -0.0686210   |  1.28929454  | 8.2660971    |  2.15133031  |  0.2357677   |  4.4948887   | -0.33734310  | -0.84733735  |  0.41523854  |  0.3866135   |\n",
       "| ATCG01060 | -0.8211013   |  0.3945096   | -0.03992627  | -0.21662098  | -0.773809207 | -1.0852562   | -0.855350414 |  1.405301815 | -1.4349474   | -0.5027885   | ...          | -1.0197114   | -0.81306718  | 7.3135868    |  0.71723447  | -2.3002852   |  4.2005771   | -0.61297754  | -1.76487519  | -1.54411947  | -1.0422298   |\n",
       "| ATCG01070 | -2.5866361   | -0.4722239   | -0.77689187  | -1.16003745  | -0.954381453 | -1.2917071   | -0.855350414 |  1.202484932 | -0.1394916   | -1.1946662   | ...          | -3.3416395   | -1.73060502  | 6.3916280    |  0.44804784  | -3.0372508   |  2.4473432   | -3.27594255  | -1.23436047  | -3.12908197  | -1.9353146   |\n",
       "| ATCG01080 | -0.2647080   |  0.7257155   |  1.38230673  |  0.09371914  |  0.183122071 |  0.9385906   |  0.595310995 |  2.216031464 |  0.1500151   |  0.5967472   | ...          |  0.2828514   |  0.05366629  | 7.8815283    |  0.65449872  | -0.5347505   |  4.1282011   | -0.61297754  | -0.68687267  |  0.33034965  | -0.3503521   |\n",
       "| ATCG01090 | -0.6606366   |  0.6497666   |  0.07110504  |  0.09371914  |  1.069465289 |  0.7357737   |  0.910184332 |  1.357207527 | -0.5020616   | -0.1402184   | ...          | -0.1717145   |  0.59132307  | 7.3825391    |  1.13992554  | -0.7153227   |  3.7239473   |  0.34854831  | -1.02790959  |  0.14393652  |  0.7491835   |\n",
       "| ATCG01100 |  2.2309872   |  3.5224623   |  3.70423482  |  3.24281064  |  3.231485092 |  2.8470570   |  3.220752565 |  4.143449462 |  3.2089088   |  3.3575595   | ...          |  2.8081076   |  3.49607476  | 9.0448764    |  3.93413509  |  2.1722025   |  6.1950517   |  2.96564343  |  2.39611669  |  2.84819795  |  2.9226664   |\n",
       "| ATCG01110 |  3.8295281   |  4.2444443   |  4.84564809  |  4.30694098  |  4.107394745 |  3.6408484   |  3.757395243 |  4.454704055 |  3.9790651   |  4.3833435   | ...          |  3.8182318   |  4.26688812  | 8.2330275    |  4.67637322  |  3.3493302   |  6.2300543   |  3.93025784  |  4.14468460  |  3.94773362  |  3.8309776   |\n",
       "| ATCG01120 |  2.4923153   |  2.8749415   |  3.71282232  |  3.52754012  |  3.447066982 |  3.0022067   |  2.972468610 |  3.262467037 |  3.0999744   |  3.2996509   | ...          |  3.3354928   |  3.72517882  | 5.5685058    |  3.54202399  |  2.6724074   |  4.3352703   |  3.29391306  |  3.76216734  |  3.29158008  |  3.6877830   |\n",
       "| ATCG01130 |  6.5957583   |  6.8115454   |  7.84832991  |  7.54758715  |  7.696430965 |  6.8901141   |  7.055142418 |  7.389323316 |  6.9608788   |  7.2332107   | ...          |  7.1907164   |  7.76769018  | 8.5237359    |  7.66174406  |  6.5243553   |  7.8921659   |  7.36520605  |  7.77147997  |  7.23103352  |  7.6024584   |\n",
       "| ATCG01170 | -4.9085642   | -4.5596867   | -4.68378246  | -4.86047717  | -4.861272049 | -4.9921468   | -4.762241010 | -2.940473022 | -4.8943791   | -4.8951059   | ...          | -4.9266020   | -4.90053002  | 1.3304093    | -3.25239188  | -4.6222133   | -2.5676072   | -4.86090505  | -4.93480019  | -4.71404447  | -4.7426696   |\n",
       "| ATCG01180 |  0.2207189   |  2.2858033   |  2.25873204  |  0.75423267  |  0.348181317 | -0.5998294   |  1.745553630 |  3.879705941 | -0.6464515   | -0.2512497   | ...          |  0.1177921   | -1.20009031  | 8.7493500    |  1.31239274  | -0.2298959   |  5.2504423   |  0.26837796  |  0.94784286  |  1.39447998  | -0.2191076   |\n",
       "| ATCG01210 | -1.4491325   |  1.3229563   |  1.97442902  | -0.10558967  | -0.003291054 | -0.3482906   | -0.007353508 |  2.344929197 | -1.4349474   | -2.5731778   | ...          | -0.8391392   | -3.31556752  | 7.0245706    |  0.37209899  | -3.0372508   |  3.5127662   |  0.18348907  |  0.01939612  |  0.04084303  | -1.2832379   |\n",
       "| ATCG01250 | -4.9085642   | -2.9747242   | -4.68378246  | -2.53854907  | -4.861272049 | -4.9921468   | -4.762241010 | -4.525435523 | -4.8943791   | -4.8951059   | ...          | -4.9266020   | -4.90053002  | 0.2831036    | -3.25239188  | -4.6222133   | -4.1525697   | -4.86090505  | -4.93480019  | -4.71404447  | -4.7426696   |\n",
       "| ATCG01310 | -2.5866361   | -1.3897617   | -0.98334274  | -2.05312225  | -2.053917127 | -4.9921468   | -0.855350414 | -2.203507428 | -2.5724510   | -2.5731778   | ...          | -2.6046739   | -0.37696807  | 1.1311005    | -2.51542628  | -1.8148584   |  0.4912865   | -1.69098005  | -2.61287209  | -1.54411947  | -2.4207415   |\n",
       "\n",
       "\n",
       "$weights\n",
       ":   \n",
       "| 18.8494667 | 16.8748698 | 17.5845489 | 18.5818106 | 19.8775135 | 20.580249  | 19.3421327 | 18.0024254 | 21.6948485 | 21.698226  | ...        | 22.3980489 | 22.2960601 | 12.7897494 | 19.6662962 | 18.4698834 | 15.7908697 | 21.5492146 | 21.8930185 | 20.8280572 | 20.9779502 |\n",
       "| 11.6622018 |  9.9300566 | 10.5192111 | 11.4127044 | 12.2134682 | 12.927963  | 11.6828451 | 10.4796504 | 11.5806120 | 11.584359  | ...        | 12.8344574 | 12.6917865 |  5.3635167 |  9.6396136 |  8.7119147 |  6.9445631 | 12.6964915 | 13.1063013 | 11.8986812 | 12.0525319 |\n",
       "|  3.8913730 |  3.2318197 |  3.4574319 |  3.7964319 |  3.8663362 |  4.135327  |  3.6702437 |  3.2324915 |  3.1764024 |  3.177642  | ...        |  2.5863986 |  2.5484810 |  2.5970431 |  4.9252943 |  4.4273266 |  3.4753652 |  3.9864759 |  4.1414111 |  3.6936203 |  3.7502044 |\n",
       "| 22.8734025 | 21.4713287 | 22.0440167 | 22.7285982 | 23.9568336 | 24.094449  | 23.8080370 | 23.3250105 | 23.6066281 | 23.608336  | ...        | 23.4371195 | 23.3765215 | 17.0721449 | 23.0436411 | 22.2984545 | 20.0368186 | 23.1403408 | 23.3345825 | 22.6924293 | 22.7811858 |\n",
       "| 24.1734907 | 24.1175982 | 24.1761182 | 24.1817533 | 24.1789986 | 24.108478  | 24.1904300 | 24.1093313 | 24.1850078 | 24.184924  | ...        | 24.0435416 | 24.0704444 | 21.0740215 | 24.1799515 | 24.0337022 | 23.1684951 | 24.1235604 | 24.0786108 | 24.1837030 | 24.1803992 |\n",
       "| 22.7307552 | 23.2167325 | 23.0445487 | 22.7978523 | 20.8627886 | 20.618825  | 21.0465748 | 21.4670824 | 23.2646793 | 23.263684  | ...        | 22.0207689 | 22.0613052 | 23.9598046 | 23.4090383 | 23.6989035 | 24.1572609 | 21.9455912 | 21.8235041 | 22.1741691 | 22.1293836 |\n",
       "| 18.0129998 | 16.0244333 | 16.7354055 | 17.7409517 | 12.9142629 | 13.647857  | 12.3766499 | 11.1183813 | 18.7830589 | 18.787124  | ...        | 18.7149360 | 18.5705211 |  9.6637908 | 16.1876440 | 14.9493693 | 12.3151687 | 15.5880658 | 16.0096214 | 14.7428148 | 14.9063330 |\n",
       "|  9.0062327 |  7.6207552 |  8.0900895 |  8.8016913 |  7.1909609 |  7.665534  |  6.8517787 |  6.1023333 | 10.0336878 | 10.037060  | ...        |  7.9913437 |  7.8913486 |  7.5204761 | 13.1841919 | 12.0023192 |  9.6730021 |  7.2721743 |  7.5402728 |  6.7689318 |  6.8647850 |\n",
       "| 22.4237397 | 22.9188746 | 22.7450778 | 22.4940335 | 22.9976030 | 22.814436  | 23.1348291 | 23.4604338 | 22.2831117 | 22.282043  | ...        | 22.5048302 | 22.5417884 | 23.9449858 | 22.2916091 | 22.6040879 | 23.2603065 | 22.5527439 | 22.4468760 | 22.7612295 | 22.7213386 |\n",
       "| 22.0755386 | 22.5932096 | 22.4146701 | 22.1506091 | 22.3275121 | 22.129984  | 22.4739607 | 22.8091959 | 22.4524564 | 22.451378  | ...        | 21.5539411 | 21.5991102 | 24.0387276 | 22.4261509 | 22.7339122 | 23.3854726 | 21.6722997 | 21.5449354 | 21.9138919 | 21.8665392 |\n",
       "| 10.7070717 |  9.1029437 |  9.6468089 | 10.4717300 | 12.2843346 | 12.999489  | 11.7498814 | 10.5426699 |  6.9375425 |  6.940031  | ...        | 11.8105362 | 11.6738132 |  4.4601194 |  8.0716491 |  7.2715312 |  5.7808581 | 11.3652866 | 11.7502497 | 10.6215565 | 10.7616340 |\n",
       "| 23.1741341 | 23.6505150 | 23.4822919 | 23.2403540 | 24.0982195 | 23.982414  | 24.1585443 | 24.1820060 | 23.0701780 | 23.069171  | ...        | 24.0449046 | 24.0714131 | 24.1442635 | 23.1198810 | 23.4162623 | 24.0008188 | 23.9760580 | 23.9002784 | 24.1041813 | 24.0867741 |\n",
       "|  2.6149124 |  2.1493193 |  2.3041839 |  2.5447833 |  1.5017156 |  1.608359  |  1.4272804 |  1.2683566 |  1.6374032 |  1.638041  | ...        |  2.2379590 |  2.2054968 |  1.1961229 |  2.2725916 |  2.0140344 |  1.5591341 |  1.8959101 |  1.9755937 |  1.7486999 |  1.7762275 |\n",
       "|  6.9304055 |  5.8437708 |  6.2082485 |  6.7684277 |  5.4176669 |  5.774063  |  5.1611038 |  4.5951317 |  7.7885830 |  7.791305  | ...        |  2.0997976 |  2.0691727 |  6.1768526 | 11.0223238 |  9.9783405 |  7.9929229 |  4.8506715 |  5.0302000 |  4.5117860 |  4.5767495 |\n",
       "| 21.3934376 | 19.5659597 | 20.2495757 | 21.1693381 | 20.7079477 | 21.369984  | 20.1919059 | 18.8784866 | 20.5364122 | 20.540136  | ...        | 20.8791578 | 20.7433823 | 12.6484972 | 19.5262538 | 18.3262180 | 15.6439186 | 21.0948665 | 21.4472944 | 20.3346063 | 20.4800696 |\n",
       "|  9.7968631 |  8.3122447 |  8.8159059 |  9.5782911 | 10.7062985 | 11.372617  | 10.2253600 |  9.1575917 | 10.7785437 | 10.782138  | ...        |  8.3872493 |  8.2849022 |  6.3367323 | 11.2909132 | 10.2217468 |  8.1973644 |  7.1102436 |  7.3708673 |  6.6173991 |  6.7105729 |\n",
       "| 18.3784813 | 16.3966886 | 17.0989666 | 18.1008995 | 17.6074056 | 18.353037  | 17.0426724 | 15.6863903 | 18.1839936 | 18.188195  | ...        | 15.6012017 | 15.4556317 | 12.1997202 | 19.0663201 | 17.8529855 | 15.1723725 | 15.9270045 | 16.3600879 | 15.0858721 | 15.2541669 |\n",
       "| 11.3075380 |  9.6207988 | 10.1910855 | 11.0586343 | 11.1768277 | 11.860728  | 10.6789050 |  9.5664455 |  8.3063153 |  8.309157  | ...        | 14.3472309 | 14.1940889 |  4.1302062 |  7.4956604 |  6.7475587 |  5.3651425 | 11.6093830 | 11.9994187 | 10.8520401 | 10.9959337 |\n",
       "|  8.8885875 |  7.5185706 |  7.9829111 |  8.6869568 |  6.7585765 |  7.204794  |  6.4402135 |  5.7356941 |  7.8359068 |  7.838649  | ...        |  8.5074462 |  8.4032652 |  3.5303207 |  6.4700248 |  5.8241903 |  4.6282011 |  7.8780053 |  8.1649607 |  7.3359093 |  7.4394524 |\n",
       "| 11.9689967 | 10.2003889 | 10.8039083 | 11.7141640 | 10.3948933 | 11.042000  |  9.9282900 |  8.8875210 | 10.7082996 | 10.711864  | ...        | 13.8587636 | 13.7121025 |  5.4411949 |  9.7740189 |  8.8351275 |  7.0449539 | 13.2676549 | 13.6789501 | 12.4565724 | 12.6096937 |\n",
       "| 19.1062761 | 17.1364652 | 17.8381040 | 18.8340621 | 21.5181543 | 22.109420  | 21.0435961 | 19.7845425 | 19.5763740 | 19.580296  | ...        | 20.5504180 | 20.4173074 | 12.8604630 | 19.7361451 | 18.5403730 | 15.8643156 | 20.2079648 | 20.5930711 | 19.4041496 | 19.5576439 |\n",
       "|  7.7725438 |  6.5564792 |  6.9676844 |  7.5952305 |  6.8847835 |  7.338335  |  6.5590170 |  5.8427359 |  7.4976410 |  7.500320  | ...        |  8.5043117 |  8.4001787 |  3.5448131 |  6.4945894 |  5.8466185 |  4.6459393 |  7.9625407 |  8.2533678 |  7.4157419 |  7.5206979 |\n",
       "| 20.8063012 | 18.9117596 | 19.6038950 | 20.5578227 | 20.7364934 | 21.395126  | 20.2228404 | 18.9095270 | 21.2809039 | 21.284201  | ...        | 21.4351111 | 21.3162125 | 13.7977376 | 20.6352240 | 19.4779907 | 16.8235923 | 21.2448064 | 21.5825384 | 20.4841095 | 20.6309121 |\n",
       "| 18.7268158 | 16.7501470 | 17.4635401 | 18.4613310 | 22.2848247 | 22.777778  | 21.8761995 | 20.7260348 | 18.7396009 | 18.743654  | ...        | 18.9905218 | 18.8434465 | 10.9393032 | 17.7125321 | 16.4915256 | 13.7981487 | 17.1975175 | 17.6156183 | 16.3631613 | 16.5227772 |\n",
       "|  0.3970154 |  0.3483859 |  0.3648041 |  0.3898447 |  0.4485073 |  0.472122  |  0.4315865 |  0.3941575 |  0.5607389 |  0.560905  | ...        |  0.2972635 |  0.2945236 |  0.4736928 |  0.7823436 |  0.7132418 |  0.5860201 |  0.2716192 |  0.2716192 |  0.2716192 |  0.2716192 |\n",
       "| 19.4590871 | 17.4969876 | 18.1974816 | 19.1911460 | 18.8732022 | 19.603533  | 18.3237064 | 16.9738783 | 18.1763755 | 18.180575  | ...        | 18.9982250 | 18.8510752 | 12.4753770 | 19.3536631 | 18.1390920 | 15.4633710 | 18.4107932 | 18.8193253 | 17.5770887 | 17.7365464 |\n",
       "| 13.0017741 | 11.1320145 | 11.7789617 | 12.7359147 | 12.4224797 | 13.139657  | 11.8813002 | 10.6641123 | 13.6691630 | 13.673210  | ...        | 14.2288631 | 14.0772967 |  6.4193153 | 11.4296803 | 10.3475060 |  8.3021274 | 14.2683931 | 14.6856317 | 13.4375446 | 13.5946442 |\n",
       "| 24.0686262 | 23.5422821 | 23.7761284 | 24.0180158 | 23.9294711 | 24.067412  | 23.7657976 | 23.2657743 | 23.4425141 | 23.444207  | ...        | 24.0987285 | 24.1145924 | 18.9366763 | 23.7947059 | 23.3564599 | 21.7032269 | 24.1827056 | 24.1627735 | 24.1863144 | 24.1963572 |\n",
       "| 23.9985819 | 23.3870426 | 23.6668061 | 23.9481554 | 23.4727645 | 23.738344  | 23.2431935 | 22.4719962 | 24.1877580 | 24.187674  | ...        | 19.4264236 | 19.2827910 | 22.7518403 | 24.0642510 | 24.1808425 | 23.9517917 | 21.5420348 | 21.8856952 | 20.8199329 | 20.9697527 |\n",
       "| 18.0717103 | 16.0841464 | 16.7935446 | 17.7985555 | 22.8510809 | 23.246660  | 22.5051323 | 21.4972732 | 17.7062655 | 17.710329  | ...        | 19.2639709 | 19.1142462 | 11.2238308 | 18.0269255 | 16.8038803 | 14.1157723 | 18.9288964 | 19.3510526 | 18.1039578 | 18.2694193 |\n",
       "| ... | ... | ... | ... | ... | ... | ... | ... | ... | ... |     | ... | ... | ... | ... | ... | ... | ... | ... | ... | ... |\n",
       "| 14.6178334 | 12.6537124 | 13.3484282 | 14.3495148 | 14.7637020 | 15.5192090 | 14.2019128 | 12.8663334 | 16.0065845 | 16.0108005 | ...        | 15.9124668 | 15.7632617 | 13.3075847 | 20.1738834 | 18.9826532 | 16.3268800 | 14.7566522 | 15.1839294 | 13.9189893 | 14.0831665 |\n",
       "| 23.0492345 | 21.7388348 | 22.2680204 | 22.9030386 | 22.7329284 | 23.1298383 | 22.3508760 | 21.3179180 | 23.5183913 | 23.5200909 | ...        | 23.4342157 | 23.3736271 | 21.7386851 | 24.1849450 | 24.1449262 | 23.5118533 | 23.1008278 | 23.3047502 | 22.6410820 | 22.7424378 |\n",
       "| 24.1730552 | 23.8475161 | 24.0082172 | 24.1503613 | 23.9053588 | 24.0521006 | 23.7418912 | 23.2313149 | 24.1922672 | 24.1926108 | ...        | 24.1546931 | 24.1423972 | 23.6021333 | 23.7047338 | 23.9597715 | 24.1910360 | 24.0812893 | 24.1346256 | 23.9247872 | 23.9570058 |\n",
       "| 23.5263795 | 23.9602075 | 23.8195697 | 23.5915404 | 23.9109157 | 23.7506232 | 24.0125973 | 24.1775603 | 23.4829569 | 23.4819760 | ...        | 23.5327881 | 23.5681014 | 24.1378062 | 22.6286017 | 22.9316585 | 23.5773218 | 23.6995358 | 23.6012839 | 23.8841993 | 23.8480652 |\n",
       "| 23.9724881 | 23.3293941 | 23.6188567 | 23.9170039 | 23.9552238 | 24.0928278 | 23.8055030 | 23.3214551 | 24.1516099 | 24.1519528 | ...        | 24.0233886 | 23.9959964 | 23.3317645 | 23.8504262 | 24.0757521 | 24.1363078 | 24.0081734 | 24.0859614 | 23.8098598 | 23.8571351 |\n",
       "| 20.4475688 | 18.5239939 | 19.2218903 | 20.1932209 | 19.2313313 | 19.9473274 | 18.6714670 | 17.3409536 | 21.8735376 | 21.8769496 | ...        | 20.3457298 | 20.2042256 | 19.1776165 | 23.8645839 | 23.4548150 | 21.9010447 | 19.8371998 | 20.2477545 | 19.0254460 | 19.1889558 |\n",
       "| 13.1992142 | 11.3135894 | 11.9646299 | 12.9283118 | 12.5339534 | 13.2592416 | 11.9934724 | 10.7669384 | 14.5619223 | 14.5659835 | ...        | 12.7809793 | 12.6390500 | 12.1273549 | 18.9912812 | 17.7786003 | 15.0949717 | 13.1690354 | 13.5832735 | 12.3626014 | 12.5171436 |\n",
       "|  1.2201234 |  1.0350794 |  1.0965201 |  1.1922466 |  0.9559299 |  1.0146664 |  0.9142458 |  0.8232090 |  0.9392110 |  0.9395188 | ...        |  1.0057025 |  0.9937855 |  0.8672656 |  1.5474147 |  1.3855323 |  1.1032533 |  0.8596238 |  0.8882869 |  0.8059285 |  0.8160783 |\n",
       "|  0.2716192 |  0.2716192 |  0.2716192 |  0.2716192 |  0.2716192 |  0.2716192 |  0.2716192 |  0.2716192 |  0.2979678 |  0.2980448 | ...        |  0.2716192 |  0.2716192 |  0.2950598 |  0.4643919 |  0.4270792 |  0.3575109 |  0.2716192 |  0.2716192 |  0.2716192 |  0.2716192 |\n",
       "|  3.0413902 |  2.5045290 |  2.6848387 |  2.9618140 |  2.7742418 |  2.9830743 |  2.6257966 |  2.2983441 |  1.5756584 |  1.5762611 | ...        |  1.1050870 |  1.0916771 |  3.1212488 |  5.7897427 |  5.2124554 |  4.1307566 |  2.2133345 |  2.3073274 |  2.0381223 |  2.0711452 |\n",
       "|  2.9104837 |  2.3948754 |  2.5677222 |  2.8338197 |  2.7499577 |  2.9573634 |  2.6029641 |  2.2780090 |  1.9053687 |  1.9061399 | ...        |  0.9520169 |  0.9408735 |  4.9012860 |  8.8406079 |  7.9764381 |  6.3455595 |  1.8657169 |  1.9440608 |  1.7214216 |  1.7484093 |\n",
       "|  0.3274980 |  0.2889944 |  0.3020133 |  0.3218311 |  0.2978557 |  0.3121349 |  0.2875865 |  0.2716192 |  0.3183212 |  0.3184048 | ...        |  0.2716192 |  0.2716192 |  0.3510862 |  0.5626790 |  0.5158160 |  0.4287650 |  0.2716192 |  0.2716192 |  0.2716192 |  0.2716192 |\n",
       "|  0.7169124 |  0.6190496 |  0.6519078 |  0.7023630 |  0.4278778 |  0.4501743 |  0.4118964 |  0.3765069 |  0.5249344 |  0.5250880 | ...        |  0.4636809 |  0.4589619 |  0.5337927 |  0.8924311 |  0.8116006 |  0.6636857 |  0.5381027 |  0.5544471 |  0.5072633 |  0.5130974 |\n",
       "|  1.4740914 |  1.2384883 |  1.3161545 |  1.4383113 |  1.4939659 |  1.5999163 |  1.4200800 |  1.2621931 |  1.8820771 |  1.8828366 | ...        |  0.9910843 |  0.9793831 |  3.2720691 |  6.0400153 |  5.4386407 |  4.3146352 |  1.2452532 |  1.2911003 |  1.1604163 |  1.1763639 |\n",
       "| 19.9286837 | 17.9810357 | 18.6811635 | 19.6655910 | 22.8845433 | 23.2721910 | 22.5488790 | 21.5481991 | 22.8680430 | 22.8702401 | ...        | 19.4410962 | 19.2986569 | 20.2333449 | 24.0900939 | 23.8255891 | 22.6701896 | 21.0987061 | 21.4506141 | 20.3382737 | 20.4837698 |\n",
       "|  0.7143627 |  0.6169077 |  0.6496331 |  0.6998774 |  0.7848540 |  0.8310169 |  0.7519647 |  0.6797579 |  1.2716657 |  1.2721184 | ...        |  0.5640794 |  0.5581187 |  1.9962993 |  3.8941950 |  3.4784831 |  2.6860546 |  0.4595866 |  0.4731381 |  0.4340361 |  0.4388845 |\n",
       "|  2.7100573 |  2.2282305 |  2.3897130 |  2.6388095 |  4.7282169 |  5.0428438 |  4.5027582 |  3.9944024 |  4.9500351 |  4.9518264 | ...        |  2.7717550 |  2.7317226 |  7.6040193 | 13.3128033 | 12.1239837 |  9.7754854 |  1.9146943 |  1.9951671 |  1.7656649 |  1.7935396 |\n",
       "|  1.8857094 |  1.5612515 |  1.6676887 |  1.8361875 |  1.6866638 |  1.8112587 |  1.5995697 |  1.4148247 |  2.0192872 |  2.0201080 | ...        |  1.2542373 |  1.2384069 |  4.0011405 |  7.2732656 |  6.5479360 |  5.2057400 |  1.0691303 |  1.1066804 |  0.9991332 |  1.0123151 |\n",
       "|  1.0891342 |  0.9282833 |  0.9818929 |  1.0650006 |  1.5593124 |  1.6716526 |  1.4808585 |  1.3140925 |  1.7671499 |  1.7678513 | ...        |  0.7800631 |  0.7713189 |  2.4247280 |  4.6378182 |  4.1658531 |  3.2521684 |  0.6442918 |  0.6645874 |  0.6061372 |  0.6133668 |\n",
       "|  2.7220023 |  2.2381396 |  2.4002559 |  2.6503630 |  3.4894694 |  3.7387071 |  3.3062817 |  2.9038228 |  3.9839249 |  3.9854121 | ...        |  2.4640591 |  2.4283660 |  5.2589843 |  9.4597167 |  8.5475558 |  6.8088249 |  1.6838891 |  1.7527135 |  1.5573078 |  1.5809096 |\n",
       "|  2.1198823 |  1.7463664 |  1.8695579 |  2.0631628 |  3.5538370 |  3.8088860 |  3.3695932 |  2.9598966 |  3.1106272 |  3.1118854 | ...        |  2.1552213 |  2.1238033 |  4.8884241 |  8.8182770 |  7.9560539 |  6.3290332 |  2.0810941 |  2.1694854 |  1.9171362 |  1.9480424 |\n",
       "| 10.4501711 |  8.8803899 |  9.4119030 | 10.2187287 | 11.1380929 | 11.8209599 | 10.6423142 |  9.5327751 | 13.3867380 | 13.3906804 | ...        | 10.2698607 | 10.1462864 | 15.2225458 | 21.8496410 | 20.8091532 | 18.2402653 |  8.5050705 |  8.8091424 |  7.9261961 |  8.0366761 |\n",
       "| 16.6808357 | 14.6797664 | 15.3992738 | 16.4127338 | 14.5955993 | 15.3524253 | 14.0292984 | 12.7029666 | 17.9082061 | 17.9123281 | ...        | 14.8273838 | 14.6793435 | 16.8553151 | 22.9289630 | 22.1519869 | 19.8287895 | 14.4450922 | 14.8610831 | 13.6069361 | 13.7665187 |\n",
       "| 10.3376093 |  8.7824227 |  9.3102913 | 10.1092703 | 10.2031930 | 10.8405312 |  9.7469130 |  8.7194206 | 11.7857632 | 11.7895936 | ...        | 12.2206558 | 12.0779814 |  8.5425195 | 14.6830349 | 13.4656661 | 10.9352598 | 11.9109305 | 12.3137247 | 11.1429730 | 11.2917129 |\n",
       "| 23.4656036 | 23.9140611 | 23.7629862 | 23.5305541 | 23.4525892 | 23.2729090 | 23.5865016 | 23.8907215 | 23.2519087 | 23.2509144 | ...        | 23.0080743 | 23.0441236 | 24.1952736 | 22.9437006 | 23.2416926 | 23.8656084 | 23.1300452 | 23.0275795 | 23.3323147 | 23.2930307 |\n",
       "|  0.2716192 |  0.2716192 |  0.2716192 |  0.2716192 |  0.2978557 |  0.3121349 |  0.2875865 |  0.2716192 |  0.2979678 |  0.2980448 | ...        |  0.3175567 |  0.3145831 |  0.4112504 |  0.6697144 |  0.6121643 |  0.5057436 |  0.2716192 |  0.2716192 |  0.2716192 |  0.2716192 |\n",
       "|  4.3872532 |  3.6682764 |  3.9140920 |  4.2830376 |  4.2077174 |  4.4924520 |  3.9992460 |  3.5341438 |  4.2981315 |  4.2996905 | ...        |  1.7190772 |  1.6949893 |  7.5426451 | 13.2183412 | 12.0346184 |  9.7003269 |  2.8242855 |  2.9422448 |  2.6026886 |  2.6442657 |\n",
       "|  2.6496224 |  2.1781034 |  2.3355881 |  2.5794452 |  2.6695472 |  2.8721228 |  2.5254460 |  2.2106919 |  2.0634935 |  2.0643368 | ...        |  1.0654668 |  1.0526543 |  3.0396654 |  5.6560189 |  5.0926609 |  4.0301681 |  1.7490805 |  1.8213043 |  1.6159234 |  1.6408559 |\n",
       "|  0.3792110 |  0.3332021 |  0.3487383 |  0.3724258 |  0.2716192 |  0.2716192 |  0.2716192 |  0.2716192 |  0.2716192 |  0.2716192 | ...        |  0.2716192 |  0.2716192 |  0.3218239 |  0.5111659 |  0.4693399 |  0.3914888 |  0.2716192 |  0.2716192 |  0.2716192 |  0.2716192 |\n",
       "|  0.8661119 |  0.7438921 |  0.7848451 |  0.8479091 |  0.6098294 |  0.6439380 |  0.5854419 |  0.5316597 |  0.9291523 |  0.9294559 | ...        |  0.8941961 |  0.8838635 |  0.7903987 |  1.3880507 |  1.2478471 |  1.0003222 |  0.7398333 |  0.7637591 |  0.6949077 |  0.7034096 |\n",
       "\n",
       "\n",
       "$design\n",
       ":   \n",
       "| grupyC.6 | grupyI5.6 | grupyI8.6 | grupyC.9 | grupyI5.9 | grupyI8.9 |\n",
       "|---|---|---|---|---|---|\n",
       "| 1 | 0 | 0 | 0 | 0 | 0 |\n",
       "| 1 | 0 | 0 | 0 | 0 | 0 |\n",
       "| 1 | 0 | 0 | 0 | 0 | 0 |\n",
       "| 1 | 0 | 0 | 0 | 0 | 0 |\n",
       "| 0 | 0 | 0 | 1 | 0 | 0 |\n",
       "| 0 | 0 | 0 | 1 | 0 | 0 |\n",
       "| 0 | 0 | 0 | 1 | 0 | 0 |\n",
       "| 0 | 0 | 0 | 1 | 0 | 0 |\n",
       "| 0 | 1 | 0 | 0 | 0 | 0 |\n",
       "| 0 | 1 | 0 | 0 | 0 | 0 |\n",
       "| 0 | 1 | 0 | 0 | 0 | 0 |\n",
       "| 0 | 1 | 0 | 0 | 0 | 0 |\n",
       "| 0 | 0 | 0 | 0 | 1 | 0 |\n",
       "| 0 | 0 | 0 | 0 | 1 | 0 |\n",
       "| 0 | 0 | 0 | 0 | 1 | 0 |\n",
       "| 0 | 0 | 0 | 0 | 1 | 0 |\n",
       "| 0 | 0 | 1 | 0 | 0 | 0 |\n",
       "| 0 | 0 | 1 | 0 | 0 | 0 |\n",
       "| 0 | 0 | 1 | 0 | 0 | 0 |\n",
       "| 0 | 0 | 1 | 0 | 0 | 0 |\n",
       "| 0 | 0 | 0 | 0 | 0 | 1 |\n",
       "| 0 | 0 | 0 | 0 | 0 | 1 |\n",
       "| 0 | 0 | 0 | 0 | 0 | 1 |\n",
       "| 0 | 0 | 0 | 0 | 0 | 1 |\n",
       "\n",
       "\n",
       "\n",
       "\n"
      ],
      "text/plain": [
       "An object of class \"EList\"\n",
       "$targets\n",
       "    group lib.size norm.factors\n",
       "C61     1 15017409    1.0466541\n",
       "C62     1 11791592    0.9517416\n",
       "C63     1 12850765    1.0535991\n",
       "C64     1 14525109    1.0424665\n",
       "C91     1 14533114    1.0943189\n",
       "19 more rows ...\n",
       "\n",
       "$E\n",
       "                C61      C62      C63       C64      C91      C92       C93\n",
       "AT1G01010 4.5071776 4.977532 4.422126 4.8520498 4.784386 5.091333 4.7980918\n",
       "AT1G01020 3.4533796 3.002556 3.779742 3.4202936 3.786186 3.527489 3.6171374\n",
       "AT1G01030 0.4489879 1.548838 1.656068 0.9208825 0.971618 1.197678 0.7296121\n",
       "AT1G01040 5.6198900 5.369572 5.570065 5.5710204 6.023662 6.021176 5.9459807\n",
       "AT1G01050 6.6570140 6.532410 6.466600 6.4676367 6.675461 6.634931 6.4731749\n",
       "               C94     I561       I562     I563     I564     I591       I592\n",
       "AT1G01010 5.015661 5.509698  5.1341813 5.100193 5.241407 5.810976  5.1392040\n",
       "AT1G01020 3.326314 3.536073  3.4041021 3.205524 3.503969 3.694914  3.6955355\n",
       "AT1G01030 1.814414 0.463173 -0.9882153 2.114376 1.518090 0.801285 -0.3342119\n",
       "AT1G01040 6.301907 5.849614  5.7870108 5.858537 5.804932 5.857630  5.5202113\n",
       "AT1G01050 6.432392 6.479030  6.7446870 6.300243 6.351308 6.634175  6.7497106\n",
       "              I593      I594     I861      I862      I863     I864      I891\n",
       "AT1G01010 5.506983 5.0666962 4.675421 5.0498662 5.2217077 4.683481 5.3448882\n",
       "AT1G01020 3.426545 3.6347454 2.915372 3.5069415 3.2786535 2.588897 3.5695475\n",
       "AT1G01030 0.202681 0.8273904 3.005570 0.2919286 0.9924965 2.447343 0.9204547\n",
       "AT1G01040 5.840755 5.6626662 5.874065 5.4352754 5.7030921 5.627150 5.7528844\n",
       "AT1G01050 6.645625 6.8020756 6.165747 6.6378724 6.5038458 6.234371 6.7018144\n",
       "               I892     I893     I894\n",
       "AT1G01010 5.0062474 5.429339 5.212980\n",
       "AT1G01020 3.7965188 3.691097 3.556538\n",
       "AT1G01030 0.8980898 1.855811 1.279698\n",
       "AT1G01040 5.5008701 5.871857 5.546197\n",
       "AT1G01050 6.7503866 6.645156 6.544466\n",
       "21076 more rows ...\n",
       "\n",
       "$weights\n",
       "          [,1]      [,2]      [,3]      [,4]      [,5]      [,6]      [,7]\n",
       "[1,] 18.849467 16.874870 17.584549 18.581811 19.877514 20.580249 19.342133\n",
       "[2,] 11.662202  9.930057 10.519211 11.412704 12.213468 12.927963 11.682845\n",
       "[3,]  3.891373  3.231820  3.457432  3.796432  3.866336  4.135327  3.670244\n",
       "[4,] 22.873402 21.471329 22.044017 22.728598 23.956834 24.094449 23.808037\n",
       "[5,] 24.173491 24.117598 24.176118 24.181753 24.178999 24.108478 24.190430\n",
       "          [,8]      [,9]     [,10]     [,11]     [,12]     [,13]     [,14]\n",
       "[1,] 18.002425 21.694848 21.698226 20.906832 20.999180 22.181788 21.541042\n",
       "[2,] 10.479650 11.580612 11.584359 10.743154 10.830155 12.533329 11.750528\n",
       "[3,]  3.232491  3.176402  3.177642  2.902665  2.930739  2.506568  2.311054\n",
       "[4,] 23.325010 23.606628 23.608336 23.224211 23.267486 23.308447 22.890474\n",
       "[5,] 24.109331 24.185008 24.184924 24.169145 24.177448 24.088468 24.176576\n",
       "         [,15]     [,16]     [,17]     [,18]     [,19]     [,20]     [,21]\n",
       "[1,] 22.398049 22.296060 12.789749 19.666296 18.469883 15.790870 21.549215\n",
       "[2,] 12.834457 12.691786  5.363517  9.639614  8.711915  6.944563 12.696492\n",
       "[3,]  2.586399  2.548481  2.597043  4.925294  4.427327  3.475365  3.986476\n",
       "[4,] 23.437119 23.376522 17.072145 23.043641 22.298454 20.036819 23.140341\n",
       "[5,] 24.043542 24.070444 21.074021 24.179952 24.033702 23.168495 24.123560\n",
       "         [,22]    [,23]     [,24]\n",
       "[1,] 21.893018 20.82806 20.977950\n",
       "[2,] 13.106301 11.89868 12.052532\n",
       "[3,]  4.141411  3.69362  3.750204\n",
       "[4,] 23.334582 22.69243 22.781186\n",
       "[5,] 24.078611 24.18370 24.180399\n",
       "21076 more rows ...\n",
       "\n",
       "$design\n",
       "  grupyC.6 grupyI5.6 grupyI8.6 grupyC.9 grupyI5.9 grupyI8.9\n",
       "1        1         0         0        0         0         0\n",
       "2        1         0         0        0         0         0\n",
       "3        1         0         0        0         0         0\n",
       "4        1         0         0        0         0         0\n",
       "5        0         0         0        1         0         0\n",
       "19 more rows ...\n"
      ]
     },
     "metadata": {},
     "output_type": "display_data"
    }
   ],
   "source": [
    "y #dane zostaly przerobione na logCPM (E); za pomocą związku między średnią a wariancją oszacowano wagi (dla kazdej obserwacji; potrzebne pozniej przy budowie modelu liniowego - problem z równą wariancją czyli Heteroskedastyczność"
   ]
  },
  {
   "cell_type": "code",
   "execution_count": 32,
   "id": "c04fa453",
   "metadata": {},
   "outputs": [
    {
     "data": {
      "image/png": "[encoded data removed]",
      "text/plain": [
       "plot without title"
      ]
     },
     "metadata": {},
     "output_type": "display_data"
    }
   ],
   "source": [
    "boxplot(y$E) #wykresy rozkaldow logCPM dla kolejnych probek; czy nas dziwi ze niemal ta sama mediana?"
   ]
  },
  {
   "cell_type": "code",
   "execution_count": 33,
   "id": "f32f771b",
   "metadata": {},
   "outputs": [
    {
     "data": {
      "text/html": [
       "4.50506393871359"
      ],
      "text/latex": [
       "4.50506393871359"
      ],
      "text/markdown": [
       "4.50506393871359"
      ],
      "text/plain": [
       "[1] 4.505064"
      ]
     },
     "metadata": {},
     "output_type": "display_data"
    }
   ],
   "source": [
    "log2((341*10^6)/(14348015*1.0466541)) #pierwszy gen, pierwsza probka <--log2CPM #troche sie rozni, bo 2/L (https://bioconductor.org/packages/devel/workflows/vignettes/RNAseq123/inst/doc/limmaWorkflow.html)"
   ]
  },
  {
   "cell_type": "code",
   "execution_count": 34,
   "id": "9e1fef6c",
   "metadata": {},
   "outputs": [
    {
     "data": {
      "text/html": [
       "4.50717777797951"
      ],
      "text/latex": [
       "4.50717777797951"
      ],
      "text/markdown": [
       "4.50717777797951"
      ],
      "text/plain": [
       "[1] 4.507178"
      ]
     },
     "metadata": {},
     "output_type": "display_data"
    }
   ],
   "source": [
    "log2(((341+0.5)*10^6)/(14348015*1.0466541)) #pierwszy gen, pierwsza probka <--dodajemy 0.5 zeby uniknąc zerowania pod logarytmem"
   ]
  },
  {
   "cell_type": "code",
   "execution_count": 35,
   "id": "2671539b",
   "metadata": {},
   "outputs": [
    {
     "data": {
      "text/html": [
       "<dl class=dl-horizontal>\n",
       "\t<dt>C61</dt>\n",
       "\t\t<dd>4.50717761551176</dd>\n",
       "\t<dt>C62</dt>\n",
       "\t\t<dd>4.9775316535229</dd>\n",
       "\t<dt>C63</dt>\n",
       "\t\t<dd>4.42212604692221</dd>\n",
       "\t<dt>C64</dt>\n",
       "\t\t<dd>4.85204983109723</dd>\n",
       "\t<dt>C91</dt>\n",
       "\t\t<dd>4.78438638377713</dd>\n",
       "\t<dt>C92</dt>\n",
       "\t\t<dd>5.09133254058651</dd>\n",
       "\t<dt>C93</dt>\n",
       "\t\t<dd>4.79809182447595</dd>\n",
       "\t<dt>C94</dt>\n",
       "\t\t<dd>5.01566109279908</dd>\n",
       "\t<dt>I561</dt>\n",
       "\t\t<dd>5.5096980830402</dd>\n",
       "\t<dt>I562</dt>\n",
       "\t\t<dd>5.13418129944907</dd>\n",
       "\t<dt>I563</dt>\n",
       "\t\t<dd>5.10019344338649</dd>\n",
       "\t<dt>I564</dt>\n",
       "\t\t<dd>5.24140712528268</dd>\n",
       "\t<dt>I591</dt>\n",
       "\t\t<dd>5.8109763939394</dd>\n",
       "\t<dt>I592</dt>\n",
       "\t\t<dd>5.1392039814002</dd>\n",
       "\t<dt>I593</dt>\n",
       "\t\t<dd>5.5069834443714</dd>\n",
       "\t<dt>I594</dt>\n",
       "\t\t<dd>5.06669623504395</dd>\n",
       "\t<dt>I861</dt>\n",
       "\t\t<dd>4.6754209950423</dd>\n",
       "\t<dt>I862</dt>\n",
       "\t\t<dd>5.04986623572178</dd>\n",
       "\t<dt>I863</dt>\n",
       "\t\t<dd>5.2217077231175</dd>\n",
       "\t<dt>I864</dt>\n",
       "\t\t<dd>4.68348066827689</dd>\n",
       "\t<dt>I891</dt>\n",
       "\t\t<dd>5.34488819710538</dd>\n",
       "\t<dt>I892</dt>\n",
       "\t\t<dd>5.00624741949149</dd>\n",
       "\t<dt>I893</dt>\n",
       "\t\t<dd>5.42933873986702</dd>\n",
       "\t<dt>I894</dt>\n",
       "\t\t<dd>5.21298034505077</dd>\n",
       "</dl>\n"
      ],
      "text/latex": [
       "\\begin{description*}\n",
       "\\item[C61] 4.50717761551176\n",
       "\\item[C62] 4.9775316535229\n",
       "\\item[C63] 4.42212604692221\n",
       "\\item[C64] 4.85204983109723\n",
       "\\item[C91] 4.78438638377713\n",
       "\\item[C92] 5.09133254058651\n",
       "\\item[C93] 4.79809182447595\n",
       "\\item[C94] 5.01566109279908\n",
       "\\item[I561] 5.5096980830402\n",
       "\\item[I562] 5.13418129944907\n",
       "\\item[I563] 5.10019344338649\n",
       "\\item[I564] 5.24140712528268\n",
       "\\item[I591] 5.8109763939394\n",
       "\\item[I592] 5.1392039814002\n",
       "\\item[I593] 5.5069834443714\n",
       "\\item[I594] 5.06669623504395\n",
       "\\item[I861] 4.6754209950423\n",
       "\\item[I862] 5.04986623572178\n",
       "\\item[I863] 5.2217077231175\n",
       "\\item[I864] 4.68348066827689\n",
       "\\item[I891] 5.34488819710538\n",
       "\\item[I892] 5.00624741949149\n",
       "\\item[I893] 5.42933873986702\n",
       "\\item[I894] 5.21298034505077\n",
       "\\end{description*}\n"
      ],
      "text/markdown": [
       "C61\n",
       ":   4.50717761551176C62\n",
       ":   4.9775316535229C63\n",
       ":   4.42212604692221C64\n",
       ":   4.85204983109723C91\n",
       ":   4.78438638377713C92\n",
       ":   5.09133254058651C93\n",
       ":   4.79809182447595C94\n",
       ":   5.01566109279908I561\n",
       ":   5.5096980830402I562\n",
       ":   5.13418129944907I563\n",
       ":   5.10019344338649I564\n",
       ":   5.24140712528268I591\n",
       ":   5.8109763939394I592\n",
       ":   5.1392039814002I593\n",
       ":   5.5069834443714I594\n",
       ":   5.06669623504395I861\n",
       ":   4.6754209950423I862\n",
       ":   5.04986623572178I863\n",
       ":   5.2217077231175I864\n",
       ":   4.68348066827689I891\n",
       ":   5.34488819710538I892\n",
       ":   5.00624741949149I893\n",
       ":   5.42933873986702I894\n",
       ":   5.21298034505077\n",
       "\n"
      ],
      "text/plain": [
       "     C61      C62      C63      C64      C91      C92      C93      C94 \n",
       "4.507178 4.977532 4.422126 4.852050 4.784386 5.091333 4.798092 5.015661 \n",
       "    I561     I562     I563     I564     I591     I592     I593     I594 \n",
       "5.509698 5.134181 5.100193 5.241407 5.810976 5.139204 5.506983 5.066696 \n",
       "    I861     I862     I863     I864     I891     I892     I893     I894 \n",
       "4.675421 5.049866 5.221708 4.683481 5.344888 5.006247 5.429339 5.212980 "
      ]
     },
     "metadata": {},
     "output_type": "display_data"
    }
   ],
   "source": [
    "y$E[\"AT1G01010\",]"
   ]
  },
  {
   "cell_type": "code",
   "execution_count": 36,
   "id": "1ab7c70d",
   "metadata": {},
   "outputs": [
    {
     "data": {
      "text/html": [
       "5.06590113826164"
      ],
      "text/latex": [
       "5.06590113826164"
      ],
      "text/markdown": [
       "5.06590113826164"
      ],
      "text/plain": [
       "[1] 5.065901"
      ]
     },
     "metadata": {},
     "output_type": "display_data"
    },
    {
     "data": {
      "text/html": [
       "0.328456766375719"
      ],
      "text/latex": [
       "0.328456766375719"
      ],
      "text/markdown": [
       "0.328456766375719"
      ],
      "text/plain": [
       "[1] 0.3284568"
      ]
     },
     "metadata": {},
     "output_type": "display_data"
    }
   ],
   "source": [
    "mean(y$E[\"AT1G01010\",]); sd(y$E[\"AT1G01010\",])"
   ]
  },
  {
   "cell_type": "code",
   "execution_count": 37,
   "id": "2f842ae0",
   "metadata": {},
   "outputs": [
    {
     "data": {
      "text/html": [
       "10.8634316153067"
      ],
      "text/latex": [
       "10.8634316153067"
      ],
      "text/markdown": [
       "10.8634316153067"
      ],
      "text/plain": [
       "[1] 10.86343"
      ]
     },
     "metadata": {},
     "output_type": "display_data"
    }
   ],
   "source": [
    "log2(sum(as.vector(y$E[\"AT1G01010\",])*as.vector(y$weights[1:24]))+0.5)"
   ]
  },
  {
   "cell_type": "code",
   "execution_count": 38,
   "id": "4f98381e",
   "metadata": {},
   "outputs": [],
   "source": [
    "sdd = c()\n",
    "meann = c()\n",
    "for (i in 1:21081){\n",
    "    sdd = append(sdd, sqrt(sd(as.vector(y$E[i,]))))\n",
    "    meann = append(meann, mean(as.vector(y$E[i,])))\n",
    "}"
   ]
  },
  {
   "cell_type": "code",
   "execution_count": 39,
   "id": "f58434a0",
   "metadata": {},
   "outputs": [
    {
     "data": {
      "image/png": "[encoded data removed]",
      "text/plain": [
       "plot without title"
      ]
     },
     "metadata": {},
     "output_type": "display_data"
    }
   ],
   "source": [
    "plot(meann, sdd, cex = 0.1)"
   ]
  },
  {
   "cell_type": "code",
   "execution_count": 40,
   "id": "95a681a6",
   "metadata": {},
   "outputs": [
    {
     "data": {
      "text/html": [
       "505944"
      ],
      "text/latex": [
       "505944"
      ],
      "text/markdown": [
       "505944"
      ],
      "text/plain": [
       "[1] 505944"
      ]
     },
     "metadata": {},
     "output_type": "display_data"
    }
   ],
   "source": [
    "length(y$weights)"
   ]
  },
  {
   "cell_type": "code",
   "execution_count": 41,
   "id": "d14b8597",
   "metadata": {},
   "outputs": [
    {
     "data": {
      "text/html": [
       "505944"
      ],
      "text/latex": [
       "505944"
      ],
      "text/markdown": [
       "505944"
      ],
      "text/plain": [
       "[1] 505944"
      ]
     },
     "metadata": {},
     "output_type": "display_data"
    }
   ],
   "source": [
    "21081*4*6 #liczba genow*24 kolumny"
   ]
  },
  {
   "cell_type": "code",
   "execution_count": 42,
   "id": "3a37087d",
   "metadata": {},
   "outputs": [
    {
     "data": {
      "image/png": "[encoded data removed]",
      "text/plain": [
       "plot without title"
      ]
     },
     "metadata": {},
     "output_type": "display_data"
    }
   ],
   "source": [
    "boxplot(y$weights)"
   ]
  },
  {
   "cell_type": "markdown",
   "id": "0473600c",
   "metadata": {},
   "source": [
    "<h3> Regresja liniowa + Bayes"
   ]
  },
  {
   "cell_type": "markdown",
   "id": "024eba56",
   "metadata": {},
   "source": [
    "<h4> Budowa modelu liniowego"
   ]
  },
  {
   "cell_type": "code",
   "execution_count": 43,
   "id": "e1e1e226",
   "metadata": {},
   "outputs": [
    {
     "data": {
      "text/html": [
       "<table>\n",
       "<thead><tr><th></th><th scope=col>grupyC.6</th><th scope=col>grupyI5.6</th><th scope=col>grupyI8.6</th><th scope=col>grupyC.9</th><th scope=col>grupyI5.9</th><th scope=col>grupyI8.9</th></tr></thead>\n",
       "<tbody>\n",
       "\t<tr><th scope=row>AT1G01010</th><td>4.685920 </td><td>5.2477564</td><td>4.938939 </td><td>4.922501 </td><td>5.382619 </td><td>5.246093 </td></tr>\n",
       "\t<tr><th scope=row>AT1G01020</th><td>3.420726 </td><td>3.4147535</td><td>3.130644 </td><td>3.571855 </td><td>3.610579 </td><td>3.655254 </td></tr>\n",
       "\t<tr><th scope=row>AT1G01030</th><td>1.111114 </td><td>0.7316936</td><td>1.435521 </td><td>1.157532 </td><td>0.388736 </td><td>1.222892 </td></tr>\n",
       "\t<tr><th scope=row>AT1G01040</th><td>5.534792 </td><td>5.8249589</td><td>5.645188 </td><td>6.071787 </td><td>5.721339 </td><td>5.667081 </td></tr>\n",
       "\t<tr><th scope=row>AT1G01050</th><td>6.530907 </td><td>6.4688536</td><td>6.394305 </td><td>6.554009 </td><td>6.707946 </td><td>6.660336 </td></tr>\n",
       "\t<tr><th scope=row>AT1G01060</th><td>7.732309 </td><td>7.3622888</td><td>7.317480 </td><td>8.932463 </td><td>8.193361 </td><td>8.308331 </td></tr>\n",
       "</tbody>\n",
       "</table>\n"
      ],
      "text/latex": [
       "\\begin{tabular}{r|llllll}\n",
       "  & grupyC.6 & grupyI5.6 & grupyI8.6 & grupyC.9 & grupyI5.9 & grupyI8.9\\\\\n",
       "\\hline\n",
       "\tAT1G01010 & 4.685920  & 5.2477564 & 4.938939  & 4.922501  & 5.382619  & 5.246093 \\\\\n",
       "\tAT1G01020 & 3.420726  & 3.4147535 & 3.130644  & 3.571855  & 3.610579  & 3.655254 \\\\\n",
       "\tAT1G01030 & 1.111114  & 0.7316936 & 1.435521  & 1.157532  & 0.388736  & 1.222892 \\\\\n",
       "\tAT1G01040 & 5.534792  & 5.8249589 & 5.645188  & 6.071787  & 5.721339  & 5.667081 \\\\\n",
       "\tAT1G01050 & 6.530907  & 6.4688536 & 6.394305  & 6.554009  & 6.707946  & 6.660336 \\\\\n",
       "\tAT1G01060 & 7.732309  & 7.3622888 & 7.317480  & 8.932463  & 8.193361  & 8.308331 \\\\\n",
       "\\end{tabular}\n"
      ],
      "text/markdown": [
       "\n",
       "| <!--/--> | grupyC.6 | grupyI5.6 | grupyI8.6 | grupyC.9 | grupyI5.9 | grupyI8.9 |\n",
       "|---|---|---|---|---|---|---|\n",
       "| AT1G01010 | 4.685920  | 5.2477564 | 4.938939  | 4.922501  | 5.382619  | 5.246093  |\n",
       "| AT1G01020 | 3.420726  | 3.4147535 | 3.130644  | 3.571855  | 3.610579  | 3.655254  |\n",
       "| AT1G01030 | 1.111114  | 0.7316936 | 1.435521  | 1.157532  | 0.388736  | 1.222892  |\n",
       "| AT1G01040 | 5.534792  | 5.8249589 | 5.645188  | 6.071787  | 5.721339  | 5.667081  |\n",
       "| AT1G01050 | 6.530907  | 6.4688536 | 6.394305  | 6.554009  | 6.707946  | 6.660336  |\n",
       "| AT1G01060 | 7.732309  | 7.3622888 | 7.317480  | 8.932463  | 8.193361  | 8.308331  |\n",
       "\n"
      ],
      "text/plain": [
       "          grupyC.6 grupyI5.6 grupyI8.6 grupyC.9 grupyI5.9 grupyI8.9\n",
       "AT1G01010 4.685920 5.2477564 4.938939  4.922501 5.382619  5.246093 \n",
       "AT1G01020 3.420726 3.4147535 3.130644  3.571855 3.610579  3.655254 \n",
       "AT1G01030 1.111114 0.7316936 1.435521  1.157532 0.388736  1.222892 \n",
       "AT1G01040 5.534792 5.8249589 5.645188  6.071787 5.721339  5.667081 \n",
       "AT1G01050 6.530907 6.4688536 6.394305  6.554009 6.707946  6.660336 \n",
       "AT1G01060 7.732309 7.3622888 7.317480  8.932463 8.193361  8.308331 "
      ]
     },
     "metadata": {},
     "output_type": "display_data"
    }
   ],
   "source": [
    "fit = lmFit(y, m) #buduje model liniowy dla kazdego genu\n",
    "head(coef(fit))"
   ]
  },
  {
   "cell_type": "code",
   "execution_count": 44,
   "id": "c04ff82e",
   "metadata": {},
   "outputs": [
    {
     "data": {
      "text/plain": [
       "\n",
       "Call:\n",
       "lm(formula = as.vector(y$E[\"AT1G01010\", ]) ~ grupy)\n",
       "\n",
       "Residuals:\n",
       "     Min       1Q   Median       3Q      Max \n",
       "-0.31427 -0.19294 -0.02017  0.16399  0.43001 \n",
       "\n",
       "Coefficients:\n",
       "            Estimate Std. Error t value Pr(>|t|)    \n",
       "(Intercept)   4.6897     0.1220  38.431  < 2e-16 ***\n",
       "grupyI5.6     0.5566     0.1726   3.226  0.00469 ** \n",
       "grupyI8.6     0.2179     0.1726   1.263  0.22284    \n",
       "grupyC.9      0.2326     0.1726   1.348  0.19435    \n",
       "grupyI5.9     0.6912     0.1726   4.005  0.00083 ***\n",
       "grupyI8.9     0.5586     0.1726   3.237  0.00457 ** \n",
       "---\n",
       "Signif. codes:  0 '***' 0.001 '**' 0.01 '*' 0.05 '.' 0.1 ' ' 1\n",
       "\n",
       "Residual standard error: 0.2441 on 18 degrees of freedom\n",
       "Multiple R-squared:  0.5679,\tAdjusted R-squared:  0.4479 \n",
       "F-statistic: 4.732 on 5 and 18 DF,  p-value: 0.006196\n"
      ]
     },
     "metadata": {},
     "output_type": "display_data"
    }
   ],
   "source": [
    "#wstawka (dla pierwszego genu)\n",
    "summary(lmodel <- lm(as.vector(y$E[\"AT1G01010\",])~grupy)) #czyli przewidujemy logCPM w oparciu o grupy (zmienne kategoryczne)"
   ]
  },
  {
   "cell_type": "code",
   "execution_count": 45,
   "id": "d7efffe1",
   "metadata": {},
   "outputs": [
    {
     "data": {
      "text/html": [
       "5.2483"
      ],
      "text/latex": [
       "5.2483"
      ],
      "text/markdown": [
       "5.2483"
      ],
      "text/plain": [
       "[1] 5.2483"
      ]
     },
     "metadata": {},
     "output_type": "display_data"
    }
   ],
   "source": [
    "4.6897+0.5586 #dla I8.9        "
   ]
  },
  {
   "cell_type": "code",
   "execution_count": 46,
   "id": "e3a9dde1",
   "metadata": {},
   "outputs": [
    {
     "data": {
      "text/html": [
       "<table>\n",
       "<thead><tr><th></th><th scope=col>grupyC.6</th><th scope=col>grupyI5.6</th><th scope=col>grupyI8.6</th><th scope=col>grupyC.9</th><th scope=col>grupyI5.9</th><th scope=col>grupyI8.9</th></tr></thead>\n",
       "<tbody>\n",
       "\t<tr><th scope=row>AT5G37260</th><td>5.102284</td><td>5.372745</td><td>5.144123</td><td>9.469451</td><td>8.536264</td><td>8.03395 </td></tr>\n",
       "</tbody>\n",
       "</table>\n"
      ],
      "text/latex": [
       "\\begin{tabular}{r|llllll}\n",
       "  & grupyC.6 & grupyI5.6 & grupyI8.6 & grupyC.9 & grupyI5.9 & grupyI8.9\\\\\n",
       "\\hline\n",
       "\tAT5G37260 & 5.102284 & 5.372745 & 5.144123 & 9.469451 & 8.536264 & 8.03395 \\\\\n",
       "\\end{tabular}\n"
      ],
      "text/markdown": [
       "\n",
       "| <!--/--> | grupyC.6 | grupyI5.6 | grupyI8.6 | grupyC.9 | grupyI5.9 | grupyI8.9 |\n",
       "|---|---|---|---|---|---|---|\n",
       "| AT5G37260 | 5.102284 | 5.372745 | 5.144123 | 9.469451 | 8.536264 | 8.03395  |\n",
       "\n"
      ],
      "text/plain": [
       "          grupyC.6 grupyI5.6 grupyI8.6 grupyC.9 grupyI5.9 grupyI8.9\n",
       "AT5G37260 5.102284 5.372745  5.144123  9.469451 8.536264  8.03395  "
      ]
     },
     "metadata": {},
     "output_type": "display_data"
    }
   ],
   "source": [
    "fit[\"AT5G37260\",]$coefficients #wspolczynniki dla wybranego genu"
   ]
  },
  {
   "cell_type": "code",
   "execution_count": 47,
   "id": "5e12ef75",
   "metadata": {},
   "outputs": [
    {
     "data": {
      "text/html": [
       "3.163519"
      ],
      "text/latex": [
       "3.163519"
      ],
      "text/markdown": [
       "3.163519"
      ],
      "text/plain": [
       "[1] 3.163519"
      ]
     },
     "metadata": {},
     "output_type": "display_data"
    }
   ],
   "source": [
    "8.536264-5.372745 #logFC dla groupI5.9 i groupI5.6"
   ]
  },
  {
   "cell_type": "code",
   "execution_count": 48,
   "id": "f1cc1fba",
   "metadata": {},
   "outputs": [
    {
     "data": {
      "text/html": [
       "<dl class=dl-horizontal>\n",
       "\t<dt>I561</dt>\n",
       "\t\t<dd>571</dd>\n",
       "\t<dt>I562</dt>\n",
       "\t\t<dd>557</dd>\n",
       "\t<dt>I563</dt>\n",
       "\t\t<dd>627</dd>\n",
       "\t<dt>I564</dt>\n",
       "\t\t<dd>585</dd>\n",
       "</dl>\n"
      ],
      "text/latex": [
       "\\begin{description*}\n",
       "\\item[I561] 571\n",
       "\\item[I562] 557\n",
       "\\item[I563] 627\n",
       "\\item[I564] 585\n",
       "\\end{description*}\n"
      ],
      "text/markdown": [
       "I561\n",
       ":   571I562\n",
       ":   557I563\n",
       ":   627I564\n",
       ":   585\n",
       "\n"
      ],
      "text/plain": [
       "I561 I562 I563 I564 \n",
       " 571  557  627  585 "
      ]
     },
     "metadata": {},
     "output_type": "display_data"
    },
    {
     "data": {
      "text/html": [
       "<dl class=dl-horizontal>\n",
       "\t<dt>I591</dt>\n",
       "\t\t<dd>5833</dd>\n",
       "\t<dt>I592</dt>\n",
       "\t\t<dd>5251</dd>\n",
       "\t<dt>I593</dt>\n",
       "\t\t<dd>5359</dd>\n",
       "\t<dt>I594</dt>\n",
       "\t\t<dd>5083</dd>\n",
       "</dl>\n"
      ],
      "text/latex": [
       "\\begin{description*}\n",
       "\\item[I591] 5833\n",
       "\\item[I592] 5251\n",
       "\\item[I593] 5359\n",
       "\\item[I594] 5083\n",
       "\\end{description*}\n"
      ],
      "text/markdown": [
       "I591\n",
       ":   5833I592\n",
       ":   5251I593\n",
       ":   5359I594\n",
       ":   5083\n",
       "\n"
      ],
      "text/plain": [
       "I591 I592 I593 I594 \n",
       "5833 5251 5359 5083 "
      ]
     },
     "metadata": {},
     "output_type": "display_data"
    }
   ],
   "source": [
    "#Intuicja za tym stojąca\n",
    "dane2[\"AT5G37260\",]$counts[,9:12]; dane2[\"AT5G37260\",]$counts[,13:16]"
   ]
  },
  {
   "cell_type": "code",
   "execution_count": 49,
   "id": "c3b0e22f",
   "metadata": {},
   "outputs": [
    {
     "data": {
      "text/html": [
       "585"
      ],
      "text/latex": [
       "585"
      ],
      "text/markdown": [
       "585"
      ],
      "text/plain": [
       "[1] 585"
      ]
     },
     "metadata": {},
     "output_type": "display_data"
    },
    {
     "data": {
      "text/html": [
       "5381.5"
      ],
      "text/latex": [
       "5381.5"
      ],
      "text/markdown": [
       "5381.5"
      ],
      "text/plain": [
       "[1] 5381.5"
      ]
     },
     "metadata": {},
     "output_type": "display_data"
    },
    {
     "data": {
      "text/html": [
       "9.1991452991453"
      ],
      "text/latex": [
       "9.1991452991453"
      ],
      "text/markdown": [
       "9.1991452991453"
      ],
      "text/plain": [
       "[1] 9.199145"
      ]
     },
     "metadata": {},
     "output_type": "display_data"
    },
    {
     "data": {
      "text/html": [
       "3.20149982530381"
      ],
      "text/latex": [
       "3.20149982530381"
      ],
      "text/markdown": [
       "3.20149982530381"
      ],
      "text/plain": [
       "[1] 3.2015"
      ]
     },
     "metadata": {},
     "output_type": "display_data"
    }
   ],
   "source": [
    "i56 = mean(c(571, 557, 627, 585))\n",
    "i59 = mean(c(5833, 5251, 5359, 5083))\n",
    "\n",
    "FC = i59/i56 #FC (fold change)\n",
    "i56; i59; FC; log2(FC) #mniej wiecej to co wyzej"
   ]
  },
  {
   "cell_type": "markdown",
   "id": "844197ec",
   "metadata": {},
   "source": [
    "Powiedzmy, że chce porównać I59 oraz I56"
   ]
  },
  {
   "cell_type": "code",
   "execution_count": 50,
   "id": "788a5889",
   "metadata": {},
   "outputs": [
    {
     "data": {
      "text/html": [
       "<table>\n",
       "<thead><tr><th></th><th scope=col>grupyI5.9 - grupyI5.6</th></tr></thead>\n",
       "<tbody>\n",
       "\t<tr><th scope=row>grupyC.6</th><td> 0</td></tr>\n",
       "\t<tr><th scope=row>grupyI5.6</th><td>-1</td></tr>\n",
       "\t<tr><th scope=row>grupyI8.6</th><td> 0</td></tr>\n",
       "\t<tr><th scope=row>grupyC.9</th><td> 0</td></tr>\n",
       "\t<tr><th scope=row>grupyI5.9</th><td> 1</td></tr>\n",
       "\t<tr><th scope=row>grupyI8.9</th><td> 0</td></tr>\n",
       "</tbody>\n",
       "</table>\n"
      ],
      "text/latex": [
       "\\begin{tabular}{r|l}\n",
       "  & grupyI5.9 - grupyI5.6\\\\\n",
       "\\hline\n",
       "\tgrupyC.6 &  0\\\\\n",
       "\tgrupyI5.6 & -1\\\\\n",
       "\tgrupyI8.6 &  0\\\\\n",
       "\tgrupyC.9 &  0\\\\\n",
       "\tgrupyI5.9 &  1\\\\\n",
       "\tgrupyI8.9 &  0\\\\\n",
       "\\end{tabular}\n"
      ],
      "text/markdown": [
       "\n",
       "| <!--/--> | grupyI5.9 - grupyI5.6 |\n",
       "|---|---|\n",
       "| grupyC.6 |  0 |\n",
       "| grupyI5.6 | -1 |\n",
       "| grupyI8.6 |  0 |\n",
       "| grupyC.9 |  0 |\n",
       "| grupyI5.9 |  1 |\n",
       "| grupyI8.9 |  0 |\n",
       "\n"
      ],
      "text/plain": [
       "           Contrasts\n",
       "Levels      grupyI5.9 - grupyI5.6\n",
       "  grupyC.6   0                   \n",
       "  grupyI5.6 -1                   \n",
       "  grupyI8.6  0                   \n",
       "  grupyC.9   0                   \n",
       "  grupyI5.9  1                   \n",
       "  grupyI8.9  0                   "
      ]
     },
     "metadata": {},
     "output_type": "display_data"
    }
   ],
   "source": [
    "contr =  makeContrasts(grupyI5.9 - grupyI5.6, levels = colnames(coef(fit)))\n",
    "contr"
   ]
  },
  {
   "cell_type": "code",
   "execution_count": 51,
   "id": "a40b9ca1",
   "metadata": {},
   "outputs": [
    {
     "data": {
      "text/html": [
       "<table>\n",
       "<thead><tr><th></th><th scope=col>logFC</th><th scope=col>AveExpr</th><th scope=col>t</th><th scope=col>P.Value</th><th scope=col>adj.P.Val</th><th scope=col>B</th></tr></thead>\n",
       "<tbody>\n",
       "\t<tr><th scope=row>AT5G37260</th><td> 3.1635185  </td><td>6.939588    </td><td> 23.940809  </td><td>1.437434e-16</td><td>3.030255e-12</td><td>26.418596   </td></tr>\n",
       "\t<tr><th scope=row>AT3G02990</th><td> 1.6464375  </td><td>3.190750    </td><td> 13.156564  </td><td>1.610004e-11</td><td>1.697025e-07</td><td>15.509886   </td></tr>\n",
       "\t<tr><th scope=row>AT2G29500</th><td>-5.2889981  </td><td>5.471250    </td><td>-11.940534  </td><td>9.584101e-11</td><td>6.218818e-07</td><td>14.454410   </td></tr>\n",
       "\t<tr><th scope=row>AT3G24520</th><td> 1.9066904  </td><td>5.780286    </td><td> 11.804606  </td><td>1.179985e-10</td><td>6.218818e-07</td><td>14.527209   </td></tr>\n",
       "\t<tr><th scope=row>AT5G65630</th><td> 1.0705500  </td><td>7.455294    </td><td> 10.867404  </td><td>5.208111e-10</td><td>2.195844e-06</td><td>13.127007   </td></tr>\n",
       "\t<tr><th scope=row>AT3G46230</th><td>-7.0674751  </td><td>4.413795    </td><td>-10.718544  </td><td>6.649402e-10</td><td>2.336268e-06</td><td>11.717332   </td></tr>\n",
       "\t<tr><th scope=row>AT4G21320</th><td>-2.8931736  </td><td>4.587374    </td><td>-10.073345  </td><td>1.972455e-09</td><td>5.369767e-06</td><td>11.707489   </td></tr>\n",
       "\t<tr><th scope=row>AT5G48570</th><td>-4.1285339  </td><td>6.333766    </td><td>-10.054440  </td><td>2.037766e-09</td><td>5.369767e-06</td><td>11.774326   </td></tr>\n",
       "\t<tr><th scope=row>AT5G52882</th><td> 0.8895868  </td><td>7.561378    </td><td>  9.800636  </td><td>3.168378e-09</td><td>6.809179e-06</td><td>11.376961   </td></tr>\n",
       "\t<tr><th scope=row>AT3G24100</th><td>-1.3746167  </td><td>5.993600    </td><td> -9.789657  </td><td>3.230007e-09</td><td>6.809179e-06</td><td>11.358325   </td></tr>\n",
       "\t<tr><th scope=row>AT1G53540</th><td>-7.5055094  </td><td>4.226987    </td><td> -9.509063  </td><td>5.310683e-09</td><td>9.308655e-06</td><td> 9.805623   </td></tr>\n",
       "\t<tr><th scope=row>AT4G25500</th><td> 1.0558411  </td><td>6.027279    </td><td>  9.488150  </td><td>5.513291e-09</td><td>9.308655e-06</td><td>10.837405   </td></tr>\n",
       "\t<tr><th scope=row>AT5G59570</th><td> 1.5496694  </td><td>2.874959    </td><td>  9.465639  </td><td>5.740360e-09</td><td>9.308655e-06</td><td>10.369948   </td></tr>\n",
       "\t<tr><th scope=row>AT5G02810</th><td>-4.9118585  </td><td>3.254442    </td><td> -9.350164  </td><td>7.067720e-09</td><td>1.064247e-05</td><td> 9.731432   </td></tr>\n",
       "\t<tr><th scope=row>AT1G09140</th><td>-1.3033121  </td><td>6.934660    </td><td> -9.307368  </td><td>7.637318e-09</td><td>1.073349e-05</td><td>10.519132   </td></tr>\n",
       "\t<tr><th scope=row>AT4G24780</th><td> 1.9769333  </td><td>6.895623    </td><td>  9.043461  </td><td>1.237952e-08</td><td>1.631080e-05</td><td>10.046490   </td></tr>\n",
       "\t<tr><th scope=row>AT1G31230</th><td> 1.1561568  </td><td>6.005589    </td><td>  9.000832  </td><td>1.339501e-08</td><td>1.661060e-05</td><td> 9.968996   </td></tr>\n",
       "\t<tr><th scope=row>AT4G11880</th><td> 2.7847873  </td><td>2.815117    </td><td>  8.840920  </td><td>1.804153e-08</td><td>2.112964e-05</td><td> 9.238408   </td></tr>\n",
       "\t<tr><th scope=row>AT1G22770</th><td>-3.6690285  </td><td>3.794222    </td><td> -8.727212  </td><td>2.234078e-08</td><td>2.478768e-05</td><td> 9.321941   </td></tr>\n",
       "\t<tr><th scope=row>AT3G54600</th><td> 2.2739540  </td><td>6.136706    </td><td>  8.419229  </td><td>4.019414e-08</td><td>4.236663e-05</td><td> 8.893749   </td></tr>\n",
       "</tbody>\n",
       "</table>\n"
      ],
      "text/latex": [
       "\\begin{tabular}{r|llllll}\n",
       "  & logFC & AveExpr & t & P.Value & adj.P.Val & B\\\\\n",
       "\\hline\n",
       "\tAT5G37260 &  3.1635185   & 6.939588     &  23.940809   & 1.437434e-16 & 3.030255e-12 & 26.418596   \\\\\n",
       "\tAT3G02990 &  1.6464375   & 3.190750     &  13.156564   & 1.610004e-11 & 1.697025e-07 & 15.509886   \\\\\n",
       "\tAT2G29500 & -5.2889981   & 5.471250     & -11.940534   & 9.584101e-11 & 6.218818e-07 & 14.454410   \\\\\n",
       "\tAT3G24520 &  1.9066904   & 5.780286     &  11.804606   & 1.179985e-10 & 6.218818e-07 & 14.527209   \\\\\n",
       "\tAT5G65630 &  1.0705500   & 7.455294     &  10.867404   & 5.208111e-10 & 2.195844e-06 & 13.127007   \\\\\n",
       "\tAT3G46230 & -7.0674751   & 4.413795     & -10.718544   & 6.649402e-10 & 2.336268e-06 & 11.717332   \\\\\n",
       "\tAT4G21320 & -2.8931736   & 4.587374     & -10.073345   & 1.972455e-09 & 5.369767e-06 & 11.707489   \\\\\n",
       "\tAT5G48570 & -4.1285339   & 6.333766     & -10.054440   & 2.037766e-09 & 5.369767e-06 & 11.774326   \\\\\n",
       "\tAT5G52882 &  0.8895868   & 7.561378     &   9.800636   & 3.168378e-09 & 6.809179e-06 & 11.376961   \\\\\n",
       "\tAT3G24100 & -1.3746167   & 5.993600     &  -9.789657   & 3.230007e-09 & 6.809179e-06 & 11.358325   \\\\\n",
       "\tAT1G53540 & -7.5055094   & 4.226987     &  -9.509063   & 5.310683e-09 & 9.308655e-06 &  9.805623   \\\\\n",
       "\tAT4G25500 &  1.0558411   & 6.027279     &   9.488150   & 5.513291e-09 & 9.308655e-06 & 10.837405   \\\\\n",
       "\tAT5G59570 &  1.5496694   & 2.874959     &   9.465639   & 5.740360e-09 & 9.308655e-06 & 10.369948   \\\\\n",
       "\tAT5G02810 & -4.9118585   & 3.254442     &  -9.350164   & 7.067720e-09 & 1.064247e-05 &  9.731432   \\\\\n",
       "\tAT1G09140 & -1.3033121   & 6.934660     &  -9.307368   & 7.637318e-09 & 1.073349e-05 & 10.519132   \\\\\n",
       "\tAT4G24780 &  1.9769333   & 6.895623     &   9.043461   & 1.237952e-08 & 1.631080e-05 & 10.046490   \\\\\n",
       "\tAT1G31230 &  1.1561568   & 6.005589     &   9.000832   & 1.339501e-08 & 1.661060e-05 &  9.968996   \\\\\n",
       "\tAT4G11880 &  2.7847873   & 2.815117     &   8.840920   & 1.804153e-08 & 2.112964e-05 &  9.238408   \\\\\n",
       "\tAT1G22770 & -3.6690285   & 3.794222     &  -8.727212   & 2.234078e-08 & 2.478768e-05 &  9.321941   \\\\\n",
       "\tAT3G54600 &  2.2739540   & 6.136706     &   8.419229   & 4.019414e-08 & 4.236663e-05 &  8.893749   \\\\\n",
       "\\end{tabular}\n"
      ],
      "text/markdown": [
       "\n",
       "| <!--/--> | logFC | AveExpr | t | P.Value | adj.P.Val | B |\n",
       "|---|---|---|---|---|---|---|\n",
       "| AT5G37260 |  3.1635185   | 6.939588     |  23.940809   | 1.437434e-16 | 3.030255e-12 | 26.418596    |\n",
       "| AT3G02990 |  1.6464375   | 3.190750     |  13.156564   | 1.610004e-11 | 1.697025e-07 | 15.509886    |\n",
       "| AT2G29500 | -5.2889981   | 5.471250     | -11.940534   | 9.584101e-11 | 6.218818e-07 | 14.454410    |\n",
       "| AT3G24520 |  1.9066904   | 5.780286     |  11.804606   | 1.179985e-10 | 6.218818e-07 | 14.527209    |\n",
       "| AT5G65630 |  1.0705500   | 7.455294     |  10.867404   | 5.208111e-10 | 2.195844e-06 | 13.127007    |\n",
       "| AT3G46230 | -7.0674751   | 4.413795     | -10.718544   | 6.649402e-10 | 2.336268e-06 | 11.717332    |\n",
       "| AT4G21320 | -2.8931736   | 4.587374     | -10.073345   | 1.972455e-09 | 5.369767e-06 | 11.707489    |\n",
       "| AT5G48570 | -4.1285339   | 6.333766     | -10.054440   | 2.037766e-09 | 5.369767e-06 | 11.774326    |\n",
       "| AT5G52882 |  0.8895868   | 7.561378     |   9.800636   | 3.168378e-09 | 6.809179e-06 | 11.376961    |\n",
       "| AT3G24100 | -1.3746167   | 5.993600     |  -9.789657   | 3.230007e-09 | 6.809179e-06 | 11.358325    |\n",
       "| AT1G53540 | -7.5055094   | 4.226987     |  -9.509063   | 5.310683e-09 | 9.308655e-06 |  9.805623    |\n",
       "| AT4G25500 |  1.0558411   | 6.027279     |   9.488150   | 5.513291e-09 | 9.308655e-06 | 10.837405    |\n",
       "| AT5G59570 |  1.5496694   | 2.874959     |   9.465639   | 5.740360e-09 | 9.308655e-06 | 10.369948    |\n",
       "| AT5G02810 | -4.9118585   | 3.254442     |  -9.350164   | 7.067720e-09 | 1.064247e-05 |  9.731432    |\n",
       "| AT1G09140 | -1.3033121   | 6.934660     |  -9.307368   | 7.637318e-09 | 1.073349e-05 | 10.519132    |\n",
       "| AT4G24780 |  1.9769333   | 6.895623     |   9.043461   | 1.237952e-08 | 1.631080e-05 | 10.046490    |\n",
       "| AT1G31230 |  1.1561568   | 6.005589     |   9.000832   | 1.339501e-08 | 1.661060e-05 |  9.968996    |\n",
       "| AT4G11880 |  2.7847873   | 2.815117     |   8.840920   | 1.804153e-08 | 2.112964e-05 |  9.238408    |\n",
       "| AT1G22770 | -3.6690285   | 3.794222     |  -8.727212   | 2.234078e-08 | 2.478768e-05 |  9.321941    |\n",
       "| AT3G54600 |  2.2739540   | 6.136706     |   8.419229   | 4.019414e-08 | 4.236663e-05 |  8.893749    |\n",
       "\n"
      ],
      "text/plain": [
       "          logFC      AveExpr  t          P.Value      adj.P.Val    B        \n",
       "AT5G37260  3.1635185 6.939588  23.940809 1.437434e-16 3.030255e-12 26.418596\n",
       "AT3G02990  1.6464375 3.190750  13.156564 1.610004e-11 1.697025e-07 15.509886\n",
       "AT2G29500 -5.2889981 5.471250 -11.940534 9.584101e-11 6.218818e-07 14.454410\n",
       "AT3G24520  1.9066904 5.780286  11.804606 1.179985e-10 6.218818e-07 14.527209\n",
       "AT5G65630  1.0705500 7.455294  10.867404 5.208111e-10 2.195844e-06 13.127007\n",
       "AT3G46230 -7.0674751 4.413795 -10.718544 6.649402e-10 2.336268e-06 11.717332\n",
       "AT4G21320 -2.8931736 4.587374 -10.073345 1.972455e-09 5.369767e-06 11.707489\n",
       "AT5G48570 -4.1285339 6.333766 -10.054440 2.037766e-09 5.369767e-06 11.774326\n",
       "AT5G52882  0.8895868 7.561378   9.800636 3.168378e-09 6.809179e-06 11.376961\n",
       "AT3G24100 -1.3746167 5.993600  -9.789657 3.230007e-09 6.809179e-06 11.358325\n",
       "AT1G53540 -7.5055094 4.226987  -9.509063 5.310683e-09 9.308655e-06  9.805623\n",
       "AT4G25500  1.0558411 6.027279   9.488150 5.513291e-09 9.308655e-06 10.837405\n",
       "AT5G59570  1.5496694 2.874959   9.465639 5.740360e-09 9.308655e-06 10.369948\n",
       "AT5G02810 -4.9118585 3.254442  -9.350164 7.067720e-09 1.064247e-05  9.731432\n",
       "AT1G09140 -1.3033121 6.934660  -9.307368 7.637318e-09 1.073349e-05 10.519132\n",
       "AT4G24780  1.9769333 6.895623   9.043461 1.237952e-08 1.631080e-05 10.046490\n",
       "AT1G31230  1.1561568 6.005589   9.000832 1.339501e-08 1.661060e-05  9.968996\n",
       "AT4G11880  2.7847873 2.815117   8.840920 1.804153e-08 2.112964e-05  9.238408\n",
       "AT1G22770 -3.6690285 3.794222  -8.727212 2.234078e-08 2.478768e-05  9.321941\n",
       "AT3G54600  2.2739540 6.136706   8.419229 4.019414e-08 4.236663e-05  8.893749"
      ]
     },
     "metadata": {},
     "output_type": "display_data"
    }
   ],
   "source": [
    "tmp = contrasts.fit(fit, contr)\n",
    "tmp = eBayes(tmp)\n",
    "top.table = topTable(tmp, sort.by = \"P\", n = Inf)\n",
    "head(top.table, 20)"
   ]
  },
  {
   "cell_type": "code",
   "execution_count": 52,
   "id": "9212c872",
   "metadata": {},
   "outputs": [
    {
     "data": {
      "text/html": [
       "<table>\n",
       "<thead><tr><th></th><th scope=col>logFC</th><th scope=col>AveExpr</th><th scope=col>t</th><th scope=col>P.Value</th><th scope=col>adj.P.Val</th><th scope=col>B</th></tr></thead>\n",
       "<tbody>\n",
       "\t<tr><th scope=row>AT5G37260</th><td> 3.163518   </td><td>6.939588    </td><td> 23.94081   </td><td>1.437434e-16</td><td>3.030255e-12</td><td>26.41860    </td></tr>\n",
       "\t<tr><th scope=row>AT3G02990</th><td> 1.646438   </td><td>3.190750    </td><td> 13.15656   </td><td>1.610004e-11</td><td>1.697025e-07</td><td>15.50989    </td></tr>\n",
       "\t<tr><th scope=row>AT2G29500</th><td>-5.288998   </td><td>5.471250    </td><td>-11.94053   </td><td>9.584101e-11</td><td>6.218818e-07</td><td>14.45441    </td></tr>\n",
       "\t<tr><th scope=row>AT3G24520</th><td> 1.906690   </td><td>5.780286    </td><td> 11.80461   </td><td>1.179985e-10</td><td>6.218818e-07</td><td>14.52721    </td></tr>\n",
       "\t<tr><th scope=row>AT5G65630</th><td> 1.070550   </td><td>7.455294    </td><td> 10.86740   </td><td>5.208111e-10</td><td>2.195844e-06</td><td>13.12701    </td></tr>\n",
       "\t<tr><th scope=row>AT3G46230</th><td>-7.067475   </td><td>4.413795    </td><td>-10.71854   </td><td>6.649402e-10</td><td>2.336268e-06</td><td>11.71733    </td></tr>\n",
       "</tbody>\n",
       "</table>\n"
      ],
      "text/latex": [
       "\\begin{tabular}{r|llllll}\n",
       "  & logFC & AveExpr & t & P.Value & adj.P.Val & B\\\\\n",
       "\\hline\n",
       "\tAT5G37260 &  3.163518    & 6.939588     &  23.94081    & 1.437434e-16 & 3.030255e-12 & 26.41860    \\\\\n",
       "\tAT3G02990 &  1.646438    & 3.190750     &  13.15656    & 1.610004e-11 & 1.697025e-07 & 15.50989    \\\\\n",
       "\tAT2G29500 & -5.288998    & 5.471250     & -11.94053    & 9.584101e-11 & 6.218818e-07 & 14.45441    \\\\\n",
       "\tAT3G24520 &  1.906690    & 5.780286     &  11.80461    & 1.179985e-10 & 6.218818e-07 & 14.52721    \\\\\n",
       "\tAT5G65630 &  1.070550    & 7.455294     &  10.86740    & 5.208111e-10 & 2.195844e-06 & 13.12701    \\\\\n",
       "\tAT3G46230 & -7.067475    & 4.413795     & -10.71854    & 6.649402e-10 & 2.336268e-06 & 11.71733    \\\\\n",
       "\\end{tabular}\n"
      ],
      "text/markdown": [
       "\n",
       "| <!--/--> | logFC | AveExpr | t | P.Value | adj.P.Val | B |\n",
       "|---|---|---|---|---|---|---|\n",
       "| AT5G37260 |  3.163518    | 6.939588     |  23.94081    | 1.437434e-16 | 3.030255e-12 | 26.41860     |\n",
       "| AT3G02990 |  1.646438    | 3.190750     |  13.15656    | 1.610004e-11 | 1.697025e-07 | 15.50989     |\n",
       "| AT2G29500 | -5.288998    | 5.471250     | -11.94053    | 9.584101e-11 | 6.218818e-07 | 14.45441     |\n",
       "| AT3G24520 |  1.906690    | 5.780286     |  11.80461    | 1.179985e-10 | 6.218818e-07 | 14.52721     |\n",
       "| AT5G65630 |  1.070550    | 7.455294     |  10.86740    | 5.208111e-10 | 2.195844e-06 | 13.12701     |\n",
       "| AT3G46230 | -7.067475    | 4.413795     | -10.71854    | 6.649402e-10 | 2.336268e-06 | 11.71733     |\n",
       "\n"
      ],
      "text/plain": [
       "          logFC     AveExpr  t         P.Value      adj.P.Val    B       \n",
       "AT5G37260  3.163518 6.939588  23.94081 1.437434e-16 3.030255e-12 26.41860\n",
       "AT3G02990  1.646438 3.190750  13.15656 1.610004e-11 1.697025e-07 15.50989\n",
       "AT2G29500 -5.288998 5.471250 -11.94053 9.584101e-11 6.218818e-07 14.45441\n",
       "AT3G24520  1.906690 5.780286  11.80461 1.179985e-10 6.218818e-07 14.52721\n",
       "AT5G65630  1.070550 7.455294  10.86740 5.208111e-10 2.195844e-06 13.12701\n",
       "AT3G46230 -7.067475 4.413795 -10.71854 6.649402e-10 2.336268e-06 11.71733"
      ]
     },
     "metadata": {},
     "output_type": "display_data"
    }
   ],
   "source": [
    "results = as.data.frame(top.table) \n",
    "head(results)"
   ]
  },
  {
   "cell_type": "code",
   "execution_count": 53,
   "id": "5f3313db",
   "metadata": {
    "scrolled": true
   },
   "outputs": [
    {
     "data": {
      "text/html": [
       "0.999999999996609"
      ],
      "text/latex": [
       "0.999999999996609"
      ],
      "text/markdown": [
       "0.999999999996609"
      ],
      "text/plain": [
       "[1] 1"
      ]
     },
     "metadata": {},
     "output_type": "display_data"
    }
   ],
   "source": [
    "1/(1+exp(-26.41)) #na tyle % gen ulega zroznicowanej ekspresji (https://support.bioconductor.org/p/6124/, https://www.bioconductor.org/packages/devel/bioc/vignettes/limma/inst/doc/usersguide.pdf B-statistics)"
   ]
  },
  {
   "cell_type": "code",
   "execution_count": 54,
   "id": "90fef3d4",
   "metadata": {},
   "outputs": [
    {
     "data": {
      "image/png": "[encoded data removed]",
      "text/plain": [
       "plot without title"
      ]
     },
     "metadata": {},
     "output_type": "display_data"
    }
   ],
   "source": [
    "plot(results$logFC, -log(results$adj.P.Val))  "
   ]
  },
  {
   "cell_type": "code",
   "execution_count": 55,
   "id": "32d29a06",
   "metadata": {},
   "outputs": [
    {
     "data": {
      "text/html": [
       "4529"
      ],
      "text/latex": [
       "4529"
      ],
      "text/markdown": [
       "4529"
      ],
      "text/plain": [
       "[1] 4529"
      ]
     },
     "metadata": {},
     "output_type": "display_data"
    }
   ],
   "source": [
    "length(which(top.table$adj.P.Val < 0.05))"
   ]
  },
  {
   "cell_type": "code",
   "execution_count": 56,
   "id": "0918cdf3",
   "metadata": {},
   "outputs": [],
   "source": [
    "top.table$Gene = rownames(top.table)\n",
    "top.table = top.table[,c(\"Gene\", names(top.table)[1:6])]\n",
    "write.table(top.table, file = \"time9_v_time6_I5.txt\", row.names = F, sep = \"\\t\", quote = F)"
   ]
  },
  {
   "cell_type": "code",
   "execution_count": 57,
   "id": "6dd893b5",
   "metadata": {},
   "outputs": [
    {
     "data": {
      "text/html": [
       "<table>\n",
       "<thead><tr><th></th><th scope=col>logFC</th><th scope=col>AveExpr</th><th scope=col>t</th><th scope=col>P.Value</th><th scope=col>adj.P.Val</th><th scope=col>B</th></tr></thead>\n",
       "<tbody>\n",
       "\t<tr><th scope=row>AT4G12520</th><td>-10.2545558 </td><td> 0.3581132  </td><td>-11.402477  </td><td>2.206726e-10</td><td>4.651998e-06</td><td> 3.6958152  </td></tr>\n",
       "\t<tr><th scope=row>AT3G30720</th><td>  5.8174384 </td><td> 3.3950689  </td><td> 10.528934  </td><td>9.108689e-10</td><td>9.601014e-06</td><td> 7.9963406  </td></tr>\n",
       "\t<tr><th scope=row>AT5G26270</th><td>  2.4210296 </td><td> 4.3788335  </td><td>  9.654257  </td><td>4.101051e-09</td><td>2.881809e-05</td><td>10.8356224  </td></tr>\n",
       "\t<tr><th scope=row>AT3G33528</th><td> -4.7808138 </td><td>-1.8612945  </td><td> -7.454943  </td><td>2.741289e-07</td><td>1.444728e-03</td><td> 0.5677732  </td></tr>\n",
       "\t<tr><th scope=row>AT1G64795</th><td> -4.8725948 </td><td>-1.3119360  </td><td> -7.079643  </td><td>5.985471e-07</td><td>2.523594e-03</td><td> 1.8151705  </td></tr>\n",
       "\t<tr><th scope=row>AT3G05955</th><td> -4.1589395 </td><td>-1.9731168  </td><td> -6.730979  </td><td>1.257443e-06</td><td>4.350078e-03</td><td> 1.0346134  </td></tr>\n",
       "\t<tr><th scope=row>AT4G28100</th><td> -0.8100610 </td><td> 4.4653004  </td><td> -6.666678  </td><td>1.444454e-06</td><td>4.350078e-03</td><td> 5.4207135  </td></tr>\n",
       "\t<tr><th scope=row>AT3G25730</th><td>  1.3218472 </td><td> 3.8664692  </td><td>  6.099603  </td><td>5.019911e-06</td><td>1.322809e-02</td><td> 4.2289493  </td></tr>\n",
       "\t<tr><th scope=row>AT5G05480</th><td> -0.5053042 </td><td> 4.4870331  </td><td> -5.654519  </td><td>1.371309e-05</td><td>3.212063e-02</td><td> 3.2846234  </td></tr>\n",
       "\t<tr><th scope=row>AT2G14878</th><td> -0.5320177 </td><td> 6.4332427  </td><td> -5.522563  </td><td>1.855037e-05</td><td>3.645200e-02</td><td> 2.9424881  </td></tr>\n",
       "\t<tr><th scope=row>AT4G15248</th><td> -1.6573703 </td><td> 2.0079823  </td><td> -5.468356  </td><td>2.101271e-05</td><td>3.645200e-02</td><td> 2.6003715  </td></tr>\n",
       "\t<tr><th scope=row>AT2G06995</th><td> -3.4256484 </td><td>-2.6487440  </td><td> -5.451150  </td><td>2.186197e-05</td><td>3.645200e-02</td><td>-0.3837534  </td></tr>\n",
       "\t<tr><th scope=row>AT4G01870</th><td>  1.6371762 </td><td> 5.5020234  </td><td>  5.439075  </td><td>2.247882e-05</td><td>3.645200e-02</td><td> 2.7818655  </td></tr>\n",
       "\t<tr><th scope=row>AT1G30080</th><td>  0.8506352 </td><td> 4.6244191  </td><td>  5.399805  </td><td>2.461020e-05</td><td>3.705769e-02</td><td> 2.7244845  </td></tr>\n",
       "\t<tr><th scope=row>AT3G28740</th><td>  2.2343877 </td><td> 5.4434098  </td><td>  5.364419  </td><td>2.670671e-05</td><td>3.742821e-02</td><td> 2.6232356  </td></tr>\n",
       "\t<tr><th scope=row>AT2G37760</th><td>  0.7554453 </td><td> 5.3136006  </td><td>  5.337736  </td><td>2.840716e-05</td><td>3.742821e-02</td><td> 2.5469501  </td></tr>\n",
       "\t<tr><th scope=row>AT5G14370</th><td>  0.9265823 </td><td> 3.6069414  </td><td>  5.268085  </td><td>3.338388e-05</td><td>4.047843e-02</td><td> 2.4588462  </td></tr>\n",
       "\t<tr><th scope=row>AT1G60750</th><td>  1.7810021 </td><td> 3.7602028  </td><td>  5.253140  </td><td>3.456249e-05</td><td>4.047843e-02</td><td> 2.4264936  </td></tr>\n",
       "\t<tr><th scope=row>AT1G53060</th><td> -0.9668093 </td><td> 1.2415548  </td><td> -5.215484  </td><td>3.772330e-05</td><td>4.185499e-02</td><td> 1.9892108  </td></tr>\n",
       "\t<tr><th scope=row>AT2G25737</th><td>  0.8905906 </td><td> 3.5531304  </td><td>  5.137243  </td><td>4.526297e-05</td><td>4.770943e-02</td><td> 2.1743236  </td></tr>\n",
       "</tbody>\n",
       "</table>\n"
      ],
      "text/latex": [
       "\\begin{tabular}{r|llllll}\n",
       "  & logFC & AveExpr & t & P.Value & adj.P.Val & B\\\\\n",
       "\\hline\n",
       "\tAT4G12520 & -10.2545558  &  0.3581132   & -11.402477   & 2.206726e-10 & 4.651998e-06 &  3.6958152  \\\\\n",
       "\tAT3G30720 &   5.8174384  &  3.3950689   &  10.528934   & 9.108689e-10 & 9.601014e-06 &  7.9963406  \\\\\n",
       "\tAT5G26270 &   2.4210296  &  4.3788335   &   9.654257   & 4.101051e-09 & 2.881809e-05 & 10.8356224  \\\\\n",
       "\tAT3G33528 &  -4.7808138  & -1.8612945   &  -7.454943   & 2.741289e-07 & 1.444728e-03 &  0.5677732  \\\\\n",
       "\tAT1G64795 &  -4.8725948  & -1.3119360   &  -7.079643   & 5.985471e-07 & 2.523594e-03 &  1.8151705  \\\\\n",
       "\tAT3G05955 &  -4.1589395  & -1.9731168   &  -6.730979   & 1.257443e-06 & 4.350078e-03 &  1.0346134  \\\\\n",
       "\tAT4G28100 &  -0.8100610  &  4.4653004   &  -6.666678   & 1.444454e-06 & 4.350078e-03 &  5.4207135  \\\\\n",
       "\tAT3G25730 &   1.3218472  &  3.8664692   &   6.099603   & 5.019911e-06 & 1.322809e-02 &  4.2289493  \\\\\n",
       "\tAT5G05480 &  -0.5053042  &  4.4870331   &  -5.654519   & 1.371309e-05 & 3.212063e-02 &  3.2846234  \\\\\n",
       "\tAT2G14878 &  -0.5320177  &  6.4332427   &  -5.522563   & 1.855037e-05 & 3.645200e-02 &  2.9424881  \\\\\n",
       "\tAT4G15248 &  -1.6573703  &  2.0079823   &  -5.468356   & 2.101271e-05 & 3.645200e-02 &  2.6003715  \\\\\n",
       "\tAT2G06995 &  -3.4256484  & -2.6487440   &  -5.451150   & 2.186197e-05 & 3.645200e-02 & -0.3837534  \\\\\n",
       "\tAT4G01870 &   1.6371762  &  5.5020234   &   5.439075   & 2.247882e-05 & 3.645200e-02 &  2.7818655  \\\\\n",
       "\tAT1G30080 &   0.8506352  &  4.6244191   &   5.399805   & 2.461020e-05 & 3.705769e-02 &  2.7244845  \\\\\n",
       "\tAT3G28740 &   2.2343877  &  5.4434098   &   5.364419   & 2.670671e-05 & 3.742821e-02 &  2.6232356  \\\\\n",
       "\tAT2G37760 &   0.7554453  &  5.3136006   &   5.337736   & 2.840716e-05 & 3.742821e-02 &  2.5469501  \\\\\n",
       "\tAT5G14370 &   0.9265823  &  3.6069414   &   5.268085   & 3.338388e-05 & 4.047843e-02 &  2.4588462  \\\\\n",
       "\tAT1G60750 &   1.7810021  &  3.7602028   &   5.253140   & 3.456249e-05 & 4.047843e-02 &  2.4264936  \\\\\n",
       "\tAT1G53060 &  -0.9668093  &  1.2415548   &  -5.215484   & 3.772330e-05 & 4.185499e-02 &  1.9892108  \\\\\n",
       "\tAT2G25737 &   0.8905906  &  3.5531304   &   5.137243   & 4.526297e-05 & 4.770943e-02 &  2.1743236  \\\\\n",
       "\\end{tabular}\n"
      ],
      "text/markdown": [
       "\n",
       "| <!--/--> | logFC | AveExpr | t | P.Value | adj.P.Val | B |\n",
       "|---|---|---|---|---|---|---|\n",
       "| AT4G12520 | -10.2545558  |  0.3581132   | -11.402477   | 2.206726e-10 | 4.651998e-06 |  3.6958152   |\n",
       "| AT3G30720 |   5.8174384  |  3.3950689   |  10.528934   | 9.108689e-10 | 9.601014e-06 |  7.9963406   |\n",
       "| AT5G26270 |   2.4210296  |  4.3788335   |   9.654257   | 4.101051e-09 | 2.881809e-05 | 10.8356224   |\n",
       "| AT3G33528 |  -4.7808138  | -1.8612945   |  -7.454943   | 2.741289e-07 | 1.444728e-03 |  0.5677732   |\n",
       "| AT1G64795 |  -4.8725948  | -1.3119360   |  -7.079643   | 5.985471e-07 | 2.523594e-03 |  1.8151705   |\n",
       "| AT3G05955 |  -4.1589395  | -1.9731168   |  -6.730979   | 1.257443e-06 | 4.350078e-03 |  1.0346134   |\n",
       "| AT4G28100 |  -0.8100610  |  4.4653004   |  -6.666678   | 1.444454e-06 | 4.350078e-03 |  5.4207135   |\n",
       "| AT3G25730 |   1.3218472  |  3.8664692   |   6.099603   | 5.019911e-06 | 1.322809e-02 |  4.2289493   |\n",
       "| AT5G05480 |  -0.5053042  |  4.4870331   |  -5.654519   | 1.371309e-05 | 3.212063e-02 |  3.2846234   |\n",
       "| AT2G14878 |  -0.5320177  |  6.4332427   |  -5.522563   | 1.855037e-05 | 3.645200e-02 |  2.9424881   |\n",
       "| AT4G15248 |  -1.6573703  |  2.0079823   |  -5.468356   | 2.101271e-05 | 3.645200e-02 |  2.6003715   |\n",
       "| AT2G06995 |  -3.4256484  | -2.6487440   |  -5.451150   | 2.186197e-05 | 3.645200e-02 | -0.3837534   |\n",
       "| AT4G01870 |   1.6371762  |  5.5020234   |   5.439075   | 2.247882e-05 | 3.645200e-02 |  2.7818655   |\n",
       "| AT1G30080 |   0.8506352  |  4.6244191   |   5.399805   | 2.461020e-05 | 3.705769e-02 |  2.7244845   |\n",
       "| AT3G28740 |   2.2343877  |  5.4434098   |   5.364419   | 2.670671e-05 | 3.742821e-02 |  2.6232356   |\n",
       "| AT2G37760 |   0.7554453  |  5.3136006   |   5.337736   | 2.840716e-05 | 3.742821e-02 |  2.5469501   |\n",
       "| AT5G14370 |   0.9265823  |  3.6069414   |   5.268085   | 3.338388e-05 | 4.047843e-02 |  2.4588462   |\n",
       "| AT1G60750 |   1.7810021  |  3.7602028   |   5.253140   | 3.456249e-05 | 4.047843e-02 |  2.4264936   |\n",
       "| AT1G53060 |  -0.9668093  |  1.2415548   |  -5.215484   | 3.772330e-05 | 4.185499e-02 |  1.9892108   |\n",
       "| AT2G25737 |   0.8905906  |  3.5531304   |   5.137243   | 4.526297e-05 | 4.770943e-02 |  2.1743236   |\n",
       "\n"
      ],
      "text/plain": [
       "          logFC       AveExpr    t          P.Value      adj.P.Val   \n",
       "AT4G12520 -10.2545558  0.3581132 -11.402477 2.206726e-10 4.651998e-06\n",
       "AT3G30720   5.8174384  3.3950689  10.528934 9.108689e-10 9.601014e-06\n",
       "AT5G26270   2.4210296  4.3788335   9.654257 4.101051e-09 2.881809e-05\n",
       "AT3G33528  -4.7808138 -1.8612945  -7.454943 2.741289e-07 1.444728e-03\n",
       "AT1G64795  -4.8725948 -1.3119360  -7.079643 5.985471e-07 2.523594e-03\n",
       "AT3G05955  -4.1589395 -1.9731168  -6.730979 1.257443e-06 4.350078e-03\n",
       "AT4G28100  -0.8100610  4.4653004  -6.666678 1.444454e-06 4.350078e-03\n",
       "AT3G25730   1.3218472  3.8664692   6.099603 5.019911e-06 1.322809e-02\n",
       "AT5G05480  -0.5053042  4.4870331  -5.654519 1.371309e-05 3.212063e-02\n",
       "AT2G14878  -0.5320177  6.4332427  -5.522563 1.855037e-05 3.645200e-02\n",
       "AT4G15248  -1.6573703  2.0079823  -5.468356 2.101271e-05 3.645200e-02\n",
       "AT2G06995  -3.4256484 -2.6487440  -5.451150 2.186197e-05 3.645200e-02\n",
       "AT4G01870   1.6371762  5.5020234   5.439075 2.247882e-05 3.645200e-02\n",
       "AT1G30080   0.8506352  4.6244191   5.399805 2.461020e-05 3.705769e-02\n",
       "AT3G28740   2.2343877  5.4434098   5.364419 2.670671e-05 3.742821e-02\n",
       "AT2G37760   0.7554453  5.3136006   5.337736 2.840716e-05 3.742821e-02\n",
       "AT5G14370   0.9265823  3.6069414   5.268085 3.338388e-05 4.047843e-02\n",
       "AT1G60750   1.7810021  3.7602028   5.253140 3.456249e-05 4.047843e-02\n",
       "AT1G53060  -0.9668093  1.2415548  -5.215484 3.772330e-05 4.185499e-02\n",
       "AT2G25737   0.8905906  3.5531304   5.137243 4.526297e-05 4.770943e-02\n",
       "          B         \n",
       "AT4G12520  3.6958152\n",
       "AT3G30720  7.9963406\n",
       "AT5G26270 10.8356224\n",
       "AT3G33528  0.5677732\n",
       "AT1G64795  1.8151705\n",
       "AT3G05955  1.0346134\n",
       "AT4G28100  5.4207135\n",
       "AT3G25730  4.2289493\n",
       "AT5G05480  3.2846234\n",
       "AT2G14878  2.9424881\n",
       "AT4G15248  2.6003715\n",
       "AT2G06995 -0.3837534\n",
       "AT4G01870  2.7818655\n",
       "AT1G30080  2.7244845\n",
       "AT3G28740  2.6232356\n",
       "AT2G37760  2.5469501\n",
       "AT5G14370  2.4588462\n",
       "AT1G60750  2.4264936\n",
       "AT1G53060  1.9892108\n",
       "AT2G25737  2.1743236"
      ]
     },
     "metadata": {},
     "output_type": "display_data"
    }
   ],
   "source": [
    "#tym razem miedzy I5.6 a C.6\n",
    "\n",
    "contr = makeContrasts(grupyI5.6 - grupyC.6, levels = colnames(coef(fit)))\n",
    "tmp = contrasts.fit(fit, contr)\n",
    "tmp = eBayes(tmp)\n",
    "top.table = topTable(tmp, sort.by = \"P\", n = Inf)\n",
    "head(top.table, 20)"
   ]
  },
  {
   "cell_type": "code",
   "execution_count": 58,
   "id": "9031ab74",
   "metadata": {},
   "outputs": [
    {
     "data": {
      "text/html": [
       "20"
      ],
      "text/latex": [
       "20"
      ],
      "text/markdown": [
       "20"
      ],
      "text/plain": [
       "[1] 20"
      ]
     },
     "metadata": {},
     "output_type": "display_data"
    }
   ],
   "source": [
    "length(which(top.table$adj.P.Val < 0.05)) # number of DE genes"
   ]
  },
  {
   "cell_type": "markdown",
   "id": "b441c05f",
   "metadata": {},
   "source": [
    "<h3> GLM (uogólnione modele liniowe)"
   ]
  },
  {
   "cell_type": "markdown",
   "id": "23fe0f10",
   "metadata": {},
   "source": [
    "\n",
    "Zakładamy ujemny rozkład dwumianowy (uogólnienie rozkładu Poissona), tzn $Y \\sim NB(r, p)$"
   ]
  },
  {
   "cell_type": "markdown",
   "id": "a3f0def9",
   "metadata": {},
   "source": [
    "$D^2(Y) = \\mu + k\\mu^2$, k - dyspersja\n",
    "\n",
    "Uwaga: Jeżeli $k = 0$, to $D^2(Y) = \\mu$ (rozkład Poissona)"
   ]
  },
  {
   "cell_type": "code",
   "execution_count": 59,
   "id": "6a429ccb",
   "metadata": {},
   "outputs": [],
   "source": [
    "dgeObj = estimateCommonDisp(dane2) #dla wszystkich genów\n",
    "dgeObj = estimateGLMTrendedDisp(dgeObj)\n",
    "dgeObj =  estimateTagwiseDisp(dgeObj) #dla kazdego genu z osobna"
   ]
  },
  {
   "cell_type": "markdown",
   "id": "2c9bcf61",
   "metadata": {},
   "source": [
    "troche za mało danych z punktu widzenia kazdego genu zeby aproksymowac isotnie dyspersje, dlatego korzystamy z globalnej --> jak duzo bibliotek, to nie ma problemu"
   ]
  },
  {
   "cell_type": "markdown",
   "id": "f40000e5",
   "metadata": {},
   "source": [
    "$BCV = \\sqrt{k}$"
   ]
  },
  {
   "cell_type": "code",
   "execution_count": 60,
   "id": "f3888591",
   "metadata": {},
   "outputs": [
    {
     "data": {
      "image/png": "[encoded data removed]",
      "text/plain": [
       "plot without title"
      ]
     },
     "metadata": {},
     "output_type": "display_data"
    }
   ],
   "source": [
    "options(repr.plot.width=8, repr.plot.height=5)\n",
    "\n",
    "plotBCV(dgeObj) #BCV opisuje zmiennosc pomiędzy replikatami, przykładowo BCV = 0.3 oznacza ze replikaty roznia sie miedzy sobą o ok 30% "
   ]
  },
  {
   "cell_type": "code",
   "execution_count": 61,
   "id": "44c0a47a",
   "metadata": {},
   "outputs": [
    {
     "data": {
      "text/html": [
       "<ol class=list-inline>\n",
       "\t<li>'coefficients'</li>\n",
       "\t<li>'fitted.values'</li>\n",
       "\t<li>'deviance'</li>\n",
       "\t<li>'method'</li>\n",
       "\t<li>'counts'</li>\n",
       "\t<li>'unshrunk.coefficients'</li>\n",
       "\t<li>'df.residual'</li>\n",
       "\t<li>'design'</li>\n",
       "\t<li>'offset'</li>\n",
       "\t<li>'dispersion'</li>\n",
       "\t<li>'prior.count'</li>\n",
       "\t<li>'samples'</li>\n",
       "\t<li>'prior.df'</li>\n",
       "\t<li>'AveLogCPM'</li>\n",
       "</ol>\n"
      ],
      "text/latex": [
       "\\begin{enumerate*}\n",
       "\\item 'coefficients'\n",
       "\\item 'fitted.values'\n",
       "\\item 'deviance'\n",
       "\\item 'method'\n",
       "\\item 'counts'\n",
       "\\item 'unshrunk.coefficients'\n",
       "\\item 'df.residual'\n",
       "\\item 'design'\n",
       "\\item 'offset'\n",
       "\\item 'dispersion'\n",
       "\\item 'prior.count'\n",
       "\\item 'samples'\n",
       "\\item 'prior.df'\n",
       "\\item 'AveLogCPM'\n",
       "\\end{enumerate*}\n"
      ],
      "text/markdown": [
       "1. 'coefficients'\n",
       "2. 'fitted.values'\n",
       "3. 'deviance'\n",
       "4. 'method'\n",
       "5. 'counts'\n",
       "6. 'unshrunk.coefficients'\n",
       "7. 'df.residual'\n",
       "8. 'design'\n",
       "9. 'offset'\n",
       "10. 'dispersion'\n",
       "11. 'prior.count'\n",
       "12. 'samples'\n",
       "13. 'prior.df'\n",
       "14. 'AveLogCPM'\n",
       "\n",
       "\n"
      ],
      "text/plain": [
       " [1] \"coefficients\"          \"fitted.values\"         \"deviance\"             \n",
       " [4] \"method\"                \"counts\"                \"unshrunk.coefficients\"\n",
       " [7] \"df.residual\"           \"design\"                \"offset\"               \n",
       "[10] \"dispersion\"            \"prior.count\"           \"samples\"              \n",
       "[13] \"prior.df\"              \"AveLogCPM\"            "
      ]
     },
     "metadata": {},
     "output_type": "display_data"
    }
   ],
   "source": [
    "fit = glmFit(dgeObj, m)\n",
    "names(fit)"
   ]
  },
  {
   "cell_type": "code",
   "execution_count": 62,
   "id": "5a057849",
   "metadata": {},
   "outputs": [
    {
     "data": {
      "text/html": [
       "<table>\n",
       "<thead><tr><th></th><th scope=col>grupyC.6</th><th scope=col>grupyI5.6</th><th scope=col>grupyI8.6</th><th scope=col>grupyC.9</th><th scope=col>grupyI5.9</th><th scope=col>grupyI8.9</th></tr></thead>\n",
       "<tbody>\n",
       "\t<tr><th scope=row>AT1G01010</th><td>-10.553332</td><td>-10.173217</td><td>-10.399569</td><td>-10.400158</td><td>-10.064324</td><td>-10.172424</td></tr>\n",
       "\t<tr><th scope=row>AT1G01020</th><td>-11.433190</td><td>-11.448545</td><td>-11.653656</td><td>-11.339970</td><td>-11.310614</td><td>-11.282767</td></tr>\n",
       "\t<tr><th scope=row>AT1G01030</th><td>-12.982532</td><td>-13.010666</td><td>-12.413479</td><td>-12.971808</td><td>-13.521278</td><td>-12.931118</td></tr>\n",
       "\t<tr><th scope=row>AT1G01040</th><td> -9.978821</td><td> -9.778168</td><td> -9.888609</td><td> -9.601965</td><td> -9.846309</td><td> -9.881873</td></tr>\n",
       "\t<tr><th scope=row>AT1G01050</th><td> -9.287429</td><td> -9.324568</td><td> -9.379964</td><td> -9.270249</td><td> -9.165003</td><td> -9.197657</td></tr>\n",
       "\t<tr><th scope=row>AT1G01060</th><td> -8.452161</td><td> -8.703560</td><td> -8.696726</td><td> -7.604754</td><td> -8.128522</td><td> -8.050337</td></tr>\n",
       "</tbody>\n",
       "</table>\n"
      ],
      "text/latex": [
       "\\begin{tabular}{r|llllll}\n",
       "  & grupyC.6 & grupyI5.6 & grupyI8.6 & grupyC.9 & grupyI5.9 & grupyI8.9\\\\\n",
       "\\hline\n",
       "\tAT1G01010 & -10.553332 & -10.173217 & -10.399569 & -10.400158 & -10.064324 & -10.172424\\\\\n",
       "\tAT1G01020 & -11.433190 & -11.448545 & -11.653656 & -11.339970 & -11.310614 & -11.282767\\\\\n",
       "\tAT1G01030 & -12.982532 & -13.010666 & -12.413479 & -12.971808 & -13.521278 & -12.931118\\\\\n",
       "\tAT1G01040 &  -9.978821 &  -9.778168 &  -9.888609 &  -9.601965 &  -9.846309 &  -9.881873\\\\\n",
       "\tAT1G01050 &  -9.287429 &  -9.324568 &  -9.379964 &  -9.270249 &  -9.165003 &  -9.197657\\\\\n",
       "\tAT1G01060 &  -8.452161 &  -8.703560 &  -8.696726 &  -7.604754 &  -8.128522 &  -8.050337\\\\\n",
       "\\end{tabular}\n"
      ],
      "text/markdown": [
       "\n",
       "| <!--/--> | grupyC.6 | grupyI5.6 | grupyI8.6 | grupyC.9 | grupyI5.9 | grupyI8.9 |\n",
       "|---|---|---|---|---|---|---|\n",
       "| AT1G01010 | -10.553332 | -10.173217 | -10.399569 | -10.400158 | -10.064324 | -10.172424 |\n",
       "| AT1G01020 | -11.433190 | -11.448545 | -11.653656 | -11.339970 | -11.310614 | -11.282767 |\n",
       "| AT1G01030 | -12.982532 | -13.010666 | -12.413479 | -12.971808 | -13.521278 | -12.931118 |\n",
       "| AT1G01040 |  -9.978821 |  -9.778168 |  -9.888609 |  -9.601965 |  -9.846309 |  -9.881873 |\n",
       "| AT1G01050 |  -9.287429 |  -9.324568 |  -9.379964 |  -9.270249 |  -9.165003 |  -9.197657 |\n",
       "| AT1G01060 |  -8.452161 |  -8.703560 |  -8.696726 |  -7.604754 |  -8.128522 |  -8.050337 |\n",
       "\n"
      ],
      "text/plain": [
       "          grupyC.6   grupyI5.6  grupyI8.6  grupyC.9   grupyI5.9  grupyI8.9 \n",
       "AT1G01010 -10.553332 -10.173217 -10.399569 -10.400158 -10.064324 -10.172424\n",
       "AT1G01020 -11.433190 -11.448545 -11.653656 -11.339970 -11.310614 -11.282767\n",
       "AT1G01030 -12.982532 -13.010666 -12.413479 -12.971808 -13.521278 -12.931118\n",
       "AT1G01040  -9.978821  -9.778168  -9.888609  -9.601965  -9.846309  -9.881873\n",
       "AT1G01050  -9.287429  -9.324568  -9.379964  -9.270249  -9.165003  -9.197657\n",
       "AT1G01060  -8.452161  -8.703560  -8.696726  -7.604754  -8.128522  -8.050337"
      ]
     },
     "metadata": {},
     "output_type": "display_data"
    }
   ],
   "source": [
    "head(coef(fit))"
   ]
  },
  {
   "cell_type": "code",
   "execution_count": 63,
   "id": "45761d27",
   "metadata": {},
   "outputs": [
    {
     "data": {
      "text/html": [
       "<dl>\n",
       "\t<dt>$table</dt>\n",
       "\t\t<dd><table>\n",
       "<thead><tr><th></th><th scope=col>logFC</th><th scope=col>logCPM</th><th scope=col>LR</th><th scope=col>PValue</th><th scope=col>FDR</th></tr></thead>\n",
       "<tbody>\n",
       "\t<tr><th scope=row>AT1G08430</th><td>7.236178    </td><td>6.90256174  </td><td>29.77687    </td><td>4.847422e-08</td><td>0.0009267927</td></tr>\n",
       "\t<tr><th scope=row>AT5G07570</th><td>7.620685    </td><td>3.41494400  </td><td>28.50666    </td><td>9.337665e-08</td><td>0.0009267927</td></tr>\n",
       "\t<tr><th scope=row>AT5G38200</th><td>5.113514    </td><td>6.02070639  </td><td>27.83829    </td><td>1.318902e-07</td><td>0.0009267927</td></tr>\n",
       "\t<tr><th scope=row>AT3G13950</th><td>5.280063    </td><td>3.05220386  </td><td>26.93744    </td><td>2.101480e-07</td><td>0.0011075327</td></tr>\n",
       "\t<tr><th scope=row>AT1G22770</th><td>7.441116    </td><td>5.09250637  </td><td>25.98806    </td><td>3.435356e-07</td><td>0.0012055566</td></tr>\n",
       "\t<tr><th scope=row>AT5G07572</th><td>7.429947    </td><td>0.03955216  </td><td>25.76580    </td><td>3.854576e-07</td><td>0.0012055566</td></tr>\n",
       "\t<tr><th scope=row>AT2G41380</th><td>4.671623    </td><td>6.39381432  </td><td>25.69285    </td><td>4.003082e-07</td><td>0.0012055566</td></tr>\n",
       "\t<tr><th scope=row>AT5G47000</th><td>6.492513    </td><td>2.36316343  </td><td>23.91768    </td><td>1.005443e-06</td><td>0.0026494667</td></tr>\n",
       "\t<tr><th scope=row>AT1G51830</th><td>5.211988    </td><td>7.18016986  </td><td>22.98396    </td><td>1.633588e-06</td><td>0.0038264086</td></tr>\n",
       "\t<tr><th scope=row>AT3G49580</th><td>6.108404    </td><td>2.24801349  </td><td>22.28366    </td><td>2.351995e-06</td><td>0.0049582398</td></tr>\n",
       "</tbody>\n",
       "</table>\n",
       "</dd>\n",
       "\t<dt>$adjust.method</dt>\n",
       "\t\t<dd>'BH'</dd>\n",
       "\t<dt>$comparison</dt>\n",
       "\t\t<dd>'1*grupyC.6 -1*grupyC.9'</dd>\n",
       "\t<dt>$test</dt>\n",
       "\t\t<dd>'glm'</dd>\n",
       "</dl>\n"
      ],
      "text/latex": [
       "\\begin{description}\n",
       "\\item[\\$table] \\begin{tabular}{r|lllll}\n",
       "  & logFC & logCPM & LR & PValue & FDR\\\\\n",
       "\\hline\n",
       "\tAT1G08430 & 7.236178     & 6.90256174   & 29.77687     & 4.847422e-08 & 0.0009267927\\\\\n",
       "\tAT5G07570 & 7.620685     & 3.41494400   & 28.50666     & 9.337665e-08 & 0.0009267927\\\\\n",
       "\tAT5G38200 & 5.113514     & 6.02070639   & 27.83829     & 1.318902e-07 & 0.0009267927\\\\\n",
       "\tAT3G13950 & 5.280063     & 3.05220386   & 26.93744     & 2.101480e-07 & 0.0011075327\\\\\n",
       "\tAT1G22770 & 7.441116     & 5.09250637   & 25.98806     & 3.435356e-07 & 0.0012055566\\\\\n",
       "\tAT5G07572 & 7.429947     & 0.03955216   & 25.76580     & 3.854576e-07 & 0.0012055566\\\\\n",
       "\tAT2G41380 & 4.671623     & 6.39381432   & 25.69285     & 4.003082e-07 & 0.0012055566\\\\\n",
       "\tAT5G47000 & 6.492513     & 2.36316343   & 23.91768     & 1.005443e-06 & 0.0026494667\\\\\n",
       "\tAT1G51830 & 5.211988     & 7.18016986   & 22.98396     & 1.633588e-06 & 0.0038264086\\\\\n",
       "\tAT3G49580 & 6.108404     & 2.24801349   & 22.28366     & 2.351995e-06 & 0.0049582398\\\\\n",
       "\\end{tabular}\n",
       "\n",
       "\\item[\\$adjust.method] 'BH'\n",
       "\\item[\\$comparison] '1*grupyC.6 -1*grupyC.9'\n",
       "\\item[\\$test] 'glm'\n",
       "\\end{description}\n"
      ],
      "text/markdown": [
       "$table\n",
       ":   \n",
       "| <!--/--> | logFC | logCPM | LR | PValue | FDR |\n",
       "|---|---|---|---|---|---|\n",
       "| AT1G08430 | 7.236178     | 6.90256174   | 29.77687     | 4.847422e-08 | 0.0009267927 |\n",
       "| AT5G07570 | 7.620685     | 3.41494400   | 28.50666     | 9.337665e-08 | 0.0009267927 |\n",
       "| AT5G38200 | 5.113514     | 6.02070639   | 27.83829     | 1.318902e-07 | 0.0009267927 |\n",
       "| AT3G13950 | 5.280063     | 3.05220386   | 26.93744     | 2.101480e-07 | 0.0011075327 |\n",
       "| AT1G22770 | 7.441116     | 5.09250637   | 25.98806     | 3.435356e-07 | 0.0012055566 |\n",
       "| AT5G07572 | 7.429947     | 0.03955216   | 25.76580     | 3.854576e-07 | 0.0012055566 |\n",
       "| AT2G41380 | 4.671623     | 6.39381432   | 25.69285     | 4.003082e-07 | 0.0012055566 |\n",
       "| AT5G47000 | 6.492513     | 2.36316343   | 23.91768     | 1.005443e-06 | 0.0026494667 |\n",
       "| AT1G51830 | 5.211988     | 7.18016986   | 22.98396     | 1.633588e-06 | 0.0038264086 |\n",
       "| AT3G49580 | 6.108404     | 2.24801349   | 22.28366     | 2.351995e-06 | 0.0049582398 |\n",
       "\n",
       "\n",
       "$adjust.method\n",
       ":   'BH'\n",
       "$comparison\n",
       ":   '1*grupyC.6 -1*grupyC.9'\n",
       "$test\n",
       ":   'glm'\n",
       "\n",
       "\n"
      ],
      "text/plain": [
       "Coefficient:  1*grupyC.6 -1*grupyC.9 \n",
       "             logFC     logCPM       LR       PValue          FDR\n",
       "AT1G08430 7.236178 6.90256174 29.77687 4.847422e-08 0.0009267927\n",
       "AT5G07570 7.620685 3.41494400 28.50666 9.337665e-08 0.0009267927\n",
       "AT5G38200 5.113514 6.02070639 27.83829 1.318902e-07 0.0009267927\n",
       "AT3G13950 5.280063 3.05220386 26.93744 2.101480e-07 0.0011075327\n",
       "AT1G22770 7.441116 5.09250637 25.98806 3.435356e-07 0.0012055566\n",
       "AT5G07572 7.429947 0.03955216 25.76580 3.854576e-07 0.0012055566\n",
       "AT2G41380 4.671623 6.39381432 25.69285 4.003082e-07 0.0012055566\n",
       "AT5G47000 6.492513 2.36316343 23.91768 1.005443e-06 0.0026494667\n",
       "AT1G51830 5.211988 7.18016986 22.98396 1.633588e-06 0.0038264086\n",
       "AT3G49580 6.108404 2.24801349 22.28366 2.351995e-06 0.0049582398"
      ]
     },
     "metadata": {},
     "output_type": "display_data"
    }
   ],
   "source": [
    "#porowanie C6 i C9\n",
    "contr =  makeContrasts(grupyC.6 - grupyC.9, levels = colnames(coef(fit)))\n",
    "lrt.pVsV = glmLRT(fit, contrast=contr)\n",
    "topTags(lrt.pVsV)"
   ]
  },
  {
   "cell_type": "code",
   "execution_count": 64,
   "id": "e28839c3",
   "metadata": {},
   "outputs": [
    {
     "data": {
      "text/html": [
       "<table>\n",
       "<thead><tr><th></th><th scope=col>logFC</th><th scope=col>logCPM</th><th scope=col>LR</th><th scope=col>PValue</th><th scope=col>FDR</th></tr></thead>\n",
       "<tbody>\n",
       "\t<tr><th scope=row>AT1G08430</th><td>7.236178    </td><td>6.90256174  </td><td>29.77687    </td><td>4.847422e-08</td><td>0.0009267927</td></tr>\n",
       "\t<tr><th scope=row>AT5G07570</th><td>7.620685    </td><td>3.41494400  </td><td>28.50666    </td><td>9.337665e-08</td><td>0.0009267927</td></tr>\n",
       "\t<tr><th scope=row>AT5G38200</th><td>5.113514    </td><td>6.02070639  </td><td>27.83829    </td><td>1.318902e-07</td><td>0.0009267927</td></tr>\n",
       "\t<tr><th scope=row>AT3G13950</th><td>5.280063    </td><td>3.05220386  </td><td>26.93744    </td><td>2.101480e-07</td><td>0.0011075327</td></tr>\n",
       "\t<tr><th scope=row>AT1G22770</th><td>7.441116    </td><td>5.09250637  </td><td>25.98806    </td><td>3.435356e-07</td><td>0.0012055566</td></tr>\n",
       "\t<tr><th scope=row>AT5G07572</th><td>7.429947    </td><td>0.03955216  </td><td>25.76580    </td><td>3.854576e-07</td><td>0.0012055566</td></tr>\n",
       "</tbody>\n",
       "</table>\n"
      ],
      "text/latex": [
       "\\begin{tabular}{r|lllll}\n",
       "  & logFC & logCPM & LR & PValue & FDR\\\\\n",
       "\\hline\n",
       "\tAT1G08430 & 7.236178     & 6.90256174   & 29.77687     & 4.847422e-08 & 0.0009267927\\\\\n",
       "\tAT5G07570 & 7.620685     & 3.41494400   & 28.50666     & 9.337665e-08 & 0.0009267927\\\\\n",
       "\tAT5G38200 & 5.113514     & 6.02070639   & 27.83829     & 1.318902e-07 & 0.0009267927\\\\\n",
       "\tAT3G13950 & 5.280063     & 3.05220386   & 26.93744     & 2.101480e-07 & 0.0011075327\\\\\n",
       "\tAT1G22770 & 7.441116     & 5.09250637   & 25.98806     & 3.435356e-07 & 0.0012055566\\\\\n",
       "\tAT5G07572 & 7.429947     & 0.03955216   & 25.76580     & 3.854576e-07 & 0.0012055566\\\\\n",
       "\\end{tabular}\n"
      ],
      "text/markdown": [
       "\n",
       "| <!--/--> | logFC | logCPM | LR | PValue | FDR |\n",
       "|---|---|---|---|---|---|\n",
       "| AT1G08430 | 7.236178     | 6.90256174   | 29.77687     | 4.847422e-08 | 0.0009267927 |\n",
       "| AT5G07570 | 7.620685     | 3.41494400   | 28.50666     | 9.337665e-08 | 0.0009267927 |\n",
       "| AT5G38200 | 5.113514     | 6.02070639   | 27.83829     | 1.318902e-07 | 0.0009267927 |\n",
       "| AT3G13950 | 5.280063     | 3.05220386   | 26.93744     | 2.101480e-07 | 0.0011075327 |\n",
       "| AT1G22770 | 7.441116     | 5.09250637   | 25.98806     | 3.435356e-07 | 0.0012055566 |\n",
       "| AT5G07572 | 7.429947     | 0.03955216   | 25.76580     | 3.854576e-07 | 0.0012055566 |\n",
       "\n"
      ],
      "text/plain": [
       "          logFC    logCPM     LR       PValue       FDR         \n",
       "AT1G08430 7.236178 6.90256174 29.77687 4.847422e-08 0.0009267927\n",
       "AT5G07570 7.620685 3.41494400 28.50666 9.337665e-08 0.0009267927\n",
       "AT5G38200 5.113514 6.02070639 27.83829 1.318902e-07 0.0009267927\n",
       "AT3G13950 5.280063 3.05220386 26.93744 2.101480e-07 0.0011075327\n",
       "AT1G22770 7.441116 5.09250637 25.98806 3.435356e-07 0.0012055566\n",
       "AT5G07572 7.429947 0.03955216 25.76580 3.854576e-07 0.0012055566"
      ]
     },
     "metadata": {},
     "output_type": "display_data"
    }
   ],
   "source": [
    "results = as.data.frame(topTags(lrt.pVsV, n = Inf))\n",
    "head(results)"
   ]
  },
  {
   "cell_type": "code",
   "execution_count": 65,
   "id": "6568ac4f",
   "metadata": {},
   "outputs": [
    {
     "data": {
      "image/png": "[encoded data removed]",
      "text/plain": [
       "plot without title"
      ]
     },
     "metadata": {},
     "output_type": "display_data"
    }
   ],
   "source": [
    "plot(results$PValue, results$FDR) #zaleznosc pomiędzy pvalue a FDR"
   ]
  },
  {
   "cell_type": "code",
   "execution_count": 66,
   "id": "5098f3a8",
   "metadata": {},
   "outputs": [
    {
     "data": {
      "image/png": "[encoded data removed]",
      "text/plain": [
       "plot without title"
      ]
     },
     "metadata": {},
     "output_type": "display_data"
    }
   ],
   "source": [
    "plot(results$logFC, -log(results$FDR)) #interpretacja: u góry po prawej UP, u góry po lewej DOWN"
   ]
  },
  {
   "cell_type": "code",
   "execution_count": 67,
   "id": "239a13c5",
   "metadata": {},
   "outputs": [
    {
     "data": {
      "image/png": "[encoded data removed]",
      "text/plain": [
       "plot without title"
      ]
     },
     "metadata": {},
     "output_type": "display_data"
    }
   ],
   "source": [
    "plot(results$logFC, -log(results$PValue))"
   ]
  },
  {
   "cell_type": "markdown",
   "id": "b05865ad",
   "metadata": {},
   "source": [
    "Warto poczytać: https://www.bioconductor.org/packages/devel/bioc/vignettes/limma/inst/doc/usersguide.pdf"
   ]
  }
 ],
 "metadata": {
  "kernelspec": {
   "display_name": "R",
   "language": "R",
   "name": "ir"
  },
  "language_info": {
   "codemirror_mode": "r",
   "file_extension": ".r",
   "mimetype": "text/x-r-source",
   "name": "R",
   "pygments_lexer": "r",
   "version": "3.6.1"
  }
 },
 "nbformat": 4,
 "nbformat_minor": 5
}
